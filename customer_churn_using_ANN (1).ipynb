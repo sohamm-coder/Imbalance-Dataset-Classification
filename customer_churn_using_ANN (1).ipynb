{
  "cells": [
    {
      "cell_type": "code",
      "execution_count": null,
      "metadata": {
        "id": "--MlXv1hpG3i"
      },
      "outputs": [],
      "source": [
        "import pandas as pd\n",
        "from matplotlib import pyplot as plt\n",
        "import numpy as np\n",
        "%matplotlib inline\n",
        "import numpy as np # linear algebra\n",
        "import pandas as pd # data processing, CSV file I/O (e.g. pd.read_csv)\n",
        "import tensorflow as tf\n",
        "import matplotlib.pyplot as plt\n",
        "import seaborn as sns\n",
        "from sklearn.manifold import TSNE\n",
        "from sklearn.decomposition import PCA, TruncatedSVD\n",
        "import matplotlib.patches as mpatches\n",
        "import time\n",
        "from imblearn import metrics\n",
        "from sklearn.linear_model import LogisticRegression\n",
        "from sklearn.svm import SVC\n",
        "from sklearn.neighbors import KNeighborsClassifier\n",
        "from sklearn.tree import DecisionTreeClassifier\n",
        "from sklearn.ensemble import RandomForestClassifier\n",
        "import collections\n",
        "from sklearn.model_selection import train_test_split\n",
        "from sklearn.pipeline import make_pipeline\n",
        "from imblearn.pipeline import make_pipeline as imbalanced_make_pipeline\n",
        "from imblearn.over_sampling import SMOTE\n",
        "from imblearn.under_sampling import NearMiss\n",
        "from imblearn.metrics import classification_report_imbalanced\n",
        "from sklearn.metrics import precision_score, recall_score, f1_score, roc_auc_score, accuracy_score, classification_report\n",
        "from collections import Counter\n",
        "from sklearn.model_selection import KFold, StratifiedKFold\n",
        "import warnings\n",
        "warnings.filterwarnings(\"ignore\")"
      ]
    },
    {
      "cell_type": "code",
      "execution_count": 112,
      "metadata": {
        "id": "T3FBolBPpG3k"
      },
      "outputs": [],
      "source": [
        "import warnings\n",
        "warnings.filterwarnings('ignore')"
      ]
    },
    {
      "cell_type": "code",
      "execution_count": 113,
      "metadata": {
        "scrolled": true,
        "colab": {
          "base_uri": "https://localhost:8080/",
          "height": 386
        },
        "id": "4GLQf48EpG3k",
        "outputId": "5efcc2d5-b2d6-412b-cee0-75fb052bd3d4"
      },
      "outputs": [
        {
          "output_type": "execute_result",
          "data": {
            "text/plain": [
              "      customerID  gender  SeniorCitizen Partner Dependents  tenure  \\\n",
              "5443  7109-MFBYV    Male              0      No         No      26   \n",
              "2663  5140-FOMCQ  Female              0     Yes         No      59   \n",
              "4823  9732-KPKBW    Male              0      No         No       1   \n",
              "537   5844-QVTAT  Female              0     Yes        Yes      33   \n",
              "5990  1472-TNCWL    Male              0      No        Yes      36   \n",
              "\n",
              "     PhoneService MultipleLines InternetService OnlineSecurity  ...  \\\n",
              "5443          Yes            No             DSL             No  ...   \n",
              "2663          Yes           Yes     Fiber optic            Yes  ...   \n",
              "4823          Yes            No             DSL            Yes  ...   \n",
              "537           Yes            No             DSL            Yes  ...   \n",
              "5990          Yes            No     Fiber optic             No  ...   \n",
              "\n",
              "     DeviceProtection TechSupport StreamingTV StreamingMovies        Contract  \\\n",
              "5443               No          No          No              No  Month-to-month   \n",
              "2663              Yes          No         Yes             Yes        One year   \n",
              "4823               No         Yes          No              No  Month-to-month   \n",
              "537               Yes          No          No              No        One year   \n",
              "5990               No          No         Yes             Yes  Month-to-month   \n",
              "\n",
              "     PaperlessBilling            PaymentMethod MonthlyCharges  TotalCharges  \\\n",
              "5443               No         Electronic check          45.45       1233.15   \n",
              "2663              Yes  Credit card (automatic)         109.15       6557.75   \n",
              "4823              Yes         Electronic check          53.95         53.95   \n",
              "537               Yes             Mailed check          58.45        1955.4   \n",
              "5990              Yes         Electronic check          94.70        3512.5   \n",
              "\n",
              "     Churn  \n",
              "5443    No  \n",
              "2663    No  \n",
              "4823   Yes  \n",
              "537     No  \n",
              "5990    No  \n",
              "\n",
              "[5 rows x 21 columns]"
            ],
            "text/html": [
              "\n",
              "  <div id=\"df-38127b93-be99-4501-b7b5-9ce25dff4b10\">\n",
              "    <div class=\"colab-df-container\">\n",
              "      <div>\n",
              "<style scoped>\n",
              "    .dataframe tbody tr th:only-of-type {\n",
              "        vertical-align: middle;\n",
              "    }\n",
              "\n",
              "    .dataframe tbody tr th {\n",
              "        vertical-align: top;\n",
              "    }\n",
              "\n",
              "    .dataframe thead th {\n",
              "        text-align: right;\n",
              "    }\n",
              "</style>\n",
              "<table border=\"1\" class=\"dataframe\">\n",
              "  <thead>\n",
              "    <tr style=\"text-align: right;\">\n",
              "      <th></th>\n",
              "      <th>customerID</th>\n",
              "      <th>gender</th>\n",
              "      <th>SeniorCitizen</th>\n",
              "      <th>Partner</th>\n",
              "      <th>Dependents</th>\n",
              "      <th>tenure</th>\n",
              "      <th>PhoneService</th>\n",
              "      <th>MultipleLines</th>\n",
              "      <th>InternetService</th>\n",
              "      <th>OnlineSecurity</th>\n",
              "      <th>...</th>\n",
              "      <th>DeviceProtection</th>\n",
              "      <th>TechSupport</th>\n",
              "      <th>StreamingTV</th>\n",
              "      <th>StreamingMovies</th>\n",
              "      <th>Contract</th>\n",
              "      <th>PaperlessBilling</th>\n",
              "      <th>PaymentMethod</th>\n",
              "      <th>MonthlyCharges</th>\n",
              "      <th>TotalCharges</th>\n",
              "      <th>Churn</th>\n",
              "    </tr>\n",
              "  </thead>\n",
              "  <tbody>\n",
              "    <tr>\n",
              "      <th>5443</th>\n",
              "      <td>7109-MFBYV</td>\n",
              "      <td>Male</td>\n",
              "      <td>0</td>\n",
              "      <td>No</td>\n",
              "      <td>No</td>\n",
              "      <td>26</td>\n",
              "      <td>Yes</td>\n",
              "      <td>No</td>\n",
              "      <td>DSL</td>\n",
              "      <td>No</td>\n",
              "      <td>...</td>\n",
              "      <td>No</td>\n",
              "      <td>No</td>\n",
              "      <td>No</td>\n",
              "      <td>No</td>\n",
              "      <td>Month-to-month</td>\n",
              "      <td>No</td>\n",
              "      <td>Electronic check</td>\n",
              "      <td>45.45</td>\n",
              "      <td>1233.15</td>\n",
              "      <td>No</td>\n",
              "    </tr>\n",
              "    <tr>\n",
              "      <th>2663</th>\n",
              "      <td>5140-FOMCQ</td>\n",
              "      <td>Female</td>\n",
              "      <td>0</td>\n",
              "      <td>Yes</td>\n",
              "      <td>No</td>\n",
              "      <td>59</td>\n",
              "      <td>Yes</td>\n",
              "      <td>Yes</td>\n",
              "      <td>Fiber optic</td>\n",
              "      <td>Yes</td>\n",
              "      <td>...</td>\n",
              "      <td>Yes</td>\n",
              "      <td>No</td>\n",
              "      <td>Yes</td>\n",
              "      <td>Yes</td>\n",
              "      <td>One year</td>\n",
              "      <td>Yes</td>\n",
              "      <td>Credit card (automatic)</td>\n",
              "      <td>109.15</td>\n",
              "      <td>6557.75</td>\n",
              "      <td>No</td>\n",
              "    </tr>\n",
              "    <tr>\n",
              "      <th>4823</th>\n",
              "      <td>9732-KPKBW</td>\n",
              "      <td>Male</td>\n",
              "      <td>0</td>\n",
              "      <td>No</td>\n",
              "      <td>No</td>\n",
              "      <td>1</td>\n",
              "      <td>Yes</td>\n",
              "      <td>No</td>\n",
              "      <td>DSL</td>\n",
              "      <td>Yes</td>\n",
              "      <td>...</td>\n",
              "      <td>No</td>\n",
              "      <td>Yes</td>\n",
              "      <td>No</td>\n",
              "      <td>No</td>\n",
              "      <td>Month-to-month</td>\n",
              "      <td>Yes</td>\n",
              "      <td>Electronic check</td>\n",
              "      <td>53.95</td>\n",
              "      <td>53.95</td>\n",
              "      <td>Yes</td>\n",
              "    </tr>\n",
              "    <tr>\n",
              "      <th>537</th>\n",
              "      <td>5844-QVTAT</td>\n",
              "      <td>Female</td>\n",
              "      <td>0</td>\n",
              "      <td>Yes</td>\n",
              "      <td>Yes</td>\n",
              "      <td>33</td>\n",
              "      <td>Yes</td>\n",
              "      <td>No</td>\n",
              "      <td>DSL</td>\n",
              "      <td>Yes</td>\n",
              "      <td>...</td>\n",
              "      <td>Yes</td>\n",
              "      <td>No</td>\n",
              "      <td>No</td>\n",
              "      <td>No</td>\n",
              "      <td>One year</td>\n",
              "      <td>Yes</td>\n",
              "      <td>Mailed check</td>\n",
              "      <td>58.45</td>\n",
              "      <td>1955.4</td>\n",
              "      <td>No</td>\n",
              "    </tr>\n",
              "    <tr>\n",
              "      <th>5990</th>\n",
              "      <td>1472-TNCWL</td>\n",
              "      <td>Male</td>\n",
              "      <td>0</td>\n",
              "      <td>No</td>\n",
              "      <td>Yes</td>\n",
              "      <td>36</td>\n",
              "      <td>Yes</td>\n",
              "      <td>No</td>\n",
              "      <td>Fiber optic</td>\n",
              "      <td>No</td>\n",
              "      <td>...</td>\n",
              "      <td>No</td>\n",
              "      <td>No</td>\n",
              "      <td>Yes</td>\n",
              "      <td>Yes</td>\n",
              "      <td>Month-to-month</td>\n",
              "      <td>Yes</td>\n",
              "      <td>Electronic check</td>\n",
              "      <td>94.70</td>\n",
              "      <td>3512.5</td>\n",
              "      <td>No</td>\n",
              "    </tr>\n",
              "  </tbody>\n",
              "</table>\n",
              "<p>5 rows × 21 columns</p>\n",
              "</div>\n",
              "      <button class=\"colab-df-convert\" onclick=\"convertToInteractive('df-38127b93-be99-4501-b7b5-9ce25dff4b10')\"\n",
              "              title=\"Convert this dataframe to an interactive table.\"\n",
              "              style=\"display:none;\">\n",
              "        \n",
              "  <svg xmlns=\"http://www.w3.org/2000/svg\" height=\"24px\"viewBox=\"0 0 24 24\"\n",
              "       width=\"24px\">\n",
              "    <path d=\"M0 0h24v24H0V0z\" fill=\"none\"/>\n",
              "    <path d=\"M18.56 5.44l.94 2.06.94-2.06 2.06-.94-2.06-.94-.94-2.06-.94 2.06-2.06.94zm-11 1L8.5 8.5l.94-2.06 2.06-.94-2.06-.94L8.5 2.5l-.94 2.06-2.06.94zm10 10l.94 2.06.94-2.06 2.06-.94-2.06-.94-.94-2.06-.94 2.06-2.06.94z\"/><path d=\"M17.41 7.96l-1.37-1.37c-.4-.4-.92-.59-1.43-.59-.52 0-1.04.2-1.43.59L10.3 9.45l-7.72 7.72c-.78.78-.78 2.05 0 2.83L4 21.41c.39.39.9.59 1.41.59.51 0 1.02-.2 1.41-.59l7.78-7.78 2.81-2.81c.8-.78.8-2.07 0-2.86zM5.41 20L4 18.59l7.72-7.72 1.47 1.35L5.41 20z\"/>\n",
              "  </svg>\n",
              "      </button>\n",
              "      \n",
              "  <style>\n",
              "    .colab-df-container {\n",
              "      display:flex;\n",
              "      flex-wrap:wrap;\n",
              "      gap: 12px;\n",
              "    }\n",
              "\n",
              "    .colab-df-convert {\n",
              "      background-color: #E8F0FE;\n",
              "      border: none;\n",
              "      border-radius: 50%;\n",
              "      cursor: pointer;\n",
              "      display: none;\n",
              "      fill: #1967D2;\n",
              "      height: 32px;\n",
              "      padding: 0 0 0 0;\n",
              "      width: 32px;\n",
              "    }\n",
              "\n",
              "    .colab-df-convert:hover {\n",
              "      background-color: #E2EBFA;\n",
              "      box-shadow: 0px 1px 2px rgba(60, 64, 67, 0.3), 0px 1px 3px 1px rgba(60, 64, 67, 0.15);\n",
              "      fill: #174EA6;\n",
              "    }\n",
              "\n",
              "    [theme=dark] .colab-df-convert {\n",
              "      background-color: #3B4455;\n",
              "      fill: #D2E3FC;\n",
              "    }\n",
              "\n",
              "    [theme=dark] .colab-df-convert:hover {\n",
              "      background-color: #434B5C;\n",
              "      box-shadow: 0px 1px 3px 1px rgba(0, 0, 0, 0.15);\n",
              "      filter: drop-shadow(0px 1px 2px rgba(0, 0, 0, 0.3));\n",
              "      fill: #FFFFFF;\n",
              "    }\n",
              "  </style>\n",
              "\n",
              "      <script>\n",
              "        const buttonEl =\n",
              "          document.querySelector('#df-38127b93-be99-4501-b7b5-9ce25dff4b10 button.colab-df-convert');\n",
              "        buttonEl.style.display =\n",
              "          google.colab.kernel.accessAllowed ? 'block' : 'none';\n",
              "\n",
              "        async function convertToInteractive(key) {\n",
              "          const element = document.querySelector('#df-38127b93-be99-4501-b7b5-9ce25dff4b10');\n",
              "          const dataTable =\n",
              "            await google.colab.kernel.invokeFunction('convertToInteractive',\n",
              "                                                     [key], {});\n",
              "          if (!dataTable) return;\n",
              "\n",
              "          const docLinkHtml = 'Like what you see? Visit the ' +\n",
              "            '<a target=\"_blank\" href=https://colab.research.google.com/notebooks/data_table.ipynb>data table notebook</a>'\n",
              "            + ' to learn more about interactive tables.';\n",
              "          element.innerHTML = '';\n",
              "          dataTable['output_type'] = 'display_data';\n",
              "          await google.colab.output.renderOutput(dataTable, element);\n",
              "          const docLink = document.createElement('div');\n",
              "          docLink.innerHTML = docLinkHtml;\n",
              "          element.appendChild(docLink);\n",
              "        }\n",
              "      </script>\n",
              "    </div>\n",
              "  </div>\n",
              "  "
            ]
          },
          "metadata": {},
          "execution_count": 113
        }
      ],
      "source": [
        "df = pd.read_csv(\"customer_churn.csv\")\n",
        "df.sample(5)"
      ]
    },
    {
      "cell_type": "code",
      "source": [
        "df.isnull().sum().max()"
      ],
      "metadata": {
        "colab": {
          "base_uri": "https://localhost:8080/"
        },
        "id": "Jd2bJlc8pjqd",
        "outputId": "fea03b58-90dc-40f0-bbb4-ca7a3462c2c7"
      },
      "execution_count": 114,
      "outputs": [
        {
          "output_type": "execute_result",
          "data": {
            "text/plain": [
              "0"
            ]
          },
          "metadata": {},
          "execution_count": 114
        }
      ]
    },
    {
      "cell_type": "code",
      "source": [
        "df.columns"
      ],
      "metadata": {
        "colab": {
          "base_uri": "https://localhost:8080/"
        },
        "id": "Wo0YxTVupoCO",
        "outputId": "155b2ff6-448b-40dc-f909-ba1730448ea2"
      },
      "execution_count": 115,
      "outputs": [
        {
          "output_type": "execute_result",
          "data": {
            "text/plain": [
              "Index(['customerID', 'gender', 'SeniorCitizen', 'Partner', 'Dependents',\n",
              "       'tenure', 'PhoneService', 'MultipleLines', 'InternetService',\n",
              "       'OnlineSecurity', 'OnlineBackup', 'DeviceProtection', 'TechSupport',\n",
              "       'StreamingTV', 'StreamingMovies', 'Contract', 'PaperlessBilling',\n",
              "       'PaymentMethod', 'MonthlyCharges', 'TotalCharges', 'Churn'],\n",
              "      dtype='object')"
            ]
          },
          "metadata": {},
          "execution_count": 115
        }
      ]
    },
    {
      "cell_type": "code",
      "execution_count": 116,
      "metadata": {
        "colab": {
          "base_uri": "https://localhost:8080/"
        },
        "id": "PdgTJM-opG3m",
        "outputId": "b4ea057f-c9a6-4a0e-ea15-886b9b8021b8"
      },
      "outputs": [
        {
          "output_type": "execute_result",
          "data": {
            "text/plain": [
              "No     5174\n",
              "Yes    1869\n",
              "Name: Churn, dtype: int64"
            ]
          },
          "metadata": {},
          "execution_count": 116
        }
      ],
      "source": [
        "df.Churn.value_counts()"
      ]
    },
    {
      "cell_type": "code",
      "source": [],
      "metadata": {
        "id": "Qi_3ZQWSqmUj"
      },
      "execution_count": 116,
      "outputs": []
    },
    {
      "cell_type": "code",
      "execution_count": 117,
      "metadata": {
        "id": "3k3iP_oupG3n"
      },
      "outputs": [],
      "source": [
        "df.drop('customerID',axis='columns',inplace=True)"
      ]
    },
    {
      "cell_type": "code",
      "execution_count": 118,
      "metadata": {
        "scrolled": false,
        "colab": {
          "base_uri": "https://localhost:8080/"
        },
        "id": "Mr55bJivpG3o",
        "outputId": "67b8abb3-898e-4d5b-a6e5-cafba7a88b5b"
      },
      "outputs": [
        {
          "output_type": "execute_result",
          "data": {
            "text/plain": [
              "gender               object\n",
              "SeniorCitizen         int64\n",
              "Partner              object\n",
              "Dependents           object\n",
              "tenure                int64\n",
              "PhoneService         object\n",
              "MultipleLines        object\n",
              "InternetService      object\n",
              "OnlineSecurity       object\n",
              "OnlineBackup         object\n",
              "DeviceProtection     object\n",
              "TechSupport          object\n",
              "StreamingTV          object\n",
              "StreamingMovies      object\n",
              "Contract             object\n",
              "PaperlessBilling     object\n",
              "PaymentMethod        object\n",
              "MonthlyCharges      float64\n",
              "TotalCharges         object\n",
              "Churn                object\n",
              "dtype: object"
            ]
          },
          "metadata": {},
          "execution_count": 118
        }
      ],
      "source": [
        "df.dtypes"
      ]
    },
    {
      "cell_type": "code",
      "execution_count": 119,
      "metadata": {
        "colab": {
          "base_uri": "https://localhost:8080/"
        },
        "id": "vOakwK1qpG3o",
        "outputId": "29eec46a-b59f-4e85-faeb-52faf95fb39f"
      },
      "outputs": [
        {
          "output_type": "execute_result",
          "data": {
            "text/plain": [
              "array(['29.85', '1889.5', '108.15', ..., '346.45', '306.6', '6844.5'],\n",
              "      dtype=object)"
            ]
          },
          "metadata": {},
          "execution_count": 119
        }
      ],
      "source": [
        "df.TotalCharges.values\n",
        "#total charges are in string so converting it to float"
      ]
    },
    {
      "cell_type": "code",
      "execution_count": 120,
      "metadata": {
        "colab": {
          "base_uri": "https://localhost:8080/"
        },
        "id": "Wx0jHwO_pG3p",
        "outputId": "2cfc99f6-315e-432a-8722-02754be0ae87"
      },
      "outputs": [
        {
          "output_type": "execute_result",
          "data": {
            "text/plain": [
              "0       False\n",
              "1       False\n",
              "2       False\n",
              "3       False\n",
              "4       False\n",
              "        ...  \n",
              "7038    False\n",
              "7039    False\n",
              "7040    False\n",
              "7041    False\n",
              "7042    False\n",
              "Name: TotalCharges, Length: 7043, dtype: bool"
            ]
          },
          "metadata": {},
          "execution_count": 120
        }
      ],
      "source": [
        "pd.to_numeric(df.TotalCharges,errors='coerce').isnull()\n",
        "#put NA in place of empty cells and check whether tha value is null"
      ]
    },
    {
      "cell_type": "code",
      "execution_count": 121,
      "metadata": {
        "colab": {
          "base_uri": "https://localhost:8080/",
          "height": 615
        },
        "id": "ELvgeXnfpG3p",
        "outputId": "be9a43f9-856a-4177-fb53-539e399f3b54"
      },
      "outputs": [
        {
          "output_type": "execute_result",
          "data": {
            "text/plain": [
              "      gender  SeniorCitizen Partner Dependents  tenure PhoneService  \\\n",
              "488   Female              0     Yes        Yes       0           No   \n",
              "753     Male              0      No        Yes       0          Yes   \n",
              "936   Female              0     Yes        Yes       0          Yes   \n",
              "1082    Male              0     Yes        Yes       0          Yes   \n",
              "1340  Female              0     Yes        Yes       0           No   \n",
              "3331    Male              0     Yes        Yes       0          Yes   \n",
              "3826    Male              0     Yes        Yes       0          Yes   \n",
              "4380  Female              0     Yes        Yes       0          Yes   \n",
              "5218    Male              0     Yes        Yes       0          Yes   \n",
              "6670  Female              0     Yes        Yes       0          Yes   \n",
              "6754    Male              0      No        Yes       0          Yes   \n",
              "\n",
              "         MultipleLines InternetService       OnlineSecurity  \\\n",
              "488   No phone service             DSL                  Yes   \n",
              "753                 No              No  No internet service   \n",
              "936                 No             DSL                  Yes   \n",
              "1082               Yes              No  No internet service   \n",
              "1340  No phone service             DSL                  Yes   \n",
              "3331                No              No  No internet service   \n",
              "3826               Yes              No  No internet service   \n",
              "4380                No              No  No internet service   \n",
              "5218                No              No  No internet service   \n",
              "6670               Yes             DSL                   No   \n",
              "6754               Yes             DSL                  Yes   \n",
              "\n",
              "             OnlineBackup     DeviceProtection          TechSupport  \\\n",
              "488                    No                  Yes                  Yes   \n",
              "753   No internet service  No internet service  No internet service   \n",
              "936                   Yes                  Yes                   No   \n",
              "1082  No internet service  No internet service  No internet service   \n",
              "1340                  Yes                  Yes                  Yes   \n",
              "3331  No internet service  No internet service  No internet service   \n",
              "3826  No internet service  No internet service  No internet service   \n",
              "4380  No internet service  No internet service  No internet service   \n",
              "5218  No internet service  No internet service  No internet service   \n",
              "6670                  Yes                  Yes                  Yes   \n",
              "6754                  Yes                   No                  Yes   \n",
              "\n",
              "              StreamingTV      StreamingMovies  Contract PaperlessBilling  \\\n",
              "488                   Yes                   No  Two year              Yes   \n",
              "753   No internet service  No internet service  Two year               No   \n",
              "936                   Yes                  Yes  Two year               No   \n",
              "1082  No internet service  No internet service  Two year               No   \n",
              "1340                  Yes                   No  Two year               No   \n",
              "3331  No internet service  No internet service  Two year               No   \n",
              "3826  No internet service  No internet service  Two year               No   \n",
              "4380  No internet service  No internet service  Two year               No   \n",
              "5218  No internet service  No internet service  One year              Yes   \n",
              "6670                  Yes                   No  Two year               No   \n",
              "6754                   No                   No  Two year              Yes   \n",
              "\n",
              "                  PaymentMethod  MonthlyCharges TotalCharges Churn  \n",
              "488   Bank transfer (automatic)           52.55                 No  \n",
              "753                Mailed check           20.25                 No  \n",
              "936                Mailed check           80.85                 No  \n",
              "1082               Mailed check           25.75                 No  \n",
              "1340    Credit card (automatic)           56.05                 No  \n",
              "3331               Mailed check           19.85                 No  \n",
              "3826               Mailed check           25.35                 No  \n",
              "4380               Mailed check           20.00                 No  \n",
              "5218               Mailed check           19.70                 No  \n",
              "6670               Mailed check           73.35                 No  \n",
              "6754  Bank transfer (automatic)           61.90                 No  "
            ],
            "text/html": [
              "\n",
              "  <div id=\"df-e948a00e-2ebf-42d2-8379-2e563917ae01\">\n",
              "    <div class=\"colab-df-container\">\n",
              "      <div>\n",
              "<style scoped>\n",
              "    .dataframe tbody tr th:only-of-type {\n",
              "        vertical-align: middle;\n",
              "    }\n",
              "\n",
              "    .dataframe tbody tr th {\n",
              "        vertical-align: top;\n",
              "    }\n",
              "\n",
              "    .dataframe thead th {\n",
              "        text-align: right;\n",
              "    }\n",
              "</style>\n",
              "<table border=\"1\" class=\"dataframe\">\n",
              "  <thead>\n",
              "    <tr style=\"text-align: right;\">\n",
              "      <th></th>\n",
              "      <th>gender</th>\n",
              "      <th>SeniorCitizen</th>\n",
              "      <th>Partner</th>\n",
              "      <th>Dependents</th>\n",
              "      <th>tenure</th>\n",
              "      <th>PhoneService</th>\n",
              "      <th>MultipleLines</th>\n",
              "      <th>InternetService</th>\n",
              "      <th>OnlineSecurity</th>\n",
              "      <th>OnlineBackup</th>\n",
              "      <th>DeviceProtection</th>\n",
              "      <th>TechSupport</th>\n",
              "      <th>StreamingTV</th>\n",
              "      <th>StreamingMovies</th>\n",
              "      <th>Contract</th>\n",
              "      <th>PaperlessBilling</th>\n",
              "      <th>PaymentMethod</th>\n",
              "      <th>MonthlyCharges</th>\n",
              "      <th>TotalCharges</th>\n",
              "      <th>Churn</th>\n",
              "    </tr>\n",
              "  </thead>\n",
              "  <tbody>\n",
              "    <tr>\n",
              "      <th>488</th>\n",
              "      <td>Female</td>\n",
              "      <td>0</td>\n",
              "      <td>Yes</td>\n",
              "      <td>Yes</td>\n",
              "      <td>0</td>\n",
              "      <td>No</td>\n",
              "      <td>No phone service</td>\n",
              "      <td>DSL</td>\n",
              "      <td>Yes</td>\n",
              "      <td>No</td>\n",
              "      <td>Yes</td>\n",
              "      <td>Yes</td>\n",
              "      <td>Yes</td>\n",
              "      <td>No</td>\n",
              "      <td>Two year</td>\n",
              "      <td>Yes</td>\n",
              "      <td>Bank transfer (automatic)</td>\n",
              "      <td>52.55</td>\n",
              "      <td></td>\n",
              "      <td>No</td>\n",
              "    </tr>\n",
              "    <tr>\n",
              "      <th>753</th>\n",
              "      <td>Male</td>\n",
              "      <td>0</td>\n",
              "      <td>No</td>\n",
              "      <td>Yes</td>\n",
              "      <td>0</td>\n",
              "      <td>Yes</td>\n",
              "      <td>No</td>\n",
              "      <td>No</td>\n",
              "      <td>No internet service</td>\n",
              "      <td>No internet service</td>\n",
              "      <td>No internet service</td>\n",
              "      <td>No internet service</td>\n",
              "      <td>No internet service</td>\n",
              "      <td>No internet service</td>\n",
              "      <td>Two year</td>\n",
              "      <td>No</td>\n",
              "      <td>Mailed check</td>\n",
              "      <td>20.25</td>\n",
              "      <td></td>\n",
              "      <td>No</td>\n",
              "    </tr>\n",
              "    <tr>\n",
              "      <th>936</th>\n",
              "      <td>Female</td>\n",
              "      <td>0</td>\n",
              "      <td>Yes</td>\n",
              "      <td>Yes</td>\n",
              "      <td>0</td>\n",
              "      <td>Yes</td>\n",
              "      <td>No</td>\n",
              "      <td>DSL</td>\n",
              "      <td>Yes</td>\n",
              "      <td>Yes</td>\n",
              "      <td>Yes</td>\n",
              "      <td>No</td>\n",
              "      <td>Yes</td>\n",
              "      <td>Yes</td>\n",
              "      <td>Two year</td>\n",
              "      <td>No</td>\n",
              "      <td>Mailed check</td>\n",
              "      <td>80.85</td>\n",
              "      <td></td>\n",
              "      <td>No</td>\n",
              "    </tr>\n",
              "    <tr>\n",
              "      <th>1082</th>\n",
              "      <td>Male</td>\n",
              "      <td>0</td>\n",
              "      <td>Yes</td>\n",
              "      <td>Yes</td>\n",
              "      <td>0</td>\n",
              "      <td>Yes</td>\n",
              "      <td>Yes</td>\n",
              "      <td>No</td>\n",
              "      <td>No internet service</td>\n",
              "      <td>No internet service</td>\n",
              "      <td>No internet service</td>\n",
              "      <td>No internet service</td>\n",
              "      <td>No internet service</td>\n",
              "      <td>No internet service</td>\n",
              "      <td>Two year</td>\n",
              "      <td>No</td>\n",
              "      <td>Mailed check</td>\n",
              "      <td>25.75</td>\n",
              "      <td></td>\n",
              "      <td>No</td>\n",
              "    </tr>\n",
              "    <tr>\n",
              "      <th>1340</th>\n",
              "      <td>Female</td>\n",
              "      <td>0</td>\n",
              "      <td>Yes</td>\n",
              "      <td>Yes</td>\n",
              "      <td>0</td>\n",
              "      <td>No</td>\n",
              "      <td>No phone service</td>\n",
              "      <td>DSL</td>\n",
              "      <td>Yes</td>\n",
              "      <td>Yes</td>\n",
              "      <td>Yes</td>\n",
              "      <td>Yes</td>\n",
              "      <td>Yes</td>\n",
              "      <td>No</td>\n",
              "      <td>Two year</td>\n",
              "      <td>No</td>\n",
              "      <td>Credit card (automatic)</td>\n",
              "      <td>56.05</td>\n",
              "      <td></td>\n",
              "      <td>No</td>\n",
              "    </tr>\n",
              "    <tr>\n",
              "      <th>3331</th>\n",
              "      <td>Male</td>\n",
              "      <td>0</td>\n",
              "      <td>Yes</td>\n",
              "      <td>Yes</td>\n",
              "      <td>0</td>\n",
              "      <td>Yes</td>\n",
              "      <td>No</td>\n",
              "      <td>No</td>\n",
              "      <td>No internet service</td>\n",
              "      <td>No internet service</td>\n",
              "      <td>No internet service</td>\n",
              "      <td>No internet service</td>\n",
              "      <td>No internet service</td>\n",
              "      <td>No internet service</td>\n",
              "      <td>Two year</td>\n",
              "      <td>No</td>\n",
              "      <td>Mailed check</td>\n",
              "      <td>19.85</td>\n",
              "      <td></td>\n",
              "      <td>No</td>\n",
              "    </tr>\n",
              "    <tr>\n",
              "      <th>3826</th>\n",
              "      <td>Male</td>\n",
              "      <td>0</td>\n",
              "      <td>Yes</td>\n",
              "      <td>Yes</td>\n",
              "      <td>0</td>\n",
              "      <td>Yes</td>\n",
              "      <td>Yes</td>\n",
              "      <td>No</td>\n",
              "      <td>No internet service</td>\n",
              "      <td>No internet service</td>\n",
              "      <td>No internet service</td>\n",
              "      <td>No internet service</td>\n",
              "      <td>No internet service</td>\n",
              "      <td>No internet service</td>\n",
              "      <td>Two year</td>\n",
              "      <td>No</td>\n",
              "      <td>Mailed check</td>\n",
              "      <td>25.35</td>\n",
              "      <td></td>\n",
              "      <td>No</td>\n",
              "    </tr>\n",
              "    <tr>\n",
              "      <th>4380</th>\n",
              "      <td>Female</td>\n",
              "      <td>0</td>\n",
              "      <td>Yes</td>\n",
              "      <td>Yes</td>\n",
              "      <td>0</td>\n",
              "      <td>Yes</td>\n",
              "      <td>No</td>\n",
              "      <td>No</td>\n",
              "      <td>No internet service</td>\n",
              "      <td>No internet service</td>\n",
              "      <td>No internet service</td>\n",
              "      <td>No internet service</td>\n",
              "      <td>No internet service</td>\n",
              "      <td>No internet service</td>\n",
              "      <td>Two year</td>\n",
              "      <td>No</td>\n",
              "      <td>Mailed check</td>\n",
              "      <td>20.00</td>\n",
              "      <td></td>\n",
              "      <td>No</td>\n",
              "    </tr>\n",
              "    <tr>\n",
              "      <th>5218</th>\n",
              "      <td>Male</td>\n",
              "      <td>0</td>\n",
              "      <td>Yes</td>\n",
              "      <td>Yes</td>\n",
              "      <td>0</td>\n",
              "      <td>Yes</td>\n",
              "      <td>No</td>\n",
              "      <td>No</td>\n",
              "      <td>No internet service</td>\n",
              "      <td>No internet service</td>\n",
              "      <td>No internet service</td>\n",
              "      <td>No internet service</td>\n",
              "      <td>No internet service</td>\n",
              "      <td>No internet service</td>\n",
              "      <td>One year</td>\n",
              "      <td>Yes</td>\n",
              "      <td>Mailed check</td>\n",
              "      <td>19.70</td>\n",
              "      <td></td>\n",
              "      <td>No</td>\n",
              "    </tr>\n",
              "    <tr>\n",
              "      <th>6670</th>\n",
              "      <td>Female</td>\n",
              "      <td>0</td>\n",
              "      <td>Yes</td>\n",
              "      <td>Yes</td>\n",
              "      <td>0</td>\n",
              "      <td>Yes</td>\n",
              "      <td>Yes</td>\n",
              "      <td>DSL</td>\n",
              "      <td>No</td>\n",
              "      <td>Yes</td>\n",
              "      <td>Yes</td>\n",
              "      <td>Yes</td>\n",
              "      <td>Yes</td>\n",
              "      <td>No</td>\n",
              "      <td>Two year</td>\n",
              "      <td>No</td>\n",
              "      <td>Mailed check</td>\n",
              "      <td>73.35</td>\n",
              "      <td></td>\n",
              "      <td>No</td>\n",
              "    </tr>\n",
              "    <tr>\n",
              "      <th>6754</th>\n",
              "      <td>Male</td>\n",
              "      <td>0</td>\n",
              "      <td>No</td>\n",
              "      <td>Yes</td>\n",
              "      <td>0</td>\n",
              "      <td>Yes</td>\n",
              "      <td>Yes</td>\n",
              "      <td>DSL</td>\n",
              "      <td>Yes</td>\n",
              "      <td>Yes</td>\n",
              "      <td>No</td>\n",
              "      <td>Yes</td>\n",
              "      <td>No</td>\n",
              "      <td>No</td>\n",
              "      <td>Two year</td>\n",
              "      <td>Yes</td>\n",
              "      <td>Bank transfer (automatic)</td>\n",
              "      <td>61.90</td>\n",
              "      <td></td>\n",
              "      <td>No</td>\n",
              "    </tr>\n",
              "  </tbody>\n",
              "</table>\n",
              "</div>\n",
              "      <button class=\"colab-df-convert\" onclick=\"convertToInteractive('df-e948a00e-2ebf-42d2-8379-2e563917ae01')\"\n",
              "              title=\"Convert this dataframe to an interactive table.\"\n",
              "              style=\"display:none;\">\n",
              "        \n",
              "  <svg xmlns=\"http://www.w3.org/2000/svg\" height=\"24px\"viewBox=\"0 0 24 24\"\n",
              "       width=\"24px\">\n",
              "    <path d=\"M0 0h24v24H0V0z\" fill=\"none\"/>\n",
              "    <path d=\"M18.56 5.44l.94 2.06.94-2.06 2.06-.94-2.06-.94-.94-2.06-.94 2.06-2.06.94zm-11 1L8.5 8.5l.94-2.06 2.06-.94-2.06-.94L8.5 2.5l-.94 2.06-2.06.94zm10 10l.94 2.06.94-2.06 2.06-.94-2.06-.94-.94-2.06-.94 2.06-2.06.94z\"/><path d=\"M17.41 7.96l-1.37-1.37c-.4-.4-.92-.59-1.43-.59-.52 0-1.04.2-1.43.59L10.3 9.45l-7.72 7.72c-.78.78-.78 2.05 0 2.83L4 21.41c.39.39.9.59 1.41.59.51 0 1.02-.2 1.41-.59l7.78-7.78 2.81-2.81c.8-.78.8-2.07 0-2.86zM5.41 20L4 18.59l7.72-7.72 1.47 1.35L5.41 20z\"/>\n",
              "  </svg>\n",
              "      </button>\n",
              "      \n",
              "  <style>\n",
              "    .colab-df-container {\n",
              "      display:flex;\n",
              "      flex-wrap:wrap;\n",
              "      gap: 12px;\n",
              "    }\n",
              "\n",
              "    .colab-df-convert {\n",
              "      background-color: #E8F0FE;\n",
              "      border: none;\n",
              "      border-radius: 50%;\n",
              "      cursor: pointer;\n",
              "      display: none;\n",
              "      fill: #1967D2;\n",
              "      height: 32px;\n",
              "      padding: 0 0 0 0;\n",
              "      width: 32px;\n",
              "    }\n",
              "\n",
              "    .colab-df-convert:hover {\n",
              "      background-color: #E2EBFA;\n",
              "      box-shadow: 0px 1px 2px rgba(60, 64, 67, 0.3), 0px 1px 3px 1px rgba(60, 64, 67, 0.15);\n",
              "      fill: #174EA6;\n",
              "    }\n",
              "\n",
              "    [theme=dark] .colab-df-convert {\n",
              "      background-color: #3B4455;\n",
              "      fill: #D2E3FC;\n",
              "    }\n",
              "\n",
              "    [theme=dark] .colab-df-convert:hover {\n",
              "      background-color: #434B5C;\n",
              "      box-shadow: 0px 1px 3px 1px rgba(0, 0, 0, 0.15);\n",
              "      filter: drop-shadow(0px 1px 2px rgba(0, 0, 0, 0.3));\n",
              "      fill: #FFFFFF;\n",
              "    }\n",
              "  </style>\n",
              "\n",
              "      <script>\n",
              "        const buttonEl =\n",
              "          document.querySelector('#df-e948a00e-2ebf-42d2-8379-2e563917ae01 button.colab-df-convert');\n",
              "        buttonEl.style.display =\n",
              "          google.colab.kernel.accessAllowed ? 'block' : 'none';\n",
              "\n",
              "        async function convertToInteractive(key) {\n",
              "          const element = document.querySelector('#df-e948a00e-2ebf-42d2-8379-2e563917ae01');\n",
              "          const dataTable =\n",
              "            await google.colab.kernel.invokeFunction('convertToInteractive',\n",
              "                                                     [key], {});\n",
              "          if (!dataTable) return;\n",
              "\n",
              "          const docLinkHtml = 'Like what you see? Visit the ' +\n",
              "            '<a target=\"_blank\" href=https://colab.research.google.com/notebooks/data_table.ipynb>data table notebook</a>'\n",
              "            + ' to learn more about interactive tables.';\n",
              "          element.innerHTML = '';\n",
              "          dataTable['output_type'] = 'display_data';\n",
              "          await google.colab.output.renderOutput(dataTable, element);\n",
              "          const docLink = document.createElement('div');\n",
              "          docLink.innerHTML = docLinkHtml;\n",
              "          element.appendChild(docLink);\n",
              "        }\n",
              "      </script>\n",
              "    </div>\n",
              "  </div>\n",
              "  "
            ]
          },
          "metadata": {},
          "execution_count": 121
        }
      ],
      "source": [
        "df[pd.to_numeric(df.TotalCharges,errors='coerce').isnull()]\n",
        "#showing rows where the isnull = TRUE in totalcharges"
      ]
    },
    {
      "cell_type": "code",
      "execution_count": 122,
      "metadata": {
        "colab": {
          "base_uri": "https://localhost:8080/"
        },
        "id": "P5H_-0xApG3q",
        "outputId": "8e2521fe-5fb4-49b4-8f4a-1d55bf7a1768"
      },
      "outputs": [
        {
          "output_type": "execute_result",
          "data": {
            "text/plain": [
              "(7043, 20)"
            ]
          },
          "metadata": {},
          "execution_count": 122
        }
      ],
      "source": [
        "df.shape"
      ]
    },
    {
      "cell_type": "code",
      "execution_count": 123,
      "metadata": {
        "colab": {
          "base_uri": "https://localhost:8080/"
        },
        "id": "cz3eBO6cpG3s",
        "outputId": "66eae026-674f-4f61-ed1c-68950175e410"
      },
      "outputs": [
        {
          "output_type": "execute_result",
          "data": {
            "text/plain": [
              "(7032, 20)"
            ]
          },
          "metadata": {},
          "execution_count": 123
        }
      ],
      "source": [
        "df1 = df[df.TotalCharges!=' ']\n",
        "#new dataset having empty cells removed\n",
        "df1.shape"
      ]
    },
    {
      "cell_type": "code",
      "execution_count": 124,
      "metadata": {
        "scrolled": true,
        "colab": {
          "base_uri": "https://localhost:8080/"
        },
        "id": "hhKkTVTTpG3s",
        "outputId": "e7c5cf88-bcd0-49d0-b4c2-a8254d6c55b1"
      },
      "outputs": [
        {
          "output_type": "execute_result",
          "data": {
            "text/plain": [
              "gender               object\n",
              "SeniorCitizen         int64\n",
              "Partner              object\n",
              "Dependents           object\n",
              "tenure                int64\n",
              "PhoneService         object\n",
              "MultipleLines        object\n",
              "InternetService      object\n",
              "OnlineSecurity       object\n",
              "OnlineBackup         object\n",
              "DeviceProtection     object\n",
              "TechSupport          object\n",
              "StreamingTV          object\n",
              "StreamingMovies      object\n",
              "Contract             object\n",
              "PaperlessBilling     object\n",
              "PaymentMethod        object\n",
              "MonthlyCharges      float64\n",
              "TotalCharges         object\n",
              "Churn                object\n",
              "dtype: object"
            ]
          },
          "metadata": {},
          "execution_count": 124
        }
      ],
      "source": [
        "df1.dtypes"
      ]
    },
    {
      "cell_type": "code",
      "execution_count": 125,
      "metadata": {
        "id": "owWTBy6npG3t"
      },
      "outputs": [],
      "source": [
        "df1.TotalCharges = pd.to_numeric(df1.TotalCharges)\n",
        "#converting object into string"
      ]
    },
    {
      "cell_type": "code",
      "execution_count": 126,
      "metadata": {
        "colab": {
          "base_uri": "https://localhost:8080/"
        },
        "id": "qSORrs2YpG3t",
        "outputId": "5067b6ef-4a67-411d-de63-2a0262be43ff"
      },
      "outputs": [
        {
          "output_type": "execute_result",
          "data": {
            "text/plain": [
              "array([  29.85, 1889.5 ,  108.15, ...,  346.45,  306.6 , 6844.5 ])"
            ]
          },
          "metadata": {},
          "execution_count": 126
        }
      ],
      "source": [
        "df1.TotalCharges.values"
      ]
    },
    {
      "cell_type": "markdown",
      "metadata": {
        "id": "3YHt3mx-pG3u"
      },
      "source": [
        "**Data Visualization**"
      ]
    },
    {
      "cell_type": "code",
      "source": [
        "colors = [\"#0101DF\", \"#DF0101\"]\n",
        "\n",
        "sns.countplot('Churn', data=df, palette=colors)\n",
        "plt.title('Class Distributions \\n (Yes || No)', fontsize=14)"
      ],
      "metadata": {
        "colab": {
          "base_uri": "https://localhost:8080/",
          "height": 330
        },
        "id": "5spUtK2L-jGO",
        "outputId": "528eb5f9-114a-495a-946f-64e914abff73"
      },
      "execution_count": 127,
      "outputs": [
        {
          "output_type": "execute_result",
          "data": {
            "text/plain": [
              "Text(0.5, 1.0, 'Class Distributions \\n (Yes || No)')"
            ]
          },
          "metadata": {},
          "execution_count": 127
        },
        {
          "output_type": "display_data",
          "data": {
            "text/plain": [
              "<Figure size 432x288 with 1 Axes>"
            ],
            "image/png": "[encoded data removed]"
          },
          "metadata": {
            "needs_background": "light"
          }
        }
      ]
    },
    {
      "cell_type": "code",
      "source": [
        "fig, ax= plt.subplots()\n",
        "\n",
        "\n",
        "tenure_val = df1['tenure'].values\n",
        "\n",
        "sns.distplot(tenure_val, color='r')\n",
        "ax.set_title('Distribution of tenure', fontsize=14)\n",
        "ax.set_xlim([min(tenure_val), max(tenure_val)])\n",
        "\n",
        "plt.show()"
      ],
      "metadata": {
        "colab": {
          "base_uri": "https://localhost:8080/",
          "height": 282
        },
        "id": "-cHP1nYL3LDL",
        "outputId": "bb757fe7-f9f5-444d-b79d-646553590bdd"
      },
      "execution_count": 128,
      "outputs": [
        {
          "output_type": "display_data",
          "data": {
            "text/plain": [
              "<Figure size 432x288 with 1 Axes>"
            ],
            "image/png": "[encoded data removed]"
          },
          "metadata": {
            "needs_background": "light"
          }
        }
      ]
    },
    {
      "cell_type": "code",
      "execution_count": 129,
      "metadata": {
        "colab": {
          "base_uri": "https://localhost:8080/",
          "height": 312
        },
        "id": "GVtpcNN5pG3u",
        "outputId": "52018990-bef1-4570-92ca-0434550451bb"
      },
      "outputs": [
        {
          "output_type": "execute_result",
          "data": {
            "text/plain": [
              "<matplotlib.legend.Legend at 0x7f7a345679d0>"
            ]
          },
          "metadata": {},
          "execution_count": 129
        },
        {
          "output_type": "display_data",
          "data": {
            "text/plain": [
              "<Figure size 432x288 with 1 Axes>"
            ],
            "image/png": "[encoded data removed]"
          },
          "metadata": {
            "needs_background": "light"
          }
        }
      ],
      "source": [
        "tenure_churn_no = df1[df1.Churn=='No'].tenure\n",
        "tenure_churn_yes = df1[df1.Churn=='Yes'].tenure\n",
        "\n",
        "plt.xlabel(\"tenure\")\n",
        "plt.ylabel(\"Number Of Customers\")\n",
        "plt.title(\"Customer Churn Prediction Visualiztion\")\n",
        "\n",
        "blood_sugar_men = [113, 85, 90, 150, 149, 88, 93, 115, 135, 80, 77, 82, 129]\n",
        "blood_sugar_women = [67, 98, 89, 120, 133, 150, 84, 69, 89, 79, 120, 112, 100]\n",
        "\n",
        "plt.hist([tenure_churn_yes, tenure_churn_no], rwidth=0.95, color=['green','red'],label=['Churn=Yes','Churn=No'])\n",
        "plt.legend()"
      ]
    },
    {
      "cell_type": "code",
      "execution_count": 130,
      "metadata": {
        "colab": {
          "base_uri": "https://localhost:8080/",
          "height": 312
        },
        "id": "f5MDAh__pG3v",
        "outputId": "dd5a779b-ec79-4765-d85c-33e023676445"
      },
      "outputs": [
        {
          "output_type": "execute_result",
          "data": {
            "text/plain": [
              "<matplotlib.legend.Legend at 0x7f7a346be610>"
            ]
          },
          "metadata": {},
          "execution_count": 130
        },
        {
          "output_type": "display_data",
          "data": {
            "text/plain": [
              "<Figure size 432x288 with 1 Axes>"
            ],
            "image/png": "[encoded data removed]"
          },
          "metadata": {
            "needs_background": "light"
          }
        }
      ],
      "source": [
        "mc_churn_no = df1[df1.Churn=='No'].MonthlyCharges      \n",
        "mc_churn_yes = df1[df1.Churn=='Yes'].MonthlyCharges      \n",
        "\n",
        "plt.xlabel(\"Monthly Charges\")\n",
        "plt.ylabel(\"Number Of Customers\")\n",
        "plt.title(\"Customer Churn Prediction Visualiztion\")\n",
        "\n",
        "\n",
        "plt.hist([mc_churn_yes, mc_churn_no], rwidth=0.95, color=['green','red'],label=['Churn=Yes','Churn=No'])\n",
        "plt.legend()"
      ]
    },
    {
      "cell_type": "code",
      "execution_count": 131,
      "metadata": {
        "id": "1wIEwBgmpG3w"
      },
      "outputs": [],
      "source": [
        "#to find out unique fields \n",
        "def print_unique_col_values(df):\n",
        "       for column in df:\n",
        "            if df[column].dtypes=='object':\n",
        "                print(f'{column}: {df[column].unique()}') "
      ]
    },
    {
      "cell_type": "code",
      "execution_count": 132,
      "metadata": {
        "scrolled": true,
        "colab": {
          "base_uri": "https://localhost:8080/"
        },
        "id": "wS-O4RVkpG3w",
        "outputId": "cc884b72-d801-48fa-e2c7-be85b0797e6c"
      },
      "outputs": [
        {
          "output_type": "stream",
          "name": "stdout",
          "text": [
            "gender: ['Female' 'Male']\n",
            "Partner: ['Yes' 'No']\n",
            "Dependents: ['No' 'Yes']\n",
            "PhoneService: ['No' 'Yes']\n",
            "MultipleLines: ['No phone service' 'No' 'Yes']\n",
            "InternetService: ['DSL' 'Fiber optic' 'No']\n",
            "OnlineSecurity: ['No' 'Yes' 'No internet service']\n",
            "OnlineBackup: ['Yes' 'No' 'No internet service']\n",
            "DeviceProtection: ['No' 'Yes' 'No internet service']\n",
            "TechSupport: ['No' 'Yes' 'No internet service']\n",
            "StreamingTV: ['No' 'Yes' 'No internet service']\n",
            "StreamingMovies: ['No' 'Yes' 'No internet service']\n",
            "Contract: ['Month-to-month' 'One year' 'Two year']\n",
            "PaperlessBilling: ['Yes' 'No']\n",
            "PaymentMethod: ['Electronic check' 'Mailed check' 'Bank transfer (automatic)'\n",
            " 'Credit card (automatic)']\n",
            "Churn: ['No' 'Yes']\n"
          ]
        }
      ],
      "source": [
        "print_unique_col_values(df1)"
      ]
    },
    {
      "cell_type": "code",
      "execution_count": 133,
      "metadata": {
        "scrolled": false,
        "id": "xNdLMGBCpG3x"
      },
      "outputs": [],
      "source": [
        "#Some of the columns have no internet service or no phone service, that can be replaced with a simple No\n",
        "df1.replace('No internet service','No',inplace=True)\n",
        "df1.replace('No phone service','No',inplace=True)"
      ]
    },
    {
      "cell_type": "code",
      "execution_count": 134,
      "metadata": {
        "scrolled": false,
        "colab": {
          "base_uri": "https://localhost:8080/"
        },
        "id": "dG2T4JbrpG3y",
        "outputId": "26b02e55-3f52-4836-fb39-483b93016b9d"
      },
      "outputs": [
        {
          "output_type": "stream",
          "name": "stdout",
          "text": [
            "gender: ['Female' 'Male']\n",
            "Partner: ['Yes' 'No']\n",
            "Dependents: ['No' 'Yes']\n",
            "PhoneService: ['No' 'Yes']\n",
            "MultipleLines: ['No' 'Yes']\n",
            "InternetService: ['DSL' 'Fiber optic' 'No']\n",
            "OnlineSecurity: ['No' 'Yes']\n",
            "OnlineBackup: ['Yes' 'No']\n",
            "DeviceProtection: ['No' 'Yes']\n",
            "TechSupport: ['No' 'Yes']\n",
            "StreamingTV: ['No' 'Yes']\n",
            "StreamingMovies: ['No' 'Yes']\n",
            "Contract: ['Month-to-month' 'One year' 'Two year']\n",
            "PaperlessBilling: ['Yes' 'No']\n",
            "PaymentMethod: ['Electronic check' 'Mailed check' 'Bank transfer (automatic)'\n",
            " 'Credit card (automatic)']\n",
            "Churn: ['No' 'Yes']\n"
          ]
        }
      ],
      "source": [
        "print_unique_col_values(df1)"
      ]
    },
    {
      "cell_type": "code",
      "execution_count": 135,
      "metadata": {
        "id": "ahzwKl41pG3y"
      },
      "outputs": [],
      "source": [
        "#Convert Yes and No to 1 or 0\n",
        "yes_no_columns = ['Partner','Dependents','PhoneService','MultipleLines','OnlineSecurity','OnlineBackup',\n",
        "                  'DeviceProtection','TechSupport','StreamingTV','StreamingMovies','PaperlessBilling','Churn']\n",
        "for col in yes_no_columns:\n",
        "    df1[col].replace({'Yes': 1,'No': 0},inplace=True)"
      ]
    },
    {
      "cell_type": "code",
      "execution_count": 136,
      "metadata": {
        "colab": {
          "base_uri": "https://localhost:8080/"
        },
        "id": "bogzMy_DpG3z",
        "outputId": "2ef6d229-d012-4c9f-c99b-24a9dd9f0dd0"
      },
      "outputs": [
        {
          "output_type": "stream",
          "name": "stdout",
          "text": [
            "gender: ['Female' 'Male']\n",
            "SeniorCitizen: [0 1]\n",
            "Partner: [1 0]\n",
            "Dependents: [0 1]\n",
            "tenure: [ 1 34  2 45  8 22 10 28 62 13 16 58 49 25 69 52 71 21 12 30 47 72 17 27\n",
            "  5 46 11 70 63 43 15 60 18 66  9  3 31 50 64 56  7 42 35 48 29 65 38 68\n",
            " 32 55 37 36 41  6  4 33 67 23 57 61 14 20 53 40 59 24 44 19 54 51 26 39]\n",
            "PhoneService: [0 1]\n",
            "MultipleLines: [0 1]\n",
            "InternetService: ['DSL' 'Fiber optic' 'No']\n",
            "OnlineSecurity: [0 1]\n",
            "OnlineBackup: [1 0]\n",
            "DeviceProtection: [0 1]\n",
            "TechSupport: [0 1]\n",
            "StreamingTV: [0 1]\n",
            "StreamingMovies: [0 1]\n",
            "Contract: ['Month-to-month' 'One year' 'Two year']\n",
            "PaperlessBilling: [1 0]\n",
            "PaymentMethod: ['Electronic check' 'Mailed check' 'Bank transfer (automatic)'\n",
            " 'Credit card (automatic)']\n",
            "MonthlyCharges: [29.85 56.95 53.85 ... 63.1  44.2  78.7 ]\n",
            "TotalCharges: [  29.85 1889.5   108.15 ...  346.45  306.6  6844.5 ]\n",
            "Churn: [0 1]\n"
          ]
        }
      ],
      "source": [
        "for col in df1:\n",
        "    print(f'{col}: {df1[col].unique()}') "
      ]
    },
    {
      "cell_type": "code",
      "execution_count": 137,
      "metadata": {
        "id": "GyaEST-apG3z"
      },
      "outputs": [],
      "source": [
        "df1['gender'].replace({'Female':1,'Male':0},inplace=True)"
      ]
    },
    {
      "cell_type": "code",
      "execution_count": 138,
      "metadata": {
        "colab": {
          "base_uri": "https://localhost:8080/"
        },
        "id": "GXIeV8PrpG30",
        "outputId": "42438a38-9122-4633-b94e-2cb059b1498d"
      },
      "outputs": [
        {
          "output_type": "execute_result",
          "data": {
            "text/plain": [
              "array([1, 0])"
            ]
          },
          "metadata": {},
          "execution_count": 138
        }
      ],
      "source": [
        "df1.gender.unique()"
      ]
    },
    {
      "cell_type": "code",
      "execution_count": 139,
      "metadata": {
        "colab": {
          "base_uri": "https://localhost:8080/"
        },
        "id": "QReSLO3ppG30",
        "outputId": "dc85a1cf-6c32-42dd-80a9-1254a56b78ab"
      },
      "outputs": [
        {
          "output_type": "execute_result",
          "data": {
            "text/plain": [
              "Index(['gender', 'SeniorCitizen', 'Partner', 'Dependents', 'tenure',\n",
              "       'PhoneService', 'MultipleLines', 'OnlineSecurity', 'OnlineBackup',\n",
              "       'DeviceProtection', 'TechSupport', 'StreamingTV', 'StreamingMovies',\n",
              "       'PaperlessBilling', 'MonthlyCharges', 'TotalCharges', 'Churn',\n",
              "       'InternetService_DSL', 'InternetService_Fiber optic',\n",
              "       'InternetService_No', 'Contract_Month-to-month', 'Contract_One year',\n",
              "       'Contract_Two year', 'PaymentMethod_Bank transfer (automatic)',\n",
              "       'PaymentMethod_Credit card (automatic)',\n",
              "       'PaymentMethod_Electronic check', 'PaymentMethod_Mailed check'],\n",
              "      dtype='object')"
            ]
          },
          "metadata": {},
          "execution_count": 139
        }
      ],
      "source": [
        "#One hot encoding for categorical columns\n",
        "df2 = pd.get_dummies(data=df1, columns=['InternetService','Contract','PaymentMethod'])\n",
        "df2.columns"
      ]
    },
    {
      "cell_type": "code",
      "execution_count": 140,
      "metadata": {
        "colab": {
          "base_uri": "https://localhost:8080/",
          "height": 334
        },
        "id": "p1PW37yOpG31",
        "outputId": "af72685b-4940-4584-cc72-bc276373d088"
      },
      "outputs": [
        {
          "output_type": "execute_result",
          "data": {
            "text/plain": [
              "      gender  SeniorCitizen  Partner  Dependents  tenure  PhoneService  \\\n",
              "1639       0              1        0           0      17             1   \n",
              "5928       1              0        1           1      61             1   \n",
              "3115       1              0        0           0      13             1   \n",
              "6963       0              0        1           1       9             1   \n",
              "1665       1              0        0           0       9             1   \n",
              "\n",
              "      MultipleLines  OnlineSecurity  OnlineBackup  DeviceProtection  ...  \\\n",
              "1639              0               0             0                 0  ...   \n",
              "5928              0               0             0                 0  ...   \n",
              "3115              1               0             1                 1  ...   \n",
              "6963              1               0             1                 1  ...   \n",
              "1665              1               0             0                 0  ...   \n",
              "\n",
              "      InternetService_DSL  InternetService_Fiber optic  InternetService_No  \\\n",
              "1639                    1                            0                   0   \n",
              "5928                    0                            0                   1   \n",
              "3115                    0                            1                   0   \n",
              "6963                    0                            1                   0   \n",
              "1665                    0                            1                   0   \n",
              "\n",
              "      Contract_Month-to-month  Contract_One year  Contract_Two year  \\\n",
              "1639                        1                  0                  0   \n",
              "5928                        0                  0                  1   \n",
              "3115                        1                  0                  0   \n",
              "6963                        1                  0                  0   \n",
              "1665                        1                  0                  0   \n",
              "\n",
              "      PaymentMethod_Bank transfer (automatic)  \\\n",
              "1639                                        0   \n",
              "5928                                        0   \n",
              "3115                                        0   \n",
              "6963                                        0   \n",
              "1665                                        0   \n",
              "\n",
              "      PaymentMethod_Credit card (automatic)  PaymentMethod_Electronic check  \\\n",
              "1639                                      0                               1   \n",
              "5928                                      1                               0   \n",
              "3115                                      0                               1   \n",
              "6963                                      1                               0   \n",
              "1665                                      0                               1   \n",
              "\n",
              "      PaymentMethod_Mailed check  \n",
              "1639                           0  \n",
              "5928                           0  \n",
              "3115                           0  \n",
              "6963                           0  \n",
              "1665                           0  \n",
              "\n",
              "[5 rows x 27 columns]"
            ],
            "text/html": [
              "\n",
              "  <div id=\"df-b17a959b-a866-4f78-843f-3c222aab4aaa\">\n",
              "    <div class=\"colab-df-container\">\n",
              "      <div>\n",
              "<style scoped>\n",
              "    .dataframe tbody tr th:only-of-type {\n",
              "        vertical-align: middle;\n",
              "    }\n",
              "\n",
              "    .dataframe tbody tr th {\n",
              "        vertical-align: top;\n",
              "    }\n",
              "\n",
              "    .dataframe thead th {\n",
              "        text-align: right;\n",
              "    }\n",
              "</style>\n",
              "<table border=\"1\" class=\"dataframe\">\n",
              "  <thead>\n",
              "    <tr style=\"text-align: right;\">\n",
              "      <th></th>\n",
              "      <th>gender</th>\n",
              "      <th>SeniorCitizen</th>\n",
              "      <th>Partner</th>\n",
              "      <th>Dependents</th>\n",
              "      <th>tenure</th>\n",
              "      <th>PhoneService</th>\n",
              "      <th>MultipleLines</th>\n",
              "      <th>OnlineSecurity</th>\n",
              "      <th>OnlineBackup</th>\n",
              "      <th>DeviceProtection</th>\n",
              "      <th>...</th>\n",
              "      <th>InternetService_DSL</th>\n",
              "      <th>InternetService_Fiber optic</th>\n",
              "      <th>InternetService_No</th>\n",
              "      <th>Contract_Month-to-month</th>\n",
              "      <th>Contract_One year</th>\n",
              "      <th>Contract_Two year</th>\n",
              "      <th>PaymentMethod_Bank transfer (automatic)</th>\n",
              "      <th>PaymentMethod_Credit card (automatic)</th>\n",
              "      <th>PaymentMethod_Electronic check</th>\n",
              "      <th>PaymentMethod_Mailed check</th>\n",
              "    </tr>\n",
              "  </thead>\n",
              "  <tbody>\n",
              "    <tr>\n",
              "      <th>1639</th>\n",
              "      <td>0</td>\n",
              "      <td>1</td>\n",
              "      <td>0</td>\n",
              "      <td>0</td>\n",
              "      <td>17</td>\n",
              "      <td>1</td>\n",
              "      <td>0</td>\n",
              "      <td>0</td>\n",
              "      <td>0</td>\n",
              "      <td>0</td>\n",
              "      <td>...</td>\n",
              "      <td>1</td>\n",
              "      <td>0</td>\n",
              "      <td>0</td>\n",
              "      <td>1</td>\n",
              "      <td>0</td>\n",
              "      <td>0</td>\n",
              "      <td>0</td>\n",
              "      <td>0</td>\n",
              "      <td>1</td>\n",
              "      <td>0</td>\n",
              "    </tr>\n",
              "    <tr>\n",
              "      <th>5928</th>\n",
              "      <td>1</td>\n",
              "      <td>0</td>\n",
              "      <td>1</td>\n",
              "      <td>1</td>\n",
              "      <td>61</td>\n",
              "      <td>1</td>\n",
              "      <td>0</td>\n",
              "      <td>0</td>\n",
              "      <td>0</td>\n",
              "      <td>0</td>\n",
              "      <td>...</td>\n",
              "      <td>0</td>\n",
              "      <td>0</td>\n",
              "      <td>1</td>\n",
              "      <td>0</td>\n",
              "      <td>0</td>\n",
              "      <td>1</td>\n",
              "      <td>0</td>\n",
              "      <td>1</td>\n",
              "      <td>0</td>\n",
              "      <td>0</td>\n",
              "    </tr>\n",
              "    <tr>\n",
              "      <th>3115</th>\n",
              "      <td>1</td>\n",
              "      <td>0</td>\n",
              "      <td>0</td>\n",
              "      <td>0</td>\n",
              "      <td>13</td>\n",
              "      <td>1</td>\n",
              "      <td>1</td>\n",
              "      <td>0</td>\n",
              "      <td>1</td>\n",
              "      <td>1</td>\n",
              "      <td>...</td>\n",
              "      <td>0</td>\n",
              "      <td>1</td>\n",
              "      <td>0</td>\n",
              "      <td>1</td>\n",
              "      <td>0</td>\n",
              "      <td>0</td>\n",
              "      <td>0</td>\n",
              "      <td>0</td>\n",
              "      <td>1</td>\n",
              "      <td>0</td>\n",
              "    </tr>\n",
              "    <tr>\n",
              "      <th>6963</th>\n",
              "      <td>0</td>\n",
              "      <td>0</td>\n",
              "      <td>1</td>\n",
              "      <td>1</td>\n",
              "      <td>9</td>\n",
              "      <td>1</td>\n",
              "      <td>1</td>\n",
              "      <td>0</td>\n",
              "      <td>1</td>\n",
              "      <td>1</td>\n",
              "      <td>...</td>\n",
              "      <td>0</td>\n",
              "      <td>1</td>\n",
              "      <td>0</td>\n",
              "      <td>1</td>\n",
              "      <td>0</td>\n",
              "      <td>0</td>\n",
              "      <td>0</td>\n",
              "      <td>1</td>\n",
              "      <td>0</td>\n",
              "      <td>0</td>\n",
              "    </tr>\n",
              "    <tr>\n",
              "      <th>1665</th>\n",
              "      <td>1</td>\n",
              "      <td>0</td>\n",
              "      <td>0</td>\n",
              "      <td>0</td>\n",
              "      <td>9</td>\n",
              "      <td>1</td>\n",
              "      <td>1</td>\n",
              "      <td>0</td>\n",
              "      <td>0</td>\n",
              "      <td>0</td>\n",
              "      <td>...</td>\n",
              "      <td>0</td>\n",
              "      <td>1</td>\n",
              "      <td>0</td>\n",
              "      <td>1</td>\n",
              "      <td>0</td>\n",
              "      <td>0</td>\n",
              "      <td>0</td>\n",
              "      <td>0</td>\n",
              "      <td>1</td>\n",
              "      <td>0</td>\n",
              "    </tr>\n",
              "  </tbody>\n",
              "</table>\n",
              "<p>5 rows × 27 columns</p>\n",
              "</div>\n",
              "      <button class=\"colab-df-convert\" onclick=\"convertToInteractive('df-b17a959b-a866-4f78-843f-3c222aab4aaa')\"\n",
              "              title=\"Convert this dataframe to an interactive table.\"\n",
              "              style=\"display:none;\">\n",
              "        \n",
              "  <svg xmlns=\"http://www.w3.org/2000/svg\" height=\"24px\"viewBox=\"0 0 24 24\"\n",
              "       width=\"24px\">\n",
              "    <path d=\"M0 0h24v24H0V0z\" fill=\"none\"/>\n",
              "    <path d=\"M18.56 5.44l.94 2.06.94-2.06 2.06-.94-2.06-.94-.94-2.06-.94 2.06-2.06.94zm-11 1L8.5 8.5l.94-2.06 2.06-.94-2.06-.94L8.5 2.5l-.94 2.06-2.06.94zm10 10l.94 2.06.94-2.06 2.06-.94-2.06-.94-.94-2.06-.94 2.06-2.06.94z\"/><path d=\"M17.41 7.96l-1.37-1.37c-.4-.4-.92-.59-1.43-.59-.52 0-1.04.2-1.43.59L10.3 9.45l-7.72 7.72c-.78.78-.78 2.05 0 2.83L4 21.41c.39.39.9.59 1.41.59.51 0 1.02-.2 1.41-.59l7.78-7.78 2.81-2.81c.8-.78.8-2.07 0-2.86zM5.41 20L4 18.59l7.72-7.72 1.47 1.35L5.41 20z\"/>\n",
              "  </svg>\n",
              "      </button>\n",
              "      \n",
              "  <style>\n",
              "    .colab-df-container {\n",
              "      display:flex;\n",
              "      flex-wrap:wrap;\n",
              "      gap: 12px;\n",
              "    }\n",
              "\n",
              "    .colab-df-convert {\n",
              "      background-color: #E8F0FE;\n",
              "      border: none;\n",
              "      border-radius: 50%;\n",
              "      cursor: pointer;\n",
              "      display: none;\n",
              "      fill: #1967D2;\n",
              "      height: 32px;\n",
              "      padding: 0 0 0 0;\n",
              "      width: 32px;\n",
              "    }\n",
              "\n",
              "    .colab-df-convert:hover {\n",
              "      background-color: #E2EBFA;\n",
              "      box-shadow: 0px 1px 2px rgba(60, 64, 67, 0.3), 0px 1px 3px 1px rgba(60, 64, 67, 0.15);\n",
              "      fill: #174EA6;\n",
              "    }\n",
              "\n",
              "    [theme=dark] .colab-df-convert {\n",
              "      background-color: #3B4455;\n",
              "      fill: #D2E3FC;\n",
              "    }\n",
              "\n",
              "    [theme=dark] .colab-df-convert:hover {\n",
              "      background-color: #434B5C;\n",
              "      box-shadow: 0px 1px 3px 1px rgba(0, 0, 0, 0.15);\n",
              "      filter: drop-shadow(0px 1px 2px rgba(0, 0, 0, 0.3));\n",
              "      fill: #FFFFFF;\n",
              "    }\n",
              "  </style>\n",
              "\n",
              "      <script>\n",
              "        const buttonEl =\n",
              "          document.querySelector('#df-b17a959b-a866-4f78-843f-3c222aab4aaa button.colab-df-convert');\n",
              "        buttonEl.style.display =\n",
              "          google.colab.kernel.accessAllowed ? 'block' : 'none';\n",
              "\n",
              "        async function convertToInteractive(key) {\n",
              "          const element = document.querySelector('#df-b17a959b-a866-4f78-843f-3c222aab4aaa');\n",
              "          const dataTable =\n",
              "            await google.colab.kernel.invokeFunction('convertToInteractive',\n",
              "                                                     [key], {});\n",
              "          if (!dataTable) return;\n",
              "\n",
              "          const docLinkHtml = 'Like what you see? Visit the ' +\n",
              "            '<a target=\"_blank\" href=https://colab.research.google.com/notebooks/data_table.ipynb>data table notebook</a>'\n",
              "            + ' to learn more about interactive tables.';\n",
              "          element.innerHTML = '';\n",
              "          dataTable['output_type'] = 'display_data';\n",
              "          await google.colab.output.renderOutput(dataTable, element);\n",
              "          const docLink = document.createElement('div');\n",
              "          docLink.innerHTML = docLinkHtml;\n",
              "          element.appendChild(docLink);\n",
              "        }\n",
              "      </script>\n",
              "    </div>\n",
              "  </div>\n",
              "  "
            ]
          },
          "metadata": {},
          "execution_count": 140
        }
      ],
      "source": [
        "df2.sample(5)"
      ]
    },
    {
      "cell_type": "code",
      "execution_count": 141,
      "metadata": {
        "scrolled": true,
        "colab": {
          "base_uri": "https://localhost:8080/"
        },
        "id": "nvFQGdTCpG31",
        "outputId": "9d2ca472-3da9-4076-a2cf-5ea45b3a1fe9"
      },
      "outputs": [
        {
          "output_type": "execute_result",
          "data": {
            "text/plain": [
              "gender                                       int64\n",
              "SeniorCitizen                                int64\n",
              "Partner                                      int64\n",
              "Dependents                                   int64\n",
              "tenure                                       int64\n",
              "PhoneService                                 int64\n",
              "MultipleLines                                int64\n",
              "OnlineSecurity                               int64\n",
              "OnlineBackup                                 int64\n",
              "DeviceProtection                             int64\n",
              "TechSupport                                  int64\n",
              "StreamingTV                                  int64\n",
              "StreamingMovies                              int64\n",
              "PaperlessBilling                             int64\n",
              "MonthlyCharges                             float64\n",
              "TotalCharges                               float64\n",
              "Churn                                        int64\n",
              "InternetService_DSL                          uint8\n",
              "InternetService_Fiber optic                  uint8\n",
              "InternetService_No                           uint8\n",
              "Contract_Month-to-month                      uint8\n",
              "Contract_One year                            uint8\n",
              "Contract_Two year                            uint8\n",
              "PaymentMethod_Bank transfer (automatic)      uint8\n",
              "PaymentMethod_Credit card (automatic)        uint8\n",
              "PaymentMethod_Electronic check               uint8\n",
              "PaymentMethod_Mailed check                   uint8\n",
              "dtype: object"
            ]
          },
          "metadata": {},
          "execution_count": 141
        }
      ],
      "source": [
        "df2.dtypes"
      ]
    },
    {
      "cell_type": "code",
      "execution_count": 142,
      "metadata": {
        "id": "pSTzEx-epG31"
      },
      "outputs": [],
      "source": [
        "cols_to_scale = ['tenure','MonthlyCharges','TotalCharges']\n",
        "\n",
        "from sklearn.preprocessing import MinMaxScaler\n",
        "scaler = MinMaxScaler()\n",
        "df2[cols_to_scale] = scaler.fit_transform(df2[cols_to_scale])"
      ]
    },
    {
      "cell_type": "code",
      "execution_count": 143,
      "metadata": {
        "colab": {
          "base_uri": "https://localhost:8080/"
        },
        "id": "M2J6WkFQpG32",
        "outputId": "00b1c878-3f3c-4579-ea67-cd2907e71e97"
      },
      "outputs": [
        {
          "output_type": "stream",
          "name": "stdout",
          "text": [
            "gender: [1 0]\n",
            "SeniorCitizen: [0 1]\n",
            "Partner: [1 0]\n",
            "Dependents: [0 1]\n",
            "tenure: [0.         0.46478873 0.01408451 0.61971831 0.09859155 0.29577465\n",
            " 0.12676056 0.38028169 0.85915493 0.16901408 0.21126761 0.8028169\n",
            " 0.67605634 0.33802817 0.95774648 0.71830986 0.98591549 0.28169014\n",
            " 0.15492958 0.4084507  0.64788732 1.         0.22535211 0.36619718\n",
            " 0.05633803 0.63380282 0.14084507 0.97183099 0.87323944 0.5915493\n",
            " 0.1971831  0.83098592 0.23943662 0.91549296 0.11267606 0.02816901\n",
            " 0.42253521 0.69014085 0.88732394 0.77464789 0.08450704 0.57746479\n",
            " 0.47887324 0.66197183 0.3943662  0.90140845 0.52112676 0.94366197\n",
            " 0.43661972 0.76056338 0.50704225 0.49295775 0.56338028 0.07042254\n",
            " 0.04225352 0.45070423 0.92957746 0.30985915 0.78873239 0.84507042\n",
            " 0.18309859 0.26760563 0.73239437 0.54929577 0.81690141 0.32394366\n",
            " 0.6056338  0.25352113 0.74647887 0.70422535 0.35211268 0.53521127]\n",
            "PhoneService: [0 1]\n",
            "MultipleLines: [0 1]\n",
            "OnlineSecurity: [0 1]\n",
            "OnlineBackup: [1 0]\n",
            "DeviceProtection: [0 1]\n",
            "TechSupport: [0 1]\n",
            "StreamingTV: [0 1]\n",
            "StreamingMovies: [0 1]\n",
            "PaperlessBilling: [1 0]\n",
            "MonthlyCharges: [0.11542289 0.38507463 0.35422886 ... 0.44626866 0.25820896 0.60149254]\n",
            "TotalCharges: [0.0012751  0.21586661 0.01031041 ... 0.03780868 0.03321025 0.78764136]\n",
            "Churn: [0 1]\n",
            "InternetService_DSL: [1 0]\n",
            "InternetService_Fiber optic: [0 1]\n",
            "InternetService_No: [0 1]\n",
            "Contract_Month-to-month: [1 0]\n",
            "Contract_One year: [0 1]\n",
            "Contract_Two year: [0 1]\n",
            "PaymentMethod_Bank transfer (automatic): [0 1]\n",
            "PaymentMethod_Credit card (automatic): [0 1]\n",
            "PaymentMethod_Electronic check: [1 0]\n",
            "PaymentMethod_Mailed check: [0 1]\n"
          ]
        }
      ],
      "source": [
        "for col in df2:\n",
        "    print(f'{col}: {df2[col].unique()}')"
      ]
    },
    {
      "cell_type": "markdown",
      "metadata": {
        "id": "0vvLClDXpG32"
      },
      "source": [
        "**Train test split**"
      ]
    },
    {
      "cell_type": "code",
      "execution_count": 144,
      "metadata": {
        "id": "vdvfX-RhpG32"
      },
      "outputs": [],
      "source": [
        "X = df2.drop('Churn',axis='columns')\n",
        "y = testLabels = df2.Churn.astype(np.float32)\n",
        "\n",
        "from sklearn.model_selection import train_test_split\n",
        "X_train, X_test, y_train, y_test = train_test_split(X, y, test_size=0.2, random_state=15, stratify=y)"
      ]
    },
    {
      "cell_type": "code",
      "execution_count": 145,
      "metadata": {
        "scrolled": true,
        "colab": {
          "base_uri": "https://localhost:8080/"
        },
        "id": "TFohHvA0pG33",
        "outputId": "fa7e67fb-5018-4a2e-dded-307bde3336e7"
      },
      "outputs": [
        {
          "output_type": "execute_result",
          "data": {
            "text/plain": [
              "0.0    4130\n",
              "1.0    1495\n",
              "Name: Churn, dtype: int64"
            ]
          },
          "metadata": {},
          "execution_count": 145
        }
      ],
      "source": [
        "y_train.value_counts()"
      ]
    },
    {
      "cell_type": "code",
      "execution_count": 146,
      "metadata": {
        "colab": {
          "base_uri": "https://localhost:8080/"
        },
        "id": "VXCVzHqlpG33",
        "outputId": "7de434e3-eaf0-4644-9700-7dd462ad8f21"
      },
      "outputs": [
        {
          "output_type": "execute_result",
          "data": {
            "text/plain": [
              "0.0    5163\n",
              "1.0    1869\n",
              "Name: Churn, dtype: int64"
            ]
          },
          "metadata": {},
          "execution_count": 146
        }
      ],
      "source": [
        "y.value_counts()"
      ]
    },
    {
      "cell_type": "code",
      "execution_count": 147,
      "metadata": {
        "colab": {
          "base_uri": "https://localhost:8080/"
        },
        "id": "256VgY4apG33",
        "outputId": "931849d0-018f-4363-e157-30d4de8ef78b"
      },
      "outputs": [
        {
          "output_type": "execute_result",
          "data": {
            "text/plain": [
              "2.7624398073836276"
            ]
          },
          "metadata": {},
          "execution_count": 147
        }
      ],
      "source": [
        "5163/1869"
      ]
    },
    {
      "cell_type": "code",
      "execution_count": 148,
      "metadata": {
        "colab": {
          "base_uri": "https://localhost:8080/"
        },
        "id": "7gN_dXsypG34",
        "outputId": "04c93486-d626-4c79-c808-714aac35bddf"
      },
      "outputs": [
        {
          "output_type": "execute_result",
          "data": {
            "text/plain": [
              "0.0    1033\n",
              "1.0     374\n",
              "Name: Churn, dtype: int64"
            ]
          },
          "metadata": {},
          "execution_count": 148
        }
      ],
      "source": [
        "y_test.value_counts()"
      ]
    },
    {
      "cell_type": "code",
      "execution_count": 149,
      "metadata": {
        "colab": {
          "base_uri": "https://localhost:8080/"
        },
        "id": "sRy1h4PIpG34",
        "outputId": "6962e557-198f-4823-b8d4-e8eec09d248b"
      },
      "outputs": [
        {
          "output_type": "execute_result",
          "data": {
            "text/plain": [
              "(5625, 26)"
            ]
          },
          "metadata": {},
          "execution_count": 149
        }
      ],
      "source": [
        "X_train.shape"
      ]
    },
    {
      "cell_type": "code",
      "execution_count": 150,
      "metadata": {
        "scrolled": true,
        "colab": {
          "base_uri": "https://localhost:8080/"
        },
        "id": "mGhvMN4CpG35",
        "outputId": "8814fd35-4baf-424b-834c-892cb20bfcf3"
      },
      "outputs": [
        {
          "output_type": "execute_result",
          "data": {
            "text/plain": [
              "(1407, 26)"
            ]
          },
          "metadata": {},
          "execution_count": 150
        }
      ],
      "source": [
        "X_test.shape"
      ]
    },
    {
      "cell_type": "code",
      "execution_count": 151,
      "metadata": {
        "colab": {
          "base_uri": "https://localhost:8080/",
          "height": 491
        },
        "id": "N_fayRDXpG35",
        "outputId": "86712130-2827-459f-8208-0139c3fb7717"
      },
      "outputs": [
        {
          "output_type": "execute_result",
          "data": {
            "text/plain": [
              "      gender  SeniorCitizen  Partner  Dependents    tenure  PhoneService  \\\n",
              "684        1              0        0           0  0.000000             1   \n",
              "2446       1              0        0           0  0.239437             1   \n",
              "1680       0              0        1           1  0.774648             1   \n",
              "2220       0              0        1           0  1.000000             1   \n",
              "2842       1              0        0           0  0.042254             0   \n",
              "5131       1              0        1           0  0.605634             1   \n",
              "4372       0              0        1           1  0.000000             1   \n",
              "4687       0              0        1           0  0.295775             1   \n",
              "2385       1              0        0           1  0.028169             0   \n",
              "6773       0              1        1           0  0.507042             1   \n",
              "\n",
              "      MultipleLines  OnlineSecurity  OnlineBackup  DeviceProtection  ...  \\\n",
              "684               0               0             0                 0  ...   \n",
              "2446              1               0             1                 0  ...   \n",
              "1680              1               0             0                 0  ...   \n",
              "2220              0               1             1                 0  ...   \n",
              "2842              0               1             0                 1  ...   \n",
              "5131              1               0             0                 0  ...   \n",
              "4372              0               0             0                 0  ...   \n",
              "4687              0               0             0                 1  ...   \n",
              "2385              0               0             1                 0  ...   \n",
              "6773              1               0             0                 0  ...   \n",
              "\n",
              "      InternetService_DSL  InternetService_Fiber optic  InternetService_No  \\\n",
              "684                     0                            1                   0   \n",
              "2446                    0                            1                   0   \n",
              "1680                    0                            0                   1   \n",
              "2220                    1                            0                   0   \n",
              "2842                    1                            0                   0   \n",
              "5131                    0                            1                   0   \n",
              "4372                    0                            0                   1   \n",
              "4687                    0                            1                   0   \n",
              "2385                    1                            0                   0   \n",
              "6773                    0                            1                   0   \n",
              "\n",
              "      Contract_Month-to-month  Contract_One year  Contract_Two year  \\\n",
              "684                         1                  0                  0   \n",
              "2446                        1                  0                  0   \n",
              "1680                        0                  1                  0   \n",
              "2220                        0                  0                  1   \n",
              "2842                        1                  0                  0   \n",
              "5131                        1                  0                  0   \n",
              "4372                        1                  0                  0   \n",
              "4687                        1                  0                  0   \n",
              "2385                        1                  0                  0   \n",
              "6773                        1                  0                  0   \n",
              "\n",
              "      PaymentMethod_Bank transfer (automatic)  \\\n",
              "684                                         0   \n",
              "2446                                        0   \n",
              "1680                                        0   \n",
              "2220                                        1   \n",
              "2842                                        0   \n",
              "5131                                        0   \n",
              "4372                                        1   \n",
              "4687                                        0   \n",
              "2385                                        0   \n",
              "6773                                        0   \n",
              "\n",
              "      PaymentMethod_Credit card (automatic)  PaymentMethod_Electronic check  \\\n",
              "684                                       0                               0   \n",
              "2446                                      1                               0   \n",
              "1680                                      0                               0   \n",
              "2220                                      0                               0   \n",
              "2842                                      0                               0   \n",
              "5131                                      0                               1   \n",
              "4372                                      0                               0   \n",
              "4687                                      1                               0   \n",
              "2385                                      0                               0   \n",
              "6773                                      0                               1   \n",
              "\n",
              "      PaymentMethod_Mailed check  \n",
              "684                            1  \n",
              "2446                           0  \n",
              "1680                           1  \n",
              "2220                           0  \n",
              "2842                           1  \n",
              "5131                           0  \n",
              "4372                           0  \n",
              "4687                           0  \n",
              "2385                           1  \n",
              "6773                           0  \n",
              "\n",
              "[10 rows x 26 columns]"
            ],
            "text/html": [
              "\n",
              "  <div id=\"df-1c6096cf-2a0b-401a-88c6-b318ecf64f95\">\n",
              "    <div class=\"colab-df-container\">\n",
              "      <div>\n",
              "<style scoped>\n",
              "    .dataframe tbody tr th:only-of-type {\n",
              "        vertical-align: middle;\n",
              "    }\n",
              "\n",
              "    .dataframe tbody tr th {\n",
              "        vertical-align: top;\n",
              "    }\n",
              "\n",
              "    .dataframe thead th {\n",
              "        text-align: right;\n",
              "    }\n",
              "</style>\n",
              "<table border=\"1\" class=\"dataframe\">\n",
              "  <thead>\n",
              "    <tr style=\"text-align: right;\">\n",
              "      <th></th>\n",
              "      <th>gender</th>\n",
              "      <th>SeniorCitizen</th>\n",
              "      <th>Partner</th>\n",
              "      <th>Dependents</th>\n",
              "      <th>tenure</th>\n",
              "      <th>PhoneService</th>\n",
              "      <th>MultipleLines</th>\n",
              "      <th>OnlineSecurity</th>\n",
              "      <th>OnlineBackup</th>\n",
              "      <th>DeviceProtection</th>\n",
              "      <th>...</th>\n",
              "      <th>InternetService_DSL</th>\n",
              "      <th>InternetService_Fiber optic</th>\n",
              "      <th>InternetService_No</th>\n",
              "      <th>Contract_Month-to-month</th>\n",
              "      <th>Contract_One year</th>\n",
              "      <th>Contract_Two year</th>\n",
              "      <th>PaymentMethod_Bank transfer (automatic)</th>\n",
              "      <th>PaymentMethod_Credit card (automatic)</th>\n",
              "      <th>PaymentMethod_Electronic check</th>\n",
              "      <th>PaymentMethod_Mailed check</th>\n",
              "    </tr>\n",
              "  </thead>\n",
              "  <tbody>\n",
              "    <tr>\n",
              "      <th>684</th>\n",
              "      <td>1</td>\n",
              "      <td>0</td>\n",
              "      <td>0</td>\n",
              "      <td>0</td>\n",
              "      <td>0.000000</td>\n",
              "      <td>1</td>\n",
              "      <td>0</td>\n",
              "      <td>0</td>\n",
              "      <td>0</td>\n",
              "      <td>0</td>\n",
              "      <td>...</td>\n",
              "      <td>0</td>\n",
              "      <td>1</td>\n",
              "      <td>0</td>\n",
              "      <td>1</td>\n",
              "      <td>0</td>\n",
              "      <td>0</td>\n",
              "      <td>0</td>\n",
              "      <td>0</td>\n",
              "      <td>0</td>\n",
              "      <td>1</td>\n",
              "    </tr>\n",
              "    <tr>\n",
              "      <th>2446</th>\n",
              "      <td>1</td>\n",
              "      <td>0</td>\n",
              "      <td>0</td>\n",
              "      <td>0</td>\n",
              "      <td>0.239437</td>\n",
              "      <td>1</td>\n",
              "      <td>1</td>\n",
              "      <td>0</td>\n",
              "      <td>1</td>\n",
              "      <td>0</td>\n",
              "      <td>...</td>\n",
              "      <td>0</td>\n",
              "      <td>1</td>\n",
              "      <td>0</td>\n",
              "      <td>1</td>\n",
              "      <td>0</td>\n",
              "      <td>0</td>\n",
              "      <td>0</td>\n",
              "      <td>1</td>\n",
              "      <td>0</td>\n",
              "      <td>0</td>\n",
              "    </tr>\n",
              "    <tr>\n",
              "      <th>1680</th>\n",
              "      <td>0</td>\n",
              "      <td>0</td>\n",
              "      <td>1</td>\n",
              "      <td>1</td>\n",
              "      <td>0.774648</td>\n",
              "      <td>1</td>\n",
              "      <td>1</td>\n",
              "      <td>0</td>\n",
              "      <td>0</td>\n",
              "      <td>0</td>\n",
              "      <td>...</td>\n",
              "      <td>0</td>\n",
              "      <td>0</td>\n",
              "      <td>1</td>\n",
              "      <td>0</td>\n",
              "      <td>1</td>\n",
              "      <td>0</td>\n",
              "      <td>0</td>\n",
              "      <td>0</td>\n",
              "      <td>0</td>\n",
              "      <td>1</td>\n",
              "    </tr>\n",
              "    <tr>\n",
              "      <th>2220</th>\n",
              "      <td>0</td>\n",
              "      <td>0</td>\n",
              "      <td>1</td>\n",
              "      <td>0</td>\n",
              "      <td>1.000000</td>\n",
              "      <td>1</td>\n",
              "      <td>0</td>\n",
              "      <td>1</td>\n",
              "      <td>1</td>\n",
              "      <td>0</td>\n",
              "      <td>...</td>\n",
              "      <td>1</td>\n",
              "      <td>0</td>\n",
              "      <td>0</td>\n",
              "      <td>0</td>\n",
              "      <td>0</td>\n",
              "      <td>1</td>\n",
              "      <td>1</td>\n",
              "      <td>0</td>\n",
              "      <td>0</td>\n",
              "      <td>0</td>\n",
              "    </tr>\n",
              "    <tr>\n",
              "      <th>2842</th>\n",
              "      <td>1</td>\n",
              "      <td>0</td>\n",
              "      <td>0</td>\n",
              "      <td>0</td>\n",
              "      <td>0.042254</td>\n",
              "      <td>0</td>\n",
              "      <td>0</td>\n",
              "      <td>1</td>\n",
              "      <td>0</td>\n",
              "      <td>1</td>\n",
              "      <td>...</td>\n",
              "      <td>1</td>\n",
              "      <td>0</td>\n",
              "      <td>0</td>\n",
              "      <td>1</td>\n",
              "      <td>0</td>\n",
              "      <td>0</td>\n",
              "      <td>0</td>\n",
              "      <td>0</td>\n",
              "      <td>0</td>\n",
              "      <td>1</td>\n",
              "    </tr>\n",
              "    <tr>\n",
              "      <th>5131</th>\n",
              "      <td>1</td>\n",
              "      <td>0</td>\n",
              "      <td>1</td>\n",
              "      <td>0</td>\n",
              "      <td>0.605634</td>\n",
              "      <td>1</td>\n",
              "      <td>1</td>\n",
              "      <td>0</td>\n",
              "      <td>0</td>\n",
              "      <td>0</td>\n",
              "      <td>...</td>\n",
              "      <td>0</td>\n",
              "      <td>1</td>\n",
              "      <td>0</td>\n",
              "      <td>1</td>\n",
              "      <td>0</td>\n",
              "      <td>0</td>\n",
              "      <td>0</td>\n",
              "      <td>0</td>\n",
              "      <td>1</td>\n",
              "      <td>0</td>\n",
              "    </tr>\n",
              "    <tr>\n",
              "      <th>4372</th>\n",
              "      <td>0</td>\n",
              "      <td>0</td>\n",
              "      <td>1</td>\n",
              "      <td>1</td>\n",
              "      <td>0.000000</td>\n",
              "      <td>1</td>\n",
              "      <td>0</td>\n",
              "      <td>0</td>\n",
              "      <td>0</td>\n",
              "      <td>0</td>\n",
              "      <td>...</td>\n",
              "      <td>0</td>\n",
              "      <td>0</td>\n",
              "      <td>1</td>\n",
              "      <td>1</td>\n",
              "      <td>0</td>\n",
              "      <td>0</td>\n",
              "      <td>1</td>\n",
              "      <td>0</td>\n",
              "      <td>0</td>\n",
              "      <td>0</td>\n",
              "    </tr>\n",
              "    <tr>\n",
              "      <th>4687</th>\n",
              "      <td>0</td>\n",
              "      <td>0</td>\n",
              "      <td>1</td>\n",
              "      <td>0</td>\n",
              "      <td>0.295775</td>\n",
              "      <td>1</td>\n",
              "      <td>0</td>\n",
              "      <td>0</td>\n",
              "      <td>0</td>\n",
              "      <td>1</td>\n",
              "      <td>...</td>\n",
              "      <td>0</td>\n",
              "      <td>1</td>\n",
              "      <td>0</td>\n",
              "      <td>1</td>\n",
              "      <td>0</td>\n",
              "      <td>0</td>\n",
              "      <td>0</td>\n",
              "      <td>1</td>\n",
              "      <td>0</td>\n",
              "      <td>0</td>\n",
              "    </tr>\n",
              "    <tr>\n",
              "      <th>2385</th>\n",
              "      <td>1</td>\n",
              "      <td>0</td>\n",
              "      <td>0</td>\n",
              "      <td>1</td>\n",
              "      <td>0.028169</td>\n",
              "      <td>0</td>\n",
              "      <td>0</td>\n",
              "      <td>0</td>\n",
              "      <td>1</td>\n",
              "      <td>0</td>\n",
              "      <td>...</td>\n",
              "      <td>1</td>\n",
              "      <td>0</td>\n",
              "      <td>0</td>\n",
              "      <td>1</td>\n",
              "      <td>0</td>\n",
              "      <td>0</td>\n",
              "      <td>0</td>\n",
              "      <td>0</td>\n",
              "      <td>0</td>\n",
              "      <td>1</td>\n",
              "    </tr>\n",
              "    <tr>\n",
              "      <th>6773</th>\n",
              "      <td>0</td>\n",
              "      <td>1</td>\n",
              "      <td>1</td>\n",
              "      <td>0</td>\n",
              "      <td>0.507042</td>\n",
              "      <td>1</td>\n",
              "      <td>1</td>\n",
              "      <td>0</td>\n",
              "      <td>0</td>\n",
              "      <td>0</td>\n",
              "      <td>...</td>\n",
              "      <td>0</td>\n",
              "      <td>1</td>\n",
              "      <td>0</td>\n",
              "      <td>1</td>\n",
              "      <td>0</td>\n",
              "      <td>0</td>\n",
              "      <td>0</td>\n",
              "      <td>0</td>\n",
              "      <td>1</td>\n",
              "      <td>0</td>\n",
              "    </tr>\n",
              "  </tbody>\n",
              "</table>\n",
              "<p>10 rows × 26 columns</p>\n",
              "</div>\n",
              "      <button class=\"colab-df-convert\" onclick=\"convertToInteractive('df-1c6096cf-2a0b-401a-88c6-b318ecf64f95')\"\n",
              "              title=\"Convert this dataframe to an interactive table.\"\n",
              "              style=\"display:none;\">\n",
              "        \n",
              "  <svg xmlns=\"http://www.w3.org/2000/svg\" height=\"24px\"viewBox=\"0 0 24 24\"\n",
              "       width=\"24px\">\n",
              "    <path d=\"M0 0h24v24H0V0z\" fill=\"none\"/>\n",
              "    <path d=\"M18.56 5.44l.94 2.06.94-2.06 2.06-.94-2.06-.94-.94-2.06-.94 2.06-2.06.94zm-11 1L8.5 8.5l.94-2.06 2.06-.94-2.06-.94L8.5 2.5l-.94 2.06-2.06.94zm10 10l.94 2.06.94-2.06 2.06-.94-2.06-.94-.94-2.06-.94 2.06-2.06.94z\"/><path d=\"M17.41 7.96l-1.37-1.37c-.4-.4-.92-.59-1.43-.59-.52 0-1.04.2-1.43.59L10.3 9.45l-7.72 7.72c-.78.78-.78 2.05 0 2.83L4 21.41c.39.39.9.59 1.41.59.51 0 1.02-.2 1.41-.59l7.78-7.78 2.81-2.81c.8-.78.8-2.07 0-2.86zM5.41 20L4 18.59l7.72-7.72 1.47 1.35L5.41 20z\"/>\n",
              "  </svg>\n",
              "      </button>\n",
              "      \n",
              "  <style>\n",
              "    .colab-df-container {\n",
              "      display:flex;\n",
              "      flex-wrap:wrap;\n",
              "      gap: 12px;\n",
              "    }\n",
              "\n",
              "    .colab-df-convert {\n",
              "      background-color: #E8F0FE;\n",
              "      border: none;\n",
              "      border-radius: 50%;\n",
              "      cursor: pointer;\n",
              "      display: none;\n",
              "      fill: #1967D2;\n",
              "      height: 32px;\n",
              "      padding: 0 0 0 0;\n",
              "      width: 32px;\n",
              "    }\n",
              "\n",
              "    .colab-df-convert:hover {\n",
              "      background-color: #E2EBFA;\n",
              "      box-shadow: 0px 1px 2px rgba(60, 64, 67, 0.3), 0px 1px 3px 1px rgba(60, 64, 67, 0.15);\n",
              "      fill: #174EA6;\n",
              "    }\n",
              "\n",
              "    [theme=dark] .colab-df-convert {\n",
              "      background-color: #3B4455;\n",
              "      fill: #D2E3FC;\n",
              "    }\n",
              "\n",
              "    [theme=dark] .colab-df-convert:hover {\n",
              "      background-color: #434B5C;\n",
              "      box-shadow: 0px 1px 3px 1px rgba(0, 0, 0, 0.15);\n",
              "      filter: drop-shadow(0px 1px 2px rgba(0, 0, 0, 0.3));\n",
              "      fill: #FFFFFF;\n",
              "    }\n",
              "  </style>\n",
              "\n",
              "      <script>\n",
              "        const buttonEl =\n",
              "          document.querySelector('#df-1c6096cf-2a0b-401a-88c6-b318ecf64f95 button.colab-df-convert');\n",
              "        buttonEl.style.display =\n",
              "          google.colab.kernel.accessAllowed ? 'block' : 'none';\n",
              "\n",
              "        async function convertToInteractive(key) {\n",
              "          const element = document.querySelector('#df-1c6096cf-2a0b-401a-88c6-b318ecf64f95');\n",
              "          const dataTable =\n",
              "            await google.colab.kernel.invokeFunction('convertToInteractive',\n",
              "                                                     [key], {});\n",
              "          if (!dataTable) return;\n",
              "\n",
              "          const docLinkHtml = 'Like what you see? Visit the ' +\n",
              "            '<a target=\"_blank\" href=https://colab.research.google.com/notebooks/data_table.ipynb>data table notebook</a>'\n",
              "            + ' to learn more about interactive tables.';\n",
              "          element.innerHTML = '';\n",
              "          dataTable['output_type'] = 'display_data';\n",
              "          await google.colab.output.renderOutput(dataTable, element);\n",
              "          const docLink = document.createElement('div');\n",
              "          docLink.innerHTML = docLinkHtml;\n",
              "          element.appendChild(docLink);\n",
              "        }\n",
              "      </script>\n",
              "    </div>\n",
              "  </div>\n",
              "  "
            ]
          },
          "metadata": {},
          "execution_count": 151
        }
      ],
      "source": [
        "X_train[:10]"
      ]
    },
    {
      "cell_type": "code",
      "execution_count": 152,
      "metadata": {
        "colab": {
          "base_uri": "https://localhost:8080/"
        },
        "id": "WaosOid-pG35",
        "outputId": "c94d6149-6318-4500-bbad-085e13463c27"
      },
      "outputs": [
        {
          "output_type": "execute_result",
          "data": {
            "text/plain": [
              "26"
            ]
          },
          "metadata": {},
          "execution_count": 152
        }
      ],
      "source": [
        "len(X_train.columns)"
      ]
    },
    {
      "cell_type": "markdown",
      "metadata": {
        "id": "6_4n75MspG36"
      },
      "source": [
        "**Build a model (ANN) in tensorflow/keras**"
      ]
    },
    {
      "cell_type": "code",
      "execution_count": 153,
      "metadata": {
        "id": "wJSaKEN1pG36"
      },
      "outputs": [],
      "source": [
        "import tensorflow as tf\n",
        "from tensorflow import keras\n",
        "from sklearn.metrics import confusion_matrix , classification_report"
      ]
    },
    {
      "cell_type": "code",
      "execution_count": 154,
      "metadata": {
        "scrolled": true,
        "id": "vk-pIIZnpG36"
      },
      "outputs": [],
      "source": [
        "def ANN(X_train, y_train, X_test, y_test, loss, weights):\n",
        "    model = keras.Sequential([\n",
        "        keras.layers.Dense(26, input_dim=26, activation='relu'),\n",
        "        keras.layers.Dense(15, activation='relu'),\n",
        "        keras.layers.Dense(1, activation='sigmoid')\n",
        "    ])\n",
        "\n",
        "    model.compile(optimizer='adam', loss=loss, metrics=['accuracy'])\n",
        "    \n",
        "    if weights == -1:\n",
        "        model.fit(X_train, y_train, epochs=100)\n",
        "    else:\n",
        "        model.fit(X_train, y_train, epochs=100, class_weight = weights)\n",
        "    \n",
        "    print(model.evaluate(X_test, y_test))\n",
        "    \n",
        "    y_preds = model.predict(X_test)\n",
        "    y_preds = np.round(y_preds)\n",
        "    \n",
        "    print(\"Classification Report: \\n\", classification_report(y_test, y_preds))\n",
        "    \n",
        "    return y_preds"
      ]
    },
    {
      "cell_type": "code",
      "execution_count": 155,
      "metadata": {
        "colab": {
          "base_uri": "https://localhost:8080/"
        },
        "id": "9gXLDD9cpG37",
        "outputId": "c9c1f5c4-5ec5-40d8-b1c8-00be8f362d71"
      },
      "outputs": [
        {
          "output_type": "stream",
          "name": "stdout",
          "text": [
            "Epoch 1/100\n",
            "176/176 [==============================] - 1s 2ms/step - loss: 0.4814 - accuracy: 0.7653\n",
            "Epoch 2/100\n",
            "176/176 [==============================] - 0s 2ms/step - loss: 0.4260 - accuracy: 0.7948\n",
            "Epoch 3/100\n",
            "176/176 [==============================] - 0s 2ms/step - loss: 0.4211 - accuracy: 0.7991\n",
            "Epoch 4/100\n",
            "176/176 [==============================] - 0s 2ms/step - loss: 0.4169 - accuracy: 0.8012\n",
            "Epoch 5/100\n",
            "176/176 [==============================] - 0s 2ms/step - loss: 0.4128 - accuracy: 0.8023\n",
            "Epoch 6/100\n",
            "176/176 [==============================] - 0s 2ms/step - loss: 0.4116 - accuracy: 0.8018\n",
            "Epoch 7/100\n",
            "176/176 [==============================] - 0s 2ms/step - loss: 0.4102 - accuracy: 0.8046\n",
            "Epoch 8/100\n",
            "176/176 [==============================] - 0s 2ms/step - loss: 0.4088 - accuracy: 0.8036\n",
            "Epoch 9/100\n",
            "176/176 [==============================] - 0s 2ms/step - loss: 0.4079 - accuracy: 0.8073\n",
            "Epoch 10/100\n",
            "176/176 [==============================] - 0s 2ms/step - loss: 0.4060 - accuracy: 0.8078\n",
            "Epoch 11/100\n",
            "176/176 [==============================] - 0s 2ms/step - loss: 0.4042 - accuracy: 0.8082\n",
            "Epoch 12/100\n",
            "176/176 [==============================] - 0s 2ms/step - loss: 0.4036 - accuracy: 0.8085\n",
            "Epoch 13/100\n",
            "176/176 [==============================] - 0s 2ms/step - loss: 0.4022 - accuracy: 0.8100\n",
            "Epoch 14/100\n",
            "176/176 [==============================] - 0s 2ms/step - loss: 0.4006 - accuracy: 0.8100\n",
            "Epoch 15/100\n",
            "176/176 [==============================] - 0s 2ms/step - loss: 0.3992 - accuracy: 0.8121\n",
            "Epoch 16/100\n",
            "176/176 [==============================] - 0s 2ms/step - loss: 0.3990 - accuracy: 0.8135\n",
            "Epoch 17/100\n",
            "176/176 [==============================] - 0s 2ms/step - loss: 0.3971 - accuracy: 0.8085\n",
            "Epoch 18/100\n",
            "176/176 [==============================] - 0s 2ms/step - loss: 0.3956 - accuracy: 0.8114\n",
            "Epoch 19/100\n",
            "176/176 [==============================] - 0s 2ms/step - loss: 0.3951 - accuracy: 0.8137\n",
            "Epoch 20/100\n",
            "176/176 [==============================] - 0s 2ms/step - loss: 0.3937 - accuracy: 0.8128\n",
            "Epoch 21/100\n",
            "176/176 [==============================] - 1s 3ms/step - loss: 0.3941 - accuracy: 0.8176\n",
            "Epoch 22/100\n",
            "176/176 [==============================] - 0s 3ms/step - loss: 0.3920 - accuracy: 0.8142\n",
            "Epoch 23/100\n",
            "176/176 [==============================] - 1s 3ms/step - loss: 0.3905 - accuracy: 0.8139\n",
            "Epoch 24/100\n",
            "176/176 [==============================] - 1s 5ms/step - loss: 0.3908 - accuracy: 0.8146\n",
            "Epoch 25/100\n",
            "176/176 [==============================] - 1s 4ms/step - loss: 0.3892 - accuracy: 0.8132\n",
            "Epoch 26/100\n",
            "176/176 [==============================] - 1s 4ms/step - loss: 0.3891 - accuracy: 0.8160\n",
            "Epoch 27/100\n",
            "176/176 [==============================] - 1s 5ms/step - loss: 0.3868 - accuracy: 0.8146\n",
            "Epoch 28/100\n",
            "176/176 [==============================] - 1s 4ms/step - loss: 0.3870 - accuracy: 0.8165\n",
            "Epoch 29/100\n",
            "176/176 [==============================] - 1s 4ms/step - loss: 0.3861 - accuracy: 0.8148\n",
            "Epoch 30/100\n",
            "176/176 [==============================] - 1s 4ms/step - loss: 0.3857 - accuracy: 0.8144\n",
            "Epoch 31/100\n",
            "176/176 [==============================] - 1s 6ms/step - loss: 0.3845 - accuracy: 0.8167\n",
            "Epoch 32/100\n",
            "176/176 [==============================] - 1s 4ms/step - loss: 0.3846 - accuracy: 0.8180\n",
            "Epoch 33/100\n",
            "176/176 [==============================] - 1s 4ms/step - loss: 0.3834 - accuracy: 0.8176\n",
            "Epoch 34/100\n",
            "176/176 [==============================] - 1s 3ms/step - loss: 0.3824 - accuracy: 0.8194\n",
            "Epoch 35/100\n",
            "176/176 [==============================] - 1s 3ms/step - loss: 0.3814 - accuracy: 0.8174\n",
            "Epoch 36/100\n",
            "176/176 [==============================] - 1s 4ms/step - loss: 0.3804 - accuracy: 0.8181\n",
            "Epoch 37/100\n",
            "176/176 [==============================] - 1s 5ms/step - loss: 0.3798 - accuracy: 0.8185\n",
            "Epoch 38/100\n",
            "176/176 [==============================] - 0s 2ms/step - loss: 0.3780 - accuracy: 0.8208\n",
            "Epoch 39/100\n",
            "176/176 [==============================] - 0s 3ms/step - loss: 0.3787 - accuracy: 0.8206\n",
            "Epoch 40/100\n",
            "176/176 [==============================] - 1s 3ms/step - loss: 0.3779 - accuracy: 0.8192\n",
            "Epoch 41/100\n",
            "176/176 [==============================] - 1s 3ms/step - loss: 0.3772 - accuracy: 0.8185\n",
            "Epoch 42/100\n",
            "176/176 [==============================] - 1s 3ms/step - loss: 0.3762 - accuracy: 0.8190\n",
            "Epoch 43/100\n",
            "176/176 [==============================] - 1s 3ms/step - loss: 0.3761 - accuracy: 0.8206\n",
            "Epoch 44/100\n",
            "176/176 [==============================] - 0s 2ms/step - loss: 0.3745 - accuracy: 0.8201\n",
            "Epoch 45/100\n",
            "176/176 [==============================] - 0s 2ms/step - loss: 0.3742 - accuracy: 0.8219\n",
            "Epoch 46/100\n",
            "176/176 [==============================] - 0s 2ms/step - loss: 0.3739 - accuracy: 0.8217\n",
            "Epoch 47/100\n",
            "176/176 [==============================] - 0s 2ms/step - loss: 0.3744 - accuracy: 0.8219\n",
            "Epoch 48/100\n",
            "176/176 [==============================] - 0s 2ms/step - loss: 0.3719 - accuracy: 0.8247\n",
            "Epoch 49/100\n",
            "176/176 [==============================] - 0s 2ms/step - loss: 0.3727 - accuracy: 0.8249\n",
            "Epoch 50/100\n",
            "176/176 [==============================] - 0s 2ms/step - loss: 0.3716 - accuracy: 0.8258\n",
            "Epoch 51/100\n",
            "176/176 [==============================] - 0s 2ms/step - loss: 0.3704 - accuracy: 0.8263\n",
            "Epoch 52/100\n",
            "176/176 [==============================] - 1s 3ms/step - loss: 0.3708 - accuracy: 0.8233\n",
            "Epoch 53/100\n",
            "176/176 [==============================] - 1s 3ms/step - loss: 0.3694 - accuracy: 0.8252\n",
            "Epoch 54/100\n",
            "176/176 [==============================] - 1s 5ms/step - loss: 0.3691 - accuracy: 0.8231\n",
            "Epoch 55/100\n",
            "176/176 [==============================] - 1s 5ms/step - loss: 0.3681 - accuracy: 0.8240\n",
            "Epoch 56/100\n",
            "176/176 [==============================] - 1s 5ms/step - loss: 0.3675 - accuracy: 0.8256\n",
            "Epoch 57/100\n",
            "176/176 [==============================] - 1s 5ms/step - loss: 0.3674 - accuracy: 0.8258\n",
            "Epoch 58/100\n",
            "176/176 [==============================] - 1s 6ms/step - loss: 0.3668 - accuracy: 0.8233\n",
            "Epoch 59/100\n",
            "176/176 [==============================] - 1s 4ms/step - loss: 0.3664 - accuracy: 0.8240\n",
            "Epoch 60/100\n",
            "176/176 [==============================] - 1s 3ms/step - loss: 0.3666 - accuracy: 0.8300\n",
            "Epoch 61/100\n",
            "176/176 [==============================] - 1s 4ms/step - loss: 0.3653 - accuracy: 0.8283\n",
            "Epoch 62/100\n",
            "176/176 [==============================] - 1s 6ms/step - loss: 0.3642 - accuracy: 0.8251\n",
            "Epoch 63/100\n",
            "176/176 [==============================] - 1s 6ms/step - loss: 0.3652 - accuracy: 0.8268\n",
            "Epoch 64/100\n",
            "176/176 [==============================] - 1s 5ms/step - loss: 0.3630 - accuracy: 0.8283\n",
            "Epoch 65/100\n",
            "176/176 [==============================] - 1s 4ms/step - loss: 0.3632 - accuracy: 0.8300\n",
            "Epoch 66/100\n",
            "176/176 [==============================] - 1s 5ms/step - loss: 0.3625 - accuracy: 0.8292\n",
            "Epoch 67/100\n",
            "176/176 [==============================] - 1s 4ms/step - loss: 0.3617 - accuracy: 0.8277\n",
            "Epoch 68/100\n",
            "176/176 [==============================] - 1s 3ms/step - loss: 0.3615 - accuracy: 0.8284\n",
            "Epoch 69/100\n",
            "176/176 [==============================] - 1s 3ms/step - loss: 0.3603 - accuracy: 0.8292\n",
            "Epoch 70/100\n",
            "176/176 [==============================] - 1s 3ms/step - loss: 0.3605 - accuracy: 0.8313\n",
            "Epoch 71/100\n",
            "176/176 [==============================] - 1s 4ms/step - loss: 0.3593 - accuracy: 0.8313\n",
            "Epoch 72/100\n",
            "176/176 [==============================] - 1s 4ms/step - loss: 0.3587 - accuracy: 0.8311\n",
            "Epoch 73/100\n",
            "176/176 [==============================] - 1s 6ms/step - loss: 0.3577 - accuracy: 0.8324\n",
            "Epoch 74/100\n",
            "176/176 [==============================] - 1s 4ms/step - loss: 0.3579 - accuracy: 0.8325\n",
            "Epoch 75/100\n",
            "176/176 [==============================] - 1s 5ms/step - loss: 0.3571 - accuracy: 0.8363\n",
            "Epoch 76/100\n",
            "176/176 [==============================] - 1s 4ms/step - loss: 0.3568 - accuracy: 0.8302\n",
            "Epoch 77/100\n",
            "176/176 [==============================] - 1s 4ms/step - loss: 0.3562 - accuracy: 0.8292\n",
            "Epoch 78/100\n",
            "176/176 [==============================] - 1s 5ms/step - loss: 0.3563 - accuracy: 0.8318\n",
            "Epoch 79/100\n",
            "176/176 [==============================] - 1s 6ms/step - loss: 0.3552 - accuracy: 0.8334\n",
            "Epoch 80/100\n",
            "176/176 [==============================] - 1s 7ms/step - loss: 0.3547 - accuracy: 0.8338\n",
            "Epoch 81/100\n",
            "176/176 [==============================] - 1s 4ms/step - loss: 0.3542 - accuracy: 0.8332\n",
            "Epoch 82/100\n",
            "176/176 [==============================] - 1s 3ms/step - loss: 0.3552 - accuracy: 0.8316\n",
            "Epoch 83/100\n",
            "176/176 [==============================] - 1s 4ms/step - loss: 0.3544 - accuracy: 0.8343\n",
            "Epoch 84/100\n",
            "176/176 [==============================] - 0s 3ms/step - loss: 0.3529 - accuracy: 0.8336\n",
            "Epoch 85/100\n",
            "176/176 [==============================] - 1s 4ms/step - loss: 0.3521 - accuracy: 0.8340\n",
            "Epoch 86/100\n",
            "176/176 [==============================] - 0s 2ms/step - loss: 0.3517 - accuracy: 0.8384\n",
            "Epoch 87/100\n",
            "176/176 [==============================] - 1s 4ms/step - loss: 0.3524 - accuracy: 0.8313\n",
            "Epoch 88/100\n",
            "176/176 [==============================] - 1s 6ms/step - loss: 0.3513 - accuracy: 0.8348\n",
            "Epoch 89/100\n",
            "176/176 [==============================] - 1s 6ms/step - loss: 0.3528 - accuracy: 0.8356\n",
            "Epoch 90/100\n",
            "176/176 [==============================] - 1s 6ms/step - loss: 0.3496 - accuracy: 0.8320\n",
            "Epoch 91/100\n",
            "176/176 [==============================] - 1s 6ms/step - loss: 0.3500 - accuracy: 0.8332\n",
            "Epoch 92/100\n",
            "176/176 [==============================] - 1s 5ms/step - loss: 0.3507 - accuracy: 0.8357\n",
            "Epoch 93/100\n",
            "176/176 [==============================] - 0s 2ms/step - loss: 0.3479 - accuracy: 0.8359\n",
            "Epoch 94/100\n",
            "176/176 [==============================] - 1s 5ms/step - loss: 0.3503 - accuracy: 0.8373\n",
            "Epoch 95/100\n",
            "176/176 [==============================] - 2s 9ms/step - loss: 0.3477 - accuracy: 0.8324\n",
            "Epoch 96/100\n",
            "176/176 [==============================] - 2s 9ms/step - loss: 0.3483 - accuracy: 0.8338\n",
            "Epoch 97/100\n",
            "176/176 [==============================] - 1s 5ms/step - loss: 0.3478 - accuracy: 0.8370\n",
            "Epoch 98/100\n",
            "176/176 [==============================] - 1s 3ms/step - loss: 0.3472 - accuracy: 0.8311\n",
            "Epoch 99/100\n",
            "176/176 [==============================] - 1s 3ms/step - loss: 0.3461 - accuracy: 0.8352\n",
            "Epoch 100/100\n",
            "176/176 [==============================] - 0s 2ms/step - loss: 0.3455 - accuracy: 0.8380\n",
            "44/44 [==============================] - 0s 2ms/step - loss: 0.4810 - accuracy: 0.7818\n",
            "[0.480962336063385, 0.7818052768707275]\n",
            "44/44 [==============================] - 0s 1ms/step\n",
            "Classification Report: \n",
            "               precision    recall  f1-score   support\n",
            "\n",
            "         0.0       0.83      0.88      0.86      1033\n",
            "         1.0       0.60      0.52      0.56       374\n",
            "\n",
            "    accuracy                           0.78      1407\n",
            "   macro avg       0.72      0.70      0.71      1407\n",
            "weighted avg       0.77      0.78      0.78      1407\n",
            "\n"
          ]
        }
      ],
      "source": [
        "y_preds = ANN(X_train, y_train, X_test, y_test, 'binary_crossentropy', -1)"
      ]
    },
    {
      "cell_type": "code",
      "source": [
        "auc = roc_auc_score(y_test, y_preds)\n",
        "auc\n"
      ],
      "metadata": {
        "colab": {
          "base_uri": "https://localhost:8080/"
        },
        "id": "-9SnZJ0-WJKo",
        "outputId": "4ed789ef-7500-4e35-b4b2-3162a22ca2c0"
      },
      "execution_count": 156,
      "outputs": [
        {
          "output_type": "execute_result",
          "data": {
            "text/plain": [
              "0.697886846369279"
            ]
          },
          "metadata": {},
          "execution_count": 156
        }
      ]
    },
    {
      "cell_type": "markdown",
      "metadata": {
        "id": "HanQPc_xpG38"
      },
      "source": [
        "### Method 1: Undersampling"
      ]
    },
    {
      "cell_type": "code",
      "execution_count": 215,
      "metadata": {
        "id": "M1znRMW_pG38"
      },
      "outputs": [],
      "source": [
        "# Class count\n",
        "count_class_0, count_class_1 = df1.Churn.value_counts()\n",
        "\n",
        "# Divide by class\n",
        "df_class_0 = df2[df2['Churn'] == 0]\n",
        "df_class_1 = df2[df2['Churn'] == 1]"
      ]
    },
    {
      "cell_type": "code",
      "execution_count": 216,
      "metadata": {
        "id": "-9yajES4pG39",
        "outputId": "259b524d-1393-4863-b18e-745a7102edc5",
        "colab": {
          "base_uri": "https://localhost:8080/"
        }
      },
      "outputs": [
        {
          "output_type": "stream",
          "name": "stdout",
          "text": [
            "Random under-sampling:\n",
            "0    1869\n",
            "1    1869\n",
            "Name: Churn, dtype: int64\n"
          ]
        }
      ],
      "source": [
        "# Undersample 0-class and concat the DataFrames of both class\n",
        "df_class_0_under = df_class_0.sample(count_class_1)\n",
        "df_test_under = pd.concat([df_class_0_under, df_class_1], axis=0)\n",
        "\n",
        "print('Random under-sampling:')\n",
        "print(df_test_under.Churn.value_counts())"
      ]
    },
    {
      "cell_type": "code",
      "execution_count": 159,
      "metadata": {
        "id": "iF2beK4QpG39"
      },
      "outputs": [],
      "source": [
        "X = df_test_under.drop('Churn',axis='columns')\n",
        "y = df_test_under['Churn']\n",
        "\n",
        "from sklearn.model_selection import train_test_split\n",
        "X_train1, X_test1, y_train1, y_test1 = train_test_split(X, y, test_size=0.2, random_state=15, stratify=y)"
      ]
    },
    {
      "cell_type": "code",
      "execution_count": 160,
      "metadata": {
        "scrolled": true,
        "id": "vw4NUfVqpG3-",
        "outputId": "f7c5e3e2-4509-412e-a6ab-4aa90a0c114f",
        "colab": {
          "base_uri": "https://localhost:8080/"
        }
      },
      "outputs": [
        {
          "output_type": "execute_result",
          "data": {
            "text/plain": [
              "0    1495\n",
              "1    1495\n",
              "Name: Churn, dtype: int64"
            ]
          },
          "metadata": {},
          "execution_count": 160
        }
      ],
      "source": [
        "# Number of classes in training Data\n",
        "y_train1.value_counts()"
      ]
    },
    {
      "cell_type": "code",
      "execution_count": 161,
      "metadata": {
        "scrolled": true,
        "id": "_bGg0mF1pG3_",
        "outputId": "d6db07a5-202e-4be4-a509-1d422a48db20",
        "colab": {
          "base_uri": "https://localhost:8080/"
        }
      },
      "outputs": [
        {
          "output_type": "stream",
          "name": "stdout",
          "text": [
            "Epoch 1/100\n",
            "94/94 [==============================] - 1s 2ms/step - loss: 0.5935 - accuracy: 0.6916\n",
            "Epoch 2/100\n",
            "94/94 [==============================] - 0s 2ms/step - loss: 0.5116 - accuracy: 0.7508\n",
            "Epoch 3/100\n",
            "94/94 [==============================] - 0s 2ms/step - loss: 0.4966 - accuracy: 0.7525\n",
            "Epoch 4/100\n",
            "94/94 [==============================] - 0s 2ms/step - loss: 0.4900 - accuracy: 0.7622\n",
            "Epoch 5/100\n",
            "94/94 [==============================] - 0s 2ms/step - loss: 0.4844 - accuracy: 0.7619\n",
            "Epoch 6/100\n",
            "94/94 [==============================] - 0s 2ms/step - loss: 0.4810 - accuracy: 0.7669\n",
            "Epoch 7/100\n",
            "94/94 [==============================] - 0s 2ms/step - loss: 0.4789 - accuracy: 0.7699\n",
            "Epoch 8/100\n",
            "94/94 [==============================] - 0s 2ms/step - loss: 0.4758 - accuracy: 0.7686\n",
            "Epoch 9/100\n",
            "94/94 [==============================] - 0s 2ms/step - loss: 0.4723 - accuracy: 0.7729\n",
            "Epoch 10/100\n",
            "94/94 [==============================] - 0s 2ms/step - loss: 0.4700 - accuracy: 0.7756\n",
            "Epoch 11/100\n",
            "94/94 [==============================] - 0s 2ms/step - loss: 0.4695 - accuracy: 0.7783\n",
            "Epoch 12/100\n",
            "94/94 [==============================] - 0s 2ms/step - loss: 0.4669 - accuracy: 0.7779\n",
            "Epoch 13/100\n",
            "94/94 [==============================] - 0s 3ms/step - loss: 0.4654 - accuracy: 0.7753\n",
            "Epoch 14/100\n",
            "94/94 [==============================] - 0s 3ms/step - loss: 0.4642 - accuracy: 0.7759\n",
            "Epoch 15/100\n",
            "94/94 [==============================] - 0s 3ms/step - loss: 0.4632 - accuracy: 0.7823\n",
            "Epoch 16/100\n",
            "94/94 [==============================] - 0s 3ms/step - loss: 0.4613 - accuracy: 0.7806\n",
            "Epoch 17/100\n",
            "94/94 [==============================] - 0s 3ms/step - loss: 0.4591 - accuracy: 0.7806\n",
            "Epoch 18/100\n",
            "94/94 [==============================] - 0s 3ms/step - loss: 0.4594 - accuracy: 0.7793\n",
            "Epoch 19/100\n",
            "94/94 [==============================] - 0s 3ms/step - loss: 0.4579 - accuracy: 0.7893\n",
            "Epoch 20/100\n",
            "94/94 [==============================] - 0s 3ms/step - loss: 0.4560 - accuracy: 0.7843\n",
            "Epoch 21/100\n",
            "94/94 [==============================] - 0s 5ms/step - loss: 0.4552 - accuracy: 0.7880\n",
            "Epoch 22/100\n",
            "94/94 [==============================] - 0s 4ms/step - loss: 0.4543 - accuracy: 0.7843\n",
            "Epoch 23/100\n",
            "94/94 [==============================] - 0s 2ms/step - loss: 0.4540 - accuracy: 0.7866\n",
            "Epoch 24/100\n",
            "94/94 [==============================] - 0s 3ms/step - loss: 0.4522 - accuracy: 0.7870\n",
            "Epoch 25/100\n",
            "94/94 [==============================] - 0s 5ms/step - loss: 0.4508 - accuracy: 0.7846\n",
            "Epoch 26/100\n",
            "94/94 [==============================] - 0s 4ms/step - loss: 0.4500 - accuracy: 0.7856\n",
            "Epoch 27/100\n",
            "94/94 [==============================] - 0s 4ms/step - loss: 0.4490 - accuracy: 0.7863\n",
            "Epoch 28/100\n",
            "94/94 [==============================] - 1s 6ms/step - loss: 0.4492 - accuracy: 0.7876\n",
            "Epoch 29/100\n",
            "94/94 [==============================] - 1s 6ms/step - loss: 0.4469 - accuracy: 0.7883\n",
            "Epoch 30/100\n",
            "94/94 [==============================] - 1s 6ms/step - loss: 0.4454 - accuracy: 0.7910\n",
            "Epoch 31/100\n",
            "94/94 [==============================] - 1s 6ms/step - loss: 0.4453 - accuracy: 0.7930\n",
            "Epoch 32/100\n",
            "94/94 [==============================] - 1s 9ms/step - loss: 0.4432 - accuracy: 0.7926\n",
            "Epoch 33/100\n",
            "94/94 [==============================] - 1s 5ms/step - loss: 0.4452 - accuracy: 0.7916\n",
            "Epoch 34/100\n",
            "94/94 [==============================] - 1s 6ms/step - loss: 0.4439 - accuracy: 0.7876\n",
            "Epoch 35/100\n",
            "94/94 [==============================] - 0s 3ms/step - loss: 0.4408 - accuracy: 0.7903\n",
            "Epoch 36/100\n",
            "94/94 [==============================] - 0s 3ms/step - loss: 0.4409 - accuracy: 0.7940\n",
            "Epoch 37/100\n",
            "94/94 [==============================] - 0s 4ms/step - loss: 0.4388 - accuracy: 0.7960\n",
            "Epoch 38/100\n",
            "94/94 [==============================] - 1s 5ms/step - loss: 0.4397 - accuracy: 0.7936\n",
            "Epoch 39/100\n",
            "94/94 [==============================] - 0s 3ms/step - loss: 0.4369 - accuracy: 0.7983\n",
            "Epoch 40/100\n",
            "94/94 [==============================] - 0s 4ms/step - loss: 0.4375 - accuracy: 0.7950\n",
            "Epoch 41/100\n",
            "94/94 [==============================] - 0s 4ms/step - loss: 0.4358 - accuracy: 0.7960\n",
            "Epoch 42/100\n",
            "94/94 [==============================] - 0s 4ms/step - loss: 0.4344 - accuracy: 0.8000\n",
            "Epoch 43/100\n",
            "94/94 [==============================] - 0s 4ms/step - loss: 0.4320 - accuracy: 0.7970\n",
            "Epoch 44/100\n",
            "94/94 [==============================] - 1s 6ms/step - loss: 0.4322 - accuracy: 0.7997\n",
            "Epoch 45/100\n",
            "94/94 [==============================] - 0s 5ms/step - loss: 0.4318 - accuracy: 0.7990\n",
            "Epoch 46/100\n",
            "94/94 [==============================] - 0s 5ms/step - loss: 0.4301 - accuracy: 0.7997\n",
            "Epoch 47/100\n",
            "94/94 [==============================] - 0s 5ms/step - loss: 0.4294 - accuracy: 0.7990\n",
            "Epoch 48/100\n",
            "94/94 [==============================] - 1s 6ms/step - loss: 0.4302 - accuracy: 0.7987\n",
            "Epoch 49/100\n",
            "94/94 [==============================] - 1s 8ms/step - loss: 0.4302 - accuracy: 0.7990\n",
            "Epoch 50/100\n",
            "94/94 [==============================] - 1s 6ms/step - loss: 0.4289 - accuracy: 0.8027\n",
            "Epoch 51/100\n",
            "94/94 [==============================] - 0s 5ms/step - loss: 0.4285 - accuracy: 0.7990\n",
            "Epoch 52/100\n",
            "94/94 [==============================] - 0s 4ms/step - loss: 0.4258 - accuracy: 0.8023\n",
            "Epoch 53/100\n",
            "94/94 [==============================] - 0s 2ms/step - loss: 0.4241 - accuracy: 0.8023\n",
            "Epoch 54/100\n",
            "94/94 [==============================] - 0s 3ms/step - loss: 0.4258 - accuracy: 0.8007\n",
            "Epoch 55/100\n",
            "94/94 [==============================] - 0s 4ms/step - loss: 0.4237 - accuracy: 0.8084\n",
            "Epoch 56/100\n",
            "94/94 [==============================] - 0s 4ms/step - loss: 0.4226 - accuracy: 0.8043\n",
            "Epoch 57/100\n",
            "94/94 [==============================] - 0s 3ms/step - loss: 0.4216 - accuracy: 0.8050\n",
            "Epoch 58/100\n",
            "94/94 [==============================] - 0s 4ms/step - loss: 0.4213 - accuracy: 0.8007\n",
            "Epoch 59/100\n",
            "94/94 [==============================] - 0s 3ms/step - loss: 0.4192 - accuracy: 0.8064\n",
            "Epoch 60/100\n",
            "94/94 [==============================] - 0s 4ms/step - loss: 0.4200 - accuracy: 0.8054\n",
            "Epoch 61/100\n",
            "94/94 [==============================] - 0s 3ms/step - loss: 0.4185 - accuracy: 0.8054\n",
            "Epoch 62/100\n",
            "94/94 [==============================] - 0s 3ms/step - loss: 0.4183 - accuracy: 0.8054\n",
            "Epoch 63/100\n",
            "94/94 [==============================] - 0s 4ms/step - loss: 0.4168 - accuracy: 0.8080\n",
            "Epoch 64/100\n",
            "94/94 [==============================] - 1s 6ms/step - loss: 0.4165 - accuracy: 0.8114\n",
            "Epoch 65/100\n",
            "94/94 [==============================] - 1s 8ms/step - loss: 0.4152 - accuracy: 0.8077\n",
            "Epoch 66/100\n",
            "94/94 [==============================] - 0s 4ms/step - loss: 0.4162 - accuracy: 0.8047\n",
            "Epoch 67/100\n",
            "94/94 [==============================] - 0s 2ms/step - loss: 0.4148 - accuracy: 0.8080\n",
            "Epoch 68/100\n",
            "94/94 [==============================] - 0s 2ms/step - loss: 0.4134 - accuracy: 0.8094\n",
            "Epoch 69/100\n",
            "94/94 [==============================] - 0s 2ms/step - loss: 0.4134 - accuracy: 0.8090\n",
            "Epoch 70/100\n",
            "94/94 [==============================] - 0s 2ms/step - loss: 0.4123 - accuracy: 0.8144\n",
            "Epoch 71/100\n",
            "94/94 [==============================] - 0s 2ms/step - loss: 0.4114 - accuracy: 0.8134\n",
            "Epoch 72/100\n",
            "94/94 [==============================] - 0s 2ms/step - loss: 0.4108 - accuracy: 0.8110\n",
            "Epoch 73/100\n",
            "94/94 [==============================] - 0s 2ms/step - loss: 0.4101 - accuracy: 0.8070\n",
            "Epoch 74/100\n",
            "94/94 [==============================] - 0s 2ms/step - loss: 0.4095 - accuracy: 0.8077\n",
            "Epoch 75/100\n",
            "94/94 [==============================] - 0s 2ms/step - loss: 0.4076 - accuracy: 0.8140\n",
            "Epoch 76/100\n",
            "94/94 [==============================] - 0s 2ms/step - loss: 0.4081 - accuracy: 0.8114\n",
            "Epoch 77/100\n",
            "94/94 [==============================] - 0s 2ms/step - loss: 0.4088 - accuracy: 0.8097\n",
            "Epoch 78/100\n",
            "94/94 [==============================] - 0s 2ms/step - loss: 0.4059 - accuracy: 0.8171\n",
            "Epoch 79/100\n",
            "94/94 [==============================] - 0s 2ms/step - loss: 0.4063 - accuracy: 0.8100\n",
            "Epoch 80/100\n",
            "94/94 [==============================] - 0s 2ms/step - loss: 0.4029 - accuracy: 0.8154\n",
            "Epoch 81/100\n",
            "94/94 [==============================] - 0s 2ms/step - loss: 0.4053 - accuracy: 0.8094\n",
            "Epoch 82/100\n",
            "94/94 [==============================] - 0s 2ms/step - loss: 0.4047 - accuracy: 0.8134\n",
            "Epoch 83/100\n",
            "94/94 [==============================] - 0s 2ms/step - loss: 0.4034 - accuracy: 0.8140\n",
            "Epoch 84/100\n",
            "94/94 [==============================] - 0s 3ms/step - loss: 0.4024 - accuracy: 0.8124\n",
            "Epoch 85/100\n",
            "94/94 [==============================] - 0s 3ms/step - loss: 0.4015 - accuracy: 0.8117\n",
            "Epoch 86/100\n",
            "94/94 [==============================] - 0s 3ms/step - loss: 0.3995 - accuracy: 0.8147\n",
            "Epoch 87/100\n",
            "94/94 [==============================] - 0s 3ms/step - loss: 0.3986 - accuracy: 0.8171\n",
            "Epoch 88/100\n",
            "94/94 [==============================] - 0s 3ms/step - loss: 0.4007 - accuracy: 0.8124\n",
            "Epoch 89/100\n",
            "94/94 [==============================] - 0s 3ms/step - loss: 0.3973 - accuracy: 0.8151\n",
            "Epoch 90/100\n",
            "94/94 [==============================] - 0s 3ms/step - loss: 0.3975 - accuracy: 0.8157\n",
            "Epoch 91/100\n",
            "94/94 [==============================] - 0s 3ms/step - loss: 0.3961 - accuracy: 0.8187\n",
            "Epoch 92/100\n",
            "94/94 [==============================] - 0s 3ms/step - loss: 0.3963 - accuracy: 0.8157\n",
            "Epoch 93/100\n",
            "94/94 [==============================] - 0s 3ms/step - loss: 0.3950 - accuracy: 0.8231\n",
            "Epoch 94/100\n",
            "94/94 [==============================] - 0s 2ms/step - loss: 0.3964 - accuracy: 0.8127\n",
            "Epoch 95/100\n",
            "94/94 [==============================] - 0s 2ms/step - loss: 0.3930 - accuracy: 0.8184\n",
            "Epoch 96/100\n",
            "94/94 [==============================] - 0s 2ms/step - loss: 0.3940 - accuracy: 0.8197\n",
            "Epoch 97/100\n",
            "94/94 [==============================] - 0s 2ms/step - loss: 0.3923 - accuracy: 0.8211\n",
            "Epoch 98/100\n",
            "94/94 [==============================] - 0s 2ms/step - loss: 0.3919 - accuracy: 0.8211\n",
            "Epoch 99/100\n",
            "94/94 [==============================] - 0s 2ms/step - loss: 0.3933 - accuracy: 0.8201\n",
            "Epoch 100/100\n",
            "94/94 [==============================] - 0s 2ms/step - loss: 0.3945 - accuracy: 0.8174\n",
            "24/24 [==============================] - 0s 2ms/step - loss: 0.5579 - accuracy: 0.7553\n",
            "[0.5578789710998535, 0.7553476095199585]\n",
            "24/24 [==============================] - 0s 1ms/step\n",
            "Classification Report: \n",
            "               precision    recall  f1-score   support\n",
            "\n",
            "           0       0.76      0.75      0.75       374\n",
            "           1       0.75      0.76      0.76       374\n",
            "\n",
            "    accuracy                           0.76       748\n",
            "   macro avg       0.76      0.76      0.76       748\n",
            "weighted avg       0.76      0.76      0.76       748\n",
            "\n"
          ]
        }
      ],
      "source": [
        "y_preds1 = ANN(X_train1, y_train1, X_test1, y_test1, 'binary_crossentropy', -1)"
      ]
    },
    {
      "cell_type": "code",
      "source": [
        "auc = roc_auc_score(y_test1, y_preds1)\n",
        "auc\n"
      ],
      "metadata": {
        "colab": {
          "base_uri": "https://localhost:8080/"
        },
        "id": "ixNoUSWZWfB8",
        "outputId": "b5bd15b8-abe5-494d-b0df-2de34764d4b4"
      },
      "execution_count": 163,
      "outputs": [
        {
          "output_type": "execute_result",
          "data": {
            "text/plain": [
              "0.7553475935828877"
            ]
          },
          "metadata": {},
          "execution_count": 163
        }
      ]
    },
    {
      "cell_type": "markdown",
      "metadata": {
        "id": "-gN0Lhw8pG3_"
      },
      "source": [
        "### Method2: Oversampling"
      ]
    },
    {
      "cell_type": "code",
      "execution_count": 164,
      "metadata": {
        "id": "jH-tRHdapG4A",
        "outputId": "db590f1a-91b0-47f3-f1a8-65d4de27d99a",
        "colab": {
          "base_uri": "https://localhost:8080/"
        }
      },
      "outputs": [
        {
          "output_type": "stream",
          "name": "stdout",
          "text": [
            "Random over-sampling:\n",
            "0    5163\n",
            "1    5163\n",
            "Name: Churn, dtype: int64\n"
          ]
        }
      ],
      "source": [
        "# Oversample 1-class and concat the DataFrames of both classes\n",
        "df_class_1_over = df_class_1.sample(count_class_0, replace=True)\n",
        "df_test_over = pd.concat([df_class_0, df_class_1_over], axis=0)\n",
        "\n",
        "print('Random over-sampling:')\n",
        "print(df_test_over.Churn.value_counts())"
      ]
    },
    {
      "cell_type": "code",
      "execution_count": 165,
      "metadata": {
        "id": "1PAYgP4ZpG4A"
      },
      "outputs": [],
      "source": [
        "X = df_test_over.drop('Churn',axis='columns')\n",
        "y = df_test_over['Churn']\n",
        "\n",
        "from sklearn.model_selection import train_test_split\n",
        "X_train2, X_test2, y_train2, y_test2 = train_test_split(X, y, test_size=0.2, random_state=15, stratify=y)"
      ]
    },
    {
      "cell_type": "code",
      "execution_count": 166,
      "metadata": {
        "id": "88zpPJWJpG4A",
        "outputId": "5ba39f07-0be2-4bb5-daeb-9776f9b0376f",
        "colab": {
          "base_uri": "https://localhost:8080/"
        }
      },
      "outputs": [
        {
          "output_type": "execute_result",
          "data": {
            "text/plain": [
              "1    4130\n",
              "0    4130\n",
              "Name: Churn, dtype: int64"
            ]
          },
          "metadata": {},
          "execution_count": 166
        }
      ],
      "source": [
        "# Number of classes in training Data\n",
        "y_train2.value_counts()"
      ]
    },
    {
      "cell_type": "code",
      "execution_count": 167,
      "metadata": {
        "scrolled": true,
        "id": "S_9tMOQLpG4A",
        "outputId": "b87be21f-c225-4f34-b1cb-48205454c62c",
        "colab": {
          "base_uri": "https://localhost:8080/"
        }
      },
      "outputs": [
        {
          "output_type": "stream",
          "name": "stdout",
          "text": [
            "Epoch 1/100\n",
            "259/259 [==============================] - 1s 2ms/step - loss: 0.5797 - accuracy: 0.6971\n",
            "Epoch 2/100\n",
            "259/259 [==============================] - 0s 2ms/step - loss: 0.4963 - accuracy: 0.7573\n",
            "Epoch 3/100\n",
            "259/259 [==============================] - 1s 2ms/step - loss: 0.4865 - accuracy: 0.7633\n",
            "Epoch 4/100\n",
            "259/259 [==============================] - 1s 3ms/step - loss: 0.4803 - accuracy: 0.7672\n",
            "Epoch 5/100\n",
            "259/259 [==============================] - 2s 6ms/step - loss: 0.4757 - accuracy: 0.7703\n",
            "Epoch 6/100\n",
            "259/259 [==============================] - 1s 3ms/step - loss: 0.4714 - accuracy: 0.7747\n",
            "Epoch 7/100\n",
            "259/259 [==============================] - 1s 4ms/step - loss: 0.4680 - accuracy: 0.7762\n",
            "Epoch 8/100\n",
            "259/259 [==============================] - 1s 4ms/step - loss: 0.4647 - accuracy: 0.7751\n",
            "Epoch 9/100\n",
            "259/259 [==============================] - 1s 5ms/step - loss: 0.4626 - accuracy: 0.7817\n",
            "Epoch 10/100\n",
            "259/259 [==============================] - 1s 4ms/step - loss: 0.4614 - accuracy: 0.7801\n",
            "Epoch 11/100\n",
            "259/259 [==============================] - 1s 5ms/step - loss: 0.4570 - accuracy: 0.7820\n",
            "Epoch 12/100\n",
            "259/259 [==============================] - 1s 5ms/step - loss: 0.4548 - accuracy: 0.7817\n",
            "Epoch 13/100\n",
            "259/259 [==============================] - 1s 3ms/step - loss: 0.4526 - accuracy: 0.7867\n",
            "Epoch 14/100\n",
            "259/259 [==============================] - 1s 3ms/step - loss: 0.4506 - accuracy: 0.7880\n",
            "Epoch 15/100\n",
            "259/259 [==============================] - 1s 4ms/step - loss: 0.4494 - accuracy: 0.7887\n",
            "Epoch 16/100\n",
            "259/259 [==============================] - 1s 5ms/step - loss: 0.4472 - accuracy: 0.7885\n",
            "Epoch 17/100\n",
            "259/259 [==============================] - 1s 5ms/step - loss: 0.4470 - accuracy: 0.7889\n",
            "Epoch 18/100\n",
            "259/259 [==============================] - 1s 3ms/step - loss: 0.4447 - accuracy: 0.7931\n",
            "Epoch 19/100\n",
            "259/259 [==============================] - 0s 2ms/step - loss: 0.4441 - accuracy: 0.7941\n",
            "Epoch 20/100\n",
            "259/259 [==============================] - 0s 2ms/step - loss: 0.4415 - accuracy: 0.7948\n",
            "Epoch 21/100\n",
            "259/259 [==============================] - 0s 2ms/step - loss: 0.4400 - accuracy: 0.7943\n",
            "Epoch 22/100\n",
            "259/259 [==============================] - 0s 2ms/step - loss: 0.4388 - accuracy: 0.7969\n",
            "Epoch 23/100\n",
            "259/259 [==============================] - 0s 2ms/step - loss: 0.4373 - accuracy: 0.7978\n",
            "Epoch 24/100\n",
            "259/259 [==============================] - 0s 2ms/step - loss: 0.4358 - accuracy: 0.7984\n",
            "Epoch 25/100\n",
            "259/259 [==============================] - 0s 2ms/step - loss: 0.4352 - accuracy: 0.7971\n",
            "Epoch 26/100\n",
            "259/259 [==============================] - 0s 2ms/step - loss: 0.4348 - accuracy: 0.7949\n",
            "Epoch 27/100\n",
            "259/259 [==============================] - 0s 2ms/step - loss: 0.4327 - accuracy: 0.7970\n",
            "Epoch 28/100\n",
            "259/259 [==============================] - 0s 2ms/step - loss: 0.4320 - accuracy: 0.8007\n",
            "Epoch 29/100\n",
            "259/259 [==============================] - 0s 2ms/step - loss: 0.4319 - accuracy: 0.8012\n",
            "Epoch 30/100\n",
            "259/259 [==============================] - 0s 2ms/step - loss: 0.4317 - accuracy: 0.7995\n",
            "Epoch 31/100\n",
            "259/259 [==============================] - 0s 2ms/step - loss: 0.4288 - accuracy: 0.8025\n",
            "Epoch 32/100\n",
            "259/259 [==============================] - 0s 2ms/step - loss: 0.4276 - accuracy: 0.8005\n",
            "Epoch 33/100\n",
            "259/259 [==============================] - 0s 2ms/step - loss: 0.4274 - accuracy: 0.8030\n",
            "Epoch 34/100\n",
            "259/259 [==============================] - 1s 2ms/step - loss: 0.4267 - accuracy: 0.8004\n",
            "Epoch 35/100\n",
            "259/259 [==============================] - 1s 2ms/step - loss: 0.4236 - accuracy: 0.8029\n",
            "Epoch 36/100\n",
            "259/259 [==============================] - 0s 2ms/step - loss: 0.4260 - accuracy: 0.8036\n",
            "Epoch 37/100\n",
            "259/259 [==============================] - 0s 2ms/step - loss: 0.4230 - accuracy: 0.8047\n",
            "Epoch 38/100\n",
            "259/259 [==============================] - 1s 3ms/step - loss: 0.4215 - accuracy: 0.8073\n",
            "Epoch 39/100\n",
            "259/259 [==============================] - 1s 3ms/step - loss: 0.4213 - accuracy: 0.8036\n",
            "Epoch 40/100\n",
            "259/259 [==============================] - 1s 3ms/step - loss: 0.4189 - accuracy: 0.8040\n",
            "Epoch 41/100\n",
            "259/259 [==============================] - 1s 3ms/step - loss: 0.4194 - accuracy: 0.8063\n",
            "Epoch 42/100\n",
            "259/259 [==============================] - 0s 2ms/step - loss: 0.4191 - accuracy: 0.8058\n",
            "Epoch 43/100\n",
            "259/259 [==============================] - 0s 2ms/step - loss: 0.4169 - accuracy: 0.8070\n",
            "Epoch 44/100\n",
            "259/259 [==============================] - 0s 2ms/step - loss: 0.4163 - accuracy: 0.8090\n",
            "Epoch 45/100\n",
            "259/259 [==============================] - 0s 2ms/step - loss: 0.4153 - accuracy: 0.8098\n",
            "Epoch 46/100\n",
            "259/259 [==============================] - 0s 2ms/step - loss: 0.4141 - accuracy: 0.8080\n",
            "Epoch 47/100\n",
            "259/259 [==============================] - 0s 2ms/step - loss: 0.4124 - accuracy: 0.8102\n",
            "Epoch 48/100\n",
            "259/259 [==============================] - 0s 2ms/step - loss: 0.4126 - accuracy: 0.8084\n",
            "Epoch 49/100\n",
            "259/259 [==============================] - 0s 2ms/step - loss: 0.4106 - accuracy: 0.8133\n",
            "Epoch 50/100\n",
            "259/259 [==============================] - 0s 2ms/step - loss: 0.4106 - accuracy: 0.8110\n",
            "Epoch 51/100\n",
            "259/259 [==============================] - 0s 2ms/step - loss: 0.4098 - accuracy: 0.8126\n",
            "Epoch 52/100\n",
            "259/259 [==============================] - 0s 2ms/step - loss: 0.4081 - accuracy: 0.8133\n",
            "Epoch 53/100\n",
            "259/259 [==============================] - 0s 2ms/step - loss: 0.4093 - accuracy: 0.8120\n",
            "Epoch 54/100\n",
            "259/259 [==============================] - 0s 2ms/step - loss: 0.4074 - accuracy: 0.8132\n",
            "Epoch 55/100\n",
            "259/259 [==============================] - 0s 2ms/step - loss: 0.4075 - accuracy: 0.8108\n",
            "Epoch 56/100\n",
            "259/259 [==============================] - 0s 2ms/step - loss: 0.4057 - accuracy: 0.8154\n",
            "Epoch 57/100\n",
            "259/259 [==============================] - 0s 2ms/step - loss: 0.4048 - accuracy: 0.8148\n",
            "Epoch 58/100\n",
            "259/259 [==============================] - 0s 2ms/step - loss: 0.4047 - accuracy: 0.8153\n",
            "Epoch 59/100\n",
            "259/259 [==============================] - 0s 2ms/step - loss: 0.4030 - accuracy: 0.8159\n",
            "Epoch 60/100\n",
            "259/259 [==============================] - 0s 2ms/step - loss: 0.4024 - accuracy: 0.8139\n",
            "Epoch 61/100\n",
            "259/259 [==============================] - 0s 2ms/step - loss: 0.4010 - accuracy: 0.8191\n",
            "Epoch 62/100\n",
            "259/259 [==============================] - 0s 2ms/step - loss: 0.4019 - accuracy: 0.8191\n",
            "Epoch 63/100\n",
            "259/259 [==============================] - 1s 3ms/step - loss: 0.3989 - accuracy: 0.8192\n",
            "Epoch 64/100\n",
            "259/259 [==============================] - 1s 3ms/step - loss: 0.4011 - accuracy: 0.8194\n",
            "Epoch 65/100\n",
            "259/259 [==============================] - 1s 3ms/step - loss: 0.4000 - accuracy: 0.8169\n",
            "Epoch 66/100\n",
            "259/259 [==============================] - 1s 2ms/step - loss: 0.3986 - accuracy: 0.8195\n",
            "Epoch 67/100\n",
            "259/259 [==============================] - 0s 2ms/step - loss: 0.3972 - accuracy: 0.8191\n",
            "Epoch 68/100\n",
            "259/259 [==============================] - 0s 2ms/step - loss: 0.3975 - accuracy: 0.8213\n",
            "Epoch 69/100\n",
            "259/259 [==============================] - 0s 2ms/step - loss: 0.3982 - accuracy: 0.8213\n",
            "Epoch 70/100\n",
            "259/259 [==============================] - 0s 2ms/step - loss: 0.3989 - accuracy: 0.8199\n",
            "Epoch 71/100\n",
            "259/259 [==============================] - 0s 2ms/step - loss: 0.3944 - accuracy: 0.8224\n",
            "Epoch 72/100\n",
            "259/259 [==============================] - 0s 2ms/step - loss: 0.3955 - accuracy: 0.8189\n",
            "Epoch 73/100\n",
            "259/259 [==============================] - 0s 2ms/step - loss: 0.3954 - accuracy: 0.8219\n",
            "Epoch 74/100\n",
            "259/259 [==============================] - 0s 2ms/step - loss: 0.3930 - accuracy: 0.8232\n",
            "Epoch 75/100\n",
            "259/259 [==============================] - 0s 2ms/step - loss: 0.3940 - accuracy: 0.8231\n",
            "Epoch 76/100\n",
            "259/259 [==============================] - 0s 2ms/step - loss: 0.3938 - accuracy: 0.8248\n",
            "Epoch 77/100\n",
            "259/259 [==============================] - 0s 2ms/step - loss: 0.3908 - accuracy: 0.8241\n",
            "Epoch 78/100\n",
            "259/259 [==============================] - 0s 2ms/step - loss: 0.3919 - accuracy: 0.8215\n",
            "Epoch 79/100\n",
            "259/259 [==============================] - 1s 2ms/step - loss: 0.3908 - accuracy: 0.8238\n",
            "Epoch 80/100\n",
            "259/259 [==============================] - 0s 2ms/step - loss: 0.3917 - accuracy: 0.8241\n",
            "Epoch 81/100\n",
            "259/259 [==============================] - 0s 2ms/step - loss: 0.3900 - accuracy: 0.8257\n",
            "Epoch 82/100\n",
            "259/259 [==============================] - 0s 2ms/step - loss: 0.3899 - accuracy: 0.8258\n",
            "Epoch 83/100\n",
            "259/259 [==============================] - 0s 2ms/step - loss: 0.3885 - accuracy: 0.8291\n",
            "Epoch 84/100\n",
            "259/259 [==============================] - 0s 2ms/step - loss: 0.3878 - accuracy: 0.8280\n",
            "Epoch 85/100\n",
            "259/259 [==============================] - 0s 2ms/step - loss: 0.3868 - accuracy: 0.8262\n",
            "Epoch 86/100\n",
            "259/259 [==============================] - 0s 2ms/step - loss: 0.3880 - accuracy: 0.8269\n",
            "Epoch 87/100\n",
            "259/259 [==============================] - 1s 3ms/step - loss: 0.3873 - accuracy: 0.8245\n",
            "Epoch 88/100\n",
            "259/259 [==============================] - 1s 3ms/step - loss: 0.3872 - accuracy: 0.8272\n",
            "Epoch 89/100\n",
            "259/259 [==============================] - 1s 3ms/step - loss: 0.3853 - accuracy: 0.8294\n",
            "Epoch 90/100\n",
            "259/259 [==============================] - 1s 2ms/step - loss: 0.3839 - accuracy: 0.8283\n",
            "Epoch 91/100\n",
            "259/259 [==============================] - 0s 2ms/step - loss: 0.3828 - accuracy: 0.8300\n",
            "Epoch 92/100\n",
            "259/259 [==============================] - 0s 2ms/step - loss: 0.3834 - accuracy: 0.8285\n",
            "Epoch 93/100\n",
            "259/259 [==============================] - 0s 2ms/step - loss: 0.3830 - accuracy: 0.8306\n",
            "Epoch 94/100\n",
            "259/259 [==============================] - 0s 2ms/step - loss: 0.3815 - accuracy: 0.8324\n",
            "Epoch 95/100\n",
            "259/259 [==============================] - 0s 2ms/step - loss: 0.3812 - accuracy: 0.8317\n",
            "Epoch 96/100\n",
            "259/259 [==============================] - 1s 2ms/step - loss: 0.3811 - accuracy: 0.8281\n",
            "Epoch 97/100\n",
            "259/259 [==============================] - 0s 2ms/step - loss: 0.3802 - accuracy: 0.8320\n",
            "Epoch 98/100\n",
            "259/259 [==============================] - 0s 2ms/step - loss: 0.3815 - accuracy: 0.8308\n",
            "Epoch 99/100\n",
            "259/259 [==============================] - 1s 2ms/step - loss: 0.3793 - accuracy: 0.8311\n",
            "Epoch 100/100\n",
            "259/259 [==============================] - 0s 2ms/step - loss: 0.3782 - accuracy: 0.8356\n",
            "65/65 [==============================] - 0s 2ms/step - loss: 0.4668 - accuracy: 0.7788\n",
            "[0.4667590856552124, 0.7787995934486389]\n",
            "65/65 [==============================] - 0s 1ms/step\n",
            "Classification Report: \n",
            "               precision    recall  f1-score   support\n",
            "\n",
            "           0       0.83      0.71      0.76      1033\n",
            "           1       0.74      0.85      0.79      1033\n",
            "\n",
            "    accuracy                           0.78      2066\n",
            "   macro avg       0.78      0.78      0.78      2066\n",
            "weighted avg       0.78      0.78      0.78      2066\n",
            "\n"
          ]
        }
      ],
      "source": [
        "loss = keras.losses.BinaryCrossentropy()\n",
        "weights = -1\n",
        "y_preds2 = ANN(X_train2, y_train2, X_test2, y_test2, 'binary_crossentropy', -1)"
      ]
    },
    {
      "cell_type": "code",
      "source": [
        "auc = roc_auc_score(y_test2, y_preds2)\n",
        "auc\n"
      ],
      "metadata": {
        "colab": {
          "base_uri": "https://localhost:8080/"
        },
        "id": "7OiT-3CsWrdO",
        "outputId": "8d0f4616-dd61-4e71-fff3-f7a80e995dfd"
      },
      "execution_count": 169,
      "outputs": [
        {
          "output_type": "execute_result",
          "data": {
            "text/plain": [
              "0.7787996127783156"
            ]
          },
          "metadata": {},
          "execution_count": 169
        }
      ]
    },
    {
      "cell_type": "markdown",
      "metadata": {
        "id": "SvCVsSxEpG4B"
      },
      "source": [
        "### Method3: SMOTE"
      ]
    },
    {
      "cell_type": "code",
      "execution_count": 170,
      "metadata": {
        "id": "Vn51lvDmpG4B"
      },
      "outputs": [],
      "source": [
        "X = df2.drop('Churn',axis='columns')\n",
        "y = df2['Churn']"
      ]
    },
    {
      "cell_type": "code",
      "execution_count": 171,
      "metadata": {
        "id": "8LKIQV48pG4B",
        "outputId": "0ec26702-6ba2-4438-a24c-74e332462947",
        "colab": {
          "base_uri": "https://localhost:8080/"
        }
      },
      "outputs": [
        {
          "output_type": "execute_result",
          "data": {
            "text/plain": [
              "0    5163\n",
              "1    5163\n",
              "Name: Churn, dtype: int64"
            ]
          },
          "metadata": {},
          "execution_count": 171
        }
      ],
      "source": [
        "from imblearn.over_sampling import SMOTE\n",
        "\n",
        "smote = SMOTE(sampling_strategy='minority')\n",
        "X_sm, y_sm = smote.fit_resample(X, y)\n",
        "\n",
        "y_sm.value_counts()"
      ]
    },
    {
      "cell_type": "code",
      "execution_count": 172,
      "metadata": {
        "id": "FL-LumdppG4C"
      },
      "outputs": [],
      "source": [
        "from sklearn.model_selection import train_test_split\n",
        "X_train3, X_test3, y_train3, y_test3 = train_test_split(X_sm, y_sm, test_size=0.2, random_state=15, stratify=y_sm)"
      ]
    },
    {
      "cell_type": "code",
      "execution_count": 173,
      "metadata": {
        "scrolled": true,
        "id": "Hfl09xq6pG4C",
        "outputId": "9a8136d4-1f68-42f7-85f6-65d94d0dd570",
        "colab": {
          "base_uri": "https://localhost:8080/"
        }
      },
      "outputs": [
        {
          "output_type": "execute_result",
          "data": {
            "text/plain": [
              "1    4130\n",
              "0    4130\n",
              "Name: Churn, dtype: int64"
            ]
          },
          "metadata": {},
          "execution_count": 173
        }
      ],
      "source": [
        "# Number of classes in training Data\n",
        "y_train3.value_counts()"
      ]
    },
    {
      "cell_type": "code",
      "execution_count": 174,
      "metadata": {
        "scrolled": true,
        "id": "0bS9sDXspG4D",
        "outputId": "b479b0e0-a8c6-4d9c-ce73-e25fa332e97d",
        "colab": {
          "base_uri": "https://localhost:8080/"
        }
      },
      "outputs": [
        {
          "output_type": "stream",
          "name": "stdout",
          "text": [
            "Epoch 1/100\n",
            "259/259 [==============================] - 2s 3ms/step - loss: 0.5240 - accuracy: 0.7403\n",
            "Epoch 2/100\n",
            "259/259 [==============================] - 1s 3ms/step - loss: 0.4708 - accuracy: 0.7758\n",
            "Epoch 3/100\n",
            "259/259 [==============================] - 1s 3ms/step - loss: 0.4632 - accuracy: 0.7787\n",
            "Epoch 4/100\n",
            "259/259 [==============================] - 0s 2ms/step - loss: 0.4569 - accuracy: 0.7823\n",
            "Epoch 5/100\n",
            "259/259 [==============================] - 0s 2ms/step - loss: 0.4523 - accuracy: 0.7849\n",
            "Epoch 6/100\n",
            "259/259 [==============================] - 0s 2ms/step - loss: 0.4492 - accuracy: 0.7879\n",
            "Epoch 7/100\n",
            "259/259 [==============================] - 0s 2ms/step - loss: 0.4454 - accuracy: 0.7887\n",
            "Epoch 8/100\n",
            "259/259 [==============================] - 0s 2ms/step - loss: 0.4411 - accuracy: 0.7913\n",
            "Epoch 9/100\n",
            "259/259 [==============================] - 0s 2ms/step - loss: 0.4374 - accuracy: 0.7961\n",
            "Epoch 10/100\n",
            "259/259 [==============================] - 1s 4ms/step - loss: 0.4339 - accuracy: 0.7962\n",
            "Epoch 11/100\n",
            "259/259 [==============================] - 1s 5ms/step - loss: 0.4314 - accuracy: 0.7984\n",
            "Epoch 12/100\n",
            "259/259 [==============================] - 1s 4ms/step - loss: 0.4283 - accuracy: 0.8015\n",
            "Epoch 13/100\n",
            "259/259 [==============================] - 1s 5ms/step - loss: 0.4253 - accuracy: 0.8008\n",
            "Epoch 14/100\n",
            "259/259 [==============================] - 1s 4ms/step - loss: 0.4224 - accuracy: 0.8030\n",
            "Epoch 15/100\n",
            "259/259 [==============================] - 1s 5ms/step - loss: 0.4211 - accuracy: 0.8036\n",
            "Epoch 16/100\n",
            "259/259 [==============================] - 2s 7ms/step - loss: 0.4163 - accuracy: 0.8105\n",
            "Epoch 17/100\n",
            "259/259 [==============================] - 2s 7ms/step - loss: 0.4133 - accuracy: 0.8121\n",
            "Epoch 18/100\n",
            "259/259 [==============================] - 1s 4ms/step - loss: 0.4121 - accuracy: 0.8102\n",
            "Epoch 19/100\n",
            "259/259 [==============================] - 1s 5ms/step - loss: 0.4095 - accuracy: 0.8109\n",
            "Epoch 20/100\n",
            "259/259 [==============================] - 1s 4ms/step - loss: 0.4076 - accuracy: 0.8115\n",
            "Epoch 21/100\n",
            "259/259 [==============================] - 1s 5ms/step - loss: 0.4045 - accuracy: 0.8167\n",
            "Epoch 22/100\n",
            "259/259 [==============================] - 1s 4ms/step - loss: 0.4033 - accuracy: 0.8172\n",
            "Epoch 23/100\n",
            "259/259 [==============================] - 1s 3ms/step - loss: 0.3999 - accuracy: 0.8166\n",
            "Epoch 24/100\n",
            "259/259 [==============================] - 0s 2ms/step - loss: 0.3977 - accuracy: 0.8176\n",
            "Epoch 25/100\n",
            "259/259 [==============================] - 0s 2ms/step - loss: 0.3972 - accuracy: 0.8211\n",
            "Epoch 26/100\n",
            "259/259 [==============================] - 0s 2ms/step - loss: 0.3940 - accuracy: 0.8195\n",
            "Epoch 27/100\n",
            "259/259 [==============================] - 0s 2ms/step - loss: 0.3925 - accuracy: 0.8213\n",
            "Epoch 28/100\n",
            "259/259 [==============================] - 0s 2ms/step - loss: 0.3921 - accuracy: 0.8157\n",
            "Epoch 29/100\n",
            "259/259 [==============================] - 0s 2ms/step - loss: 0.3901 - accuracy: 0.8225\n",
            "Epoch 30/100\n",
            "259/259 [==============================] - 1s 3ms/step - loss: 0.3883 - accuracy: 0.8201\n",
            "Epoch 31/100\n",
            "259/259 [==============================] - 1s 3ms/step - loss: 0.3860 - accuracy: 0.8264\n",
            "Epoch 32/100\n",
            "259/259 [==============================] - 1s 3ms/step - loss: 0.3892 - accuracy: 0.8220\n",
            "Epoch 33/100\n",
            "259/259 [==============================] - 1s 3ms/step - loss: 0.3834 - accuracy: 0.8292\n",
            "Epoch 34/100\n",
            "259/259 [==============================] - 0s 2ms/step - loss: 0.3836 - accuracy: 0.8259\n",
            "Epoch 35/100\n",
            "259/259 [==============================] - 0s 2ms/step - loss: 0.3810 - accuracy: 0.8275\n",
            "Epoch 36/100\n",
            "259/259 [==============================] - 0s 2ms/step - loss: 0.3813 - accuracy: 0.8283\n",
            "Epoch 37/100\n",
            "259/259 [==============================] - 0s 2ms/step - loss: 0.3790 - accuracy: 0.8306\n",
            "Epoch 38/100\n",
            "259/259 [==============================] - 0s 2ms/step - loss: 0.3785 - accuracy: 0.8305\n",
            "Epoch 39/100\n",
            "259/259 [==============================] - 1s 2ms/step - loss: 0.3766 - accuracy: 0.8318\n",
            "Epoch 40/100\n",
            "259/259 [==============================] - 0s 2ms/step - loss: 0.3776 - accuracy: 0.8321\n",
            "Epoch 41/100\n",
            "259/259 [==============================] - 0s 2ms/step - loss: 0.3735 - accuracy: 0.8318\n",
            "Epoch 42/100\n",
            "259/259 [==============================] - 0s 2ms/step - loss: 0.3744 - accuracy: 0.8309\n",
            "Epoch 43/100\n",
            "259/259 [==============================] - 0s 2ms/step - loss: 0.3717 - accuracy: 0.8338\n",
            "Epoch 44/100\n",
            "259/259 [==============================] - 0s 2ms/step - loss: 0.3730 - accuracy: 0.8372\n",
            "Epoch 45/100\n",
            "259/259 [==============================] - 0s 2ms/step - loss: 0.3694 - accuracy: 0.8356\n",
            "Epoch 46/100\n",
            "259/259 [==============================] - 0s 2ms/step - loss: 0.3703 - accuracy: 0.8346\n",
            "Epoch 47/100\n",
            "259/259 [==============================] - 1s 2ms/step - loss: 0.3679 - accuracy: 0.8372\n",
            "Epoch 48/100\n",
            "259/259 [==============================] - 0s 2ms/step - loss: 0.3667 - accuracy: 0.8370\n",
            "Epoch 49/100\n",
            "259/259 [==============================] - 1s 2ms/step - loss: 0.3657 - accuracy: 0.8351\n",
            "Epoch 50/100\n",
            "259/259 [==============================] - 0s 2ms/step - loss: 0.3649 - accuracy: 0.8372\n",
            "Epoch 51/100\n",
            "259/259 [==============================] - 1s 2ms/step - loss: 0.3656 - accuracy: 0.8374\n",
            "Epoch 52/100\n",
            "259/259 [==============================] - 0s 2ms/step - loss: 0.3657 - accuracy: 0.8347\n",
            "Epoch 53/100\n",
            "259/259 [==============================] - 0s 2ms/step - loss: 0.3646 - accuracy: 0.8389\n",
            "Epoch 54/100\n",
            "259/259 [==============================] - 1s 3ms/step - loss: 0.3632 - accuracy: 0.8378\n",
            "Epoch 55/100\n",
            "259/259 [==============================] - 1s 3ms/step - loss: 0.3617 - accuracy: 0.8395\n",
            "Epoch 56/100\n",
            "259/259 [==============================] - 1s 3ms/step - loss: 0.3623 - accuracy: 0.8402\n",
            "Epoch 57/100\n",
            "259/259 [==============================] - 1s 4ms/step - loss: 0.3603 - accuracy: 0.8404\n",
            "Epoch 58/100\n",
            "259/259 [==============================] - 1s 4ms/step - loss: 0.3591 - accuracy: 0.8391\n",
            "Epoch 59/100\n",
            "259/259 [==============================] - 1s 4ms/step - loss: 0.3588 - accuracy: 0.8401\n",
            "Epoch 60/100\n",
            "259/259 [==============================] - 1s 4ms/step - loss: 0.3586 - accuracy: 0.8420\n",
            "Epoch 61/100\n",
            "259/259 [==============================] - 1s 5ms/step - loss: 0.3577 - accuracy: 0.8448\n",
            "Epoch 62/100\n",
            "259/259 [==============================] - 0s 2ms/step - loss: 0.3586 - accuracy: 0.8384\n",
            "Epoch 63/100\n",
            "259/259 [==============================] - 0s 2ms/step - loss: 0.3587 - accuracy: 0.8400\n",
            "Epoch 64/100\n",
            "259/259 [==============================] - 0s 2ms/step - loss: 0.3568 - accuracy: 0.8401\n",
            "Epoch 65/100\n",
            "259/259 [==============================] - 1s 4ms/step - loss: 0.3548 - accuracy: 0.8429\n",
            "Epoch 66/100\n",
            "259/259 [==============================] - 1s 4ms/step - loss: 0.3585 - accuracy: 0.8391\n",
            "Epoch 67/100\n",
            "259/259 [==============================] - 1s 3ms/step - loss: 0.3530 - accuracy: 0.8418\n",
            "Epoch 68/100\n",
            "259/259 [==============================] - 1s 4ms/step - loss: 0.3536 - accuracy: 0.8436\n",
            "Epoch 69/100\n",
            "259/259 [==============================] - 1s 6ms/step - loss: 0.3522 - accuracy: 0.8426\n",
            "Epoch 70/100\n",
            "259/259 [==============================] - 1s 5ms/step - loss: 0.3530 - accuracy: 0.8439\n",
            "Epoch 71/100\n",
            "259/259 [==============================] - 1s 4ms/step - loss: 0.3549 - accuracy: 0.8402\n",
            "Epoch 72/100\n",
            "259/259 [==============================] - 1s 3ms/step - loss: 0.3524 - accuracy: 0.8449\n",
            "Epoch 73/100\n",
            "259/259 [==============================] - 1s 4ms/step - loss: 0.3487 - accuracy: 0.8473\n",
            "Epoch 74/100\n",
            "259/259 [==============================] - 1s 5ms/step - loss: 0.3516 - accuracy: 0.8437\n",
            "Epoch 75/100\n",
            "259/259 [==============================] - 1s 5ms/step - loss: 0.3506 - accuracy: 0.8442\n",
            "Epoch 76/100\n",
            "259/259 [==============================] - 1s 3ms/step - loss: 0.3501 - accuracy: 0.8458\n",
            "Epoch 77/100\n",
            "259/259 [==============================] - 1s 3ms/step - loss: 0.3509 - accuracy: 0.8418\n",
            "Epoch 78/100\n",
            "259/259 [==============================] - 1s 3ms/step - loss: 0.3495 - accuracy: 0.8446\n",
            "Epoch 79/100\n",
            "259/259 [==============================] - 1s 3ms/step - loss: 0.3470 - accuracy: 0.8453\n",
            "Epoch 80/100\n",
            "259/259 [==============================] - 1s 3ms/step - loss: 0.3467 - accuracy: 0.8459\n",
            "Epoch 81/100\n",
            "259/259 [==============================] - 1s 5ms/step - loss: 0.3495 - accuracy: 0.8481\n",
            "Epoch 82/100\n",
            "259/259 [==============================] - 1s 3ms/step - loss: 0.3458 - accuracy: 0.8477\n",
            "Epoch 83/100\n",
            "259/259 [==============================] - 1s 3ms/step - loss: 0.3512 - accuracy: 0.8447\n",
            "Epoch 84/100\n",
            "259/259 [==============================] - 1s 3ms/step - loss: 0.3463 - accuracy: 0.8483\n",
            "Epoch 85/100\n",
            "259/259 [==============================] - 1s 3ms/step - loss: 0.3462 - accuracy: 0.8476\n",
            "Epoch 86/100\n",
            "259/259 [==============================] - 1s 3ms/step - loss: 0.3477 - accuracy: 0.8433\n",
            "Epoch 87/100\n",
            "259/259 [==============================] - 1s 4ms/step - loss: 0.3452 - accuracy: 0.8448\n",
            "Epoch 88/100\n",
            "259/259 [==============================] - 1s 4ms/step - loss: 0.3433 - accuracy: 0.8456\n",
            "Epoch 89/100\n",
            "259/259 [==============================] - 1s 3ms/step - loss: 0.3428 - accuracy: 0.8477\n",
            "Epoch 90/100\n",
            "259/259 [==============================] - 1s 3ms/step - loss: 0.3426 - accuracy: 0.8467\n",
            "Epoch 91/100\n",
            "259/259 [==============================] - 1s 3ms/step - loss: 0.3419 - accuracy: 0.8481\n",
            "Epoch 92/100\n",
            "259/259 [==============================] - 1s 3ms/step - loss: 0.3445 - accuracy: 0.8485\n",
            "Epoch 93/100\n",
            "259/259 [==============================] - 1s 3ms/step - loss: 0.3411 - accuracy: 0.8484\n",
            "Epoch 94/100\n",
            "259/259 [==============================] - 1s 3ms/step - loss: 0.3442 - accuracy: 0.8485\n",
            "Epoch 95/100\n",
            "259/259 [==============================] - 1s 3ms/step - loss: 0.3404 - accuracy: 0.8467\n",
            "Epoch 96/100\n",
            "259/259 [==============================] - 1s 3ms/step - loss: 0.3438 - accuracy: 0.8476\n",
            "Epoch 97/100\n",
            "259/259 [==============================] - 1s 4ms/step - loss: 0.3387 - accuracy: 0.8505\n",
            "Epoch 98/100\n",
            "259/259 [==============================] - 2s 7ms/step - loss: 0.3425 - accuracy: 0.8464\n",
            "Epoch 99/100\n",
            "259/259 [==============================] - 1s 5ms/step - loss: 0.3404 - accuracy: 0.8461\n",
            "Epoch 100/100\n",
            "259/259 [==============================] - 1s 4ms/step - loss: 0.3394 - accuracy: 0.8492\n",
            "65/65 [==============================] - 0s 3ms/step - loss: 0.4269 - accuracy: 0.8015\n",
            "[0.42685019969940186, 0.8015488982200623]\n",
            "65/65 [==============================] - 0s 3ms/step\n",
            "Classification Report: \n",
            "               precision    recall  f1-score   support\n",
            "\n",
            "           0       0.81      0.78      0.80      1033\n",
            "           1       0.79      0.82      0.81      1033\n",
            "\n",
            "    accuracy                           0.80      2066\n",
            "   macro avg       0.80      0.80      0.80      2066\n",
            "weighted avg       0.80      0.80      0.80      2066\n",
            "\n"
          ]
        }
      ],
      "source": [
        "y_preds3 = ANN(X_train3, y_train3, X_test3, y_test3, 'binary_crossentropy', -1)"
      ]
    },
    {
      "cell_type": "code",
      "source": [
        "auc = roc_auc_score(y_test3, y_preds3)\n",
        "auc\n"
      ],
      "metadata": {
        "colab": {
          "base_uri": "https://localhost:8080/"
        },
        "id": "UuJYYbruXCK7",
        "outputId": "15a15607-9a4b-42f7-a4e4-bb4f508c251a"
      },
      "execution_count": 175,
      "outputs": [
        {
          "output_type": "execute_result",
          "data": {
            "text/plain": [
              "0.8015488867376573"
            ]
          },
          "metadata": {},
          "execution_count": 175
        }
      ]
    },
    {
      "cell_type": "markdown",
      "metadata": {
        "id": "WMxa9C5mpG4D"
      },
      "source": [
        "### Method4: Use of Ensemble with undersampling"
      ]
    },
    {
      "cell_type": "code",
      "execution_count": null,
      "metadata": {
        "id": "bRaZ2KS_pG4D",
        "outputId": "8c7c6521-895b-4d69-dfcf-73af67bea5a9",
        "colab": {
          "base_uri": "https://localhost:8080/"
        }
      },
      "outputs": [
        {
          "output_type": "execute_result",
          "data": {
            "text/plain": [
              "0    5163\n",
              "1    1869\n",
              "Name: Churn, dtype: int64"
            ]
          },
          "metadata": {},
          "execution_count": 300
        }
      ],
      "source": [
        "df2.Churn.value_counts()"
      ]
    },
    {
      "cell_type": "code",
      "execution_count": null,
      "metadata": {
        "id": "1nFfmXPepG4E"
      },
      "outputs": [],
      "source": [
        "# Regain Original features and labels\n",
        "X = df2.drop('Churn',axis='columns')\n",
        "y = df2['Churn']"
      ]
    },
    {
      "cell_type": "code",
      "execution_count": null,
      "metadata": {
        "id": "OWJwZ-JspG4E"
      },
      "outputs": [],
      "source": [
        "from sklearn.model_selection import train_test_split\n",
        "X_train4, X_test4, y_train4, y_test4 = train_test_split(X, y, test_size=0.2, random_state=15, stratify=y)"
      ]
    },
    {
      "cell_type": "code",
      "execution_count": null,
      "metadata": {
        "id": "dbJ0M66BpG4E",
        "outputId": "b8082881-ecf4-4683-c4c0-7e4fae93253f",
        "colab": {
          "base_uri": "https://localhost:8080/"
        }
      },
      "outputs": [
        {
          "output_type": "execute_result",
          "data": {
            "text/plain": [
              "0    4130\n",
              "1    1495\n",
              "Name: Churn, dtype: int64"
            ]
          },
          "metadata": {},
          "execution_count": 303
        }
      ],
      "source": [
        "y_train4.value_counts()"
      ]
    },
    {
      "cell_type": "markdown",
      "metadata": {
        "id": "2igF3xBppG4E"
      },
      "source": [
        "model1 --> class1(1495) + class0(0, 1495)\n",
        "\n",
        "model2 --> class1(1495) + class0(1496, 2990)\n",
        "\n",
        "model3 --> class1(1495) + class0(2990, 4130)"
      ]
    },
    {
      "cell_type": "code",
      "execution_count": null,
      "metadata": {
        "id": "4jdJvPoypG4F"
      },
      "outputs": [],
      "source": [
        "df3 = X_train4.copy()\n",
        "df3['Churn'] = y_train4"
      ]
    },
    {
      "cell_type": "code",
      "execution_count": null,
      "metadata": {
        "id": "CB5NvxJspG4F",
        "outputId": "1b82fad0-ec96-4ff2-a29e-5db4e59218ae",
        "colab": {
          "base_uri": "https://localhost:8080/",
          "height": 334
        }
      },
      "outputs": [
        {
          "output_type": "execute_result",
          "data": {
            "text/plain": [
              "      gender  SeniorCitizen  Partner  Dependents    tenure  PhoneService  \\\n",
              "684        1              0        0           0  0.000000             1   \n",
              "2446       1              0        0           0  0.239437             1   \n",
              "1680       0              0        1           1  0.774648             1   \n",
              "2220       0              0        1           0  1.000000             1   \n",
              "2842       1              0        0           0  0.042254             0   \n",
              "\n",
              "      MultipleLines  OnlineSecurity  OnlineBackup  DeviceProtection  ...  \\\n",
              "684               0               0             0                 0  ...   \n",
              "2446              1               0             1                 0  ...   \n",
              "1680              1               0             0                 0  ...   \n",
              "2220              0               1             1                 0  ...   \n",
              "2842              0               1             0                 1  ...   \n",
              "\n",
              "      InternetService_Fiber optic  InternetService_No  \\\n",
              "684                             1                   0   \n",
              "2446                            1                   0   \n",
              "1680                            0                   1   \n",
              "2220                            0                   0   \n",
              "2842                            0                   0   \n",
              "\n",
              "      Contract_Month-to-month  Contract_One year  Contract_Two year  \\\n",
              "684                         1                  0                  0   \n",
              "2446                        1                  0                  0   \n",
              "1680                        0                  1                  0   \n",
              "2220                        0                  0                  1   \n",
              "2842                        1                  0                  0   \n",
              "\n",
              "      PaymentMethod_Bank transfer (automatic)  \\\n",
              "684                                         0   \n",
              "2446                                        0   \n",
              "1680                                        0   \n",
              "2220                                        1   \n",
              "2842                                        0   \n",
              "\n",
              "      PaymentMethod_Credit card (automatic)  PaymentMethod_Electronic check  \\\n",
              "684                                       0                               0   \n",
              "2446                                      1                               0   \n",
              "1680                                      0                               0   \n",
              "2220                                      0                               0   \n",
              "2842                                      0                               0   \n",
              "\n",
              "      PaymentMethod_Mailed check  Churn  \n",
              "684                            1      0  \n",
              "2446                           0      1  \n",
              "1680                           1      0  \n",
              "2220                           0      0  \n",
              "2842                           1      0  \n",
              "\n",
              "[5 rows x 27 columns]"
            ],
            "text/html": [
              "\n",
              "  <div id=\"df-f97b40fc-8c50-469c-b108-56a4102c31f1\">\n",
              "    <div class=\"colab-df-container\">\n",
              "      <div>\n",
              "<style scoped>\n",
              "    .dataframe tbody tr th:only-of-type {\n",
              "        vertical-align: middle;\n",
              "    }\n",
              "\n",
              "    .dataframe tbody tr th {\n",
              "        vertical-align: top;\n",
              "    }\n",
              "\n",
              "    .dataframe thead th {\n",
              "        text-align: right;\n",
              "    }\n",
              "</style>\n",
              "<table border=\"1\" class=\"dataframe\">\n",
              "  <thead>\n",
              "    <tr style=\"text-align: right;\">\n",
              "      <th></th>\n",
              "      <th>gender</th>\n",
              "      <th>SeniorCitizen</th>\n",
              "      <th>Partner</th>\n",
              "      <th>Dependents</th>\n",
              "      <th>tenure</th>\n",
              "      <th>PhoneService</th>\n",
              "      <th>MultipleLines</th>\n",
              "      <th>OnlineSecurity</th>\n",
              "      <th>OnlineBackup</th>\n",
              "      <th>DeviceProtection</th>\n",
              "      <th>...</th>\n",
              "      <th>InternetService_Fiber optic</th>\n",
              "      <th>InternetService_No</th>\n",
              "      <th>Contract_Month-to-month</th>\n",
              "      <th>Contract_One year</th>\n",
              "      <th>Contract_Two year</th>\n",
              "      <th>PaymentMethod_Bank transfer (automatic)</th>\n",
              "      <th>PaymentMethod_Credit card (automatic)</th>\n",
              "      <th>PaymentMethod_Electronic check</th>\n",
              "      <th>PaymentMethod_Mailed check</th>\n",
              "      <th>Churn</th>\n",
              "    </tr>\n",
              "  </thead>\n",
              "  <tbody>\n",
              "    <tr>\n",
              "      <th>684</th>\n",
              "      <td>1</td>\n",
              "      <td>0</td>\n",
              "      <td>0</td>\n",
              "      <td>0</td>\n",
              "      <td>0.000000</td>\n",
              "      <td>1</td>\n",
              "      <td>0</td>\n",
              "      <td>0</td>\n",
              "      <td>0</td>\n",
              "      <td>0</td>\n",
              "      <td>...</td>\n",
              "      <td>1</td>\n",
              "      <td>0</td>\n",
              "      <td>1</td>\n",
              "      <td>0</td>\n",
              "      <td>0</td>\n",
              "      <td>0</td>\n",
              "      <td>0</td>\n",
              "      <td>0</td>\n",
              "      <td>1</td>\n",
              "      <td>0</td>\n",
              "    </tr>\n",
              "    <tr>\n",
              "      <th>2446</th>\n",
              "      <td>1</td>\n",
              "      <td>0</td>\n",
              "      <td>0</td>\n",
              "      <td>0</td>\n",
              "      <td>0.239437</td>\n",
              "      <td>1</td>\n",
              "      <td>1</td>\n",
              "      <td>0</td>\n",
              "      <td>1</td>\n",
              "      <td>0</td>\n",
              "      <td>...</td>\n",
              "      <td>1</td>\n",
              "      <td>0</td>\n",
              "      <td>1</td>\n",
              "      <td>0</td>\n",
              "      <td>0</td>\n",
              "      <td>0</td>\n",
              "      <td>1</td>\n",
              "      <td>0</td>\n",
              "      <td>0</td>\n",
              "      <td>1</td>\n",
              "    </tr>\n",
              "    <tr>\n",
              "      <th>1680</th>\n",
              "      <td>0</td>\n",
              "      <td>0</td>\n",
              "      <td>1</td>\n",
              "      <td>1</td>\n",
              "      <td>0.774648</td>\n",
              "      <td>1</td>\n",
              "      <td>1</td>\n",
              "      <td>0</td>\n",
              "      <td>0</td>\n",
              "      <td>0</td>\n",
              "      <td>...</td>\n",
              "      <td>0</td>\n",
              "      <td>1</td>\n",
              "      <td>0</td>\n",
              "      <td>1</td>\n",
              "      <td>0</td>\n",
              "      <td>0</td>\n",
              "      <td>0</td>\n",
              "      <td>0</td>\n",
              "      <td>1</td>\n",
              "      <td>0</td>\n",
              "    </tr>\n",
              "    <tr>\n",
              "      <th>2220</th>\n",
              "      <td>0</td>\n",
              "      <td>0</td>\n",
              "      <td>1</td>\n",
              "      <td>0</td>\n",
              "      <td>1.000000</td>\n",
              "      <td>1</td>\n",
              "      <td>0</td>\n",
              "      <td>1</td>\n",
              "      <td>1</td>\n",
              "      <td>0</td>\n",
              "      <td>...</td>\n",
              "      <td>0</td>\n",
              "      <td>0</td>\n",
              "      <td>0</td>\n",
              "      <td>0</td>\n",
              "      <td>1</td>\n",
              "      <td>1</td>\n",
              "      <td>0</td>\n",
              "      <td>0</td>\n",
              "      <td>0</td>\n",
              "      <td>0</td>\n",
              "    </tr>\n",
              "    <tr>\n",
              "      <th>2842</th>\n",
              "      <td>1</td>\n",
              "      <td>0</td>\n",
              "      <td>0</td>\n",
              "      <td>0</td>\n",
              "      <td>0.042254</td>\n",
              "      <td>0</td>\n",
              "      <td>0</td>\n",
              "      <td>1</td>\n",
              "      <td>0</td>\n",
              "      <td>1</td>\n",
              "      <td>...</td>\n",
              "      <td>0</td>\n",
              "      <td>0</td>\n",
              "      <td>1</td>\n",
              "      <td>0</td>\n",
              "      <td>0</td>\n",
              "      <td>0</td>\n",
              "      <td>0</td>\n",
              "      <td>0</td>\n",
              "      <td>1</td>\n",
              "      <td>0</td>\n",
              "    </tr>\n",
              "  </tbody>\n",
              "</table>\n",
              "<p>5 rows × 27 columns</p>\n",
              "</div>\n",
              "      <button class=\"colab-df-convert\" onclick=\"convertToInteractive('df-f97b40fc-8c50-469c-b108-56a4102c31f1')\"\n",
              "              title=\"Convert this dataframe to an interactive table.\"\n",
              "              style=\"display:none;\">\n",
              "        \n",
              "  <svg xmlns=\"http://www.w3.org/2000/svg\" height=\"24px\"viewBox=\"0 0 24 24\"\n",
              "       width=\"24px\">\n",
              "    <path d=\"M0 0h24v24H0V0z\" fill=\"none\"/>\n",
              "    <path d=\"M18.56 5.44l.94 2.06.94-2.06 2.06-.94-2.06-.94-.94-2.06-.94 2.06-2.06.94zm-11 1L8.5 8.5l.94-2.06 2.06-.94-2.06-.94L8.5 2.5l-.94 2.06-2.06.94zm10 10l.94 2.06.94-2.06 2.06-.94-2.06-.94-.94-2.06-.94 2.06-2.06.94z\"/><path d=\"M17.41 7.96l-1.37-1.37c-.4-.4-.92-.59-1.43-.59-.52 0-1.04.2-1.43.59L10.3 9.45l-7.72 7.72c-.78.78-.78 2.05 0 2.83L4 21.41c.39.39.9.59 1.41.59.51 0 1.02-.2 1.41-.59l7.78-7.78 2.81-2.81c.8-.78.8-2.07 0-2.86zM5.41 20L4 18.59l7.72-7.72 1.47 1.35L5.41 20z\"/>\n",
              "  </svg>\n",
              "      </button>\n",
              "      \n",
              "  <style>\n",
              "    .colab-df-container {\n",
              "      display:flex;\n",
              "      flex-wrap:wrap;\n",
              "      gap: 12px;\n",
              "    }\n",
              "\n",
              "    .colab-df-convert {\n",
              "      background-color: #E8F0FE;\n",
              "      border: none;\n",
              "      border-radius: 50%;\n",
              "      cursor: pointer;\n",
              "      display: none;\n",
              "      fill: #1967D2;\n",
              "      height: 32px;\n",
              "      padding: 0 0 0 0;\n",
              "      width: 32px;\n",
              "    }\n",
              "\n",
              "    .colab-df-convert:hover {\n",
              "      background-color: #E2EBFA;\n",
              "      box-shadow: 0px 1px 2px rgba(60, 64, 67, 0.3), 0px 1px 3px 1px rgba(60, 64, 67, 0.15);\n",
              "      fill: #174EA6;\n",
              "    }\n",
              "\n",
              "    [theme=dark] .colab-df-convert {\n",
              "      background-color: #3B4455;\n",
              "      fill: #D2E3FC;\n",
              "    }\n",
              "\n",
              "    [theme=dark] .colab-df-convert:hover {\n",
              "      background-color: #434B5C;\n",
              "      box-shadow: 0px 1px 3px 1px rgba(0, 0, 0, 0.15);\n",
              "      filter: drop-shadow(0px 1px 2px rgba(0, 0, 0, 0.3));\n",
              "      fill: #FFFFFF;\n",
              "    }\n",
              "  </style>\n",
              "\n",
              "      <script>\n",
              "        const buttonEl =\n",
              "          document.querySelector('#df-f97b40fc-8c50-469c-b108-56a4102c31f1 button.colab-df-convert');\n",
              "        buttonEl.style.display =\n",
              "          google.colab.kernel.accessAllowed ? 'block' : 'none';\n",
              "\n",
              "        async function convertToInteractive(key) {\n",
              "          const element = document.querySelector('#df-f97b40fc-8c50-469c-b108-56a4102c31f1');\n",
              "          const dataTable =\n",
              "            await google.colab.kernel.invokeFunction('convertToInteractive',\n",
              "                                                     [key], {});\n",
              "          if (!dataTable) return;\n",
              "\n",
              "          const docLinkHtml = 'Like what you see? Visit the ' +\n",
              "            '<a target=\"_blank\" href=https://colab.research.google.com/notebooks/data_table.ipynb>data table notebook</a>'\n",
              "            + ' to learn more about interactive tables.';\n",
              "          element.innerHTML = '';\n",
              "          dataTable['output_type'] = 'display_data';\n",
              "          await google.colab.output.renderOutput(dataTable, element);\n",
              "          const docLink = document.createElement('div');\n",
              "          docLink.innerHTML = docLinkHtml;\n",
              "          element.appendChild(docLink);\n",
              "        }\n",
              "      </script>\n",
              "    </div>\n",
              "  </div>\n",
              "  "
            ]
          },
          "metadata": {},
          "execution_count": 305
        }
      ],
      "source": [
        "df3.head()  "
      ]
    },
    {
      "cell_type": "code",
      "execution_count": null,
      "metadata": {
        "id": "vXHv1gJmpG4G"
      },
      "outputs": [],
      "source": [
        "df3_class0 = df3[df3.Churn==0]\n",
        "df3_class1 = df3[df3.Churn==1]"
      ]
    },
    {
      "cell_type": "code",
      "execution_count": null,
      "metadata": {
        "id": "ggcp7K22pG4G"
      },
      "outputs": [],
      "source": [
        "def get_train_batch(df_majority, df_minority, start, end):\n",
        "    df_train = pd.concat([df_majority[start:end], df_minority], axis=0)\n",
        "\n",
        "    X_train4 = df_train.drop('Churn', axis='columns')\n",
        "    y_train4 = df_train.Churn\n",
        "    return X_train4, y_train4    "
      ]
    },
    {
      "cell_type": "code",
      "execution_count": null,
      "metadata": {
        "id": "0_X1CCXJpG4G",
        "outputId": "344e1a06-a5af-4f5c-88dd-19fefd35a4de",
        "colab": {
          "base_uri": "https://localhost:8080/"
        }
      },
      "outputs": [
        {
          "output_type": "stream",
          "name": "stdout",
          "text": [
            "Epoch 1/100\n",
            "94/94 [==============================] - 1s 2ms/step - loss: 0.6600 - accuracy: 0.6284\n",
            "Epoch 2/100\n",
            "94/94 [==============================] - 0s 2ms/step - loss: 0.5298 - accuracy: 0.7495\n",
            "Epoch 3/100\n",
            "94/94 [==============================] - 0s 2ms/step - loss: 0.4986 - accuracy: 0.7585\n",
            "Epoch 4/100\n",
            "94/94 [==============================] - 0s 2ms/step - loss: 0.4911 - accuracy: 0.7656\n",
            "Epoch 5/100\n",
            "94/94 [==============================] - 0s 2ms/step - loss: 0.4844 - accuracy: 0.7666\n",
            "Epoch 6/100\n",
            "94/94 [==============================] - 0s 2ms/step - loss: 0.4822 - accuracy: 0.7679\n",
            "Epoch 7/100\n",
            "94/94 [==============================] - 0s 2ms/step - loss: 0.4799 - accuracy: 0.7686\n",
            "Epoch 8/100\n",
            "94/94 [==============================] - 0s 2ms/step - loss: 0.4762 - accuracy: 0.7719\n",
            "Epoch 9/100\n",
            "94/94 [==============================] - 0s 2ms/step - loss: 0.4748 - accuracy: 0.7682\n",
            "Epoch 10/100\n",
            "94/94 [==============================] - 0s 2ms/step - loss: 0.4749 - accuracy: 0.7676\n",
            "Epoch 11/100\n",
            "94/94 [==============================] - 0s 2ms/step - loss: 0.4722 - accuracy: 0.7716\n",
            "Epoch 12/100\n",
            "94/94 [==============================] - 0s 2ms/step - loss: 0.4698 - accuracy: 0.7749\n",
            "Epoch 13/100\n",
            "94/94 [==============================] - 0s 2ms/step - loss: 0.4685 - accuracy: 0.7732\n",
            "Epoch 14/100\n",
            "94/94 [==============================] - 0s 2ms/step - loss: 0.4671 - accuracy: 0.7783\n",
            "Epoch 15/100\n",
            "94/94 [==============================] - 0s 2ms/step - loss: 0.4646 - accuracy: 0.7756\n",
            "Epoch 16/100\n",
            "94/94 [==============================] - 0s 2ms/step - loss: 0.4650 - accuracy: 0.7803\n",
            "Epoch 17/100\n",
            "94/94 [==============================] - 0s 2ms/step - loss: 0.4638 - accuracy: 0.7779\n",
            "Epoch 18/100\n",
            "94/94 [==============================] - 0s 2ms/step - loss: 0.4606 - accuracy: 0.7839\n",
            "Epoch 19/100\n",
            "94/94 [==============================] - 0s 2ms/step - loss: 0.4601 - accuracy: 0.7803\n",
            "Epoch 20/100\n",
            "94/94 [==============================] - 0s 2ms/step - loss: 0.4592 - accuracy: 0.7856\n",
            "Epoch 21/100\n",
            "94/94 [==============================] - 0s 2ms/step - loss: 0.4581 - accuracy: 0.7870\n",
            "Epoch 22/100\n",
            "94/94 [==============================] - 0s 2ms/step - loss: 0.4564 - accuracy: 0.7863\n",
            "Epoch 23/100\n",
            "94/94 [==============================] - 0s 2ms/step - loss: 0.4565 - accuracy: 0.7833\n",
            "Epoch 24/100\n",
            "94/94 [==============================] - 0s 2ms/step - loss: 0.4543 - accuracy: 0.7890\n",
            "Epoch 25/100\n",
            "94/94 [==============================] - 0s 2ms/step - loss: 0.4538 - accuracy: 0.7880\n",
            "Epoch 26/100\n",
            "94/94 [==============================] - 0s 2ms/step - loss: 0.4532 - accuracy: 0.7843\n",
            "Epoch 27/100\n",
            "94/94 [==============================] - 0s 2ms/step - loss: 0.4509 - accuracy: 0.7903\n",
            "Epoch 28/100\n",
            "94/94 [==============================] - 0s 2ms/step - loss: 0.4500 - accuracy: 0.7906\n",
            "Epoch 29/100\n",
            "94/94 [==============================] - 0s 2ms/step - loss: 0.4484 - accuracy: 0.7883\n",
            "Epoch 30/100\n",
            "94/94 [==============================] - 0s 2ms/step - loss: 0.4503 - accuracy: 0.7883\n",
            "Epoch 31/100\n",
            "94/94 [==============================] - 0s 2ms/step - loss: 0.4471 - accuracy: 0.7926\n",
            "Epoch 32/100\n",
            "94/94 [==============================] - 0s 2ms/step - loss: 0.4463 - accuracy: 0.7926\n",
            "Epoch 33/100\n",
            "94/94 [==============================] - 0s 2ms/step - loss: 0.4457 - accuracy: 0.7933\n",
            "Epoch 34/100\n",
            "94/94 [==============================] - 0s 2ms/step - loss: 0.4449 - accuracy: 0.7913\n",
            "Epoch 35/100\n",
            "94/94 [==============================] - 0s 2ms/step - loss: 0.4437 - accuracy: 0.7920\n",
            "Epoch 36/100\n",
            "94/94 [==============================] - 0s 2ms/step - loss: 0.4447 - accuracy: 0.7933\n",
            "Epoch 37/100\n",
            "94/94 [==============================] - 0s 2ms/step - loss: 0.4418 - accuracy: 0.7973\n",
            "Epoch 38/100\n",
            "94/94 [==============================] - 0s 2ms/step - loss: 0.4426 - accuracy: 0.7930\n",
            "Epoch 39/100\n",
            "94/94 [==============================] - 0s 2ms/step - loss: 0.4396 - accuracy: 0.7943\n",
            "Epoch 40/100\n",
            "94/94 [==============================] - 0s 2ms/step - loss: 0.4400 - accuracy: 0.7926\n",
            "Epoch 41/100\n",
            "94/94 [==============================] - 0s 2ms/step - loss: 0.4400 - accuracy: 0.7967\n",
            "Epoch 42/100\n",
            "94/94 [==============================] - 0s 2ms/step - loss: 0.4386 - accuracy: 0.7987\n",
            "Epoch 43/100\n",
            "94/94 [==============================] - 0s 2ms/step - loss: 0.4381 - accuracy: 0.7967\n",
            "Epoch 44/100\n",
            "94/94 [==============================] - 0s 2ms/step - loss: 0.4368 - accuracy: 0.7953\n",
            "Epoch 45/100\n",
            "94/94 [==============================] - 0s 2ms/step - loss: 0.4359 - accuracy: 0.7963\n",
            "Epoch 46/100\n",
            "94/94 [==============================] - 0s 2ms/step - loss: 0.4346 - accuracy: 0.7977\n",
            "Epoch 47/100\n",
            "94/94 [==============================] - 0s 2ms/step - loss: 0.4347 - accuracy: 0.7997\n",
            "Epoch 48/100\n",
            "94/94 [==============================] - 0s 2ms/step - loss: 0.4377 - accuracy: 0.7930\n",
            "Epoch 49/100\n",
            "94/94 [==============================] - 0s 2ms/step - loss: 0.4323 - accuracy: 0.8017\n",
            "Epoch 50/100\n",
            "94/94 [==============================] - 0s 2ms/step - loss: 0.4319 - accuracy: 0.8010\n",
            "Epoch 51/100\n",
            "94/94 [==============================] - 0s 2ms/step - loss: 0.4320 - accuracy: 0.8023\n",
            "Epoch 52/100\n",
            "94/94 [==============================] - 0s 2ms/step - loss: 0.4328 - accuracy: 0.8047\n",
            "Epoch 53/100\n",
            "94/94 [==============================] - 0s 2ms/step - loss: 0.4293 - accuracy: 0.8047\n",
            "Epoch 54/100\n",
            "94/94 [==============================] - 0s 2ms/step - loss: 0.4312 - accuracy: 0.8000\n",
            "Epoch 55/100\n",
            "94/94 [==============================] - 0s 2ms/step - loss: 0.4294 - accuracy: 0.8003\n",
            "Epoch 56/100\n",
            "94/94 [==============================] - 0s 2ms/step - loss: 0.4296 - accuracy: 0.8043\n",
            "Epoch 57/100\n",
            "94/94 [==============================] - 0s 2ms/step - loss: 0.4287 - accuracy: 0.8037\n",
            "Epoch 58/100\n",
            "94/94 [==============================] - 0s 2ms/step - loss: 0.4281 - accuracy: 0.8030\n",
            "Epoch 59/100\n",
            "94/94 [==============================] - 0s 2ms/step - loss: 0.4276 - accuracy: 0.8010\n",
            "Epoch 60/100\n",
            "94/94 [==============================] - 0s 2ms/step - loss: 0.4270 - accuracy: 0.8057\n",
            "Epoch 61/100\n",
            "94/94 [==============================] - 0s 2ms/step - loss: 0.4253 - accuracy: 0.8027\n",
            "Epoch 62/100\n",
            "94/94 [==============================] - 0s 2ms/step - loss: 0.4247 - accuracy: 0.8047\n",
            "Epoch 63/100\n",
            "94/94 [==============================] - 0s 2ms/step - loss: 0.4234 - accuracy: 0.8043\n",
            "Epoch 64/100\n",
            "94/94 [==============================] - 0s 2ms/step - loss: 0.4241 - accuracy: 0.8030\n",
            "Epoch 65/100\n",
            "94/94 [==============================] - 0s 2ms/step - loss: 0.4221 - accuracy: 0.8064\n",
            "Epoch 66/100\n",
            "94/94 [==============================] - 0s 2ms/step - loss: 0.4216 - accuracy: 0.8033\n",
            "Epoch 67/100\n",
            "94/94 [==============================] - 0s 2ms/step - loss: 0.4199 - accuracy: 0.8067\n",
            "Epoch 68/100\n",
            "94/94 [==============================] - 0s 2ms/step - loss: 0.4221 - accuracy: 0.8040\n",
            "Epoch 69/100\n",
            "94/94 [==============================] - 0s 2ms/step - loss: 0.4211 - accuracy: 0.8064\n",
            "Epoch 70/100\n",
            "94/94 [==============================] - 0s 2ms/step - loss: 0.4192 - accuracy: 0.8077\n",
            "Epoch 71/100\n",
            "94/94 [==============================] - 0s 2ms/step - loss: 0.4194 - accuracy: 0.8060\n",
            "Epoch 72/100\n",
            "94/94 [==============================] - 0s 2ms/step - loss: 0.4185 - accuracy: 0.8033\n",
            "Epoch 73/100\n",
            "94/94 [==============================] - 0s 2ms/step - loss: 0.4182 - accuracy: 0.8067\n",
            "Epoch 74/100\n",
            "94/94 [==============================] - 0s 2ms/step - loss: 0.4176 - accuracy: 0.8043\n",
            "Epoch 75/100\n",
            "94/94 [==============================] - 0s 2ms/step - loss: 0.4171 - accuracy: 0.8033\n",
            "Epoch 76/100\n",
            "94/94 [==============================] - 0s 2ms/step - loss: 0.4169 - accuracy: 0.8064\n",
            "Epoch 77/100\n",
            "94/94 [==============================] - 0s 2ms/step - loss: 0.4176 - accuracy: 0.8067\n",
            "Epoch 78/100\n",
            "94/94 [==============================] - 0s 2ms/step - loss: 0.4128 - accuracy: 0.8074\n",
            "Epoch 79/100\n",
            "94/94 [==============================] - 0s 2ms/step - loss: 0.4129 - accuracy: 0.8107\n",
            "Epoch 80/100\n",
            "94/94 [==============================] - 0s 2ms/step - loss: 0.4125 - accuracy: 0.8120\n",
            "Epoch 81/100\n",
            "94/94 [==============================] - 0s 2ms/step - loss: 0.4111 - accuracy: 0.8080\n",
            "Epoch 82/100\n",
            "94/94 [==============================] - 0s 2ms/step - loss: 0.4113 - accuracy: 0.8147\n",
            "Epoch 83/100\n",
            "94/94 [==============================] - 0s 2ms/step - loss: 0.4112 - accuracy: 0.8144\n",
            "Epoch 84/100\n",
            "94/94 [==============================] - 0s 2ms/step - loss: 0.4097 - accuracy: 0.8157\n",
            "Epoch 85/100\n",
            "94/94 [==============================] - 0s 2ms/step - loss: 0.4097 - accuracy: 0.8104\n",
            "Epoch 86/100\n",
            "94/94 [==============================] - 0s 2ms/step - loss: 0.4096 - accuracy: 0.8107\n",
            "Epoch 87/100\n",
            "94/94 [==============================] - 0s 2ms/step - loss: 0.4064 - accuracy: 0.8114\n",
            "Epoch 88/100\n",
            "94/94 [==============================] - 0s 2ms/step - loss: 0.4079 - accuracy: 0.8130\n",
            "Epoch 89/100\n",
            "94/94 [==============================] - 0s 2ms/step - loss: 0.4084 - accuracy: 0.8120\n",
            "Epoch 90/100\n",
            "94/94 [==============================] - 0s 2ms/step - loss: 0.4055 - accuracy: 0.8107\n",
            "Epoch 91/100\n",
            "94/94 [==============================] - 0s 2ms/step - loss: 0.4058 - accuracy: 0.8127\n",
            "Epoch 92/100\n",
            "94/94 [==============================] - 0s 2ms/step - loss: 0.4048 - accuracy: 0.8184\n",
            "Epoch 93/100\n",
            "94/94 [==============================] - 0s 2ms/step - loss: 0.4032 - accuracy: 0.8171\n",
            "Epoch 94/100\n",
            "94/94 [==============================] - 0s 2ms/step - loss: 0.4039 - accuracy: 0.8130\n",
            "Epoch 95/100\n",
            "94/94 [==============================] - 0s 2ms/step - loss: 0.4020 - accuracy: 0.8144\n",
            "Epoch 96/100\n",
            "94/94 [==============================] - 0s 2ms/step - loss: 0.4019 - accuracy: 0.8161\n",
            "Epoch 97/100\n",
            "94/94 [==============================] - 0s 2ms/step - loss: 0.4017 - accuracy: 0.8164\n",
            "Epoch 98/100\n",
            "94/94 [==============================] - 0s 2ms/step - loss: 0.4002 - accuracy: 0.8201\n",
            "Epoch 99/100\n",
            "94/94 [==============================] - 0s 2ms/step - loss: 0.4003 - accuracy: 0.8151\n",
            "Epoch 100/100\n",
            "94/94 [==============================] - 0s 2ms/step - loss: 0.3987 - accuracy: 0.8147\n",
            "44/44 [==============================] - 0s 1ms/step - loss: 0.5385 - accuracy: 0.7356\n",
            "[0.5385493040084839, 0.7356076836585999]\n",
            "44/44 [==============================] - 0s 1ms/step\n",
            "Classification Report: \n",
            "               precision    recall  f1-score   support\n",
            "\n",
            "           0       0.89      0.73      0.80      1033\n",
            "           1       0.50      0.75      0.60       374\n",
            "\n",
            "    accuracy                           0.74      1407\n",
            "   macro avg       0.70      0.74      0.70      1407\n",
            "weighted avg       0.79      0.74      0.75      1407\n",
            "\n"
          ]
        }
      ],
      "source": [
        "X_train4, y_train4 = get_train_batch(df3_class0, df3_class1, 0, 1495)\n",
        "\n",
        "y_pred1 = ANN(X_train4, y_train4, X_test4, y_test4, 'binary_crossentropy', -1)"
      ]
    },
    {
      "cell_type": "code",
      "execution_count": null,
      "metadata": {
        "id": "5-HL-hm2pG4H",
        "outputId": "41188489-78c9-41a2-ae7a-e5b7ebe9d3f4",
        "colab": {
          "base_uri": "https://localhost:8080/"
        }
      },
      "outputs": [
        {
          "output_type": "stream",
          "name": "stdout",
          "text": [
            "Epoch 1/100\n",
            "94/94 [==============================] - 1s 2ms/step - loss: 0.6617 - accuracy: 0.6147\n",
            "Epoch 2/100\n",
            "94/94 [==============================] - 0s 2ms/step - loss: 0.5281 - accuracy: 0.7482\n",
            "Epoch 3/100\n",
            "94/94 [==============================] - 0s 2ms/step - loss: 0.4982 - accuracy: 0.7582\n",
            "Epoch 4/100\n",
            "94/94 [==============================] - 0s 2ms/step - loss: 0.4892 - accuracy: 0.7605\n",
            "Epoch 5/100\n",
            "94/94 [==============================] - 0s 2ms/step - loss: 0.4838 - accuracy: 0.7662\n",
            "Epoch 6/100\n",
            "94/94 [==============================] - 0s 2ms/step - loss: 0.4810 - accuracy: 0.7686\n",
            "Epoch 7/100\n",
            "94/94 [==============================] - 0s 2ms/step - loss: 0.4775 - accuracy: 0.7652\n",
            "Epoch 8/100\n",
            "94/94 [==============================] - 0s 2ms/step - loss: 0.4742 - accuracy: 0.7706\n",
            "Epoch 9/100\n",
            "94/94 [==============================] - 0s 2ms/step - loss: 0.4710 - accuracy: 0.7742\n",
            "Epoch 10/100\n",
            "94/94 [==============================] - 0s 2ms/step - loss: 0.4685 - accuracy: 0.7776\n",
            "Epoch 11/100\n",
            "94/94 [==============================] - 0s 2ms/step - loss: 0.4671 - accuracy: 0.7763\n",
            "Epoch 12/100\n",
            "94/94 [==============================] - 0s 2ms/step - loss: 0.4644 - accuracy: 0.7753\n",
            "Epoch 13/100\n",
            "94/94 [==============================] - 0s 2ms/step - loss: 0.4626 - accuracy: 0.7776\n",
            "Epoch 14/100\n",
            "94/94 [==============================] - 0s 2ms/step - loss: 0.4622 - accuracy: 0.7746\n",
            "Epoch 15/100\n",
            "94/94 [==============================] - 0s 2ms/step - loss: 0.4589 - accuracy: 0.7766\n",
            "Epoch 16/100\n",
            "94/94 [==============================] - 0s 2ms/step - loss: 0.4571 - accuracy: 0.7813\n",
            "Epoch 17/100\n",
            "94/94 [==============================] - 0s 2ms/step - loss: 0.4574 - accuracy: 0.7779\n",
            "Epoch 18/100\n",
            "94/94 [==============================] - 0s 2ms/step - loss: 0.4545 - accuracy: 0.7829\n",
            "Epoch 19/100\n",
            "94/94 [==============================] - 0s 2ms/step - loss: 0.4541 - accuracy: 0.7806\n",
            "Epoch 20/100\n",
            "94/94 [==============================] - 0s 2ms/step - loss: 0.4523 - accuracy: 0.7796\n",
            "Epoch 21/100\n",
            "94/94 [==============================] - 0s 2ms/step - loss: 0.4502 - accuracy: 0.7906\n",
            "Epoch 22/100\n",
            "94/94 [==============================] - 0s 2ms/step - loss: 0.4487 - accuracy: 0.7829\n",
            "Epoch 23/100\n",
            "94/94 [==============================] - 0s 2ms/step - loss: 0.4484 - accuracy: 0.7809\n",
            "Epoch 24/100\n",
            "94/94 [==============================] - 0s 2ms/step - loss: 0.4462 - accuracy: 0.7853\n",
            "Epoch 25/100\n",
            "94/94 [==============================] - 0s 2ms/step - loss: 0.4455 - accuracy: 0.7866\n",
            "Epoch 26/100\n",
            "94/94 [==============================] - 0s 2ms/step - loss: 0.4446 - accuracy: 0.7906\n",
            "Epoch 27/100\n",
            "94/94 [==============================] - 0s 2ms/step - loss: 0.4412 - accuracy: 0.7890\n",
            "Epoch 28/100\n",
            "94/94 [==============================] - 0s 2ms/step - loss: 0.4409 - accuracy: 0.7876\n",
            "Epoch 29/100\n",
            "94/94 [==============================] - 0s 2ms/step - loss: 0.4390 - accuracy: 0.7883\n",
            "Epoch 30/100\n",
            "94/94 [==============================] - 0s 2ms/step - loss: 0.4373 - accuracy: 0.7930\n",
            "Epoch 31/100\n",
            "94/94 [==============================] - 0s 2ms/step - loss: 0.4374 - accuracy: 0.7933\n",
            "Epoch 32/100\n",
            "94/94 [==============================] - 0s 2ms/step - loss: 0.4370 - accuracy: 0.7970\n",
            "Epoch 33/100\n",
            "94/94 [==============================] - 0s 2ms/step - loss: 0.4339 - accuracy: 0.7943\n",
            "Epoch 34/100\n",
            "94/94 [==============================] - 0s 2ms/step - loss: 0.4337 - accuracy: 0.7923\n",
            "Epoch 35/100\n",
            "94/94 [==============================] - 0s 2ms/step - loss: 0.4328 - accuracy: 0.7953\n",
            "Epoch 36/100\n",
            "94/94 [==============================] - 0s 2ms/step - loss: 0.4307 - accuracy: 0.7983\n",
            "Epoch 37/100\n",
            "94/94 [==============================] - 0s 2ms/step - loss: 0.4295 - accuracy: 0.7953\n",
            "Epoch 38/100\n",
            "94/94 [==============================] - 0s 2ms/step - loss: 0.4291 - accuracy: 0.7973\n",
            "Epoch 39/100\n",
            "94/94 [==============================] - 0s 2ms/step - loss: 0.4279 - accuracy: 0.8010\n",
            "Epoch 40/100\n",
            "94/94 [==============================] - 0s 2ms/step - loss: 0.4266 - accuracy: 0.7940\n",
            "Epoch 41/100\n",
            "94/94 [==============================] - 0s 2ms/step - loss: 0.4262 - accuracy: 0.8010\n",
            "Epoch 42/100\n",
            "94/94 [==============================] - 0s 2ms/step - loss: 0.4246 - accuracy: 0.8010\n",
            "Epoch 43/100\n",
            "94/94 [==============================] - 0s 2ms/step - loss: 0.4237 - accuracy: 0.8030\n",
            "Epoch 44/100\n",
            "94/94 [==============================] - 0s 2ms/step - loss: 0.4211 - accuracy: 0.7990\n",
            "Epoch 45/100\n",
            "94/94 [==============================] - 0s 2ms/step - loss: 0.4210 - accuracy: 0.8007\n",
            "Epoch 46/100\n",
            "94/94 [==============================] - 0s 2ms/step - loss: 0.4198 - accuracy: 0.8037\n",
            "Epoch 47/100\n",
            "94/94 [==============================] - 0s 2ms/step - loss: 0.4186 - accuracy: 0.8070\n",
            "Epoch 48/100\n",
            "94/94 [==============================] - 0s 2ms/step - loss: 0.4175 - accuracy: 0.8043\n",
            "Epoch 49/100\n",
            "94/94 [==============================] - 0s 2ms/step - loss: 0.4152 - accuracy: 0.8040\n",
            "Epoch 50/100\n",
            "94/94 [==============================] - 0s 2ms/step - loss: 0.4151 - accuracy: 0.8033\n",
            "Epoch 51/100\n",
            "94/94 [==============================] - 0s 2ms/step - loss: 0.4154 - accuracy: 0.8064\n",
            "Epoch 52/100\n",
            "94/94 [==============================] - 0s 2ms/step - loss: 0.4138 - accuracy: 0.8060\n",
            "Epoch 53/100\n",
            "94/94 [==============================] - 0s 2ms/step - loss: 0.4118 - accuracy: 0.8077\n",
            "Epoch 54/100\n",
            "94/94 [==============================] - 0s 2ms/step - loss: 0.4119 - accuracy: 0.8100\n",
            "Epoch 55/100\n",
            "94/94 [==============================] - 0s 2ms/step - loss: 0.4097 - accuracy: 0.8030\n",
            "Epoch 56/100\n",
            "94/94 [==============================] - 0s 2ms/step - loss: 0.4099 - accuracy: 0.8054\n",
            "Epoch 57/100\n",
            "94/94 [==============================] - 0s 2ms/step - loss: 0.4097 - accuracy: 0.8057\n",
            "Epoch 58/100\n",
            "94/94 [==============================] - 0s 2ms/step - loss: 0.4069 - accuracy: 0.8074\n",
            "Epoch 59/100\n",
            "94/94 [==============================] - 0s 2ms/step - loss: 0.4075 - accuracy: 0.8120\n",
            "Epoch 60/100\n",
            "94/94 [==============================] - 0s 2ms/step - loss: 0.4054 - accuracy: 0.8114\n",
            "Epoch 61/100\n",
            "94/94 [==============================] - 0s 2ms/step - loss: 0.4053 - accuracy: 0.8097\n",
            "Epoch 62/100\n",
            "94/94 [==============================] - 0s 2ms/step - loss: 0.4039 - accuracy: 0.8144\n",
            "Epoch 63/100\n",
            "94/94 [==============================] - 0s 2ms/step - loss: 0.4038 - accuracy: 0.8147\n",
            "Epoch 64/100\n",
            "94/94 [==============================] - 0s 2ms/step - loss: 0.4024 - accuracy: 0.8140\n",
            "Epoch 65/100\n",
            "94/94 [==============================] - 0s 2ms/step - loss: 0.4027 - accuracy: 0.8124\n",
            "Epoch 66/100\n",
            "94/94 [==============================] - 0s 2ms/step - loss: 0.4016 - accuracy: 0.8157\n",
            "Epoch 67/100\n",
            "94/94 [==============================] - 0s 2ms/step - loss: 0.4007 - accuracy: 0.8147\n",
            "Epoch 68/100\n",
            "94/94 [==============================] - 0s 2ms/step - loss: 0.3992 - accuracy: 0.8187\n",
            "Epoch 69/100\n",
            "94/94 [==============================] - 0s 2ms/step - loss: 0.4001 - accuracy: 0.8161\n",
            "Epoch 70/100\n",
            "94/94 [==============================] - 0s 2ms/step - loss: 0.4007 - accuracy: 0.8130\n",
            "Epoch 71/100\n",
            "94/94 [==============================] - 0s 2ms/step - loss: 0.3976 - accuracy: 0.8157\n",
            "Epoch 72/100\n",
            "94/94 [==============================] - 0s 2ms/step - loss: 0.3966 - accuracy: 0.8164\n",
            "Epoch 73/100\n",
            "94/94 [==============================] - 0s 2ms/step - loss: 0.3956 - accuracy: 0.8184\n",
            "Epoch 74/100\n",
            "94/94 [==============================] - 0s 2ms/step - loss: 0.3956 - accuracy: 0.8140\n",
            "Epoch 75/100\n",
            "94/94 [==============================] - 0s 2ms/step - loss: 0.3949 - accuracy: 0.8181\n",
            "Epoch 76/100\n",
            "94/94 [==============================] - 0s 2ms/step - loss: 0.3946 - accuracy: 0.8204\n",
            "Epoch 77/100\n",
            "94/94 [==============================] - 0s 2ms/step - loss: 0.3946 - accuracy: 0.8167\n",
            "Epoch 78/100\n",
            "94/94 [==============================] - 0s 2ms/step - loss: 0.3912 - accuracy: 0.8167\n",
            "Epoch 79/100\n",
            "94/94 [==============================] - 0s 2ms/step - loss: 0.3908 - accuracy: 0.8187\n",
            "Epoch 80/100\n",
            "94/94 [==============================] - 0s 2ms/step - loss: 0.3924 - accuracy: 0.8227\n",
            "Epoch 81/100\n",
            "94/94 [==============================] - 0s 2ms/step - loss: 0.3913 - accuracy: 0.8181\n",
            "Epoch 82/100\n",
            "94/94 [==============================] - 0s 2ms/step - loss: 0.3894 - accuracy: 0.8234\n",
            "Epoch 83/100\n",
            "94/94 [==============================] - 0s 2ms/step - loss: 0.3879 - accuracy: 0.8207\n",
            "Epoch 84/100\n",
            "94/94 [==============================] - 0s 2ms/step - loss: 0.3867 - accuracy: 0.8241\n",
            "Epoch 85/100\n",
            "94/94 [==============================] - 0s 2ms/step - loss: 0.3853 - accuracy: 0.8221\n",
            "Epoch 86/100\n",
            "94/94 [==============================] - 0s 2ms/step - loss: 0.3858 - accuracy: 0.8241\n",
            "Epoch 87/100\n",
            "94/94 [==============================] - 0s 2ms/step - loss: 0.3848 - accuracy: 0.8184\n",
            "Epoch 88/100\n",
            "94/94 [==============================] - 0s 2ms/step - loss: 0.3853 - accuracy: 0.8181\n",
            "Epoch 89/100\n",
            "94/94 [==============================] - 0s 2ms/step - loss: 0.3846 - accuracy: 0.8258\n",
            "Epoch 90/100\n",
            "94/94 [==============================] - 0s 2ms/step - loss: 0.3838 - accuracy: 0.8278\n",
            "Epoch 91/100\n",
            "94/94 [==============================] - 0s 2ms/step - loss: 0.3828 - accuracy: 0.8224\n",
            "Epoch 92/100\n",
            "94/94 [==============================] - 0s 2ms/step - loss: 0.3830 - accuracy: 0.8268\n",
            "Epoch 93/100\n",
            "94/94 [==============================] - 0s 2ms/step - loss: 0.3826 - accuracy: 0.8268\n",
            "Epoch 94/100\n",
            "94/94 [==============================] - 0s 2ms/step - loss: 0.3815 - accuracy: 0.8244\n",
            "Epoch 95/100\n",
            "94/94 [==============================] - 0s 2ms/step - loss: 0.3802 - accuracy: 0.8234\n",
            "Epoch 96/100\n",
            "94/94 [==============================] - 0s 2ms/step - loss: 0.3793 - accuracy: 0.8301\n",
            "Epoch 97/100\n",
            "94/94 [==============================] - 0s 2ms/step - loss: 0.3782 - accuracy: 0.8268\n",
            "Epoch 98/100\n",
            "94/94 [==============================] - 0s 2ms/step - loss: 0.3798 - accuracy: 0.8274\n",
            "Epoch 99/100\n",
            "94/94 [==============================] - 0s 2ms/step - loss: 0.3758 - accuracy: 0.8301\n",
            "Epoch 100/100\n",
            "94/94 [==============================] - 0s 2ms/step - loss: 0.3778 - accuracy: 0.8261\n",
            "44/44 [==============================] - 0s 1ms/step - loss: 0.5966 - accuracy: 0.7143\n",
            "[0.5965503454208374, 0.7142857313156128]\n",
            "44/44 [==============================] - 0s 1ms/step\n",
            "Classification Report: \n",
            "               precision    recall  f1-score   support\n",
            "\n",
            "           0       0.88      0.71      0.79      1033\n",
            "           1       0.48      0.72      0.57       374\n",
            "\n",
            "    accuracy                           0.71      1407\n",
            "   macro avg       0.68      0.72      0.68      1407\n",
            "weighted avg       0.77      0.71      0.73      1407\n",
            "\n"
          ]
        }
      ],
      "source": [
        "X_train4, y_train4 = get_train_batch(df3_class0, df3_class1, 1495, 2990)\n",
        "\n",
        "y_pred2 = ANN(X_train4, y_train4, X_test4, y_test4, 'binary_crossentropy', -1)"
      ]
    },
    {
      "cell_type": "code",
      "execution_count": null,
      "metadata": {
        "id": "3QuOecJcpG4H",
        "outputId": "7dcc6bbf-777f-4a06-c536-e4e4645f9d0f",
        "colab": {
          "base_uri": "https://localhost:8080/"
        }
      },
      "outputs": [
        {
          "output_type": "stream",
          "name": "stdout",
          "text": [
            "Epoch 1/100\n",
            "83/83 [==============================] - 1s 2ms/step - loss: 0.6237 - accuracy: 0.6808\n",
            "Epoch 2/100\n",
            "83/83 [==============================] - 0s 2ms/step - loss: 0.5136 - accuracy: 0.7696\n",
            "Epoch 3/100\n",
            "83/83 [==============================] - 0s 2ms/step - loss: 0.4915 - accuracy: 0.7734\n",
            "Epoch 4/100\n",
            "83/83 [==============================] - 0s 2ms/step - loss: 0.4824 - accuracy: 0.7765\n",
            "Epoch 5/100\n",
            "83/83 [==============================] - 0s 2ms/step - loss: 0.4766 - accuracy: 0.7772\n",
            "Epoch 6/100\n",
            "83/83 [==============================] - 0s 2ms/step - loss: 0.4727 - accuracy: 0.7776\n",
            "Epoch 7/100\n",
            "83/83 [==============================] - 0s 2ms/step - loss: 0.4692 - accuracy: 0.7814\n",
            "Epoch 8/100\n",
            "83/83 [==============================] - 0s 2ms/step - loss: 0.4658 - accuracy: 0.7837\n",
            "Epoch 9/100\n",
            "83/83 [==============================] - 0s 2ms/step - loss: 0.4637 - accuracy: 0.7863\n",
            "Epoch 10/100\n",
            "83/83 [==============================] - 0s 2ms/step - loss: 0.4610 - accuracy: 0.7867\n",
            "Epoch 11/100\n",
            "83/83 [==============================] - 0s 2ms/step - loss: 0.4582 - accuracy: 0.7871\n",
            "Epoch 12/100\n",
            "83/83 [==============================] - 0s 2ms/step - loss: 0.4582 - accuracy: 0.7867\n",
            "Epoch 13/100\n",
            "83/83 [==============================] - 0s 2ms/step - loss: 0.4558 - accuracy: 0.7909\n",
            "Epoch 14/100\n",
            "83/83 [==============================] - 0s 2ms/step - loss: 0.4536 - accuracy: 0.7890\n",
            "Epoch 15/100\n",
            "83/83 [==============================] - 0s 2ms/step - loss: 0.4529 - accuracy: 0.7924\n",
            "Epoch 16/100\n",
            "83/83 [==============================] - 0s 2ms/step - loss: 0.4504 - accuracy: 0.7898\n",
            "Epoch 17/100\n",
            "83/83 [==============================] - 0s 2ms/step - loss: 0.4476 - accuracy: 0.7943\n",
            "Epoch 18/100\n",
            "83/83 [==============================] - 0s 2ms/step - loss: 0.4468 - accuracy: 0.7951\n",
            "Epoch 19/100\n",
            "83/83 [==============================] - 0s 2ms/step - loss: 0.4463 - accuracy: 0.7932\n",
            "Epoch 20/100\n",
            "83/83 [==============================] - 0s 2ms/step - loss: 0.4441 - accuracy: 0.7985\n",
            "Epoch 21/100\n",
            "83/83 [==============================] - 0s 2ms/step - loss: 0.4426 - accuracy: 0.8008\n",
            "Epoch 22/100\n",
            "83/83 [==============================] - 0s 2ms/step - loss: 0.4418 - accuracy: 0.7989\n",
            "Epoch 23/100\n",
            "83/83 [==============================] - 0s 2ms/step - loss: 0.4400 - accuracy: 0.8008\n",
            "Epoch 24/100\n",
            "83/83 [==============================] - 0s 2ms/step - loss: 0.4388 - accuracy: 0.8023\n",
            "Epoch 25/100\n",
            "83/83 [==============================] - 0s 2ms/step - loss: 0.4359 - accuracy: 0.8008\n",
            "Epoch 26/100\n",
            "83/83 [==============================] - 0s 2ms/step - loss: 0.4361 - accuracy: 0.8030\n",
            "Epoch 27/100\n",
            "83/83 [==============================] - 0s 2ms/step - loss: 0.4344 - accuracy: 0.8034\n",
            "Epoch 28/100\n",
            "83/83 [==============================] - 0s 2ms/step - loss: 0.4324 - accuracy: 0.8095\n",
            "Epoch 29/100\n",
            "83/83 [==============================] - 0s 2ms/step - loss: 0.4316 - accuracy: 0.8038\n",
            "Epoch 30/100\n",
            "83/83 [==============================] - 0s 2ms/step - loss: 0.4295 - accuracy: 0.8034\n",
            "Epoch 31/100\n",
            "83/83 [==============================] - 0s 2ms/step - loss: 0.4277 - accuracy: 0.8095\n",
            "Epoch 32/100\n",
            "83/83 [==============================] - 0s 2ms/step - loss: 0.4276 - accuracy: 0.8068\n",
            "Epoch 33/100\n",
            "83/83 [==============================] - 0s 2ms/step - loss: 0.4251 - accuracy: 0.8102\n",
            "Epoch 34/100\n",
            "83/83 [==============================] - 0s 2ms/step - loss: 0.4251 - accuracy: 0.8076\n",
            "Epoch 35/100\n",
            "83/83 [==============================] - 0s 2ms/step - loss: 0.4247 - accuracy: 0.8114\n",
            "Epoch 36/100\n",
            "83/83 [==============================] - 0s 2ms/step - loss: 0.4216 - accuracy: 0.8087\n",
            "Epoch 37/100\n",
            "83/83 [==============================] - 0s 2ms/step - loss: 0.4205 - accuracy: 0.8106\n",
            "Epoch 38/100\n",
            "83/83 [==============================] - 0s 2ms/step - loss: 0.4205 - accuracy: 0.8114\n",
            "Epoch 39/100\n",
            "83/83 [==============================] - 0s 2ms/step - loss: 0.4174 - accuracy: 0.8140\n",
            "Epoch 40/100\n",
            "83/83 [==============================] - 0s 2ms/step - loss: 0.4203 - accuracy: 0.8133\n",
            "Epoch 41/100\n",
            "83/83 [==============================] - 0s 2ms/step - loss: 0.4157 - accuracy: 0.8167\n",
            "Epoch 42/100\n",
            "83/83 [==============================] - 0s 2ms/step - loss: 0.4151 - accuracy: 0.8167\n",
            "Epoch 43/100\n",
            "83/83 [==============================] - 0s 2ms/step - loss: 0.4135 - accuracy: 0.8159\n",
            "Epoch 44/100\n",
            "83/83 [==============================] - 0s 2ms/step - loss: 0.4113 - accuracy: 0.8133\n",
            "Epoch 45/100\n",
            "83/83 [==============================] - 0s 2ms/step - loss: 0.4108 - accuracy: 0.8144\n",
            "Epoch 46/100\n",
            "83/83 [==============================] - 0s 2ms/step - loss: 0.4097 - accuracy: 0.8163\n",
            "Epoch 47/100\n",
            "83/83 [==============================] - 0s 2ms/step - loss: 0.4076 - accuracy: 0.8129\n",
            "Epoch 48/100\n",
            "83/83 [==============================] - 0s 2ms/step - loss: 0.4097 - accuracy: 0.8197\n",
            "Epoch 49/100\n",
            "83/83 [==============================] - 0s 2ms/step - loss: 0.4068 - accuracy: 0.8140\n",
            "Epoch 50/100\n",
            "83/83 [==============================] - 0s 2ms/step - loss: 0.4071 - accuracy: 0.8125\n",
            "Epoch 51/100\n",
            "83/83 [==============================] - 0s 2ms/step - loss: 0.4079 - accuracy: 0.8190\n",
            "Epoch 52/100\n",
            "83/83 [==============================] - 0s 2ms/step - loss: 0.4041 - accuracy: 0.8182\n",
            "Epoch 53/100\n",
            "83/83 [==============================] - 0s 2ms/step - loss: 0.4011 - accuracy: 0.8186\n",
            "Epoch 54/100\n",
            "83/83 [==============================] - 0s 2ms/step - loss: 0.4026 - accuracy: 0.8182\n",
            "Epoch 55/100\n",
            "83/83 [==============================] - 0s 2ms/step - loss: 0.4003 - accuracy: 0.8250\n",
            "Epoch 56/100\n",
            "83/83 [==============================] - 0s 2ms/step - loss: 0.3999 - accuracy: 0.8220\n",
            "Epoch 57/100\n",
            "83/83 [==============================] - 0s 2ms/step - loss: 0.4006 - accuracy: 0.8213\n",
            "Epoch 58/100\n",
            "83/83 [==============================] - 0s 2ms/step - loss: 0.3997 - accuracy: 0.8228\n",
            "Epoch 59/100\n",
            "83/83 [==============================] - 0s 2ms/step - loss: 0.4000 - accuracy: 0.8178\n",
            "Epoch 60/100\n",
            "83/83 [==============================] - 0s 2ms/step - loss: 0.3984 - accuracy: 0.8239\n",
            "Epoch 61/100\n",
            "83/83 [==============================] - 0s 2ms/step - loss: 0.3950 - accuracy: 0.8224\n",
            "Epoch 62/100\n",
            "83/83 [==============================] - 0s 2ms/step - loss: 0.3935 - accuracy: 0.8239\n",
            "Epoch 63/100\n",
            "83/83 [==============================] - 0s 2ms/step - loss: 0.3934 - accuracy: 0.8254\n",
            "Epoch 64/100\n",
            "83/83 [==============================] - 0s 2ms/step - loss: 0.3935 - accuracy: 0.8235\n",
            "Epoch 65/100\n",
            "83/83 [==============================] - 0s 2ms/step - loss: 0.3942 - accuracy: 0.8231\n",
            "Epoch 66/100\n",
            "83/83 [==============================] - 0s 2ms/step - loss: 0.3909 - accuracy: 0.8243\n",
            "Epoch 67/100\n",
            "83/83 [==============================] - 0s 2ms/step - loss: 0.3909 - accuracy: 0.8262\n",
            "Epoch 68/100\n",
            "83/83 [==============================] - 0s 2ms/step - loss: 0.3893 - accuracy: 0.8281\n",
            "Epoch 69/100\n",
            "83/83 [==============================] - 0s 2ms/step - loss: 0.3880 - accuracy: 0.8269\n",
            "Epoch 70/100\n",
            "83/83 [==============================] - 0s 2ms/step - loss: 0.3882 - accuracy: 0.8269\n",
            "Epoch 71/100\n",
            "83/83 [==============================] - 0s 2ms/step - loss: 0.3869 - accuracy: 0.8304\n",
            "Epoch 72/100\n",
            "83/83 [==============================] - 0s 2ms/step - loss: 0.3871 - accuracy: 0.8250\n",
            "Epoch 73/100\n",
            "83/83 [==============================] - 0s 2ms/step - loss: 0.3861 - accuracy: 0.8323\n",
            "Epoch 74/100\n",
            "83/83 [==============================] - 0s 2ms/step - loss: 0.3837 - accuracy: 0.8300\n",
            "Epoch 75/100\n",
            "83/83 [==============================] - 0s 2ms/step - loss: 0.3828 - accuracy: 0.8319\n",
            "Epoch 76/100\n",
            "83/83 [==============================] - 0s 2ms/step - loss: 0.3836 - accuracy: 0.8300\n",
            "Epoch 77/100\n",
            "83/83 [==============================] - 0s 2ms/step - loss: 0.3827 - accuracy: 0.8300\n",
            "Epoch 78/100\n",
            "83/83 [==============================] - 0s 2ms/step - loss: 0.3817 - accuracy: 0.8330\n",
            "Epoch 79/100\n",
            "83/83 [==============================] - 0s 2ms/step - loss: 0.3790 - accuracy: 0.8319\n",
            "Epoch 80/100\n",
            "83/83 [==============================] - 0s 2ms/step - loss: 0.3785 - accuracy: 0.8342\n",
            "Epoch 81/100\n",
            "83/83 [==============================] - 0s 2ms/step - loss: 0.3813 - accuracy: 0.8292\n",
            "Epoch 82/100\n",
            "83/83 [==============================] - 0s 2ms/step - loss: 0.3797 - accuracy: 0.8368\n",
            "Epoch 83/100\n",
            "83/83 [==============================] - 0s 2ms/step - loss: 0.3768 - accuracy: 0.8342\n",
            "Epoch 84/100\n",
            "83/83 [==============================] - 0s 2ms/step - loss: 0.3752 - accuracy: 0.8387\n",
            "Epoch 85/100\n",
            "83/83 [==============================] - 0s 2ms/step - loss: 0.3746 - accuracy: 0.8311\n",
            "Epoch 86/100\n",
            "83/83 [==============================] - 0s 2ms/step - loss: 0.3761 - accuracy: 0.8364\n",
            "Epoch 87/100\n",
            "83/83 [==============================] - 0s 2ms/step - loss: 0.3746 - accuracy: 0.8338\n",
            "Epoch 88/100\n",
            "83/83 [==============================] - 0s 2ms/step - loss: 0.3743 - accuracy: 0.8357\n",
            "Epoch 89/100\n",
            "83/83 [==============================] - 0s 2ms/step - loss: 0.3743 - accuracy: 0.8349\n",
            "Epoch 90/100\n",
            "83/83 [==============================] - 0s 2ms/step - loss: 0.3718 - accuracy: 0.8372\n",
            "Epoch 91/100\n",
            "83/83 [==============================] - 0s 2ms/step - loss: 0.3707 - accuracy: 0.8349\n",
            "Epoch 92/100\n",
            "83/83 [==============================] - 0s 2ms/step - loss: 0.3697 - accuracy: 0.8406\n",
            "Epoch 93/100\n",
            "83/83 [==============================] - 0s 2ms/step - loss: 0.3695 - accuracy: 0.8376\n",
            "Epoch 94/100\n",
            "83/83 [==============================] - 0s 2ms/step - loss: 0.3670 - accuracy: 0.8380\n",
            "Epoch 95/100\n",
            "83/83 [==============================] - 0s 2ms/step - loss: 0.3680 - accuracy: 0.8402\n",
            "Epoch 96/100\n",
            "83/83 [==============================] - 0s 2ms/step - loss: 0.3675 - accuracy: 0.8417\n",
            "Epoch 97/100\n",
            "83/83 [==============================] - 0s 2ms/step - loss: 0.3664 - accuracy: 0.8398\n",
            "Epoch 98/100\n",
            "83/83 [==============================] - 0s 2ms/step - loss: 0.3656 - accuracy: 0.8380\n",
            "Epoch 99/100\n",
            "83/83 [==============================] - 0s 2ms/step - loss: 0.3693 - accuracy: 0.8391\n",
            "Epoch 100/100\n",
            "83/83 [==============================] - 0s 2ms/step - loss: 0.3650 - accuracy: 0.8383\n",
            "44/44 [==============================] - 0s 1ms/step - loss: 0.7120 - accuracy: 0.6610\n",
            "[0.7119772434234619, 0.6609808206558228]\n",
            "44/44 [==============================] - 0s 1ms/step\n",
            "Classification Report: \n",
            "               precision    recall  f1-score   support\n",
            "\n",
            "           0       0.91      0.60      0.72      1033\n",
            "           1       0.43      0.84      0.57       374\n",
            "\n",
            "    accuracy                           0.66      1407\n",
            "   macro avg       0.67      0.72      0.64      1407\n",
            "weighted avg       0.78      0.66      0.68      1407\n",
            "\n"
          ]
        }
      ],
      "source": [
        "X_train4, y_train4 = get_train_batch(df3_class0, df3_class1, 2990, 4130)\n",
        "\n",
        "y_pred3 = ANN(X_train4, y_train4, X_test4, y_test4, 'binary_crossentropy', -1)"
      ]
    },
    {
      "cell_type": "code",
      "execution_count": null,
      "metadata": {
        "id": "c8gs2vSjpG4H",
        "outputId": "8f021b4c-f1f5-4997-8d0b-86b223f8b418",
        "colab": {
          "base_uri": "https://localhost:8080/"
        }
      },
      "outputs": [
        {
          "output_type": "execute_result",
          "data": {
            "text/plain": [
              "1407"
            ]
          },
          "metadata": {},
          "execution_count": 311
        }
      ],
      "source": [
        "len(y_pred1)"
      ]
    },
    {
      "cell_type": "code",
      "execution_count": null,
      "metadata": {
        "id": "pFolc647pG4I"
      },
      "outputs": [],
      "source": [
        "y_pred_final = y_pred1.copy()\n",
        "for i in range(len(y_pred1)):\n",
        "    n_ones = y_pred1[i] + y_pred2[i] + y_pred3[i]\n",
        "    if n_ones>1:\n",
        "        y_pred_final[i] = 1\n",
        "    else:\n",
        "        y_pred_final[i] = 0"
      ]
    },
    {
      "cell_type": "code",
      "execution_count": null,
      "metadata": {
        "id": "BcVpfzcJpG4I",
        "outputId": "32d36bee-ca3d-4c42-ef8a-74d047a45857",
        "colab": {
          "base_uri": "https://localhost:8080/"
        }
      },
      "outputs": [
        {
          "output_type": "stream",
          "name": "stdout",
          "text": [
            "              precision    recall  f1-score   support\n",
            "\n",
            "           0       0.90      0.69      0.78      1033\n",
            "           1       0.48      0.79      0.59       374\n",
            "\n",
            "    accuracy                           0.71      1407\n",
            "   macro avg       0.69      0.74      0.69      1407\n",
            "weighted avg       0.79      0.71      0.73      1407\n",
            "\n"
          ]
        }
      ],
      "source": [
        "cl_rep = classification_report(y_test4, y_pred_final)\n",
        "print(cl_rep)"
      ]
    },
    {
      "cell_type": "code",
      "source": [],
      "metadata": {
        "id": "Tv1uj2AaNJrM"
      },
      "execution_count": null,
      "outputs": []
    },
    {
      "cell_type": "markdown",
      "source": [
        "****"
      ],
      "metadata": {
        "id": "gZvDZPdVNMQQ"
      }
    },
    {
      "cell_type": "markdown",
      "metadata": {
        "id": "YtJfEPbV7DWz"
      },
      "source": [
        "###Method 5 : Borderline SMOTE 1"
      ]
    },
    {
      "cell_type": "code",
      "source": [
        "X = df2.drop('Churn',axis='columns')\n",
        "y = df2['Churn']"
      ],
      "metadata": {
        "id": "Dk3RiyFUNbzG"
      },
      "execution_count": 176,
      "outputs": []
    },
    {
      "cell_type": "code",
      "source": [
        "from imblearn.over_sampling import BorderlineSMOTE\n",
        "\n",
        "bsmote = BorderlineSMOTE(sampling_strategy='minority',random_state = 42,kind='borderline-1')\n",
        "X_bs, y_bs = bsmote.fit_resample(X, y)\n",
        "\n",
        "y_bs.value_counts()"
      ],
      "metadata": {
        "colab": {
          "base_uri": "https://localhost:8080/"
        },
        "id": "0Bokc3AyNn94",
        "outputId": "f7ec1283-933b-45d4-a4b4-89342d37cac7"
      },
      "execution_count": 177,
      "outputs": [
        {
          "output_type": "execute_result",
          "data": {
            "text/plain": [
              "0    5163\n",
              "1    5163\n",
              "Name: Churn, dtype: int64"
            ]
          },
          "metadata": {},
          "execution_count": 177
        }
      ]
    },
    {
      "cell_type": "code",
      "source": [
        "from sklearn.model_selection import train_test_split\n",
        "X_train5, X_test5, y_train5, y_test5 = train_test_split(X_bs, y_bs, test_size=0.2, random_state=15, stratify=y_bs)"
      ],
      "metadata": {
        "id": "dQ8RlVf8l5Dy"
      },
      "execution_count": 178,
      "outputs": []
    },
    {
      "cell_type": "code",
      "source": [
        "# Number of classes in training Data\n",
        "y_train5.value_counts()"
      ],
      "metadata": {
        "colab": {
          "base_uri": "https://localhost:8080/"
        },
        "id": "ZwX1xKWEnY6w",
        "outputId": "612fd367-1163-464d-ce74-baeb643cacf0"
      },
      "execution_count": 179,
      "outputs": [
        {
          "output_type": "execute_result",
          "data": {
            "text/plain": [
              "1    4130\n",
              "0    4130\n",
              "Name: Churn, dtype: int64"
            ]
          },
          "metadata": {},
          "execution_count": 179
        }
      ]
    },
    {
      "cell_type": "code",
      "source": [
        "y_preds5 = ANN(X_train5, y_train5, X_test5, y_test5, 'binary_crossentropy', -1)"
      ],
      "metadata": {
        "colab": {
          "base_uri": "https://localhost:8080/"
        },
        "id": "eA04Z9fWneqb",
        "outputId": "4f31450d-f202-4294-98da-5ea544639965"
      },
      "execution_count": 180,
      "outputs": [
        {
          "output_type": "stream",
          "name": "stdout",
          "text": [
            "Epoch 1/100\n",
            "259/259 [==============================] - 1s 2ms/step - loss: 0.5522 - accuracy: 0.7301\n",
            "Epoch 2/100\n",
            "259/259 [==============================] - 0s 2ms/step - loss: 0.4928 - accuracy: 0.7584\n",
            "Epoch 3/100\n",
            "259/259 [==============================] - 0s 2ms/step - loss: 0.4815 - accuracy: 0.7639\n",
            "Epoch 4/100\n",
            "259/259 [==============================] - 0s 2ms/step - loss: 0.4746 - accuracy: 0.7717\n",
            "Epoch 5/100\n",
            "259/259 [==============================] - 0s 2ms/step - loss: 0.4692 - accuracy: 0.7726\n",
            "Epoch 6/100\n",
            "259/259 [==============================] - 1s 3ms/step - loss: 0.4656 - accuracy: 0.7766\n",
            "Epoch 7/100\n",
            "259/259 [==============================] - 1s 3ms/step - loss: 0.4614 - accuracy: 0.7797\n",
            "Epoch 8/100\n",
            "259/259 [==============================] - 2s 6ms/step - loss: 0.4596 - accuracy: 0.7841\n",
            "Epoch 9/100\n",
            "259/259 [==============================] - 2s 7ms/step - loss: 0.4549 - accuracy: 0.7867\n",
            "Epoch 10/100\n",
            "259/259 [==============================] - 1s 3ms/step - loss: 0.4511 - accuracy: 0.7869\n",
            "Epoch 11/100\n",
            "259/259 [==============================] - 1s 3ms/step - loss: 0.4466 - accuracy: 0.7898\n",
            "Epoch 12/100\n",
            "259/259 [==============================] - 1s 3ms/step - loss: 0.4446 - accuracy: 0.7904\n",
            "Epoch 13/100\n",
            "259/259 [==============================] - 1s 3ms/step - loss: 0.4415 - accuracy: 0.7921\n",
            "Epoch 14/100\n",
            "259/259 [==============================] - 1s 3ms/step - loss: 0.4371 - accuracy: 0.7972\n",
            "Epoch 15/100\n",
            "259/259 [==============================] - 1s 3ms/step - loss: 0.4342 - accuracy: 0.7973\n",
            "Epoch 16/100\n",
            "259/259 [==============================] - 1s 2ms/step - loss: 0.4308 - accuracy: 0.7990\n",
            "Epoch 17/100\n",
            "259/259 [==============================] - 0s 2ms/step - loss: 0.4299 - accuracy: 0.8021\n",
            "Epoch 18/100\n",
            "259/259 [==============================] - 0s 2ms/step - loss: 0.4284 - accuracy: 0.8030\n",
            "Epoch 19/100\n",
            "259/259 [==============================] - 1s 3ms/step - loss: 0.4220 - accuracy: 0.8069\n",
            "Epoch 20/100\n",
            "259/259 [==============================] - 1s 4ms/step - loss: 0.4198 - accuracy: 0.8084\n",
            "Epoch 21/100\n",
            "259/259 [==============================] - 1s 4ms/step - loss: 0.4174 - accuracy: 0.8111\n",
            "Epoch 22/100\n",
            "259/259 [==============================] - 1s 4ms/step - loss: 0.4153 - accuracy: 0.8098\n",
            "Epoch 23/100\n",
            "259/259 [==============================] - 1s 4ms/step - loss: 0.4135 - accuracy: 0.8123\n",
            "Epoch 24/100\n",
            "259/259 [==============================] - 1s 5ms/step - loss: 0.4132 - accuracy: 0.8077\n",
            "Epoch 25/100\n",
            "259/259 [==============================] - 1s 3ms/step - loss: 0.4085 - accuracy: 0.8145\n",
            "Epoch 26/100\n",
            "259/259 [==============================] - 1s 3ms/step - loss: 0.4060 - accuracy: 0.8166\n",
            "Epoch 27/100\n",
            "259/259 [==============================] - 1s 3ms/step - loss: 0.4065 - accuracy: 0.8149\n",
            "Epoch 28/100\n",
            "259/259 [==============================] - 0s 2ms/step - loss: 0.4037 - accuracy: 0.8160\n",
            "Epoch 29/100\n",
            "259/259 [==============================] - 0s 2ms/step - loss: 0.4021 - accuracy: 0.8201\n",
            "Epoch 30/100\n",
            "259/259 [==============================] - 1s 2ms/step - loss: 0.4005 - accuracy: 0.8194\n",
            "Epoch 31/100\n",
            "259/259 [==============================] - 0s 2ms/step - loss: 0.3986 - accuracy: 0.8225\n",
            "Epoch 32/100\n",
            "259/259 [==============================] - 0s 2ms/step - loss: 0.3967 - accuracy: 0.8212\n",
            "Epoch 33/100\n",
            "259/259 [==============================] - 0s 2ms/step - loss: 0.3933 - accuracy: 0.8236\n",
            "Epoch 34/100\n",
            "259/259 [==============================] - 0s 2ms/step - loss: 0.3914 - accuracy: 0.8262\n",
            "Epoch 35/100\n",
            "259/259 [==============================] - 0s 2ms/step - loss: 0.3914 - accuracy: 0.8223\n",
            "Epoch 36/100\n",
            "259/259 [==============================] - 0s 2ms/step - loss: 0.3915 - accuracy: 0.8257\n",
            "Epoch 37/100\n",
            "259/259 [==============================] - 0s 2ms/step - loss: 0.3880 - accuracy: 0.8246\n",
            "Epoch 38/100\n",
            "259/259 [==============================] - 1s 4ms/step - loss: 0.3872 - accuracy: 0.8248\n",
            "Epoch 39/100\n",
            "259/259 [==============================] - 0s 2ms/step - loss: 0.3852 - accuracy: 0.8282\n",
            "Epoch 40/100\n",
            "259/259 [==============================] - 0s 2ms/step - loss: 0.3856 - accuracy: 0.8295\n",
            "Epoch 41/100\n",
            "259/259 [==============================] - 0s 2ms/step - loss: 0.3812 - accuracy: 0.8283\n",
            "Epoch 42/100\n",
            "259/259 [==============================] - 1s 3ms/step - loss: 0.3840 - accuracy: 0.8299\n",
            "Epoch 43/100\n",
            "259/259 [==============================] - 1s 3ms/step - loss: 0.3781 - accuracy: 0.8304\n",
            "Epoch 44/100\n",
            "259/259 [==============================] - 1s 3ms/step - loss: 0.3797 - accuracy: 0.8280\n",
            "Epoch 45/100\n",
            "259/259 [==============================] - 1s 3ms/step - loss: 0.3800 - accuracy: 0.8301\n",
            "Epoch 46/100\n",
            "259/259 [==============================] - 0s 2ms/step - loss: 0.3781 - accuracy: 0.8298\n",
            "Epoch 47/100\n",
            "259/259 [==============================] - 0s 2ms/step - loss: 0.3749 - accuracy: 0.8322\n",
            "Epoch 48/100\n",
            "259/259 [==============================] - 0s 2ms/step - loss: 0.3762 - accuracy: 0.8316\n",
            "Epoch 49/100\n",
            "259/259 [==============================] - 0s 2ms/step - loss: 0.3758 - accuracy: 0.8317\n",
            "Epoch 50/100\n",
            "259/259 [==============================] - 0s 2ms/step - loss: 0.3706 - accuracy: 0.8337\n",
            "Epoch 51/100\n",
            "259/259 [==============================] - 0s 2ms/step - loss: 0.3721 - accuracy: 0.8338\n",
            "Epoch 52/100\n",
            "259/259 [==============================] - 0s 2ms/step - loss: 0.3698 - accuracy: 0.8354\n",
            "Epoch 53/100\n",
            "259/259 [==============================] - 0s 2ms/step - loss: 0.3697 - accuracy: 0.8356\n",
            "Epoch 54/100\n",
            "259/259 [==============================] - 0s 2ms/step - loss: 0.3666 - accuracy: 0.8358\n",
            "Epoch 55/100\n",
            "259/259 [==============================] - 0s 2ms/step - loss: 0.3702 - accuracy: 0.8310\n",
            "Epoch 56/100\n",
            "259/259 [==============================] - 0s 2ms/step - loss: 0.3691 - accuracy: 0.8387\n",
            "Epoch 57/100\n",
            "259/259 [==============================] - 0s 2ms/step - loss: 0.3672 - accuracy: 0.8357\n",
            "Epoch 58/100\n",
            "259/259 [==============================] - 0s 2ms/step - loss: 0.3648 - accuracy: 0.8385\n",
            "Epoch 59/100\n",
            "259/259 [==============================] - 0s 2ms/step - loss: 0.3651 - accuracy: 0.8385\n",
            "Epoch 60/100\n",
            "259/259 [==============================] - 0s 2ms/step - loss: 0.3608 - accuracy: 0.8412\n",
            "Epoch 61/100\n",
            "259/259 [==============================] - 0s 2ms/step - loss: 0.3612 - accuracy: 0.8393\n",
            "Epoch 62/100\n",
            "259/259 [==============================] - 0s 2ms/step - loss: 0.3605 - accuracy: 0.8379\n",
            "Epoch 63/100\n",
            "259/259 [==============================] - 0s 2ms/step - loss: 0.3615 - accuracy: 0.8391\n",
            "Epoch 64/100\n",
            "259/259 [==============================] - 0s 2ms/step - loss: 0.3610 - accuracy: 0.8421\n",
            "Epoch 65/100\n",
            "259/259 [==============================] - 0s 2ms/step - loss: 0.3619 - accuracy: 0.8380\n",
            "Epoch 66/100\n",
            "259/259 [==============================] - 1s 2ms/step - loss: 0.3582 - accuracy: 0.8403\n",
            "Epoch 67/100\n",
            "259/259 [==============================] - 1s 3ms/step - loss: 0.3574 - accuracy: 0.8407\n",
            "Epoch 68/100\n",
            "259/259 [==============================] - 1s 3ms/step - loss: 0.3577 - accuracy: 0.8421\n",
            "Epoch 69/100\n",
            "259/259 [==============================] - 1s 3ms/step - loss: 0.3578 - accuracy: 0.8392\n",
            "Epoch 70/100\n",
            "259/259 [==============================] - 1s 2ms/step - loss: 0.3561 - accuracy: 0.8427\n",
            "Epoch 71/100\n",
            "259/259 [==============================] - 0s 2ms/step - loss: 0.3555 - accuracy: 0.8441\n",
            "Epoch 72/100\n",
            "259/259 [==============================] - 0s 2ms/step - loss: 0.3573 - accuracy: 0.8384\n",
            "Epoch 73/100\n",
            "259/259 [==============================] - 0s 2ms/step - loss: 0.3559 - accuracy: 0.8449\n",
            "Epoch 74/100\n",
            "259/259 [==============================] - 0s 2ms/step - loss: 0.3538 - accuracy: 0.8436\n",
            "Epoch 75/100\n",
            "259/259 [==============================] - 0s 2ms/step - loss: 0.3587 - accuracy: 0.8404\n",
            "Epoch 76/100\n",
            "259/259 [==============================] - 0s 2ms/step - loss: 0.3536 - accuracy: 0.8416\n",
            "Epoch 77/100\n",
            "259/259 [==============================] - 0s 2ms/step - loss: 0.3555 - accuracy: 0.8384\n",
            "Epoch 78/100\n",
            "259/259 [==============================] - 0s 2ms/step - loss: 0.3511 - accuracy: 0.8414\n",
            "Epoch 79/100\n",
            "259/259 [==============================] - 0s 2ms/step - loss: 0.3520 - accuracy: 0.8425\n",
            "Epoch 80/100\n",
            "259/259 [==============================] - 0s 2ms/step - loss: 0.3544 - accuracy: 0.8424\n",
            "Epoch 81/100\n",
            "259/259 [==============================] - 0s 2ms/step - loss: 0.3481 - accuracy: 0.8470\n",
            "Epoch 82/100\n",
            "259/259 [==============================] - 1s 2ms/step - loss: 0.3496 - accuracy: 0.8444\n",
            "Epoch 83/100\n",
            "259/259 [==============================] - 0s 2ms/step - loss: 0.3493 - accuracy: 0.8427\n",
            "Epoch 84/100\n",
            "259/259 [==============================] - 0s 2ms/step - loss: 0.3490 - accuracy: 0.8441\n",
            "Epoch 85/100\n",
            "259/259 [==============================] - 0s 2ms/step - loss: 0.3467 - accuracy: 0.8462\n",
            "Epoch 86/100\n",
            "259/259 [==============================] - 0s 2ms/step - loss: 0.3482 - accuracy: 0.8413\n",
            "Epoch 87/100\n",
            "259/259 [==============================] - 0s 2ms/step - loss: 0.3492 - accuracy: 0.8414\n",
            "Epoch 88/100\n",
            "259/259 [==============================] - 0s 2ms/step - loss: 0.3463 - accuracy: 0.8470\n",
            "Epoch 89/100\n",
            "259/259 [==============================] - 0s 2ms/step - loss: 0.3502 - accuracy: 0.8455\n",
            "Epoch 90/100\n",
            "259/259 [==============================] - 0s 2ms/step - loss: 0.3490 - accuracy: 0.8433\n",
            "Epoch 91/100\n",
            "259/259 [==============================] - 1s 3ms/step - loss: 0.3500 - accuracy: 0.8442\n",
            "Epoch 92/100\n",
            "259/259 [==============================] - 1s 3ms/step - loss: 0.3458 - accuracy: 0.8458\n",
            "Epoch 93/100\n",
            "259/259 [==============================] - 1s 3ms/step - loss: 0.3458 - accuracy: 0.8470\n",
            "Epoch 94/100\n",
            "259/259 [==============================] - 1s 3ms/step - loss: 0.3451 - accuracy: 0.8464\n",
            "Epoch 95/100\n",
            "259/259 [==============================] - 1s 2ms/step - loss: 0.3439 - accuracy: 0.8460\n",
            "Epoch 96/100\n",
            "259/259 [==============================] - 0s 2ms/step - loss: 0.3420 - accuracy: 0.8505\n",
            "Epoch 97/100\n",
            "259/259 [==============================] - 0s 2ms/step - loss: 0.3468 - accuracy: 0.8408\n",
            "Epoch 98/100\n",
            "259/259 [==============================] - 0s 2ms/step - loss: 0.3418 - accuracy: 0.8472\n",
            "Epoch 99/100\n",
            "259/259 [==============================] - 0s 2ms/step - loss: 0.3408 - accuracy: 0.8479\n",
            "Epoch 100/100\n",
            "259/259 [==============================] - 0s 2ms/step - loss: 0.3409 - accuracy: 0.8488\n",
            "65/65 [==============================] - 0s 1ms/step - loss: 0.4294 - accuracy: 0.7938\n",
            "[0.4293896555900574, 0.7938044667243958]\n",
            "65/65 [==============================] - 0s 1ms/step\n",
            "Classification Report: \n",
            "               precision    recall  f1-score   support\n",
            "\n",
            "           0       0.80      0.79      0.79      1033\n",
            "           1       0.79      0.80      0.79      1033\n",
            "\n",
            "    accuracy                           0.79      2066\n",
            "   macro avg       0.79      0.79      0.79      2066\n",
            "weighted avg       0.79      0.79      0.79      2066\n",
            "\n"
          ]
        }
      ]
    },
    {
      "cell_type": "code",
      "source": [
        "auc = roc_auc_score(y_test5, y_preds5)\n",
        "auc\n"
      ],
      "metadata": {
        "id": "8IDt5A46n04z",
        "colab": {
          "base_uri": "https://localhost:8080/"
        },
        "outputId": "5106cd3c-f96f-4754-dc8e-1d13553cde25"
      },
      "execution_count": 181,
      "outputs": [
        {
          "output_type": "execute_result",
          "data": {
            "text/plain": [
              "0.7938044530493709"
            ]
          },
          "metadata": {},
          "execution_count": 181
        }
      ]
    },
    {
      "cell_type": "markdown",
      "source": [
        "###Method 6: Borderline SMOTE 2"
      ],
      "metadata": {
        "id": "dD9xhhq3ocux"
      }
    },
    {
      "cell_type": "code",
      "source": [
        "X = df2.drop('Churn',axis='columns')\n",
        "y = df2['Churn']"
      ],
      "metadata": {
        "id": "G-8k-2-ipX1q"
      },
      "execution_count": 182,
      "outputs": []
    },
    {
      "cell_type": "code",
      "source": [
        "from imblearn.over_sampling import BorderlineSMOTE\n",
        "\n",
        "bsmote = BorderlineSMOTE(sampling_strategy='minority',random_state = 42,kind='borderline-2')\n",
        "X_bsm, y_bsm = bsmote.fit_resample(X, y)\n",
        "\n",
        "y_bsm.value_counts()"
      ],
      "metadata": {
        "colab": {
          "base_uri": "https://localhost:8080/"
        },
        "id": "40Qb2eHDpeNf",
        "outputId": "110b67a3-5d13-4c0b-b0d8-a7ef28c78ca6"
      },
      "execution_count": 183,
      "outputs": [
        {
          "output_type": "execute_result",
          "data": {
            "text/plain": [
              "0    5163\n",
              "1    5163\n",
              "Name: Churn, dtype: int64"
            ]
          },
          "metadata": {},
          "execution_count": 183
        }
      ]
    },
    {
      "cell_type": "code",
      "source": [
        "from sklearn.model_selection import train_test_split\n",
        "X_train6, X_test6, y_train6, y_test6 = train_test_split(X_bsm, y_bsm, test_size=0.2, random_state=15, stratify=y_bsm)"
      ],
      "metadata": {
        "id": "MzWb44YPphXH"
      },
      "execution_count": 184,
      "outputs": []
    },
    {
      "cell_type": "code",
      "source": [
        "# Number of classes in training Data\n",
        "y_train6.value_counts()"
      ],
      "metadata": {
        "colab": {
          "base_uri": "https://localhost:8080/"
        },
        "id": "_6LvE-Zrp0BA",
        "outputId": "59642a5c-7b58-4fb2-ffee-abde626a0f0c"
      },
      "execution_count": 185,
      "outputs": [
        {
          "output_type": "execute_result",
          "data": {
            "text/plain": [
              "1    4130\n",
              "0    4130\n",
              "Name: Churn, dtype: int64"
            ]
          },
          "metadata": {},
          "execution_count": 185
        }
      ]
    },
    {
      "cell_type": "code",
      "source": [
        "y_preds6 = ANN(X_train6, y_train6, X_test6, y_test6, 'binary_crossentropy', -1)"
      ],
      "metadata": {
        "colab": {
          "base_uri": "https://localhost:8080/"
        },
        "id": "MtQ9oIdop4F6",
        "outputId": "1633ff2b-9fde-4b9b-c47b-69b125defca4"
      },
      "execution_count": 186,
      "outputs": [
        {
          "output_type": "stream",
          "name": "stdout",
          "text": [
            "Epoch 1/100\n",
            "259/259 [==============================] - 1s 2ms/step - loss: 0.5559 - accuracy: 0.7252\n",
            "Epoch 2/100\n",
            "259/259 [==============================] - 0s 2ms/step - loss: 0.4636 - accuracy: 0.7782\n",
            "Epoch 3/100\n",
            "259/259 [==============================] - 0s 2ms/step - loss: 0.4347 - accuracy: 0.7903\n",
            "Epoch 4/100\n",
            "259/259 [==============================] - 0s 2ms/step - loss: 0.4192 - accuracy: 0.7978\n",
            "Epoch 5/100\n",
            "259/259 [==============================] - 0s 2ms/step - loss: 0.4122 - accuracy: 0.8006\n",
            "Epoch 6/100\n",
            "259/259 [==============================] - 0s 2ms/step - loss: 0.4028 - accuracy: 0.8068\n",
            "Epoch 7/100\n",
            "259/259 [==============================] - 0s 2ms/step - loss: 0.3978 - accuracy: 0.8073\n",
            "Epoch 8/100\n",
            "259/259 [==============================] - 0s 2ms/step - loss: 0.3927 - accuracy: 0.8098\n",
            "Epoch 9/100\n",
            "259/259 [==============================] - 0s 2ms/step - loss: 0.3889 - accuracy: 0.8121\n",
            "Epoch 10/100\n",
            "259/259 [==============================] - 0s 2ms/step - loss: 0.3866 - accuracy: 0.8151\n",
            "Epoch 11/100\n",
            "259/259 [==============================] - 0s 2ms/step - loss: 0.3823 - accuracy: 0.8162\n",
            "Epoch 12/100\n",
            "259/259 [==============================] - 0s 2ms/step - loss: 0.3820 - accuracy: 0.8156\n",
            "Epoch 13/100\n",
            "259/259 [==============================] - 0s 2ms/step - loss: 0.3789 - accuracy: 0.8166\n",
            "Epoch 14/100\n",
            "259/259 [==============================] - 0s 2ms/step - loss: 0.3749 - accuracy: 0.8195\n",
            "Epoch 15/100\n",
            "259/259 [==============================] - 0s 2ms/step - loss: 0.3738 - accuracy: 0.8219\n",
            "Epoch 16/100\n",
            "259/259 [==============================] - 0s 2ms/step - loss: 0.3728 - accuracy: 0.8205\n",
            "Epoch 17/100\n",
            "259/259 [==============================] - 1s 2ms/step - loss: 0.3689 - accuracy: 0.8241\n",
            "Epoch 18/100\n",
            "259/259 [==============================] - 1s 3ms/step - loss: 0.3697 - accuracy: 0.8230\n",
            "Epoch 19/100\n",
            "259/259 [==============================] - 1s 3ms/step - loss: 0.3682 - accuracy: 0.8218\n",
            "Epoch 20/100\n",
            "259/259 [==============================] - 1s 3ms/step - loss: 0.3642 - accuracy: 0.8237\n",
            "Epoch 21/100\n",
            "259/259 [==============================] - 1s 2ms/step - loss: 0.3654 - accuracy: 0.8262\n",
            "Epoch 22/100\n",
            "259/259 [==============================] - 0s 2ms/step - loss: 0.3646 - accuracy: 0.8220\n",
            "Epoch 23/100\n",
            "259/259 [==============================] - 0s 2ms/step - loss: 0.3621 - accuracy: 0.8260\n",
            "Epoch 24/100\n",
            "259/259 [==============================] - 0s 2ms/step - loss: 0.3612 - accuracy: 0.8278\n",
            "Epoch 25/100\n",
            "259/259 [==============================] - 0s 2ms/step - loss: 0.3595 - accuracy: 0.8268\n",
            "Epoch 26/100\n",
            "259/259 [==============================] - 0s 2ms/step - loss: 0.3611 - accuracy: 0.8274\n",
            "Epoch 27/100\n",
            "259/259 [==============================] - 0s 2ms/step - loss: 0.3590 - accuracy: 0.8289\n",
            "Epoch 28/100\n",
            "259/259 [==============================] - 0s 2ms/step - loss: 0.3549 - accuracy: 0.8298\n",
            "Epoch 29/100\n",
            "259/259 [==============================] - 0s 2ms/step - loss: 0.3540 - accuracy: 0.8308\n",
            "Epoch 30/100\n",
            "259/259 [==============================] - 0s 2ms/step - loss: 0.3527 - accuracy: 0.8346\n",
            "Epoch 31/100\n",
            "259/259 [==============================] - 0s 2ms/step - loss: 0.3544 - accuracy: 0.8295\n",
            "Epoch 32/100\n",
            "259/259 [==============================] - 0s 2ms/step - loss: 0.3529 - accuracy: 0.8303\n",
            "Epoch 33/100\n",
            "259/259 [==============================] - 0s 2ms/step - loss: 0.3517 - accuracy: 0.8322\n",
            "Epoch 34/100\n",
            "259/259 [==============================] - 0s 2ms/step - loss: 0.3532 - accuracy: 0.8335\n",
            "Epoch 35/100\n",
            "259/259 [==============================] - 0s 2ms/step - loss: 0.3530 - accuracy: 0.8301\n",
            "Epoch 36/100\n",
            "259/259 [==============================] - 0s 2ms/step - loss: 0.3517 - accuracy: 0.8351\n",
            "Epoch 37/100\n",
            "259/259 [==============================] - 0s 2ms/step - loss: 0.3487 - accuracy: 0.8327\n",
            "Epoch 38/100\n",
            "259/259 [==============================] - 0s 2ms/step - loss: 0.3504 - accuracy: 0.8298\n",
            "Epoch 39/100\n",
            "259/259 [==============================] - 1s 2ms/step - loss: 0.3469 - accuracy: 0.8344\n",
            "Epoch 40/100\n",
            "259/259 [==============================] - 0s 2ms/step - loss: 0.3454 - accuracy: 0.8381\n",
            "Epoch 41/100\n",
            "259/259 [==============================] - 0s 2ms/step - loss: 0.3461 - accuracy: 0.8341\n",
            "Epoch 42/100\n",
            "259/259 [==============================] - 1s 3ms/step - loss: 0.3462 - accuracy: 0.8389\n",
            "Epoch 43/100\n",
            "259/259 [==============================] - 1s 3ms/step - loss: 0.3453 - accuracy: 0.8333\n",
            "Epoch 44/100\n",
            "259/259 [==============================] - 1s 3ms/step - loss: 0.3432 - accuracy: 0.8404\n",
            "Epoch 45/100\n",
            "259/259 [==============================] - 1s 2ms/step - loss: 0.3428 - accuracy: 0.8385\n",
            "Epoch 46/100\n",
            "259/259 [==============================] - 0s 2ms/step - loss: 0.3439 - accuracy: 0.8367\n",
            "Epoch 47/100\n",
            "259/259 [==============================] - 0s 2ms/step - loss: 0.3426 - accuracy: 0.8345\n",
            "Epoch 48/100\n",
            "259/259 [==============================] - 0s 2ms/step - loss: 0.3446 - accuracy: 0.8354\n",
            "Epoch 49/100\n",
            "259/259 [==============================] - 0s 2ms/step - loss: 0.3419 - accuracy: 0.8375\n",
            "Epoch 50/100\n",
            "259/259 [==============================] - 0s 2ms/step - loss: 0.3409 - accuracy: 0.8334\n",
            "Epoch 51/100\n",
            "259/259 [==============================] - 0s 2ms/step - loss: 0.3400 - accuracy: 0.8387\n",
            "Epoch 52/100\n",
            "259/259 [==============================] - 0s 2ms/step - loss: 0.3420 - accuracy: 0.8379\n",
            "Epoch 53/100\n",
            "259/259 [==============================] - 0s 2ms/step - loss: 0.3394 - accuracy: 0.8385\n",
            "Epoch 54/100\n",
            "259/259 [==============================] - 1s 2ms/step - loss: 0.3413 - accuracy: 0.8369\n",
            "Epoch 55/100\n",
            "259/259 [==============================] - 0s 2ms/step - loss: 0.3400 - accuracy: 0.8366\n",
            "Epoch 56/100\n",
            "259/259 [==============================] - 0s 2ms/step - loss: 0.3415 - accuracy: 0.8361\n",
            "Epoch 57/100\n",
            "259/259 [==============================] - 0s 2ms/step - loss: 0.3380 - accuracy: 0.8402\n",
            "Epoch 58/100\n",
            "259/259 [==============================] - 0s 2ms/step - loss: 0.3373 - accuracy: 0.8433\n",
            "Epoch 59/100\n",
            "259/259 [==============================] - 0s 2ms/step - loss: 0.3370 - accuracy: 0.8410\n",
            "Epoch 60/100\n",
            "259/259 [==============================] - 0s 2ms/step - loss: 0.3381 - accuracy: 0.8375\n",
            "Epoch 61/100\n",
            "259/259 [==============================] - 0s 2ms/step - loss: 0.3400 - accuracy: 0.8392\n",
            "Epoch 62/100\n",
            "259/259 [==============================] - 0s 2ms/step - loss: 0.3362 - accuracy: 0.8397\n",
            "Epoch 63/100\n",
            "259/259 [==============================] - 0s 2ms/step - loss: 0.3342 - accuracy: 0.8392\n",
            "Epoch 64/100\n",
            "259/259 [==============================] - 0s 2ms/step - loss: 0.3367 - accuracy: 0.8398\n",
            "Epoch 65/100\n",
            "259/259 [==============================] - 0s 2ms/step - loss: 0.3382 - accuracy: 0.8380\n",
            "Epoch 66/100\n",
            "259/259 [==============================] - 1s 2ms/step - loss: 0.3352 - accuracy: 0.8433\n",
            "Epoch 67/100\n",
            "259/259 [==============================] - 1s 3ms/step - loss: 0.3343 - accuracy: 0.8397\n",
            "Epoch 68/100\n",
            "259/259 [==============================] - 1s 3ms/step - loss: 0.3353 - accuracy: 0.8423\n",
            "Epoch 69/100\n",
            "259/259 [==============================] - 1s 3ms/step - loss: 0.3355 - accuracy: 0.8396\n",
            "Epoch 70/100\n",
            "259/259 [==============================] - 1s 2ms/step - loss: 0.3329 - accuracy: 0.8421\n",
            "Epoch 71/100\n",
            "259/259 [==============================] - 0s 2ms/step - loss: 0.3360 - accuracy: 0.8409\n",
            "Epoch 72/100\n",
            "259/259 [==============================] - 0s 2ms/step - loss: 0.3348 - accuracy: 0.8406\n",
            "Epoch 73/100\n",
            "259/259 [==============================] - 0s 2ms/step - loss: 0.3351 - accuracy: 0.8373\n",
            "Epoch 74/100\n",
            "259/259 [==============================] - 0s 2ms/step - loss: 0.3354 - accuracy: 0.8408\n",
            "Epoch 75/100\n",
            "259/259 [==============================] - 0s 2ms/step - loss: 0.3332 - accuracy: 0.8436\n",
            "Epoch 76/100\n",
            "259/259 [==============================] - 1s 2ms/step - loss: 0.3307 - accuracy: 0.8435\n",
            "Epoch 77/100\n",
            "259/259 [==============================] - 0s 2ms/step - loss: 0.3329 - accuracy: 0.8435\n",
            "Epoch 78/100\n",
            "259/259 [==============================] - 0s 2ms/step - loss: 0.3330 - accuracy: 0.8406\n",
            "Epoch 79/100\n",
            "259/259 [==============================] - 0s 2ms/step - loss: 0.3319 - accuracy: 0.8409\n",
            "Epoch 80/100\n",
            "259/259 [==============================] - 0s 2ms/step - loss: 0.3305 - accuracy: 0.8436\n",
            "Epoch 81/100\n",
            "259/259 [==============================] - 0s 2ms/step - loss: 0.3290 - accuracy: 0.8432\n",
            "Epoch 82/100\n",
            "259/259 [==============================] - 0s 2ms/step - loss: 0.3334 - accuracy: 0.8408\n",
            "Epoch 83/100\n",
            "259/259 [==============================] - 0s 2ms/step - loss: 0.3313 - accuracy: 0.8443\n",
            "Epoch 84/100\n",
            "259/259 [==============================] - 0s 2ms/step - loss: 0.3320 - accuracy: 0.8396\n",
            "Epoch 85/100\n",
            "259/259 [==============================] - 0s 2ms/step - loss: 0.3289 - accuracy: 0.8483\n",
            "Epoch 86/100\n",
            "259/259 [==============================] - 0s 2ms/step - loss: 0.3341 - accuracy: 0.8374\n",
            "Epoch 87/100\n",
            "259/259 [==============================] - 0s 2ms/step - loss: 0.3293 - accuracy: 0.8453\n",
            "Epoch 88/100\n",
            "259/259 [==============================] - 0s 2ms/step - loss: 0.3270 - accuracy: 0.8467\n",
            "Epoch 89/100\n",
            "259/259 [==============================] - 0s 2ms/step - loss: 0.3278 - accuracy: 0.8439\n",
            "Epoch 90/100\n",
            "259/259 [==============================] - 0s 2ms/step - loss: 0.3288 - accuracy: 0.8464\n",
            "Epoch 91/100\n",
            "259/259 [==============================] - 1s 3ms/step - loss: 0.3285 - accuracy: 0.8456\n",
            "Epoch 92/100\n",
            "259/259 [==============================] - 1s 3ms/step - loss: 0.3274 - accuracy: 0.8447\n",
            "Epoch 93/100\n",
            "259/259 [==============================] - 1s 3ms/step - loss: 0.3296 - accuracy: 0.8437\n",
            "Epoch 94/100\n",
            "259/259 [==============================] - 1s 2ms/step - loss: 0.3271 - accuracy: 0.8437\n",
            "Epoch 95/100\n",
            "259/259 [==============================] - 0s 2ms/step - loss: 0.3255 - accuracy: 0.8485\n",
            "Epoch 96/100\n",
            "259/259 [==============================] - 0s 2ms/step - loss: 0.3244 - accuracy: 0.8470\n",
            "Epoch 97/100\n",
            "259/259 [==============================] - 1s 4ms/step - loss: 0.3281 - accuracy: 0.8425\n",
            "Epoch 98/100\n",
            "259/259 [==============================] - 0s 2ms/step - loss: 0.3278 - accuracy: 0.8459\n",
            "Epoch 99/100\n",
            "259/259 [==============================] - 0s 2ms/step - loss: 0.3241 - accuracy: 0.8481\n",
            "Epoch 100/100\n",
            "259/259 [==============================] - 0s 2ms/step - loss: 0.3271 - accuracy: 0.8484\n",
            "65/65 [==============================] - 0s 2ms/step - loss: 0.4094 - accuracy: 0.8040\n",
            "[0.40940606594085693, 0.8039690256118774]\n",
            "65/65 [==============================] - 0s 3ms/step\n",
            "Classification Report: \n",
            "               precision    recall  f1-score   support\n",
            "\n",
            "           0       0.80      0.80      0.80      1033\n",
            "           1       0.80      0.80      0.80      1033\n",
            "\n",
            "    accuracy                           0.80      2066\n",
            "   macro avg       0.80      0.80      0.80      2066\n",
            "weighted avg       0.80      0.80      0.80      2066\n",
            "\n"
          ]
        }
      ]
    },
    {
      "cell_type": "code",
      "source": [
        "auc = roc_auc_score(y_test6, y_preds6)\n",
        "auc\n"
      ],
      "metadata": {
        "id": "0GlOoXJDp61O",
        "colab": {
          "base_uri": "https://localhost:8080/"
        },
        "outputId": "d2992236-c7a3-48e9-d9b4-0f99b2366ebb"
      },
      "execution_count": 187,
      "outputs": [
        {
          "output_type": "execute_result",
          "data": {
            "text/plain": [
              "0.8039690222652469"
            ]
          },
          "metadata": {},
          "execution_count": 187
        }
      ]
    },
    {
      "cell_type": "markdown",
      "source": [
        "###Method 7 : SVMSmote"
      ],
      "metadata": {
        "id": "FXKcyVHYqRgr"
      }
    },
    {
      "cell_type": "code",
      "source": [
        "X = df2.drop('Churn',axis='columns')\n",
        "y = df2['Churn']"
      ],
      "metadata": {
        "id": "cQIRxUpRqUjL"
      },
      "execution_count": 188,
      "outputs": []
    },
    {
      "cell_type": "code",
      "source": [
        "from imblearn.over_sampling import SVMSMOTE\n",
        "\n",
        "svmsmote = SVMSMOTE(sampling_strategy='minority',random_state = 42)\n",
        "X_svm, y_svm = svmsmote.fit_resample(X, y)\n",
        "\n",
        "y_svm.value_counts()"
      ],
      "metadata": {
        "colab": {
          "base_uri": "https://localhost:8080/"
        },
        "id": "ohLelkz-q-GU",
        "outputId": "85c0962f-b9c1-4e39-ce95-1966346eb436"
      },
      "execution_count": 189,
      "outputs": [
        {
          "output_type": "execute_result",
          "data": {
            "text/plain": [
              "0    5163\n",
              "1    5163\n",
              "Name: Churn, dtype: int64"
            ]
          },
          "metadata": {},
          "execution_count": 189
        }
      ]
    },
    {
      "cell_type": "code",
      "source": [
        "from sklearn.model_selection import train_test_split\n",
        "X_train7, X_test7, y_train7, y_test7 = train_test_split(X_svm, y_svm, test_size=0.2, random_state=15, stratify=y_svm)"
      ],
      "metadata": {
        "id": "mVAW7J_ZyDEU"
      },
      "execution_count": 190,
      "outputs": []
    },
    {
      "cell_type": "code",
      "source": [
        "y_train7.value_counts()"
      ],
      "metadata": {
        "colab": {
          "base_uri": "https://localhost:8080/"
        },
        "id": "7QGfCmZByaxU",
        "outputId": "24d387c9-6bed-4e2a-8e01-34d3b2c0c234"
      },
      "execution_count": 191,
      "outputs": [
        {
          "output_type": "execute_result",
          "data": {
            "text/plain": [
              "1    4130\n",
              "0    4130\n",
              "Name: Churn, dtype: int64"
            ]
          },
          "metadata": {},
          "execution_count": 191
        }
      ]
    },
    {
      "cell_type": "code",
      "source": [
        "y_preds7 = ANN(X_train7, y_train7, X_test7, y_test7, 'binary_crossentropy', -1)"
      ],
      "metadata": {
        "colab": {
          "base_uri": "https://localhost:8080/"
        },
        "id": "NCp5B_8uxWpX",
        "outputId": "8879c7e0-b183-4afc-cacf-44c8b622e57a"
      },
      "execution_count": 192,
      "outputs": [
        {
          "output_type": "stream",
          "name": "stdout",
          "text": [
            "Epoch 1/100\n",
            "259/259 [==============================] - 1s 2ms/step - loss: 0.5276 - accuracy: 0.7471\n",
            "Epoch 2/100\n",
            "259/259 [==============================] - 0s 2ms/step - loss: 0.4617 - accuracy: 0.7858\n",
            "Epoch 3/100\n",
            "259/259 [==============================] - 0s 2ms/step - loss: 0.4545 - accuracy: 0.7858\n",
            "Epoch 4/100\n",
            "259/259 [==============================] - 1s 2ms/step - loss: 0.4501 - accuracy: 0.7901\n",
            "Epoch 5/100\n",
            "259/259 [==============================] - 0s 2ms/step - loss: 0.4463 - accuracy: 0.7923\n",
            "Epoch 6/100\n",
            "259/259 [==============================] - 0s 2ms/step - loss: 0.4421 - accuracy: 0.7972\n",
            "Epoch 7/100\n",
            "259/259 [==============================] - 0s 2ms/step - loss: 0.4374 - accuracy: 0.7989\n",
            "Epoch 8/100\n",
            "259/259 [==============================] - 0s 2ms/step - loss: 0.4340 - accuracy: 0.7999\n",
            "Epoch 9/100\n",
            "259/259 [==============================] - 0s 2ms/step - loss: 0.4302 - accuracy: 0.8039\n",
            "Epoch 10/100\n",
            "259/259 [==============================] - 0s 2ms/step - loss: 0.4269 - accuracy: 0.8073\n",
            "Epoch 11/100\n",
            "259/259 [==============================] - 0s 2ms/step - loss: 0.4251 - accuracy: 0.8080\n",
            "Epoch 12/100\n",
            "259/259 [==============================] - 1s 2ms/step - loss: 0.4216 - accuracy: 0.8091\n",
            "Epoch 13/100\n",
            "259/259 [==============================] - 0s 2ms/step - loss: 0.4175 - accuracy: 0.8143\n",
            "Epoch 14/100\n",
            "259/259 [==============================] - 0s 2ms/step - loss: 0.4164 - accuracy: 0.8131\n",
            "Epoch 15/100\n",
            "259/259 [==============================] - 0s 2ms/step - loss: 0.4128 - accuracy: 0.8177\n",
            "Epoch 16/100\n",
            "259/259 [==============================] - 1s 2ms/step - loss: 0.4110 - accuracy: 0.8163\n",
            "Epoch 17/100\n",
            "259/259 [==============================] - 1s 3ms/step - loss: 0.4090 - accuracy: 0.8201\n",
            "Epoch 18/100\n",
            "259/259 [==============================] - 1s 3ms/step - loss: 0.4071 - accuracy: 0.8194\n",
            "Epoch 19/100\n",
            "259/259 [==============================] - 1s 3ms/step - loss: 0.4059 - accuracy: 0.8188\n",
            "Epoch 20/100\n",
            "259/259 [==============================] - 0s 2ms/step - loss: 0.4045 - accuracy: 0.8197\n",
            "Epoch 21/100\n",
            "259/259 [==============================] - 0s 2ms/step - loss: 0.4018 - accuracy: 0.8215\n",
            "Epoch 22/100\n",
            "259/259 [==============================] - 0s 2ms/step - loss: 0.4008 - accuracy: 0.8240\n",
            "Epoch 23/100\n",
            "259/259 [==============================] - 0s 2ms/step - loss: 0.3977 - accuracy: 0.8259\n",
            "Epoch 24/100\n",
            "259/259 [==============================] - 0s 2ms/step - loss: 0.3981 - accuracy: 0.8240\n",
            "Epoch 25/100\n",
            "259/259 [==============================] - 0s 2ms/step - loss: 0.3978 - accuracy: 0.8257\n",
            "Epoch 26/100\n",
            "259/259 [==============================] - 0s 2ms/step - loss: 0.3944 - accuracy: 0.8253\n",
            "Epoch 27/100\n",
            "259/259 [==============================] - 0s 2ms/step - loss: 0.3936 - accuracy: 0.8274\n",
            "Epoch 28/100\n",
            "259/259 [==============================] - 0s 2ms/step - loss: 0.3921 - accuracy: 0.8272\n",
            "Epoch 29/100\n",
            "259/259 [==============================] - 0s 2ms/step - loss: 0.3914 - accuracy: 0.8260\n",
            "Epoch 30/100\n",
            "259/259 [==============================] - 0s 2ms/step - loss: 0.3893 - accuracy: 0.8287\n",
            "Epoch 31/100\n",
            "259/259 [==============================] - 1s 2ms/step - loss: 0.3890 - accuracy: 0.8277\n",
            "Epoch 32/100\n",
            "259/259 [==============================] - 0s 2ms/step - loss: 0.3861 - accuracy: 0.8303\n",
            "Epoch 33/100\n",
            "259/259 [==============================] - 0s 2ms/step - loss: 0.3860 - accuracy: 0.8288\n",
            "Epoch 34/100\n",
            "259/259 [==============================] - 0s 2ms/step - loss: 0.3857 - accuracy: 0.8331\n",
            "Epoch 35/100\n",
            "259/259 [==============================] - 0s 2ms/step - loss: 0.3826 - accuracy: 0.8306\n",
            "Epoch 36/100\n",
            "259/259 [==============================] - 0s 2ms/step - loss: 0.3824 - accuracy: 0.8327\n",
            "Epoch 37/100\n",
            "259/259 [==============================] - 0s 2ms/step - loss: 0.3809 - accuracy: 0.8329\n",
            "Epoch 38/100\n",
            "259/259 [==============================] - 0s 2ms/step - loss: 0.3783 - accuracy: 0.8347\n",
            "Epoch 39/100\n",
            "259/259 [==============================] - 0s 2ms/step - loss: 0.3776 - accuracy: 0.8361\n",
            "Epoch 40/100\n",
            "259/259 [==============================] - 0s 2ms/step - loss: 0.3770 - accuracy: 0.8339\n",
            "Epoch 41/100\n",
            "259/259 [==============================] - 1s 3ms/step - loss: 0.3749 - accuracy: 0.8346\n",
            "Epoch 42/100\n",
            "259/259 [==============================] - 1s 3ms/step - loss: 0.3757 - accuracy: 0.8363\n",
            "Epoch 43/100\n",
            "259/259 [==============================] - 1s 3ms/step - loss: 0.3749 - accuracy: 0.8364\n",
            "Epoch 44/100\n",
            "259/259 [==============================] - 1s 2ms/step - loss: 0.3720 - accuracy: 0.8401\n",
            "Epoch 45/100\n",
            "259/259 [==============================] - 0s 2ms/step - loss: 0.3709 - accuracy: 0.8389\n",
            "Epoch 46/100\n",
            "259/259 [==============================] - 0s 2ms/step - loss: 0.3706 - accuracy: 0.8401\n",
            "Epoch 47/100\n",
            "259/259 [==============================] - 0s 2ms/step - loss: 0.3695 - accuracy: 0.8377\n",
            "Epoch 48/100\n",
            "259/259 [==============================] - 0s 2ms/step - loss: 0.3689 - accuracy: 0.8366\n",
            "Epoch 49/100\n",
            "259/259 [==============================] - 0s 2ms/step - loss: 0.3679 - accuracy: 0.8396\n",
            "Epoch 50/100\n",
            "259/259 [==============================] - 0s 2ms/step - loss: 0.3648 - accuracy: 0.8424\n",
            "Epoch 51/100\n",
            "259/259 [==============================] - 0s 2ms/step - loss: 0.3645 - accuracy: 0.8415\n",
            "Epoch 52/100\n",
            "259/259 [==============================] - 0s 2ms/step - loss: 0.3648 - accuracy: 0.8446\n",
            "Epoch 53/100\n",
            "259/259 [==============================] - 0s 2ms/step - loss: 0.3637 - accuracy: 0.8420\n",
            "Epoch 54/100\n",
            "259/259 [==============================] - 0s 2ms/step - loss: 0.3625 - accuracy: 0.8437\n",
            "Epoch 55/100\n",
            "259/259 [==============================] - 0s 2ms/step - loss: 0.3612 - accuracy: 0.8433\n",
            "Epoch 56/100\n",
            "259/259 [==============================] - 0s 2ms/step - loss: 0.3609 - accuracy: 0.8435\n",
            "Epoch 57/100\n",
            "259/259 [==============================] - 0s 2ms/step - loss: 0.3592 - accuracy: 0.8441\n",
            "Epoch 58/100\n",
            "259/259 [==============================] - 0s 2ms/step - loss: 0.3594 - accuracy: 0.8454\n",
            "Epoch 59/100\n",
            "259/259 [==============================] - 0s 2ms/step - loss: 0.3576 - accuracy: 0.8439\n",
            "Epoch 60/100\n",
            "259/259 [==============================] - 0s 2ms/step - loss: 0.3558 - accuracy: 0.8466\n",
            "Epoch 61/100\n",
            "259/259 [==============================] - 0s 2ms/step - loss: 0.3566 - accuracy: 0.8467\n",
            "Epoch 62/100\n",
            "259/259 [==============================] - 0s 2ms/step - loss: 0.3551 - accuracy: 0.8489\n",
            "Epoch 63/100\n",
            "259/259 [==============================] - 0s 2ms/step - loss: 0.3546 - accuracy: 0.8487\n",
            "Epoch 64/100\n",
            "259/259 [==============================] - 0s 2ms/step - loss: 0.3550 - accuracy: 0.8448\n",
            "Epoch 65/100\n",
            "259/259 [==============================] - 1s 3ms/step - loss: 0.3542 - accuracy: 0.8473\n",
            "Epoch 66/100\n",
            "259/259 [==============================] - 1s 3ms/step - loss: 0.3526 - accuracy: 0.8478\n",
            "Epoch 67/100\n",
            "259/259 [==============================] - 1s 3ms/step - loss: 0.3520 - accuracy: 0.8448\n",
            "Epoch 68/100\n",
            "259/259 [==============================] - 1s 3ms/step - loss: 0.3527 - accuracy: 0.8485\n",
            "Epoch 69/100\n",
            "259/259 [==============================] - 0s 2ms/step - loss: 0.3502 - accuracy: 0.8506\n",
            "Epoch 70/100\n",
            "259/259 [==============================] - 1s 2ms/step - loss: 0.3500 - accuracy: 0.8515\n",
            "Epoch 71/100\n",
            "259/259 [==============================] - 0s 2ms/step - loss: 0.3525 - accuracy: 0.8475\n",
            "Epoch 72/100\n",
            "259/259 [==============================] - 0s 2ms/step - loss: 0.3486 - accuracy: 0.8490\n",
            "Epoch 73/100\n",
            "259/259 [==============================] - 0s 2ms/step - loss: 0.3475 - accuracy: 0.8489\n",
            "Epoch 74/100\n",
            "259/259 [==============================] - 0s 2ms/step - loss: 0.3488 - accuracy: 0.8496\n",
            "Epoch 75/100\n",
            "259/259 [==============================] - 0s 2ms/step - loss: 0.3482 - accuracy: 0.8493\n",
            "Epoch 76/100\n",
            "259/259 [==============================] - 0s 2ms/step - loss: 0.3473 - accuracy: 0.8535\n",
            "Epoch 77/100\n",
            "259/259 [==============================] - 0s 2ms/step - loss: 0.3458 - accuracy: 0.8524\n",
            "Epoch 78/100\n",
            "259/259 [==============================] - 0s 2ms/step - loss: 0.3464 - accuracy: 0.8495\n",
            "Epoch 79/100\n",
            "259/259 [==============================] - 0s 2ms/step - loss: 0.3437 - accuracy: 0.8508\n",
            "Epoch 80/100\n",
            "259/259 [==============================] - 0s 2ms/step - loss: 0.3432 - accuracy: 0.8533\n",
            "Epoch 81/100\n",
            "259/259 [==============================] - 0s 2ms/step - loss: 0.3429 - accuracy: 0.8540\n",
            "Epoch 82/100\n",
            "259/259 [==============================] - 0s 2ms/step - loss: 0.3440 - accuracy: 0.8529\n",
            "Epoch 83/100\n",
            "259/259 [==============================] - 0s 2ms/step - loss: 0.3424 - accuracy: 0.8530\n",
            "Epoch 84/100\n",
            "259/259 [==============================] - 0s 2ms/step - loss: 0.3417 - accuracy: 0.8525\n",
            "Epoch 85/100\n",
            "259/259 [==============================] - 0s 2ms/step - loss: 0.3425 - accuracy: 0.8519\n",
            "Epoch 86/100\n",
            "259/259 [==============================] - 0s 2ms/step - loss: 0.3408 - accuracy: 0.8527\n",
            "Epoch 87/100\n",
            "259/259 [==============================] - 0s 2ms/step - loss: 0.3414 - accuracy: 0.8523\n",
            "Epoch 88/100\n",
            "259/259 [==============================] - 0s 2ms/step - loss: 0.3417 - accuracy: 0.8517\n",
            "Epoch 89/100\n",
            "259/259 [==============================] - 1s 2ms/step - loss: 0.3406 - accuracy: 0.8529\n",
            "Epoch 90/100\n",
            "259/259 [==============================] - 1s 3ms/step - loss: 0.3397 - accuracy: 0.8553\n",
            "Epoch 91/100\n",
            "259/259 [==============================] - 1s 3ms/step - loss: 0.3395 - accuracy: 0.8545\n",
            "Epoch 92/100\n",
            "259/259 [==============================] - 1s 3ms/step - loss: 0.3370 - accuracy: 0.8573\n",
            "Epoch 93/100\n",
            "259/259 [==============================] - 1s 3ms/step - loss: 0.3376 - accuracy: 0.8546\n",
            "Epoch 94/100\n",
            "259/259 [==============================] - 0s 2ms/step - loss: 0.3388 - accuracy: 0.8530\n",
            "Epoch 95/100\n",
            "259/259 [==============================] - 0s 2ms/step - loss: 0.3370 - accuracy: 0.8552\n",
            "Epoch 96/100\n",
            "259/259 [==============================] - 0s 2ms/step - loss: 0.3400 - accuracy: 0.8551\n",
            "Epoch 97/100\n",
            "259/259 [==============================] - 0s 2ms/step - loss: 0.3371 - accuracy: 0.8544\n",
            "Epoch 98/100\n",
            "259/259 [==============================] - 0s 2ms/step - loss: 0.3347 - accuracy: 0.8571\n",
            "Epoch 99/100\n",
            "259/259 [==============================] - 0s 2ms/step - loss: 0.3366 - accuracy: 0.8538\n",
            "Epoch 100/100\n",
            "259/259 [==============================] - 0s 2ms/step - loss: 0.3347 - accuracy: 0.8580\n",
            "65/65 [==============================] - 0s 2ms/step - loss: 0.4629 - accuracy: 0.7967\n",
            "[0.46293771266937256, 0.7967086434364319]\n",
            "65/65 [==============================] - 0s 2ms/step\n",
            "Classification Report: \n",
            "               precision    recall  f1-score   support\n",
            "\n",
            "           0       0.84      0.73      0.78      1033\n",
            "           1       0.76      0.86      0.81      1033\n",
            "\n",
            "    accuracy                           0.80      2066\n",
            "   macro avg       0.80      0.80      0.80      2066\n",
            "weighted avg       0.80      0.80      0.80      2066\n",
            "\n"
          ]
        }
      ]
    },
    {
      "cell_type": "code",
      "source": [
        "auc = roc_auc_score(y_test7, y_preds7)\n",
        "auc\n"
      ],
      "metadata": {
        "colab": {
          "base_uri": "https://localhost:8080/"
        },
        "id": "q-GFG_VKXQ6k",
        "outputId": "368ae275-2dd8-4f72-b195-95bab2a25709"
      },
      "execution_count": 193,
      "outputs": [
        {
          "output_type": "execute_result",
          "data": {
            "text/plain": [
              "0.7967086156824781"
            ]
          },
          "metadata": {},
          "execution_count": 193
        }
      ]
    },
    {
      "cell_type": "markdown",
      "source": [
        "###Method 8 : ADASYN"
      ],
      "metadata": {
        "id": "lf5bGEviqXHb"
      }
    },
    {
      "cell_type": "code",
      "source": [
        "X = df2.drop('Churn',axis='columns')\n",
        "y = df2['Churn']"
      ],
      "metadata": {
        "id": "ZVJ0Qm7Tqebu"
      },
      "execution_count": 194,
      "outputs": []
    },
    {
      "cell_type": "code",
      "source": [
        "from imblearn.over_sampling import ADASYN\n",
        "\n",
        "ada = ADASYN(sampling_strategy='minority',random_state = 42)\n",
        "X_ada, y_ada = ada.fit_resample(X, y)\n",
        "\n",
        "y_ada.value_counts()"
      ],
      "metadata": {
        "colab": {
          "base_uri": "https://localhost:8080/"
        },
        "id": "UNwrwSgwrL83",
        "outputId": "04c9cfca-6346-4158-91a7-05eb9f2757e0"
      },
      "execution_count": 195,
      "outputs": [
        {
          "output_type": "execute_result",
          "data": {
            "text/plain": [
              "1    5192\n",
              "0    5163\n",
              "Name: Churn, dtype: int64"
            ]
          },
          "metadata": {},
          "execution_count": 195
        }
      ]
    },
    {
      "cell_type": "code",
      "source": [
        "from sklearn.model_selection import train_test_split\n",
        "X_train8, X_test8, y_train8, y_test8 = train_test_split(X_ada, y_ada, test_size=0.2, random_state=15, stratify=y_ada)"
      ],
      "metadata": {
        "id": "03JYjYEcyczu"
      },
      "execution_count": 196,
      "outputs": []
    },
    {
      "cell_type": "code",
      "source": [
        "y_train8.value_counts()"
      ],
      "metadata": {
        "colab": {
          "base_uri": "https://localhost:8080/"
        },
        "id": "02U0_b3Ey5si",
        "outputId": "5941cbf5-2c2d-4e05-ff04-cebb67d02a29"
      },
      "execution_count": 197,
      "outputs": [
        {
          "output_type": "execute_result",
          "data": {
            "text/plain": [
              "1    4154\n",
              "0    4130\n",
              "Name: Churn, dtype: int64"
            ]
          },
          "metadata": {},
          "execution_count": 197
        }
      ]
    },
    {
      "cell_type": "code",
      "source": [
        "y_preds8 = ANN(X_train8, y_train8, X_test8, y_test8, 'binary_crossentropy', -1)"
      ],
      "metadata": {
        "colab": {
          "base_uri": "https://localhost:8080/"
        },
        "id": "qejJHUbVzMCA",
        "outputId": "55915258-8538-4b4c-c09f-79bcf469704a"
      },
      "execution_count": 198,
      "outputs": [
        {
          "output_type": "stream",
          "name": "stdout",
          "text": [
            "Epoch 1/100\n",
            "259/259 [==============================] - 1s 2ms/step - loss: 0.5692 - accuracy: 0.7167\n",
            "Epoch 2/100\n",
            "259/259 [==============================] - 0s 2ms/step - loss: 0.5176 - accuracy: 0.7401\n",
            "Epoch 3/100\n",
            "259/259 [==============================] - 0s 2ms/step - loss: 0.5070 - accuracy: 0.7432\n",
            "Epoch 4/100\n",
            "259/259 [==============================] - 0s 2ms/step - loss: 0.4976 - accuracy: 0.7517\n",
            "Epoch 5/100\n",
            "259/259 [==============================] - 0s 2ms/step - loss: 0.4907 - accuracy: 0.7552\n",
            "Epoch 6/100\n",
            "259/259 [==============================] - 0s 2ms/step - loss: 0.4847 - accuracy: 0.7613\n",
            "Epoch 7/100\n",
            "259/259 [==============================] - 0s 2ms/step - loss: 0.4778 - accuracy: 0.7664\n",
            "Epoch 8/100\n",
            "259/259 [==============================] - 0s 2ms/step - loss: 0.4710 - accuracy: 0.7769\n",
            "Epoch 9/100\n",
            "259/259 [==============================] - 0s 2ms/step - loss: 0.4638 - accuracy: 0.7808\n",
            "Epoch 10/100\n",
            "259/259 [==============================] - 0s 2ms/step - loss: 0.4564 - accuracy: 0.7866\n",
            "Epoch 11/100\n",
            "259/259 [==============================] - 0s 2ms/step - loss: 0.4509 - accuracy: 0.7898\n",
            "Epoch 12/100\n",
            "259/259 [==============================] - 0s 2ms/step - loss: 0.4451 - accuracy: 0.7926\n",
            "Epoch 13/100\n",
            "259/259 [==============================] - 0s 2ms/step - loss: 0.4384 - accuracy: 0.8007\n",
            "Epoch 14/100\n",
            "259/259 [==============================] - 0s 2ms/step - loss: 0.4357 - accuracy: 0.7997\n",
            "Epoch 15/100\n",
            "259/259 [==============================] - 0s 2ms/step - loss: 0.4307 - accuracy: 0.8021\n",
            "Epoch 16/100\n",
            "259/259 [==============================] - 0s 2ms/step - loss: 0.4251 - accuracy: 0.8052\n",
            "Epoch 17/100\n",
            "259/259 [==============================] - 0s 2ms/step - loss: 0.4216 - accuracy: 0.8105\n",
            "Epoch 18/100\n",
            "259/259 [==============================] - 0s 2ms/step - loss: 0.4185 - accuracy: 0.8090\n",
            "Epoch 19/100\n",
            "259/259 [==============================] - 0s 2ms/step - loss: 0.4152 - accuracy: 0.8145\n",
            "Epoch 20/100\n",
            "259/259 [==============================] - 1s 2ms/step - loss: 0.4129 - accuracy: 0.8117\n",
            "Epoch 21/100\n",
            "259/259 [==============================] - 1s 3ms/step - loss: 0.4091 - accuracy: 0.8148\n",
            "Epoch 22/100\n",
            "259/259 [==============================] - 1s 3ms/step - loss: 0.4054 - accuracy: 0.8165\n",
            "Epoch 23/100\n",
            "259/259 [==============================] - 1s 3ms/step - loss: 0.4041 - accuracy: 0.8182\n",
            "Epoch 24/100\n",
            "259/259 [==============================] - 1s 2ms/step - loss: 0.4036 - accuracy: 0.8163\n",
            "Epoch 25/100\n",
            "259/259 [==============================] - 0s 2ms/step - loss: 0.3999 - accuracy: 0.8180\n",
            "Epoch 26/100\n",
            "259/259 [==============================] - 0s 2ms/step - loss: 0.3968 - accuracy: 0.8186\n",
            "Epoch 27/100\n",
            "259/259 [==============================] - 0s 2ms/step - loss: 0.3958 - accuracy: 0.8205\n",
            "Epoch 28/100\n",
            "259/259 [==============================] - 0s 2ms/step - loss: 0.3920 - accuracy: 0.8258\n",
            "Epoch 29/100\n",
            "259/259 [==============================] - 0s 2ms/step - loss: 0.3908 - accuracy: 0.8232\n",
            "Epoch 30/100\n",
            "259/259 [==============================] - 0s 2ms/step - loss: 0.3911 - accuracy: 0.8245\n",
            "Epoch 31/100\n",
            "259/259 [==============================] - 0s 2ms/step - loss: 0.3882 - accuracy: 0.8259\n",
            "Epoch 32/100\n",
            "259/259 [==============================] - 0s 2ms/step - loss: 0.3869 - accuracy: 0.8261\n",
            "Epoch 33/100\n",
            "259/259 [==============================] - 0s 2ms/step - loss: 0.3867 - accuracy: 0.8252\n",
            "Epoch 34/100\n",
            "259/259 [==============================] - 0s 2ms/step - loss: 0.3835 - accuracy: 0.8257\n",
            "Epoch 35/100\n",
            "259/259 [==============================] - 0s 2ms/step - loss: 0.3832 - accuracy: 0.8268\n",
            "Epoch 36/100\n",
            "259/259 [==============================] - 0s 2ms/step - loss: 0.3839 - accuracy: 0.8275\n",
            "Epoch 37/100\n",
            "259/259 [==============================] - 1s 2ms/step - loss: 0.3804 - accuracy: 0.8288\n",
            "Epoch 38/100\n",
            "259/259 [==============================] - 1s 2ms/step - loss: 0.3795 - accuracy: 0.8299\n",
            "Epoch 39/100\n",
            "259/259 [==============================] - 0s 2ms/step - loss: 0.3792 - accuracy: 0.8275\n",
            "Epoch 40/100\n",
            "259/259 [==============================] - 0s 2ms/step - loss: 0.3786 - accuracy: 0.8286\n",
            "Epoch 41/100\n",
            "259/259 [==============================] - 1s 2ms/step - loss: 0.3768 - accuracy: 0.8326\n",
            "Epoch 42/100\n",
            "259/259 [==============================] - 0s 2ms/step - loss: 0.3749 - accuracy: 0.8298\n",
            "Epoch 43/100\n",
            "259/259 [==============================] - 0s 2ms/step - loss: 0.3744 - accuracy: 0.8312\n",
            "Epoch 44/100\n",
            "259/259 [==============================] - 1s 2ms/step - loss: 0.3771 - accuracy: 0.8308\n",
            "Epoch 45/100\n",
            "259/259 [==============================] - 1s 3ms/step - loss: 0.3734 - accuracy: 0.8324\n",
            "Epoch 46/100\n",
            "259/259 [==============================] - 1s 3ms/step - loss: 0.3756 - accuracy: 0.8303\n",
            "Epoch 47/100\n",
            "259/259 [==============================] - 1s 3ms/step - loss: 0.3715 - accuracy: 0.8338\n",
            "Epoch 48/100\n",
            "259/259 [==============================] - 1s 2ms/step - loss: 0.3741 - accuracy: 0.8334\n",
            "Epoch 49/100\n",
            "259/259 [==============================] - 0s 2ms/step - loss: 0.3690 - accuracy: 0.8337\n",
            "Epoch 50/100\n",
            "259/259 [==============================] - 0s 2ms/step - loss: 0.3723 - accuracy: 0.8327\n",
            "Epoch 51/100\n",
            "259/259 [==============================] - 0s 2ms/step - loss: 0.3721 - accuracy: 0.8316\n",
            "Epoch 52/100\n",
            "259/259 [==============================] - 0s 2ms/step - loss: 0.3672 - accuracy: 0.8356\n",
            "Epoch 53/100\n",
            "259/259 [==============================] - 0s 2ms/step - loss: 0.3672 - accuracy: 0.8349\n",
            "Epoch 54/100\n",
            "259/259 [==============================] - 0s 2ms/step - loss: 0.3653 - accuracy: 0.8364\n",
            "Epoch 55/100\n",
            "259/259 [==============================] - 0s 2ms/step - loss: 0.3682 - accuracy: 0.8353\n",
            "Epoch 56/100\n",
            "259/259 [==============================] - 0s 2ms/step - loss: 0.3672 - accuracy: 0.8372\n",
            "Epoch 57/100\n",
            "259/259 [==============================] - 0s 2ms/step - loss: 0.3639 - accuracy: 0.8372\n",
            "Epoch 58/100\n",
            "259/259 [==============================] - 0s 2ms/step - loss: 0.3657 - accuracy: 0.8350\n",
            "Epoch 59/100\n",
            "259/259 [==============================] - 0s 2ms/step - loss: 0.3621 - accuracy: 0.8384\n",
            "Epoch 60/100\n",
            "259/259 [==============================] - 0s 2ms/step - loss: 0.3649 - accuracy: 0.8370\n",
            "Epoch 61/100\n",
            "259/259 [==============================] - 0s 2ms/step - loss: 0.3639 - accuracy: 0.8337\n",
            "Epoch 62/100\n",
            "259/259 [==============================] - 0s 2ms/step - loss: 0.3619 - accuracy: 0.8369\n",
            "Epoch 63/100\n",
            "259/259 [==============================] - 0s 2ms/step - loss: 0.3613 - accuracy: 0.8384\n",
            "Epoch 64/100\n",
            "259/259 [==============================] - 0s 2ms/step - loss: 0.3603 - accuracy: 0.8397\n",
            "Epoch 65/100\n",
            "259/259 [==============================] - 0s 2ms/step - loss: 0.3602 - accuracy: 0.8370\n",
            "Epoch 66/100\n",
            "259/259 [==============================] - 0s 2ms/step - loss: 0.3595 - accuracy: 0.8376\n",
            "Epoch 67/100\n",
            "259/259 [==============================] - 0s 2ms/step - loss: 0.3572 - accuracy: 0.8391\n",
            "Epoch 68/100\n",
            "259/259 [==============================] - 0s 2ms/step - loss: 0.3576 - accuracy: 0.8409\n",
            "Epoch 69/100\n",
            "259/259 [==============================] - 1s 3ms/step - loss: 0.3578 - accuracy: 0.8382\n",
            "Epoch 70/100\n",
            "259/259 [==============================] - 1s 3ms/step - loss: 0.3569 - accuracy: 0.8411\n",
            "Epoch 71/100\n",
            "259/259 [==============================] - 1s 3ms/step - loss: 0.3583 - accuracy: 0.8393\n",
            "Epoch 72/100\n",
            "259/259 [==============================] - 1s 2ms/step - loss: 0.3579 - accuracy: 0.8375\n",
            "Epoch 73/100\n",
            "259/259 [==============================] - 0s 2ms/step - loss: 0.3561 - accuracy: 0.8403\n",
            "Epoch 74/100\n",
            "259/259 [==============================] - 0s 2ms/step - loss: 0.3562 - accuracy: 0.8368\n",
            "Epoch 75/100\n",
            "259/259 [==============================] - 0s 2ms/step - loss: 0.3582 - accuracy: 0.8399\n",
            "Epoch 76/100\n",
            "259/259 [==============================] - 0s 2ms/step - loss: 0.3557 - accuracy: 0.8401\n",
            "Epoch 77/100\n",
            "259/259 [==============================] - 0s 2ms/step - loss: 0.3532 - accuracy: 0.8414\n",
            "Epoch 78/100\n",
            "259/259 [==============================] - 0s 2ms/step - loss: 0.3554 - accuracy: 0.8394\n",
            "Epoch 79/100\n",
            "259/259 [==============================] - 0s 2ms/step - loss: 0.3558 - accuracy: 0.8426\n",
            "Epoch 80/100\n",
            "259/259 [==============================] - 0s 2ms/step - loss: 0.3537 - accuracy: 0.8415\n",
            "Epoch 81/100\n",
            "259/259 [==============================] - 1s 2ms/step - loss: 0.3537 - accuracy: 0.8403\n",
            "Epoch 82/100\n",
            "259/259 [==============================] - 0s 2ms/step - loss: 0.3524 - accuracy: 0.8393\n",
            "Epoch 83/100\n",
            "259/259 [==============================] - 0s 2ms/step - loss: 0.3510 - accuracy: 0.8433\n",
            "Epoch 84/100\n",
            "259/259 [==============================] - 0s 2ms/step - loss: 0.3515 - accuracy: 0.8431\n",
            "Epoch 85/100\n",
            "259/259 [==============================] - 0s 2ms/step - loss: 0.3515 - accuracy: 0.8431\n",
            "Epoch 86/100\n",
            "259/259 [==============================] - 0s 2ms/step - loss: 0.3500 - accuracy: 0.8446\n",
            "Epoch 87/100\n",
            "259/259 [==============================] - 1s 2ms/step - loss: 0.3516 - accuracy: 0.8444\n",
            "Epoch 88/100\n",
            "259/259 [==============================] - 0s 2ms/step - loss: 0.3499 - accuracy: 0.8423\n",
            "Epoch 89/100\n",
            "259/259 [==============================] - 0s 2ms/step - loss: 0.3513 - accuracy: 0.8420\n",
            "Epoch 90/100\n",
            "259/259 [==============================] - 0s 2ms/step - loss: 0.3493 - accuracy: 0.8392\n",
            "Epoch 91/100\n",
            "259/259 [==============================] - 0s 2ms/step - loss: 0.3493 - accuracy: 0.8440\n",
            "Epoch 92/100\n",
            "259/259 [==============================] - 1s 2ms/step - loss: 0.3502 - accuracy: 0.8427\n",
            "Epoch 93/100\n",
            "259/259 [==============================] - 1s 3ms/step - loss: 0.3483 - accuracy: 0.8445\n",
            "Epoch 94/100\n",
            "259/259 [==============================] - 1s 3ms/step - loss: 0.3472 - accuracy: 0.8465\n",
            "Epoch 95/100\n",
            "259/259 [==============================] - 1s 3ms/step - loss: 0.3497 - accuracy: 0.8432\n",
            "Epoch 96/100\n",
            "259/259 [==============================] - 1s 2ms/step - loss: 0.3483 - accuracy: 0.8438\n",
            "Epoch 97/100\n",
            "259/259 [==============================] - 0s 2ms/step - loss: 0.3474 - accuracy: 0.8465\n",
            "Epoch 98/100\n",
            "259/259 [==============================] - 0s 2ms/step - loss: 0.3455 - accuracy: 0.8463\n",
            "Epoch 99/100\n",
            "259/259 [==============================] - 0s 2ms/step - loss: 0.3467 - accuracy: 0.8460\n",
            "Epoch 100/100\n",
            "259/259 [==============================] - 1s 2ms/step - loss: 0.3446 - accuracy: 0.8425\n",
            "65/65 [==============================] - 1s 2ms/step - loss: 0.4431 - accuracy: 0.7929\n",
            "[0.44312718510627747, 0.7928537130355835]\n",
            "65/65 [==============================] - 0s 1ms/step\n",
            "Classification Report: \n",
            "               precision    recall  f1-score   support\n",
            "\n",
            "           0       0.83      0.74      0.78      1033\n",
            "           1       0.77      0.85      0.80      1038\n",
            "\n",
            "    accuracy                           0.79      2071\n",
            "   macro avg       0.80      0.79      0.79      2071\n",
            "weighted avg       0.80      0.79      0.79      2071\n",
            "\n"
          ]
        }
      ]
    },
    {
      "cell_type": "code",
      "source": [
        "auc = roc_auc_score(y_test8, y_preds8)\n",
        "auc\n"
      ],
      "metadata": {
        "colab": {
          "base_uri": "https://localhost:8080/"
        },
        "id": "5SmFM413XTf8",
        "outputId": "7cee3c40-7901-4583-b8b1-f31a89f1e033"
      },
      "execution_count": 199,
      "outputs": [
        {
          "output_type": "execute_result",
          "data": {
            "text/plain": [
              "0.7927254176715591"
            ]
          },
          "metadata": {},
          "execution_count": 199
        }
      ]
    },
    {
      "cell_type": "markdown",
      "source": [
        "###Method 9 : SMOTEENN"
      ],
      "metadata": {
        "id": "KNjTvCjRqiUq"
      }
    },
    {
      "cell_type": "code",
      "source": [
        "from imblearn.combine import SMOTEENN"
      ],
      "metadata": {
        "id": "pi2pXP9kr9Na"
      },
      "execution_count": 200,
      "outputs": []
    },
    {
      "cell_type": "code",
      "source": [
        "X = df2.drop('Churn',axis='columns')\n",
        "y = df2['Churn']"
      ],
      "metadata": {
        "id": "OTYH_ixIqqsB"
      },
      "execution_count": 201,
      "outputs": []
    },
    {
      "cell_type": "code",
      "source": [
        "\n",
        "enn = SMOTEENN(sampling_strategy='minority',random_state = 42)\n",
        "X_smt, y_smt = enn.fit_resample(X, y)\n",
        "\n",
        "y_smt.value_counts()"
      ],
      "metadata": {
        "colab": {
          "base_uri": "https://localhost:8080/"
        },
        "id": "AUTIHukfrUBk",
        "outputId": "eb7c8662-312a-4765-ec17-3dfa6811e6c6"
      },
      "execution_count": 202,
      "outputs": [
        {
          "output_type": "execute_result",
          "data": {
            "text/plain": [
              "1    3453\n",
              "0    2800\n",
              "Name: Churn, dtype: int64"
            ]
          },
          "metadata": {},
          "execution_count": 202
        }
      ]
    },
    {
      "cell_type": "code",
      "source": [
        "from sklearn.model_selection import train_test_split\n",
        "X_train9, X_test9, y_train9, y_test9 = train_test_split(X_smt, y_smt, test_size=0.2, random_state=15, stratify=y_smt)"
      ],
      "metadata": {
        "id": "jaMhz-kvylat"
      },
      "execution_count": 203,
      "outputs": []
    },
    {
      "cell_type": "code",
      "source": [
        "y_train9.value_counts()"
      ],
      "metadata": {
        "colab": {
          "base_uri": "https://localhost:8080/"
        },
        "id": "WmAEp4Wky7H4",
        "outputId": "3222905a-cf13-4325-dc31-80c249aa9ed5"
      },
      "execution_count": 204,
      "outputs": [
        {
          "output_type": "execute_result",
          "data": {
            "text/plain": [
              "1    2762\n",
              "0    2240\n",
              "Name: Churn, dtype: int64"
            ]
          },
          "metadata": {},
          "execution_count": 204
        }
      ]
    },
    {
      "cell_type": "code",
      "source": [
        "y_preds9 = ANN(X_train9, y_train9, X_test9, y_test9, 'binary_crossentropy', -1)"
      ],
      "metadata": {
        "colab": {
          "base_uri": "https://localhost:8080/"
        },
        "id": "hnNzzsuszPEe",
        "outputId": "9d32a5e6-ee6e-4d23-a5a2-1b8262be1280"
      },
      "execution_count": 205,
      "outputs": [
        {
          "output_type": "stream",
          "name": "stdout",
          "text": [
            "Epoch 1/100\n",
            "157/157 [==============================] - 1s 2ms/step - loss: 0.4235 - accuracy: 0.8437\n",
            "Epoch 2/100\n",
            "157/157 [==============================] - 0s 2ms/step - loss: 0.2325 - accuracy: 0.9040\n",
            "Epoch 3/100\n",
            "157/157 [==============================] - 0s 2ms/step - loss: 0.2127 - accuracy: 0.9100\n",
            "Epoch 4/100\n",
            "157/157 [==============================] - 0s 2ms/step - loss: 0.2062 - accuracy: 0.9112\n",
            "Epoch 5/100\n",
            "157/157 [==============================] - 0s 2ms/step - loss: 0.2009 - accuracy: 0.9142\n",
            "Epoch 6/100\n",
            "157/157 [==============================] - 0s 2ms/step - loss: 0.1951 - accuracy: 0.9156\n",
            "Epoch 7/100\n",
            "157/157 [==============================] - 1s 7ms/step - loss: 0.1911 - accuracy: 0.9186\n",
            "Epoch 8/100\n",
            "157/157 [==============================] - 0s 2ms/step - loss: 0.1874 - accuracy: 0.9178\n",
            "Epoch 9/100\n",
            "157/157 [==============================] - 0s 2ms/step - loss: 0.1826 - accuracy: 0.9204\n",
            "Epoch 10/100\n",
            "157/157 [==============================] - 0s 2ms/step - loss: 0.1799 - accuracy: 0.9202\n",
            "Epoch 11/100\n",
            "157/157 [==============================] - 0s 2ms/step - loss: 0.1758 - accuracy: 0.9256\n",
            "Epoch 12/100\n",
            "157/157 [==============================] - 0s 2ms/step - loss: 0.1741 - accuracy: 0.9276\n",
            "Epoch 13/100\n",
            "157/157 [==============================] - 0s 2ms/step - loss: 0.1692 - accuracy: 0.9274\n",
            "Epoch 14/100\n",
            "157/157 [==============================] - 0s 2ms/step - loss: 0.1668 - accuracy: 0.9332\n",
            "Epoch 15/100\n",
            "157/157 [==============================] - 0s 2ms/step - loss: 0.1633 - accuracy: 0.9316\n",
            "Epoch 16/100\n",
            "157/157 [==============================] - 0s 2ms/step - loss: 0.1595 - accuracy: 0.9324\n",
            "Epoch 17/100\n",
            "157/157 [==============================] - 0s 2ms/step - loss: 0.1595 - accuracy: 0.9332\n",
            "Epoch 18/100\n",
            "157/157 [==============================] - 0s 2ms/step - loss: 0.1547 - accuracy: 0.9334\n",
            "Epoch 19/100\n",
            "157/157 [==============================] - 0s 3ms/step - loss: 0.1514 - accuracy: 0.9376\n",
            "Epoch 20/100\n",
            "157/157 [==============================] - 0s 3ms/step - loss: 0.1486 - accuracy: 0.9380\n",
            "Epoch 21/100\n",
            "157/157 [==============================] - 0s 3ms/step - loss: 0.1461 - accuracy: 0.9402\n",
            "Epoch 22/100\n",
            "157/157 [==============================] - 1s 4ms/step - loss: 0.1455 - accuracy: 0.9396\n",
            "Epoch 23/100\n",
            "157/157 [==============================] - 1s 3ms/step - loss: 0.1416 - accuracy: 0.9434\n",
            "Epoch 24/100\n",
            "157/157 [==============================] - 0s 3ms/step - loss: 0.1408 - accuracy: 0.9438\n",
            "Epoch 25/100\n",
            "157/157 [==============================] - 0s 3ms/step - loss: 0.1373 - accuracy: 0.9458\n",
            "Epoch 26/100\n",
            "157/157 [==============================] - 0s 3ms/step - loss: 0.1352 - accuracy: 0.9468\n",
            "Epoch 27/100\n",
            "157/157 [==============================] - 0s 3ms/step - loss: 0.1317 - accuracy: 0.9494\n",
            "Epoch 28/100\n",
            "157/157 [==============================] - 0s 3ms/step - loss: 0.1300 - accuracy: 0.9482\n",
            "Epoch 29/100\n",
            "157/157 [==============================] - 0s 2ms/step - loss: 0.1288 - accuracy: 0.9500\n",
            "Epoch 30/100\n",
            "157/157 [==============================] - 0s 2ms/step - loss: 0.1282 - accuracy: 0.9510\n",
            "Epoch 31/100\n",
            "157/157 [==============================] - 0s 2ms/step - loss: 0.1249 - accuracy: 0.9480\n",
            "Epoch 32/100\n",
            "157/157 [==============================] - 0s 2ms/step - loss: 0.1259 - accuracy: 0.9490\n",
            "Epoch 33/100\n",
            "157/157 [==============================] - 0s 2ms/step - loss: 0.1206 - accuracy: 0.9520\n",
            "Epoch 34/100\n",
            "157/157 [==============================] - 0s 2ms/step - loss: 0.1204 - accuracy: 0.9522\n",
            "Epoch 35/100\n",
            "157/157 [==============================] - 0s 2ms/step - loss: 0.1210 - accuracy: 0.9522\n",
            "Epoch 36/100\n",
            "157/157 [==============================] - 0s 2ms/step - loss: 0.1166 - accuracy: 0.9542\n",
            "Epoch 37/100\n",
            "157/157 [==============================] - 0s 2ms/step - loss: 0.1150 - accuracy: 0.9560\n",
            "Epoch 38/100\n",
            "157/157 [==============================] - 0s 2ms/step - loss: 0.1144 - accuracy: 0.9544\n",
            "Epoch 39/100\n",
            "157/157 [==============================] - 0s 2ms/step - loss: 0.1120 - accuracy: 0.9570\n",
            "Epoch 40/100\n",
            "157/157 [==============================] - 0s 2ms/step - loss: 0.1107 - accuracy: 0.9562\n",
            "Epoch 41/100\n",
            "157/157 [==============================] - 0s 2ms/step - loss: 0.1095 - accuracy: 0.9580\n",
            "Epoch 42/100\n",
            "157/157 [==============================] - 0s 2ms/step - loss: 0.1078 - accuracy: 0.9594\n",
            "Epoch 43/100\n",
            "157/157 [==============================] - 0s 2ms/step - loss: 0.1078 - accuracy: 0.9574\n",
            "Epoch 44/100\n",
            "157/157 [==============================] - 0s 2ms/step - loss: 0.1076 - accuracy: 0.9586\n",
            "Epoch 45/100\n",
            "157/157 [==============================] - 0s 2ms/step - loss: 0.1044 - accuracy: 0.9600\n",
            "Epoch 46/100\n",
            "157/157 [==============================] - 0s 2ms/step - loss: 0.1057 - accuracy: 0.9570\n",
            "Epoch 47/100\n",
            "157/157 [==============================] - 0s 2ms/step - loss: 0.1048 - accuracy: 0.9600\n",
            "Epoch 48/100\n",
            "157/157 [==============================] - 0s 2ms/step - loss: 0.1041 - accuracy: 0.9600\n",
            "Epoch 49/100\n",
            "157/157 [==============================] - 0s 2ms/step - loss: 0.1012 - accuracy: 0.9588\n",
            "Epoch 50/100\n",
            "157/157 [==============================] - 0s 2ms/step - loss: 0.0999 - accuracy: 0.9624\n",
            "Epoch 51/100\n",
            "157/157 [==============================] - 0s 2ms/step - loss: 0.0976 - accuracy: 0.9636\n",
            "Epoch 52/100\n",
            "157/157 [==============================] - 0s 2ms/step - loss: 0.0997 - accuracy: 0.9622\n",
            "Epoch 53/100\n",
            "157/157 [==============================] - 0s 2ms/step - loss: 0.0971 - accuracy: 0.9612\n",
            "Epoch 54/100\n",
            "157/157 [==============================] - 0s 2ms/step - loss: 0.0962 - accuracy: 0.9618\n",
            "Epoch 55/100\n",
            "157/157 [==============================] - 0s 2ms/step - loss: 0.0933 - accuracy: 0.9646\n",
            "Epoch 56/100\n",
            "157/157 [==============================] - 0s 2ms/step - loss: 0.0920 - accuracy: 0.9652\n",
            "Epoch 57/100\n",
            "157/157 [==============================] - 0s 2ms/step - loss: 0.0948 - accuracy: 0.9648\n",
            "Epoch 58/100\n",
            "157/157 [==============================] - 0s 2ms/step - loss: 0.0922 - accuracy: 0.9646\n",
            "Epoch 59/100\n",
            "157/157 [==============================] - 0s 2ms/step - loss: 0.0905 - accuracy: 0.9616\n",
            "Epoch 60/100\n",
            "157/157 [==============================] - 0s 2ms/step - loss: 0.0917 - accuracy: 0.9622\n",
            "Epoch 61/100\n",
            "157/157 [==============================] - 0s 3ms/step - loss: 0.0887 - accuracy: 0.9652\n",
            "Epoch 62/100\n",
            "157/157 [==============================] - 0s 3ms/step - loss: 0.0893 - accuracy: 0.9636\n",
            "Epoch 63/100\n",
            "157/157 [==============================] - 0s 3ms/step - loss: 0.0874 - accuracy: 0.9654\n",
            "Epoch 64/100\n",
            "157/157 [==============================] - 0s 3ms/step - loss: 0.0867 - accuracy: 0.9658\n",
            "Epoch 65/100\n",
            "157/157 [==============================] - 0s 3ms/step - loss: 0.0851 - accuracy: 0.9668\n",
            "Epoch 66/100\n",
            "157/157 [==============================] - 0s 3ms/step - loss: 0.0855 - accuracy: 0.9680\n",
            "Epoch 67/100\n",
            "157/157 [==============================] - 0s 2ms/step - loss: 0.0833 - accuracy: 0.9664\n",
            "Epoch 68/100\n",
            "157/157 [==============================] - 0s 2ms/step - loss: 0.0858 - accuracy: 0.9666\n",
            "Epoch 69/100\n",
            "157/157 [==============================] - 0s 2ms/step - loss: 0.0814 - accuracy: 0.9682\n",
            "Epoch 70/100\n",
            "157/157 [==============================] - 0s 2ms/step - loss: 0.0849 - accuracy: 0.9664\n",
            "Epoch 71/100\n",
            "157/157 [==============================] - 0s 2ms/step - loss: 0.0811 - accuracy: 0.9696\n",
            "Epoch 72/100\n",
            "157/157 [==============================] - 0s 2ms/step - loss: 0.0817 - accuracy: 0.9682\n",
            "Epoch 73/100\n",
            "157/157 [==============================] - 0s 2ms/step - loss: 0.0806 - accuracy: 0.9666\n",
            "Epoch 74/100\n",
            "157/157 [==============================] - 0s 2ms/step - loss: 0.0816 - accuracy: 0.9654\n",
            "Epoch 75/100\n",
            "157/157 [==============================] - 0s 2ms/step - loss: 0.0786 - accuracy: 0.9700\n",
            "Epoch 76/100\n",
            "157/157 [==============================] - 0s 2ms/step - loss: 0.0797 - accuracy: 0.9684\n",
            "Epoch 77/100\n",
            "157/157 [==============================] - 0s 2ms/step - loss: 0.0797 - accuracy: 0.9698\n",
            "Epoch 78/100\n",
            "157/157 [==============================] - 0s 2ms/step - loss: 0.0804 - accuracy: 0.9686\n",
            "Epoch 79/100\n",
            "157/157 [==============================] - 0s 2ms/step - loss: 0.0777 - accuracy: 0.9694\n",
            "Epoch 80/100\n",
            "157/157 [==============================] - 0s 2ms/step - loss: 0.0786 - accuracy: 0.9706\n",
            "Epoch 81/100\n",
            "157/157 [==============================] - 0s 2ms/step - loss: 0.0754 - accuracy: 0.9708\n",
            "Epoch 82/100\n",
            "157/157 [==============================] - 0s 2ms/step - loss: 0.0756 - accuracy: 0.9696\n",
            "Epoch 83/100\n",
            "157/157 [==============================] - 0s 2ms/step - loss: 0.0739 - accuracy: 0.9718\n",
            "Epoch 84/100\n",
            "157/157 [==============================] - 0s 2ms/step - loss: 0.0750 - accuracy: 0.9700\n",
            "Epoch 85/100\n",
            "157/157 [==============================] - 0s 2ms/step - loss: 0.0786 - accuracy: 0.9692\n",
            "Epoch 86/100\n",
            "157/157 [==============================] - 0s 2ms/step - loss: 0.0746 - accuracy: 0.9690\n",
            "Epoch 87/100\n",
            "157/157 [==============================] - 0s 2ms/step - loss: 0.0729 - accuracy: 0.9710\n",
            "Epoch 88/100\n",
            "157/157 [==============================] - 0s 2ms/step - loss: 0.0702 - accuracy: 0.9742\n",
            "Epoch 89/100\n",
            "157/157 [==============================] - 0s 2ms/step - loss: 0.0713 - accuracy: 0.9728\n",
            "Epoch 90/100\n",
            "157/157 [==============================] - 0s 2ms/step - loss: 0.0707 - accuracy: 0.9716\n",
            "Epoch 91/100\n",
            "157/157 [==============================] - 0s 2ms/step - loss: 0.0719 - accuracy: 0.9706\n",
            "Epoch 92/100\n",
            "157/157 [==============================] - 0s 2ms/step - loss: 0.0716 - accuracy: 0.9716\n",
            "Epoch 93/100\n",
            "157/157 [==============================] - 0s 2ms/step - loss: 0.0700 - accuracy: 0.9730\n",
            "Epoch 94/100\n",
            "157/157 [==============================] - 0s 2ms/step - loss: 0.0685 - accuracy: 0.9740\n",
            "Epoch 95/100\n",
            "157/157 [==============================] - 0s 2ms/step - loss: 0.0692 - accuracy: 0.9728\n",
            "Epoch 96/100\n",
            "157/157 [==============================] - 0s 2ms/step - loss: 0.0717 - accuracy: 0.9724\n",
            "Epoch 97/100\n",
            "157/157 [==============================] - 0s 2ms/step - loss: 0.0671 - accuracy: 0.9754\n",
            "Epoch 98/100\n",
            "157/157 [==============================] - 0s 2ms/step - loss: 0.0666 - accuracy: 0.9726\n",
            "Epoch 99/100\n",
            "157/157 [==============================] - 0s 2ms/step - loss: 0.0667 - accuracy: 0.9742\n",
            "Epoch 100/100\n",
            "157/157 [==============================] - 0s 3ms/step - loss: 0.0655 - accuracy: 0.9752\n",
            "40/40 [==============================] - 0s 2ms/step - loss: 0.1554 - accuracy: 0.9456\n",
            "[0.15535366535186768, 0.9456434845924377]\n",
            "40/40 [==============================] - 0s 2ms/step\n",
            "Classification Report: \n",
            "               precision    recall  f1-score   support\n",
            "\n",
            "           0       0.96      0.92      0.94       560\n",
            "           1       0.94      0.97      0.95       691\n",
            "\n",
            "    accuracy                           0.95      1251\n",
            "   macro avg       0.95      0.94      0.94      1251\n",
            "weighted avg       0.95      0.95      0.95      1251\n",
            "\n"
          ]
        }
      ]
    },
    {
      "cell_type": "code",
      "source": [
        "auc = roc_auc_score(y_test9, y_preds9)\n",
        "auc\n"
      ],
      "metadata": {
        "colab": {
          "base_uri": "https://localhost:8080/"
        },
        "id": "AefU0_PfXWFN",
        "outputId": "79f6265f-002c-4678-c8ef-f1f966752251"
      },
      "execution_count": 206,
      "outputs": [
        {
          "output_type": "execute_result",
          "data": {
            "text/plain": [
              "0.9433481496795535"
            ]
          },
          "metadata": {},
          "execution_count": 206
        }
      ]
    },
    {
      "cell_type": "markdown",
      "source": [
        "###Method 10 : SMOTETomek"
      ],
      "metadata": {
        "id": "YY_WQ02LqrLS"
      }
    },
    {
      "cell_type": "code",
      "source": [
        "X = df2.drop('Churn',axis='columns')\n",
        "y = df2['Churn']"
      ],
      "metadata": {
        "id": "I-xsdqdzqx1J"
      },
      "execution_count": 207,
      "outputs": []
    },
    {
      "cell_type": "code",
      "source": [
        "from imblearn.combine import SMOTETomek\n",
        "\n",
        "smotetomek = SMOTETomek(sampling_strategy='minority',random_state = 42)\n",
        "X_smtt, y_smtt = smotetomek.fit_resample(X, y)\n",
        "\n",
        "y_smtt.value_counts()"
      ],
      "metadata": {
        "colab": {
          "base_uri": "https://localhost:8080/"
        },
        "id": "aRHhUJgVrtV8",
        "outputId": "a0ff77b1-0dd7-4239-f07a-eaada573b34a"
      },
      "execution_count": 208,
      "outputs": [
        {
          "output_type": "execute_result",
          "data": {
            "text/plain": [
              "0    4873\n",
              "1    4873\n",
              "Name: Churn, dtype: int64"
            ]
          },
          "metadata": {},
          "execution_count": 208
        }
      ]
    },
    {
      "cell_type": "code",
      "source": [
        "from sklearn.model_selection import train_test_split\n",
        "X_train10, X_test10, y_train10, y_test10 = train_test_split(X_smtt, y_smtt, test_size=0.2, random_state=15, stratify=y_smtt)"
      ],
      "metadata": {
        "id": "mItMjQNSsR0E"
      },
      "execution_count": 209,
      "outputs": []
    },
    {
      "cell_type": "code",
      "source": [
        "y_train10.value_counts()"
      ],
      "metadata": {
        "colab": {
          "base_uri": "https://localhost:8080/"
        },
        "id": "5fblSKd7y8Xu",
        "outputId": "f5469a39-3315-4384-bc21-87bc1b4d48f5"
      },
      "execution_count": 210,
      "outputs": [
        {
          "output_type": "execute_result",
          "data": {
            "text/plain": [
              "1    3898\n",
              "0    3898\n",
              "Name: Churn, dtype: int64"
            ]
          },
          "metadata": {},
          "execution_count": 210
        }
      ]
    },
    {
      "cell_type": "code",
      "source": [
        "y_preds10 = ANN(X_train10, y_train10, X_test10, y_test10, 'binary_crossentropy', -1)"
      ],
      "metadata": {
        "colab": {
          "base_uri": "https://localhost:8080/"
        },
        "id": "njaEW0IjzQdN",
        "outputId": "b2453264-d07b-48e9-9f17-98546c351365"
      },
      "execution_count": 211,
      "outputs": [
        {
          "output_type": "stream",
          "name": "stdout",
          "text": [
            "Epoch 1/100\n",
            "244/244 [==============================] - 1s 2ms/step - loss: 0.5061 - accuracy: 0.7526\n",
            "Epoch 2/100\n",
            "244/244 [==============================] - 0s 2ms/step - loss: 0.4384 - accuracy: 0.7980\n",
            "Epoch 3/100\n",
            "244/244 [==============================] - 0s 2ms/step - loss: 0.4329 - accuracy: 0.8008\n",
            "Epoch 4/100\n",
            "244/244 [==============================] - 0s 2ms/step - loss: 0.4261 - accuracy: 0.8019\n",
            "Epoch 5/100\n",
            "244/244 [==============================] - 0s 2ms/step - loss: 0.4202 - accuracy: 0.8062\n",
            "Epoch 6/100\n",
            "244/244 [==============================] - 0s 2ms/step - loss: 0.4164 - accuracy: 0.8068\n",
            "Epoch 7/100\n",
            "244/244 [==============================] - 0s 2ms/step - loss: 0.4116 - accuracy: 0.8105\n",
            "Epoch 8/100\n",
            "244/244 [==============================] - 0s 2ms/step - loss: 0.4081 - accuracy: 0.8094\n",
            "Epoch 9/100\n",
            "244/244 [==============================] - 0s 2ms/step - loss: 0.4033 - accuracy: 0.8140\n",
            "Epoch 10/100\n",
            "244/244 [==============================] - 0s 2ms/step - loss: 0.3997 - accuracy: 0.8185\n",
            "Epoch 11/100\n",
            "244/244 [==============================] - 0s 2ms/step - loss: 0.3953 - accuracy: 0.8129\n",
            "Epoch 12/100\n",
            "244/244 [==============================] - 0s 2ms/step - loss: 0.3919 - accuracy: 0.8200\n",
            "Epoch 13/100\n",
            "244/244 [==============================] - 0s 2ms/step - loss: 0.3872 - accuracy: 0.8204\n",
            "Epoch 14/100\n",
            "244/244 [==============================] - 1s 2ms/step - loss: 0.3844 - accuracy: 0.8209\n",
            "Epoch 15/100\n",
            "244/244 [==============================] - 1s 3ms/step - loss: 0.3793 - accuracy: 0.8254\n",
            "Epoch 16/100\n",
            "244/244 [==============================] - 1s 3ms/step - loss: 0.3783 - accuracy: 0.8264\n",
            "Epoch 17/100\n",
            "244/244 [==============================] - 1s 3ms/step - loss: 0.3734 - accuracy: 0.8294\n",
            "Epoch 18/100\n",
            "244/244 [==============================] - 1s 2ms/step - loss: 0.3712 - accuracy: 0.8295\n",
            "Epoch 19/100\n",
            "244/244 [==============================] - 0s 2ms/step - loss: 0.3687 - accuracy: 0.8323\n",
            "Epoch 20/100\n",
            "244/244 [==============================] - 0s 2ms/step - loss: 0.3664 - accuracy: 0.8330\n",
            "Epoch 21/100\n",
            "244/244 [==============================] - 0s 2ms/step - loss: 0.3656 - accuracy: 0.8321\n",
            "Epoch 22/100\n",
            "244/244 [==============================] - 0s 2ms/step - loss: 0.3625 - accuracy: 0.8359\n",
            "Epoch 23/100\n",
            "244/244 [==============================] - 0s 2ms/step - loss: 0.3605 - accuracy: 0.8389\n",
            "Epoch 24/100\n",
            "244/244 [==============================] - 0s 2ms/step - loss: 0.3580 - accuracy: 0.8361\n",
            "Epoch 25/100\n",
            "244/244 [==============================] - 0s 2ms/step - loss: 0.3583 - accuracy: 0.8356\n",
            "Epoch 26/100\n",
            "244/244 [==============================] - 0s 2ms/step - loss: 0.3567 - accuracy: 0.8391\n",
            "Epoch 27/100\n",
            "244/244 [==============================] - 0s 2ms/step - loss: 0.3546 - accuracy: 0.8398\n",
            "Epoch 28/100\n",
            "244/244 [==============================] - 0s 2ms/step - loss: 0.3527 - accuracy: 0.8380\n",
            "Epoch 29/100\n",
            "244/244 [==============================] - 0s 2ms/step - loss: 0.3496 - accuracy: 0.8438\n",
            "Epoch 30/100\n",
            "244/244 [==============================] - 0s 2ms/step - loss: 0.3489 - accuracy: 0.8440\n",
            "Epoch 31/100\n",
            "244/244 [==============================] - 0s 2ms/step - loss: 0.3470 - accuracy: 0.8450\n",
            "Epoch 32/100\n",
            "244/244 [==============================] - 0s 2ms/step - loss: 0.3443 - accuracy: 0.8449\n",
            "Epoch 33/100\n",
            "244/244 [==============================] - 0s 2ms/step - loss: 0.3429 - accuracy: 0.8476\n",
            "Epoch 34/100\n",
            "244/244 [==============================] - 0s 2ms/step - loss: 0.3449 - accuracy: 0.8456\n",
            "Epoch 35/100\n",
            "244/244 [==============================] - 0s 2ms/step - loss: 0.3406 - accuracy: 0.8465\n",
            "Epoch 36/100\n",
            "244/244 [==============================] - 0s 2ms/step - loss: 0.3402 - accuracy: 0.8492\n",
            "Epoch 37/100\n",
            "244/244 [==============================] - 0s 2ms/step - loss: 0.3414 - accuracy: 0.8468\n",
            "Epoch 38/100\n",
            "244/244 [==============================] - 0s 2ms/step - loss: 0.3377 - accuracy: 0.8471\n",
            "Epoch 39/100\n",
            "244/244 [==============================] - 0s 2ms/step - loss: 0.3366 - accuracy: 0.8511\n",
            "Epoch 40/100\n",
            "244/244 [==============================] - 1s 3ms/step - loss: 0.3347 - accuracy: 0.8526\n",
            "Epoch 41/100\n",
            "244/244 [==============================] - 1s 3ms/step - loss: 0.3338 - accuracy: 0.8538\n",
            "Epoch 42/100\n",
            "244/244 [==============================] - 1s 3ms/step - loss: 0.3318 - accuracy: 0.8502\n",
            "Epoch 43/100\n",
            "244/244 [==============================] - 1s 3ms/step - loss: 0.3299 - accuracy: 0.8506\n",
            "Epoch 44/100\n",
            "244/244 [==============================] - 1s 2ms/step - loss: 0.3302 - accuracy: 0.8552\n",
            "Epoch 45/100\n",
            "244/244 [==============================] - 0s 2ms/step - loss: 0.3286 - accuracy: 0.8527\n",
            "Epoch 46/100\n",
            "244/244 [==============================] - 0s 2ms/step - loss: 0.3288 - accuracy: 0.8536\n",
            "Epoch 47/100\n",
            "244/244 [==============================] - 0s 2ms/step - loss: 0.3278 - accuracy: 0.8538\n",
            "Epoch 48/100\n",
            "244/244 [==============================] - 0s 2ms/step - loss: 0.3267 - accuracy: 0.8560\n",
            "Epoch 49/100\n",
            "244/244 [==============================] - 0s 2ms/step - loss: 0.3252 - accuracy: 0.8558\n",
            "Epoch 50/100\n",
            "244/244 [==============================] - 0s 2ms/step - loss: 0.3245 - accuracy: 0.8577\n",
            "Epoch 51/100\n",
            "244/244 [==============================] - 0s 2ms/step - loss: 0.3240 - accuracy: 0.8548\n",
            "Epoch 52/100\n",
            "244/244 [==============================] - 0s 2ms/step - loss: 0.3220 - accuracy: 0.8577\n",
            "Epoch 53/100\n",
            "244/244 [==============================] - 0s 2ms/step - loss: 0.3201 - accuracy: 0.8576\n",
            "Epoch 54/100\n",
            "244/244 [==============================] - 0s 2ms/step - loss: 0.3223 - accuracy: 0.8557\n",
            "Epoch 55/100\n",
            "244/244 [==============================] - 0s 2ms/step - loss: 0.3202 - accuracy: 0.8597\n",
            "Epoch 56/100\n",
            "244/244 [==============================] - 0s 2ms/step - loss: 0.3196 - accuracy: 0.8590\n",
            "Epoch 57/100\n",
            "244/244 [==============================] - 0s 2ms/step - loss: 0.3174 - accuracy: 0.8583\n",
            "Epoch 58/100\n",
            "244/244 [==============================] - 0s 2ms/step - loss: 0.3163 - accuracy: 0.8602\n",
            "Epoch 59/100\n",
            "244/244 [==============================] - 0s 2ms/step - loss: 0.3155 - accuracy: 0.8604\n",
            "Epoch 60/100\n",
            "244/244 [==============================] - 0s 2ms/step - loss: 0.3141 - accuracy: 0.8620\n",
            "Epoch 61/100\n",
            "244/244 [==============================] - 0s 2ms/step - loss: 0.3124 - accuracy: 0.8611\n",
            "Epoch 62/100\n",
            "244/244 [==============================] - 0s 2ms/step - loss: 0.3135 - accuracy: 0.8617\n",
            "Epoch 63/100\n",
            "244/244 [==============================] - 0s 2ms/step - loss: 0.3155 - accuracy: 0.8594\n",
            "Epoch 64/100\n",
            "244/244 [==============================] - 0s 2ms/step - loss: 0.3137 - accuracy: 0.8603\n",
            "Epoch 65/100\n",
            "244/244 [==============================] - 0s 2ms/step - loss: 0.3133 - accuracy: 0.8599\n",
            "Epoch 66/100\n",
            "244/244 [==============================] - 1s 3ms/step - loss: 0.3113 - accuracy: 0.8589\n",
            "Epoch 67/100\n",
            "244/244 [==============================] - 1s 3ms/step - loss: 0.3126 - accuracy: 0.8635\n",
            "Epoch 68/100\n",
            "244/244 [==============================] - 1s 3ms/step - loss: 0.3092 - accuracy: 0.8603\n",
            "Epoch 69/100\n",
            "244/244 [==============================] - 1s 3ms/step - loss: 0.3112 - accuracy: 0.8568\n",
            "Epoch 70/100\n",
            "244/244 [==============================] - 0s 2ms/step - loss: 0.3094 - accuracy: 0.8626\n",
            "Epoch 71/100\n",
            "244/244 [==============================] - 0s 2ms/step - loss: 0.3082 - accuracy: 0.8645\n",
            "Epoch 72/100\n",
            "244/244 [==============================] - 0s 2ms/step - loss: 0.3079 - accuracy: 0.8617\n",
            "Epoch 73/100\n",
            "244/244 [==============================] - 0s 2ms/step - loss: 0.3088 - accuracy: 0.8647\n",
            "Epoch 74/100\n",
            "244/244 [==============================] - 0s 2ms/step - loss: 0.3064 - accuracy: 0.8626\n",
            "Epoch 75/100\n",
            "244/244 [==============================] - 0s 2ms/step - loss: 0.3068 - accuracy: 0.8622\n",
            "Epoch 76/100\n",
            "244/244 [==============================] - 0s 2ms/step - loss: 0.3053 - accuracy: 0.8638\n",
            "Epoch 77/100\n",
            "244/244 [==============================] - 0s 2ms/step - loss: 0.3033 - accuracy: 0.8685\n",
            "Epoch 78/100\n",
            "244/244 [==============================] - 0s 2ms/step - loss: 0.3038 - accuracy: 0.8649\n",
            "Epoch 79/100\n",
            "244/244 [==============================] - 0s 2ms/step - loss: 0.3034 - accuracy: 0.8676\n",
            "Epoch 80/100\n",
            "244/244 [==============================] - 0s 2ms/step - loss: 0.3036 - accuracy: 0.8654\n",
            "Epoch 81/100\n",
            "244/244 [==============================] - 0s 2ms/step - loss: 0.3063 - accuracy: 0.8642\n",
            "Epoch 82/100\n",
            "244/244 [==============================] - 0s 2ms/step - loss: 0.3007 - accuracy: 0.8647\n",
            "Epoch 83/100\n",
            "244/244 [==============================] - 0s 2ms/step - loss: 0.3035 - accuracy: 0.8662\n",
            "Epoch 84/100\n",
            "244/244 [==============================] - 0s 2ms/step - loss: 0.2998 - accuracy: 0.8683\n",
            "Epoch 85/100\n",
            "244/244 [==============================] - 0s 2ms/step - loss: 0.3003 - accuracy: 0.8656\n",
            "Epoch 86/100\n",
            "244/244 [==============================] - 0s 2ms/step - loss: 0.3019 - accuracy: 0.8653\n",
            "Epoch 87/100\n",
            "244/244 [==============================] - 0s 2ms/step - loss: 0.3027 - accuracy: 0.8681\n",
            "Epoch 88/100\n",
            "244/244 [==============================] - 0s 2ms/step - loss: 0.2968 - accuracy: 0.8674\n",
            "Epoch 89/100\n",
            "244/244 [==============================] - 0s 2ms/step - loss: 0.3009 - accuracy: 0.8652\n",
            "Epoch 90/100\n",
            "244/244 [==============================] - 0s 2ms/step - loss: 0.2966 - accuracy: 0.8717\n",
            "Epoch 91/100\n",
            "244/244 [==============================] - 1s 3ms/step - loss: 0.2973 - accuracy: 0.8678\n",
            "Epoch 92/100\n",
            "244/244 [==============================] - 1s 3ms/step - loss: 0.2963 - accuracy: 0.8711\n",
            "Epoch 93/100\n",
            "244/244 [==============================] - 1s 3ms/step - loss: 0.2975 - accuracy: 0.8676\n",
            "Epoch 94/100\n",
            "244/244 [==============================] - 1s 3ms/step - loss: 0.2971 - accuracy: 0.8656\n",
            "Epoch 95/100\n",
            "244/244 [==============================] - 1s 2ms/step - loss: 0.2964 - accuracy: 0.8660\n",
            "Epoch 96/100\n",
            "244/244 [==============================] - 0s 2ms/step - loss: 0.2947 - accuracy: 0.8687\n",
            "Epoch 97/100\n",
            "244/244 [==============================] - 0s 2ms/step - loss: 0.2950 - accuracy: 0.8698\n",
            "Epoch 98/100\n",
            "244/244 [==============================] - 0s 2ms/step - loss: 0.2928 - accuracy: 0.8685\n",
            "Epoch 99/100\n",
            "244/244 [==============================] - 0s 2ms/step - loss: 0.2936 - accuracy: 0.8688\n",
            "Epoch 100/100\n",
            "244/244 [==============================] - 0s 2ms/step - loss: 0.2929 - accuracy: 0.8721\n",
            "61/61 [==============================] - 0s 3ms/step - loss: 0.3683 - accuracy: 0.8400\n",
            "[0.3683222830295563, 0.8399999737739563]\n",
            "61/61 [==============================] - 0s 1ms/step\n",
            "Classification Report: \n",
            "               precision    recall  f1-score   support\n",
            "\n",
            "           0       0.85      0.83      0.84       975\n",
            "           1       0.83      0.85      0.84       975\n",
            "\n",
            "    accuracy                           0.84      1950\n",
            "   macro avg       0.84      0.84      0.84      1950\n",
            "weighted avg       0.84      0.84      0.84      1950\n",
            "\n"
          ]
        }
      ]
    },
    {
      "cell_type": "code",
      "source": [
        "auc = roc_auc_score(y_test10, y_preds10)\n",
        "auc\n"
      ],
      "metadata": {
        "id": "uTKcuH800fAh",
        "colab": {
          "base_uri": "https://localhost:8080/"
        },
        "outputId": "1047af23-61bf-4bae-fa7c-acc9436a0c02"
      },
      "execution_count": 212,
      "outputs": [
        {
          "output_type": "execute_result",
          "data": {
            "text/plain": [
              "0.8400000000000001"
            ]
          },
          "metadata": {},
          "execution_count": 212
        }
      ]
    },
    {
      "cell_type": "markdown",
      "source": [
        "###Confusion Matrix for all algorithms"
      ],
      "metadata": {
        "id": "Y_dnSWBt4tlb"
      }
    },
    {
      "cell_type": "code",
      "source": [
        "import seaborn as sn \n",
        "\n"
      ],
      "metadata": {
        "id": "RGuV5wwLBF1q"
      },
      "execution_count": 213,
      "outputs": []
    },
    {
      "cell_type": "code",
      "source": [
        "print(\"ANN Algotithm\")\n",
        "print(classification_report(y_test, y_preds))\n",
        "cm=tf.math.confusion_matrix(labels=y_test,predictions=y_preds)\n",
        "plt.figure(figsize=(10,7))\n",
        "sn.heatmap(cm,annot=True,fmt='d')\n",
        "plt.title('ANN')\n",
        "plt.xlabel('Predicated')\n",
        "plt.ylabel('Truth')\n",
        "\n",
        "print(\"1 : Undersampling\")\n",
        "print(classification_report(y_test1, y_preds1))\n",
        "cm=tf.math.confusion_matrix(labels=y_test1,predictions=y_preds1)\n",
        "plt.figure(figsize=(10,7))\n",
        "sn.heatmap(cm,annot=True,fmt='d')\n",
        "plt.title('Undersampling')\n",
        "plt.xlabel('Predicated')\n",
        "plt.ylabel('Truth')\n",
        "\n",
        "print(\"2 : Oversampling\")\n",
        "print(classification_report(y_test2, y_preds2))\n",
        "cm=tf.math.confusion_matrix(labels=y_test2,predictions=y_preds2)\n",
        "plt.figure(figsize=(10,7))\n",
        "sn.heatmap(cm,annot=True,fmt='d')\n",
        "plt.title('Oversampling')\n",
        "plt.xlabel('Predicated')\n",
        "plt.ylabel('Truth')\n",
        "\n",
        "print(\"3 : SMOTE\")\n",
        "print(classification_report(y_test3, y_preds3))\n",
        "cm=tf.math.confusion_matrix(labels=y_test3,predictions=y_preds3)\n",
        "plt.figure(figsize=(10,7))\n",
        "sn.heatmap(cm,annot=True,fmt='d')\n",
        "plt.title('SMOTE')\n",
        "plt.xlabel('Predicated')\n",
        "plt.ylabel('Truth')\n",
        "\n",
        "print(\"4 : Ensemble with Undersampling\")\n",
        "print(classification_report(y_test4, y_pred_final))\n",
        "cm=tf.math.confusion_matrix(labels=y_test4,predictions=y_pred_final)\n",
        "plt.figure(figsize=(10,7))\n",
        "sn.heatmap(cm,annot=True,fmt='d')\n",
        "plt.title('Ensemble with Undersampling')\n",
        "plt.xlabel('Predicated')\n",
        "plt.ylabel('Truth')\n",
        "\n",
        "print(\"5 : Borderline SMOTE 1\")\n",
        "print(classification_report(y_test5, y_preds5))\n",
        "cm=tf.math.confusion_matrix(labels=y_test5,predictions=y_preds5)\n",
        "plt.figure(figsize=(10,7))\n",
        "sn.heatmap(cm,annot=True,fmt='d')\n",
        "plt.title('Borderline SMOTE 1')\n",
        "plt.xlabel('Predicated')\n",
        "plt.ylabel('Truth')\n",
        "\n",
        "print(\"6 : Borderline SMOTE 2\")\n",
        "print(classification_report(y_test6, y_preds6))\n",
        "cm=tf.math.confusion_matrix(labels=y_test6,predictions=y_preds6)\n",
        "plt.figure(figsize=(10,7))\n",
        "sn.heatmap(cm,annot=True,fmt='d')\n",
        "plt.title('Borderline SMOTE 2')\n",
        "plt.xlabel('Predicated')\n",
        "plt.ylabel('Truth')\n",
        "\n",
        "print(\"7 : SVM SMOTE\")\n",
        "print(classification_report(y_test7, y_preds7))\n",
        "cm=tf.math.confusion_matrix(labels=y_test7,predictions=y_preds7)\n",
        "plt.figure(figsize=(10,7))\n",
        "sn.heatmap(cm,annot=True,fmt='d')\n",
        "plt.title('SVM SMOTE')\n",
        "plt.xlabel('Predicated')\n",
        "plt.ylabel('Truth')\n",
        "\n",
        "print(\"8 : ADASYN \")\n",
        "print(classification_report(y_test8, y_preds8))\n",
        "cm=tf.math.confusion_matrix(labels=y_test8,predictions=y_preds8)\n",
        "plt.figure(figsize=(10,7))\n",
        "sn.heatmap(cm,annot=True,fmt='d')\n",
        "plt.title('ADASYN')\n",
        "plt.xlabel('Predicated')\n",
        "plt.ylabel('Truth')\n",
        "\n",
        "print(\"9 : SMOTEENN \")\n",
        "print(classification_report(y_test9, y_preds9))\n",
        "cm=tf.math.confusion_matrix(labels=y_test9,predictions=y_preds9)\n",
        "plt.figure(figsize=(10,7))\n",
        "sn.heatmap(cm,annot=True,fmt='d')\n",
        "plt.title('SMOTEENN')\n",
        "plt.xlabel('Predicated')\n",
        "plt.ylabel('Truth')\n",
        "\n",
        "print(\"10 : SMOTETOMEK \")\n",
        "print(classification_report(y_test10, y_preds10))\n",
        "cm=tf.math.confusion_matrix(labels=y_test10,predictions=y_preds10)\n",
        "plt.figure(figsize=(10,7))\n",
        "sn.heatmap(cm,annot=True,fmt='d')\n",
        "plt.title('SMOTETOMEK')\n",
        "plt.xlabel('Predicated')\n",
        "plt.ylabel('Truth')"
      ],
      "metadata": {
        "colab": {
          "base_uri": "https://localhost:8080/",
          "height": 1000
        },
        "id": "bGx6xdEg4wtU",
        "outputId": "3abd7d96-5016-42dd-aa23-93608bcd931b"
      },
      "execution_count": 214,
      "outputs": [
        {
          "output_type": "stream",
          "name": "stdout",
          "text": [
            "ANN Algotithm\n",
            "              precision    recall  f1-score   support\n",
            "\n",
            "         0.0       0.83      0.88      0.86      1033\n",
            "         1.0       0.60      0.52      0.56       374\n",
            "\n",
            "    accuracy                           0.78      1407\n",
            "   macro avg       0.72      0.70      0.71      1407\n",
            "weighted avg       0.77      0.78      0.78      1407\n",
            "\n",
            "1 : Undersampling\n",
            "              precision    recall  f1-score   support\n",
            "\n",
            "           0       0.76      0.75      0.75       374\n",
            "           1       0.75      0.76      0.76       374\n",
            "\n",
            "    accuracy                           0.76       748\n",
            "   macro avg       0.76      0.76      0.76       748\n",
            "weighted avg       0.76      0.76      0.76       748\n",
            "\n",
            "2 : Oversampling\n",
            "              precision    recall  f1-score   support\n",
            "\n",
            "           0       0.83      0.71      0.76      1033\n",
            "           1       0.74      0.85      0.79      1033\n",
            "\n",
            "    accuracy                           0.78      2066\n",
            "   macro avg       0.78      0.78      0.78      2066\n",
            "weighted avg       0.78      0.78      0.78      2066\n",
            "\n",
            "3 : SMOTE\n",
            "              precision    recall  f1-score   support\n",
            "\n",
            "           0       0.81      0.78      0.80      1033\n",
            "           1       0.79      0.82      0.81      1033\n",
            "\n",
            "    accuracy                           0.80      2066\n",
            "   macro avg       0.80      0.80      0.80      2066\n",
            "weighted avg       0.80      0.80      0.80      2066\n",
            "\n",
            "4 : Ensemble with Undersampling\n",
            "              precision    recall  f1-score   support\n",
            "\n",
            "           0       0.90      0.70      0.79      1033\n",
            "           1       0.49      0.79      0.60       374\n",
            "\n",
            "    accuracy                           0.73      1407\n",
            "   macro avg       0.70      0.75      0.70      1407\n",
            "weighted avg       0.79      0.73      0.74      1407\n",
            "\n",
            "5 : Borderline SMOTE 1\n",
            "              precision    recall  f1-score   support\n",
            "\n",
            "           0       0.80      0.79      0.79      1033\n",
            "           1       0.79      0.80      0.79      1033\n",
            "\n",
            "    accuracy                           0.79      2066\n",
            "   macro avg       0.79      0.79      0.79      2066\n",
            "weighted avg       0.79      0.79      0.79      2066\n",
            "\n",
            "6 : Borderline SMOTE 2\n",
            "              precision    recall  f1-score   support\n",
            "\n",
            "           0       0.80      0.80      0.80      1033\n",
            "           1       0.80      0.80      0.80      1033\n",
            "\n",
            "    accuracy                           0.80      2066\n",
            "   macro avg       0.80      0.80      0.80      2066\n",
            "weighted avg       0.80      0.80      0.80      2066\n",
            "\n",
            "7 : SVM SMOTE\n",
            "              precision    recall  f1-score   support\n",
            "\n",
            "           0       0.84      0.73      0.78      1033\n",
            "           1       0.76      0.86      0.81      1033\n",
            "\n",
            "    accuracy                           0.80      2066\n",
            "   macro avg       0.80      0.80      0.80      2066\n",
            "weighted avg       0.80      0.80      0.80      2066\n",
            "\n",
            "8 : ADASYN \n",
            "              precision    recall  f1-score   support\n",
            "\n",
            "           0       0.83      0.74      0.78      1033\n",
            "           1       0.77      0.85      0.80      1038\n",
            "\n",
            "    accuracy                           0.79      2071\n",
            "   macro avg       0.80      0.79      0.79      2071\n",
            "weighted avg       0.80      0.79      0.79      2071\n",
            "\n",
            "9 : SMOTEENN \n",
            "              precision    recall  f1-score   support\n",
            "\n",
            "           0       0.96      0.92      0.94       560\n",
            "           1       0.94      0.97      0.95       691\n",
            "\n",
            "    accuracy                           0.95      1251\n",
            "   macro avg       0.95      0.94      0.94      1251\n",
            "weighted avg       0.95      0.95      0.95      1251\n",
            "\n",
            "10 : SMOTETOMEK \n",
            "              precision    recall  f1-score   support\n",
            "\n",
            "           0       0.85      0.83      0.84       975\n",
            "           1       0.83      0.85      0.84       975\n",
            "\n",
            "    accuracy                           0.84      1950\n",
            "   macro avg       0.84      0.84      0.84      1950\n",
            "weighted avg       0.84      0.84      0.84      1950\n",
            "\n"
          ]
        },
        {
          "output_type": "execute_result",
          "data": {
            "text/plain": [
              "Text(69.0, 0.5, 'Truth')"
            ]
          },
          "metadata": {},
          "execution_count": 214
        },
        {
          "output_type": "display_data",
          "data": {
            "text/plain": [
              "<Figure size 720x504 with 2 Axes>"
            ],
            "image/png": "[encoded data removed]"
          },
          "metadata": {
            "needs_background": "light"
          }
        },
        {
          "output_type": "display_data",
          "data": {
            "text/plain": [
              "<Figure size 720x504 with 2 Axes>"
            ],
            "image/png": "[encoded data removed]"
          },
          "metadata": {
            "needs_background": "light"
          }
        },
        {
          "output_type": "display_data",
          "data": {
            "text/plain": [
              "<Figure size 720x504 with 2 Axes>"
            ],
            "image/png": "[encoded data removed]"
          },
          "metadata": {
            "needs_background": "light"
          }
        },
        {
          "output_type": "display_data",
          "data": {
            "text/plain": [
              "<Figure size 720x504 with 2 Axes>"
            ],
            "image/png": "[encoded data removed]"
          },
          "metadata": {
            "needs_background": "light"
          }
        },
        {
          "output_type": "display_data",
          "data": {
            "text/plain": [
              "<Figure size 720x504 with 2 Axes>"
            ],
            "image/png": "[encoded data removed]"
          },
          "metadata": {
            "needs_background": "light"
          }
        },
        {
          "output_type": "display_data",
          "data": {
            "text/plain": [
              "<Figure size 720x504 with 2 Axes>"
            ],
            "image/png": "[encoded data removed]"
          },
          "metadata": {
            "needs_background": "light"
          }
        },
        {
          "output_type": "display_data",
          "data": {
            "text/plain": [
              "<Figure size 720x504 with 2 Axes>"
            ],
            "image/png": "[encoded data removed]"
          },
          "metadata": {
            "needs_background": "light"
          }
        },
        {
          "output_type": "display_data",
          "data": {
            "text/plain": [
              "<Figure size 720x504 with 2 Axes>"
            ],
            "image/png": "[encoded data removed]"
          },
          "metadata": {
            "needs_background": "light"
          }
        },
        {
          "output_type": "display_data",
          "data": {
            "text/plain": [
              "<Figure size 720x504 with 2 Axes>"
            ],
            "image/png": "[encoded data removed]"
          },
          "metadata": {
            "needs_background": "light"
          }
        },
        {
          "output_type": "display_data",
          "data": {
            "text/plain": [
              "<Figure size 720x504 with 2 Axes>"
            ],
            "image/png": "[encoded data removed]"
          },
          "metadata": {
            "needs_background": "light"
          }
        },
        {
          "output_type": "display_data",
          "data": {
            "text/plain": [
              "<Figure size 720x504 with 2 Axes>"
            ],
            "image/png": "[encoded data removed]"
          },
          "metadata": {
            "needs_background": "light"
          }
        }
      ]
    },
    {
      "cell_type": "code",
      "source": [],
      "metadata": {
        "id": "1PQ4cr1z_gD5"
      },
      "execution_count": null,
      "outputs": []
    }
  ],
  "metadata": {
    "kernelspec": {
      "display_name": "Python 3",
      "language": "python",
      "name": "python3"
    },
    "language_info": {
      "codemirror_mode": {
        "name": "ipython",
        "version": 3
      },
      "file_extension": ".py",
      "mimetype": "text/x-python",
      "name": "python",
      "nbconvert_exporter": "python",
      "pygments_lexer": "ipython3",
      "version": "3.8.5"
    },
    "colab": {
      "provenance": []
    }
  },
  "nbformat": 4,
  "nbformat_minor": 0
}
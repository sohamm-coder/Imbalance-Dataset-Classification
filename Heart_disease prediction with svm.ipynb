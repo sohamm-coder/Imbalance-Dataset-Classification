{
  "cells": [
    {
      "cell_type": "markdown",
      "metadata": {
        "papermill": {
          "duration": 0.009965,
          "end_time": "2020-08-27T21:28:40.833639",
          "exception": false,
          "start_time": "2020-08-27T21:28:40.823674",
          "status": "completed"
        },
        "tags": [],
        "id": "ih4DZg0PFyxb"
      },
      "source": [
        "# Predicting Heart Disease with K-NN and SVM"
      ]
    },
    {
      "cell_type": "markdown",
      "metadata": {
        "papermill": {
          "duration": 0.008671,
          "end_time": "2020-08-27T21:28:40.850092",
          "exception": false,
          "start_time": "2020-08-27T21:28:40.841421",
          "status": "completed"
        },
        "tags": [],
        "id": "C3Us4w9DFyxi"
      },
     
    },
    {
      "cell_type": "markdown",
      "metadata": {
        "papermill": {
          "duration": 0.008676,
          "end_time": "2020-08-27T21:28:40.866359",
          "exception": false,
          "start_time": "2020-08-27T21:28:40.857683",
          "status": "completed"
        },
        "tags": [],
        "id": "qBDp6IJGFyxk"
      },
      "source": [
        "# Importing Libraries"
      ]
    },
    {
      "cell_type": "code",
      "execution_count": 289,
      "metadata": {
        "_cell_guid": "b1076dfc-b9ad-4769-8c92-a6c4dae69d19",
        "_uuid": "8f2839f25d086af736a60e9eeb907d3b93b6e0e5",
        "execution": {
          "iopub.execute_input": "2020-08-27T21:28:40.890466Z",
          "iopub.status.busy": "2020-08-27T21:28:40.889687Z",
          "iopub.status.idle": "2020-08-27T21:28:42.132586Z",
          "shell.execute_reply": "2020-08-27T21:28:42.131734Z"
        },
        "papermill": {
          "duration": 1.257511,
          "end_time": "2020-08-27T21:28:42.132717",
          "exception": false,
          "start_time": "2020-08-27T21:28:40.875206",
          "status": "completed"
        },
        "tags": [],
        "id": "FSd07-NqFyxl"
      },
      "outputs": [],
      "source": [
        "import pandas as pd\n",
        "import numpy as np\n",
        "import matplotlib.pyplot as plt\n",
        "import seaborn as sns\n",
        "import tensorflow as tf\n",
        "from sklearn.preprocessing import StandardScaler\n",
        "from sklearn.metrics import accuracy_score\n",
        "from sklearn.metrics import confusion_matrix\n",
        "from sklearn.metrics import f1_score\n",
        "from sklearn.model_selection import train_test_split\n",
        "import warnings\n",
        "warnings.filterwarnings('ignore')\n",
        "import sklearn.neighbors\n",
        "from sklearn.neighbors import KNeighborsClassifier\n",
        "from sklearn.metrics import precision_score, recall_score, f1_score, roc_auc_score, accuracy_score, classification_report\n"
      ]
    },
    {
      "cell_type": "markdown",
      "metadata": {
        "papermill": {
          "duration": 0.007137,
          "end_time": "2020-08-27T21:28:42.147750",
          "exception": false,
          "start_time": "2020-08-27T21:28:42.140613",
          "status": "completed"
        },
        "tags": [],
        "id": "aZKXUcjFFyxo"
      },
      "source": [
        "# Data"
      ]
    },
    {
      "cell_type": "code",
      "execution_count": 202,
      "metadata": {
        "execution": {
          "iopub.execute_input": "2020-08-27T21:28:42.171953Z",
          "iopub.status.busy": "2020-08-27T21:28:42.171143Z",
          "iopub.status.idle": "2020-08-27T21:28:42.181986Z",
          "shell.execute_reply": "2020-08-27T21:28:42.182537Z"
        },
        "papermill": {
          "duration": 0.027628,
          "end_time": "2020-08-27T21:28:42.182689",
          "exception": false,
          "start_time": "2020-08-27T21:28:42.155061",
          "status": "completed"
        },
        "tags": [],
        "id": "G4CjhajQFyxq"
      },
      "outputs": [],
      "source": [
        "\n",
        "df = pd.read_csv('Heart_Disease_Prediction.csv')"
      ]
    },
    {
      "cell_type": "code",
      "execution_count": 203,
      "metadata": {
        "execution": {
          "iopub.execute_input": "2020-08-27T21:28:42.215706Z",
          "iopub.status.busy": "2020-08-27T21:28:42.214946Z",
          "iopub.status.idle": "2020-08-27T21:28:42.227297Z",
          "shell.execute_reply": "2020-08-27T21:28:42.226575Z"
        },
        "papermill": {
          "duration": 0.037071,
          "end_time": "2020-08-27T21:28:42.227414",
          "exception": false,
          "start_time": "2020-08-27T21:28:42.190343",
          "status": "completed"
        },
        "tags": [],
        "id": "cV5q-EAtFyxs"
      },
      "outputs": [],
      "source": [
        "df.head()\n",
        "df.rename(columns={'Heart Disease':'Disease'},inplace=True)\n"
      ]
    },
    {
      "cell_type": "code",
      "execution_count": 204,
      "metadata": {
        "execution": {
          "iopub.execute_input": "2020-08-27T21:28:42.256704Z",
          "iopub.status.busy": "2020-08-27T21:28:42.255681Z",
          "iopub.status.idle": "2020-08-27T21:28:42.305405Z",
          "shell.execute_reply": "2020-08-27T21:28:42.304760Z"
        },
        "papermill": {
          "duration": 0.06999,
          "end_time": "2020-08-27T21:28:42.305527",
          "exception": false,
          "start_time": "2020-08-27T21:28:42.235537",
          "status": "completed"
        },
        "tags": [],
        "colab": {
          "base_uri": "https://localhost:8080/",
          "height": 399
        },
        "id": "J05F8P3DFyxv",
        "outputId": "2e029e71-13ac-4eb1-cb54-879d9a0971de"
      },
      "outputs": [
        {
          "output_type": "execute_result",
          "data": {
            "text/plain": [
              "              Age         Sex  Chest pain type          BP  Cholesterol  \\\n",
              "count  270.000000  270.000000       270.000000  270.000000   270.000000   \n",
              "mean    54.433333    0.677778         3.174074  131.344444   249.659259   \n",
              "std      9.109067    0.468195         0.950090   17.861608    51.686237   \n",
              "min     29.000000    0.000000         1.000000   94.000000   126.000000   \n",
              "25%     48.000000    0.000000         3.000000  120.000000   213.000000   \n",
              "50%     55.000000    1.000000         3.000000  130.000000   245.000000   \n",
              "75%     61.000000    1.000000         4.000000  140.000000   280.000000   \n",
              "max     77.000000    1.000000         4.000000  200.000000   564.000000   \n",
              "\n",
              "       FBS over 120  EKG results      Max HR  Exercise angina  ST depression  \\\n",
              "count    270.000000   270.000000  270.000000       270.000000      270.00000   \n",
              "mean       0.148148     1.022222  149.677778         0.329630        1.05000   \n",
              "std        0.355906     0.997891   23.165717         0.470952        1.14521   \n",
              "min        0.000000     0.000000   71.000000         0.000000        0.00000   \n",
              "25%        0.000000     0.000000  133.000000         0.000000        0.00000   \n",
              "50%        0.000000     2.000000  153.500000         0.000000        0.80000   \n",
              "75%        0.000000     2.000000  166.000000         1.000000        1.60000   \n",
              "max        1.000000     2.000000  202.000000         1.000000        6.20000   \n",
              "\n",
              "       Slope of ST  Number of vessels fluro    Thallium  \n",
              "count   270.000000               270.000000  270.000000  \n",
              "mean      1.585185                 0.670370    4.696296  \n",
              "std       0.614390                 0.943896    1.940659  \n",
              "min       1.000000                 0.000000    3.000000  \n",
              "25%       1.000000                 0.000000    3.000000  \n",
              "50%       2.000000                 0.000000    3.000000  \n",
              "75%       2.000000                 1.000000    7.000000  \n",
              "max       3.000000                 3.000000    7.000000  "
            ],
            "text/html": [
              "\n",
              "  <div id=\"df-685d6b45-8492-4d35-9b90-513dae7b3e93\">\n",
              "    <div class=\"colab-df-container\">\n",
              "      <div>\n",
              "<style scoped>\n",
              "    .dataframe tbody tr th:only-of-type {\n",
              "        vertical-align: middle;\n",
              "    }\n",
              "\n",
              "    .dataframe tbody tr th {\n",
              "        vertical-align: top;\n",
              "    }\n",
              "\n",
              "    .dataframe thead th {\n",
              "        text-align: right;\n",
              "    }\n",
              "</style>\n",
              "<table border=\"1\" class=\"dataframe\">\n",
              "  <thead>\n",
              "    <tr style=\"text-align: right;\">\n",
              "      <th></th>\n",
              "      <th>Age</th>\n",
              "      <th>Sex</th>\n",
              "      <th>Chest pain type</th>\n",
              "      <th>BP</th>\n",
              "      <th>Cholesterol</th>\n",
              "      <th>FBS over 120</th>\n",
              "      <th>EKG results</th>\n",
              "      <th>Max HR</th>\n",
              "      <th>Exercise angina</th>\n",
              "      <th>ST depression</th>\n",
              "      <th>Slope of ST</th>\n",
              "      <th>Number of vessels fluro</th>\n",
              "      <th>Thallium</th>\n",
              "    </tr>\n",
              "  </thead>\n",
              "  <tbody>\n",
              "    <tr>\n",
              "      <th>count</th>\n",
              "      <td>270.000000</td>\n",
              "      <td>270.000000</td>\n",
              "      <td>270.000000</td>\n",
              "      <td>270.000000</td>\n",
              "      <td>270.000000</td>\n",
              "      <td>270.000000</td>\n",
              "      <td>270.000000</td>\n",
              "      <td>270.000000</td>\n",
              "      <td>270.000000</td>\n",
              "      <td>270.00000</td>\n",
              "      <td>270.000000</td>\n",
              "      <td>270.000000</td>\n",
              "      <td>270.000000</td>\n",
              "    </tr>\n",
              "    <tr>\n",
              "      <th>mean</th>\n",
              "      <td>54.433333</td>\n",
              "      <td>0.677778</td>\n",
              "      <td>3.174074</td>\n",
              "      <td>131.344444</td>\n",
              "      <td>249.659259</td>\n",
              "      <td>0.148148</td>\n",
              "      <td>1.022222</td>\n",
              "      <td>149.677778</td>\n",
              "      <td>0.329630</td>\n",
              "      <td>1.05000</td>\n",
              "      <td>1.585185</td>\n",
              "      <td>0.670370</td>\n",
              "      <td>4.696296</td>\n",
              "    </tr>\n",
              "    <tr>\n",
              "      <th>std</th>\n",
              "      <td>9.109067</td>\n",
              "      <td>0.468195</td>\n",
              "      <td>0.950090</td>\n",
              "      <td>17.861608</td>\n",
              "      <td>51.686237</td>\n",
              "      <td>0.355906</td>\n",
              "      <td>0.997891</td>\n",
              "      <td>23.165717</td>\n",
              "      <td>0.470952</td>\n",
              "      <td>1.14521</td>\n",
              "      <td>0.614390</td>\n",
              "      <td>0.943896</td>\n",
              "      <td>1.940659</td>\n",
              "    </tr>\n",
              "    <tr>\n",
              "      <th>min</th>\n",
              "      <td>29.000000</td>\n",
              "      <td>0.000000</td>\n",
              "      <td>1.000000</td>\n",
              "      <td>94.000000</td>\n",
              "      <td>126.000000</td>\n",
              "      <td>0.000000</td>\n",
              "      <td>0.000000</td>\n",
              "      <td>71.000000</td>\n",
              "      <td>0.000000</td>\n",
              "      <td>0.00000</td>\n",
              "      <td>1.000000</td>\n",
              "      <td>0.000000</td>\n",
              "      <td>3.000000</td>\n",
              "    </tr>\n",
              "    <tr>\n",
              "      <th>25%</th>\n",
              "      <td>48.000000</td>\n",
              "      <td>0.000000</td>\n",
              "      <td>3.000000</td>\n",
              "      <td>120.000000</td>\n",
              "      <td>213.000000</td>\n",
              "      <td>0.000000</td>\n",
              "      <td>0.000000</td>\n",
              "      <td>133.000000</td>\n",
              "      <td>0.000000</td>\n",
              "      <td>0.00000</td>\n",
              "      <td>1.000000</td>\n",
              "      <td>0.000000</td>\n",
              "      <td>3.000000</td>\n",
              "    </tr>\n",
              "    <tr>\n",
              "      <th>50%</th>\n",
              "      <td>55.000000</td>\n",
              "      <td>1.000000</td>\n",
              "      <td>3.000000</td>\n",
              "      <td>130.000000</td>\n",
              "      <td>245.000000</td>\n",
              "      <td>0.000000</td>\n",
              "      <td>2.000000</td>\n",
              "      <td>153.500000</td>\n",
              "      <td>0.000000</td>\n",
              "      <td>0.80000</td>\n",
              "      <td>2.000000</td>\n",
              "      <td>0.000000</td>\n",
              "      <td>3.000000</td>\n",
              "    </tr>\n",
              "    <tr>\n",
              "      <th>75%</th>\n",
              "      <td>61.000000</td>\n",
              "      <td>1.000000</td>\n",
              "      <td>4.000000</td>\n",
              "      <td>140.000000</td>\n",
              "      <td>280.000000</td>\n",
              "      <td>0.000000</td>\n",
              "      <td>2.000000</td>\n",
              "      <td>166.000000</td>\n",
              "      <td>1.000000</td>\n",
              "      <td>1.60000</td>\n",
              "      <td>2.000000</td>\n",
              "      <td>1.000000</td>\n",
              "      <td>7.000000</td>\n",
              "    </tr>\n",
              "    <tr>\n",
              "      <th>max</th>\n",
              "      <td>77.000000</td>\n",
              "      <td>1.000000</td>\n",
              "      <td>4.000000</td>\n",
              "      <td>200.000000</td>\n",
              "      <td>564.000000</td>\n",
              "      <td>1.000000</td>\n",
              "      <td>2.000000</td>\n",
              "      <td>202.000000</td>\n",
              "      <td>1.000000</td>\n",
              "      <td>6.20000</td>\n",
              "      <td>3.000000</td>\n",
              "      <td>3.000000</td>\n",
              "      <td>7.000000</td>\n",
              "    </tr>\n",
              "  </tbody>\n",
              "</table>\n",
              "</div>\n",
              "      <button class=\"colab-df-convert\" onclick=\"convertToInteractive('df-685d6b45-8492-4d35-9b90-513dae7b3e93')\"\n",
              "              title=\"Convert this dataframe to an interactive table.\"\n",
              "              style=\"display:none;\">\n",
              "        \n",
              "  <svg xmlns=\"http://www.w3.org/2000/svg\" height=\"24px\"viewBox=\"0 0 24 24\"\n",
              "       width=\"24px\">\n",
              "    <path d=\"M0 0h24v24H0V0z\" fill=\"none\"/>\n",
              "    <path d=\"M18.56 5.44l.94 2.06.94-2.06 2.06-.94-2.06-.94-.94-2.06-.94 2.06-2.06.94zm-11 1L8.5 8.5l.94-2.06 2.06-.94-2.06-.94L8.5 2.5l-.94 2.06-2.06.94zm10 10l.94 2.06.94-2.06 2.06-.94-2.06-.94-.94-2.06-.94 2.06-2.06.94z\"/><path d=\"M17.41 7.96l-1.37-1.37c-.4-.4-.92-.59-1.43-.59-.52 0-1.04.2-1.43.59L10.3 9.45l-7.72 7.72c-.78.78-.78 2.05 0 2.83L4 21.41c.39.39.9.59 1.41.59.51 0 1.02-.2 1.41-.59l7.78-7.78 2.81-2.81c.8-.78.8-2.07 0-2.86zM5.41 20L4 18.59l7.72-7.72 1.47 1.35L5.41 20z\"/>\n",
              "  </svg>\n",
              "      </button>\n",
              "      \n",
              "  <style>\n",
              "    .colab-df-container {\n",
              "      display:flex;\n",
              "      flex-wrap:wrap;\n",
              "      gap: 12px;\n",
              "    }\n",
              "\n",
              "    .colab-df-convert {\n",
              "      background-color: #E8F0FE;\n",
              "      border: none;\n",
              "      border-radius: 50%;\n",
              "      cursor: pointer;\n",
              "      display: none;\n",
              "      fill: #1967D2;\n",
              "      height: 32px;\n",
              "      padding: 0 0 0 0;\n",
              "      width: 32px;\n",
              "    }\n",
              "\n",
              "    .colab-df-convert:hover {\n",
              "      background-color: #E2EBFA;\n",
              "      box-shadow: 0px 1px 2px rgba(60, 64, 67, 0.3), 0px 1px 3px 1px rgba(60, 64, 67, 0.15);\n",
              "      fill: #174EA6;\n",
              "    }\n",
              "\n",
              "    [theme=dark] .colab-df-convert {\n",
              "      background-color: #3B4455;\n",
              "      fill: #D2E3FC;\n",
              "    }\n",
              "\n",
              "    [theme=dark] .colab-df-convert:hover {\n",
              "      background-color: #434B5C;\n",
              "      box-shadow: 0px 1px 3px 1px rgba(0, 0, 0, 0.15);\n",
              "      filter: drop-shadow(0px 1px 2px rgba(0, 0, 0, 0.3));\n",
              "      fill: #FFFFFF;\n",
              "    }\n",
              "  </style>\n",
              "\n",
              "      <script>\n",
              "        const buttonEl =\n",
              "          document.querySelector('#df-685d6b45-8492-4d35-9b90-513dae7b3e93 button.colab-df-convert');\n",
              "        buttonEl.style.display =\n",
              "          google.colab.kernel.accessAllowed ? 'block' : 'none';\n",
              "\n",
              "        async function convertToInteractive(key) {\n",
              "          const element = document.querySelector('#df-685d6b45-8492-4d35-9b90-513dae7b3e93');\n",
              "          const dataTable =\n",
              "            await google.colab.kernel.invokeFunction('convertToInteractive',\n",
              "                                                     [key], {});\n",
              "          if (!dataTable) return;\n",
              "\n",
              "          const docLinkHtml = 'Like what you see? Visit the ' +\n",
              "            '<a target=\"_blank\" href=https://colab.research.google.com/notebooks/data_table.ipynb>data table notebook</a>'\n",
              "            + ' to learn more about interactive tables.';\n",
              "          element.innerHTML = '';\n",
              "          dataTable['output_type'] = 'display_data';\n",
              "          await google.colab.output.renderOutput(dataTable, element);\n",
              "          const docLink = document.createElement('div');\n",
              "          docLink.innerHTML = docLinkHtml;\n",
              "          element.appendChild(docLink);\n",
              "        }\n",
              "      </script>\n",
              "    </div>\n",
              "  </div>\n",
              "  "
            ]
          },
          "metadata": {},
          "execution_count": 204
        }
      ],
      "source": [
        "df.describe()"
      ]
    },
    {
      "cell_type": "code",
      "source": [
        "\n",
        "df.rename(columns={'Heart Disease':'Disease'})\n",
        "df.info()"
      ],
      "metadata": {
        "colab": {
          "base_uri": "https://localhost:8080/"
        },
        "id": "-fB3LOdVAZnw",
        "outputId": "d21f5237-54de-4289-b050-b84bb1996f3c"
      },
      "execution_count": 205,
      "outputs": [
        {
          "output_type": "stream",
          "name": "stdout",
          "text": [
            "<class 'pandas.core.frame.DataFrame'>\n",
            "RangeIndex: 270 entries, 0 to 269\n",
            "Data columns (total 14 columns):\n",
            " #   Column                   Non-Null Count  Dtype  \n",
            "---  ------                   --------------  -----  \n",
            " 0   Age                      270 non-null    int64  \n",
            " 1   Sex                      270 non-null    int64  \n",
            " 2   Chest pain type          270 non-null    int64  \n",
            " 3   BP                       270 non-null    int64  \n",
            " 4   Cholesterol              270 non-null    int64  \n",
            " 5   FBS over 120             270 non-null    int64  \n",
            " 6   EKG results              270 non-null    int64  \n",
            " 7   Max HR                   270 non-null    int64  \n",
            " 8   Exercise angina          270 non-null    int64  \n",
            " 9   ST depression            270 non-null    float64\n",
            " 10  Slope of ST              270 non-null    int64  \n",
            " 11  Number of vessels fluro  270 non-null    int64  \n",
            " 12  Thallium                 270 non-null    int64  \n",
            " 13  Disease                  270 non-null    object \n",
            "dtypes: float64(1), int64(12), object(1)\n",
            "memory usage: 29.7+ KB\n"
          ]
        }
      ]
    },
    {
      "cell_type": "code",
      "execution_count": 206,
      "metadata": {
        "execution": {
          "iopub.execute_input": "2020-08-27T21:28:42.328565Z",
          "iopub.status.busy": "2020-08-27T21:28:42.327535Z",
          "iopub.status.idle": "2020-08-27T21:28:42.331631Z",
          "shell.execute_reply": "2020-08-27T21:28:42.331037Z"
        },
        "papermill": {
          "duration": 0.017688,
          "end_time": "2020-08-27T21:28:42.331754",
          "exception": false,
          "start_time": "2020-08-27T21:28:42.314066",
          "status": "completed"
        },
        "tags": [],
        "colab": {
          "base_uri": "https://localhost:8080/"
        },
        "id": "4Z_tjBidFyxx",
        "outputId": "4ab31c1b-3189-4711-a0c2-8097750de3d0"
      },
      "outputs": [
        {
          "output_type": "execute_result",
          "data": {
            "text/plain": [
              "(270, 14)"
            ]
          },
          "metadata": {},
          "execution_count": 206
        }
      ],
      "source": [
        "df.shape"
      ]
    },
    {
      "cell_type": "code",
      "execution_count": 207,
      "metadata": {
        "execution": {
          "iopub.execute_input": "2020-08-27T21:28:42.355663Z",
          "iopub.status.busy": "2020-08-27T21:28:42.354622Z",
          "iopub.status.idle": "2020-08-27T21:28:42.359394Z",
          "shell.execute_reply": "2020-08-27T21:28:42.358682Z"
        },
        "papermill": {
          "duration": 0.019027,
          "end_time": "2020-08-27T21:28:42.359519",
          "exception": false,
          "start_time": "2020-08-27T21:28:42.340492",
          "status": "completed"
        },
        "tags": [],
        "colab": {
          "base_uri": "https://localhost:8080/"
        },
        "id": "Kyh0r4twFyxz",
        "outputId": "82e83402-bc13-46f3-a782-db2bd5f7daf2"
      },
      "outputs": [
        {
          "output_type": "execute_result",
          "data": {
            "text/plain": [
              "False"
            ]
          },
          "metadata": {},
          "execution_count": 207
        }
      ],
      "source": [
        "# Checking for missing values.\n",
        "df.isnull().values.any()"
      ]
    },
    {
      "cell_type": "code",
      "source": [
        "df.info()"
      ],
      "metadata": {
        "colab": {
          "base_uri": "https://localhost:8080/"
        },
        "id": "c84AbZC4Z13B",
        "outputId": "1fe7f308-c1fd-4979-ac16-6a1711d7a704"
      },
      "execution_count": 208,
      "outputs": [
        {
          "output_type": "stream",
          "name": "stdout",
          "text": [
            "<class 'pandas.core.frame.DataFrame'>\n",
            "RangeIndex: 270 entries, 0 to 269\n",
            "Data columns (total 14 columns):\n",
            " #   Column                   Non-Null Count  Dtype  \n",
            "---  ------                   --------------  -----  \n",
            " 0   Age                      270 non-null    int64  \n",
            " 1   Sex                      270 non-null    int64  \n",
            " 2   Chest pain type          270 non-null    int64  \n",
            " 3   BP                       270 non-null    int64  \n",
            " 4   Cholesterol              270 non-null    int64  \n",
            " 5   FBS over 120             270 non-null    int64  \n",
            " 6   EKG results              270 non-null    int64  \n",
            " 7   Max HR                   270 non-null    int64  \n",
            " 8   Exercise angina          270 non-null    int64  \n",
            " 9   ST depression            270 non-null    float64\n",
            " 10  Slope of ST              270 non-null    int64  \n",
            " 11  Number of vessels fluro  270 non-null    int64  \n",
            " 12  Thallium                 270 non-null    int64  \n",
            " 13  Disease                  270 non-null    object \n",
            "dtypes: float64(1), int64(12), object(1)\n",
            "memory usage: 29.7+ KB\n"
          ]
        }
      ]
    },
    {
      "cell_type": "code",
      "execution_count": 209,
      "metadata": {
        "execution": {
          "iopub.execute_input": "2020-08-27T21:28:42.384090Z",
          "iopub.status.busy": "2020-08-27T21:28:42.383186Z",
          "iopub.status.idle": "2020-08-27T21:28:42.387777Z",
          "shell.execute_reply": "2020-08-27T21:28:42.387151Z"
        },
        "papermill": {
          "duration": 0.019579,
          "end_time": "2020-08-27T21:28:42.387897",
          "exception": false,
          "start_time": "2020-08-27T21:28:42.368318",
          "status": "completed"
        },
        "tags": [],
        "colab": {
          "base_uri": "https://localhost:8080/"
        },
        "id": "A35w2VntFyx1",
        "outputId": "02bdc18c-9ae4-459a-d4de-43b979383b85"
      },
      "outputs": [
        {
          "output_type": "execute_result",
          "data": {
            "text/plain": [
              "1    183\n",
              "0     87\n",
              "Name: Sex, dtype: int64"
            ]
          },
          "metadata": {},
          "execution_count": 209
        }
      ],
      "source": [
        "# Checking for imbalanced data based on sex.\n",
        "df['Sex'].value_counts()"
      ]
    },
    {
      "cell_type": "code",
      "execution_count": 210,
      "metadata": {
        "execution": {
          "iopub.execute_input": "2020-08-27T21:28:42.421442Z",
          "iopub.status.busy": "2020-08-27T21:28:42.420477Z",
          "iopub.status.idle": "2020-08-27T21:28:42.423732Z",
          "shell.execute_reply": "2020-08-27T21:28:42.424333Z"
        },
        "papermill": {
          "duration": 0.026752,
          "end_time": "2020-08-27T21:28:42.424484",
          "exception": false,
          "start_time": "2020-08-27T21:28:42.397732",
          "status": "completed"
        },
        "tags": [],
        "colab": {
          "base_uri": "https://localhost:8080/"
        },
        "id": "OVOVpB7qFyx2",
        "outputId": "5f730fcd-7821-4a7a-b142-5bba4ee0df16"
      },
      "outputs": [
        {
          "output_type": "execute_result",
          "data": {
            "text/plain": [
              "Absence     150\n",
              "Presence    120\n",
              "Name: Disease, dtype: int64"
            ]
          },
          "metadata": {},
          "execution_count": 210
        }
      ],
      "source": [
        "# Checking for imbalanced data based on outcome.\n",
        "df['Disease'].value_counts()"
      ]
    },
    {
      "cell_type": "code",
      "execution_count": 211,
      "metadata": {
        "execution": {
          "iopub.execute_input": "2020-08-27T21:28:42.453827Z",
          "iopub.status.busy": "2020-08-27T21:28:42.453091Z",
          "iopub.status.idle": "2020-08-27T21:28:42.636610Z",
          "shell.execute_reply": "2020-08-27T21:28:42.635764Z"
        },
        "papermill": {
          "duration": 0.201872,
          "end_time": "2020-08-27T21:28:42.636752",
          "exception": false,
          "start_time": "2020-08-27T21:28:42.434880",
          "status": "completed"
        },
        "tags": [],
        "colab": {
          "base_uri": "https://localhost:8080/",
          "height": 296
        },
        "id": "-jFM3JRxFyx3",
        "outputId": "22b23fb0-bc19-483b-965c-35692400adf3"
      },
      "outputs": [
        {
          "output_type": "execute_result",
          "data": {
            "text/plain": [
              "<matplotlib.axes._subplots.AxesSubplot at 0x7fbf39088670>"
            ]
          },
          "metadata": {},
          "execution_count": 211
        },
        {
          "output_type": "display_data",
          "data": {
            "text/plain": [
              "<Figure size 432x288 with 1 Axes>"
            ],
            "image/png": "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\n"
          },
          "metadata": {
            "needs_background": "light"
          }
        }
      ],
      "source": [
        "sns.countplot(x='Disease', data=df)"
      ]
    },
    {
      "cell_type": "code",
      "execution_count": 212,
      "metadata": {
        "execution": {
          "iopub.execute_input": "2020-08-27T21:28:42.662858Z",
          "iopub.status.busy": "2020-08-27T21:28:42.662156Z",
          "iopub.status.idle": "2020-08-27T21:28:42.685910Z",
          "shell.execute_reply": "2020-08-27T21:28:42.685348Z"
        },
        "papermill": {
          "duration": 0.039528,
          "end_time": "2020-08-27T21:28:42.686030",
          "exception": false,
          "start_time": "2020-08-27T21:28:42.646502",
          "status": "completed"
        },
        "tags": [],
        "colab": {
          "base_uri": "https://localhost:8080/",
          "height": 695
        },
        "id": "JGEp29TwFyx5",
        "outputId": "abc7d546-9fa2-4c06-a918-5e1ad624447b"
      },
      "outputs": [
        {
          "output_type": "execute_result",
          "data": {
            "text/plain": [
              "                              Age       Sex  Chest pain type        BP  \\\n",
              "Age                      1.000000 -0.094401         0.096920  0.273053   \n",
              "Sex                     -0.094401  1.000000         0.034636 -0.062693   \n",
              "Chest pain type          0.096920  0.034636         1.000000 -0.043196   \n",
              "BP                       0.273053 -0.062693        -0.043196  1.000000   \n",
              "Cholesterol              0.220056 -0.201647         0.090465  0.173019   \n",
              "FBS over 120             0.123458  0.042140        -0.098537  0.155681   \n",
              "EKG results              0.128171  0.039253         0.074325  0.116157   \n",
              "Max HR                  -0.402215 -0.076101        -0.317682 -0.039136   \n",
              "Exercise angina          0.098297  0.180022         0.353160  0.082793   \n",
              "ST depression            0.194234  0.097412         0.167244  0.222800   \n",
              "Slope of ST              0.159774  0.050545         0.136900  0.142472   \n",
              "Number of vessels fluro  0.356081  0.086830         0.225890  0.085697   \n",
              "Thallium                 0.106100  0.391046         0.262659  0.132045   \n",
              "\n",
              "                         Cholesterol  FBS over 120  EKG results    Max HR  \\\n",
              "Age                         0.220056      0.123458     0.128171 -0.402215   \n",
              "Sex                        -0.201647      0.042140     0.039253 -0.076101   \n",
              "Chest pain type             0.090465     -0.098537     0.074325 -0.317682   \n",
              "BP                          0.173019      0.155681     0.116157 -0.039136   \n",
              "Cholesterol                 1.000000      0.025186     0.167652 -0.018739   \n",
              "FBS over 120                0.025186      1.000000     0.053499  0.022494   \n",
              "EKG results                 0.167652      0.053499     1.000000 -0.074628   \n",
              "Max HR                     -0.018739      0.022494    -0.074628  1.000000   \n",
              "Exercise angina             0.078243     -0.004107     0.095098 -0.380719   \n",
              "ST depression               0.027709     -0.025538     0.120034 -0.349045   \n",
              "Slope of ST                -0.005755      0.044076     0.160614 -0.386847   \n",
              "Number of vessels fluro     0.126541      0.123774     0.114368 -0.265333   \n",
              "Thallium                    0.028836      0.049237     0.007337 -0.253397   \n",
              "\n",
              "                         Exercise angina  ST depression  Slope of ST  \\\n",
              "Age                             0.098297       0.194234     0.159774   \n",
              "Sex                             0.180022       0.097412     0.050545   \n",
              "Chest pain type                 0.353160       0.167244     0.136900   \n",
              "BP                              0.082793       0.222800     0.142472   \n",
              "Cholesterol                     0.078243       0.027709    -0.005755   \n",
              "FBS over 120                   -0.004107      -0.025538     0.044076   \n",
              "EKG results                     0.095098       0.120034     0.160614   \n",
              "Max HR                         -0.380719      -0.349045    -0.386847   \n",
              "Exercise angina                 1.000000       0.274672     0.255908   \n",
              "ST depression                   0.274672       1.000000     0.609712   \n",
              "Slope of ST                     0.255908       0.609712     1.000000   \n",
              "Number of vessels fluro         0.153347       0.255005     0.109498   \n",
              "Thallium                        0.321449       0.324333     0.283678   \n",
              "\n",
              "                         Number of vessels fluro  Thallium  \n",
              "Age                                     0.356081  0.106100  \n",
              "Sex                                     0.086830  0.391046  \n",
              "Chest pain type                         0.225890  0.262659  \n",
              "BP                                      0.085697  0.132045  \n",
              "Cholesterol                             0.126541  0.028836  \n",
              "FBS over 120                            0.123774  0.049237  \n",
              "EKG results                             0.114368  0.007337  \n",
              "Max HR                                 -0.265333 -0.253397  \n",
              "Exercise angina                         0.153347  0.321449  \n",
              "ST depression                           0.255005  0.324333  \n",
              "Slope of ST                             0.109498  0.283678  \n",
              "Number of vessels fluro                 1.000000  0.255648  \n",
              "Thallium                                0.255648  1.000000  "
            ],
            "text/html": [
              "\n",
              "  <div id=\"df-f630714e-bf60-4044-92ac-14c4b73b9ae1\">\n",
              "    <div class=\"colab-df-container\">\n",
              "      <div>\n",
              "<style scoped>\n",
              "    .dataframe tbody tr th:only-of-type {\n",
              "        vertical-align: middle;\n",
              "    }\n",
              "\n",
              "    .dataframe tbody tr th {\n",
              "        vertical-align: top;\n",
              "    }\n",
              "\n",
              "    .dataframe thead th {\n",
              "        text-align: right;\n",
              "    }\n",
              "</style>\n",
              "<table border=\"1\" class=\"dataframe\">\n",
              "  <thead>\n",
              "    <tr style=\"text-align: right;\">\n",
              "      <th></th>\n",
              "      <th>Age</th>\n",
              "      <th>Sex</th>\n",
              "      <th>Chest pain type</th>\n",
              "      <th>BP</th>\n",
              "      <th>Cholesterol</th>\n",
              "      <th>FBS over 120</th>\n",
              "      <th>EKG results</th>\n",
              "      <th>Max HR</th>\n",
              "      <th>Exercise angina</th>\n",
              "      <th>ST depression</th>\n",
              "      <th>Slope of ST</th>\n",
              "      <th>Number of vessels fluro</th>\n",
              "      <th>Thallium</th>\n",
              "    </tr>\n",
              "  </thead>\n",
              "  <tbody>\n",
              "    <tr>\n",
              "      <th>Age</th>\n",
              "      <td>1.000000</td>\n",
              "      <td>-0.094401</td>\n",
              "      <td>0.096920</td>\n",
              "      <td>0.273053</td>\n",
              "      <td>0.220056</td>\n",
              "      <td>0.123458</td>\n",
              "      <td>0.128171</td>\n",
              "      <td>-0.402215</td>\n",
              "      <td>0.098297</td>\n",
              "      <td>0.194234</td>\n",
              "      <td>0.159774</td>\n",
              "      <td>0.356081</td>\n",
              "      <td>0.106100</td>\n",
              "    </tr>\n",
              "    <tr>\n",
              "      <th>Sex</th>\n",
              "      <td>-0.094401</td>\n",
              "      <td>1.000000</td>\n",
              "      <td>0.034636</td>\n",
              "      <td>-0.062693</td>\n",
              "      <td>-0.201647</td>\n",
              "      <td>0.042140</td>\n",
              "      <td>0.039253</td>\n",
              "      <td>-0.076101</td>\n",
              "      <td>0.180022</td>\n",
              "      <td>0.097412</td>\n",
              "      <td>0.050545</td>\n",
              "      <td>0.086830</td>\n",
              "      <td>0.391046</td>\n",
              "    </tr>\n",
              "    <tr>\n",
              "      <th>Chest pain type</th>\n",
              "      <td>0.096920</td>\n",
              "      <td>0.034636</td>\n",
              "      <td>1.000000</td>\n",
              "      <td>-0.043196</td>\n",
              "      <td>0.090465</td>\n",
              "      <td>-0.098537</td>\n",
              "      <td>0.074325</td>\n",
              "      <td>-0.317682</td>\n",
              "      <td>0.353160</td>\n",
              "      <td>0.167244</td>\n",
              "      <td>0.136900</td>\n",
              "      <td>0.225890</td>\n",
              "      <td>0.262659</td>\n",
              "    </tr>\n",
              "    <tr>\n",
              "      <th>BP</th>\n",
              "      <td>0.273053</td>\n",
              "      <td>-0.062693</td>\n",
              "      <td>-0.043196</td>\n",
              "      <td>1.000000</td>\n",
              "      <td>0.173019</td>\n",
              "      <td>0.155681</td>\n",
              "      <td>0.116157</td>\n",
              "      <td>-0.039136</td>\n",
              "      <td>0.082793</td>\n",
              "      <td>0.222800</td>\n",
              "      <td>0.142472</td>\n",
              "      <td>0.085697</td>\n",
              "      <td>0.132045</td>\n",
              "    </tr>\n",
              "    <tr>\n",
              "      <th>Cholesterol</th>\n",
              "      <td>0.220056</td>\n",
              "      <td>-0.201647</td>\n",
              "      <td>0.090465</td>\n",
              "      <td>0.173019</td>\n",
              "      <td>1.000000</td>\n",
              "      <td>0.025186</td>\n",
              "      <td>0.167652</td>\n",
              "      <td>-0.018739</td>\n",
              "      <td>0.078243</td>\n",
              "      <td>0.027709</td>\n",
              "      <td>-0.005755</td>\n",
              "      <td>0.126541</td>\n",
              "      <td>0.028836</td>\n",
              "    </tr>\n",
              "    <tr>\n",
              "      <th>FBS over 120</th>\n",
              "      <td>0.123458</td>\n",
              "      <td>0.042140</td>\n",
              "      <td>-0.098537</td>\n",
              "      <td>0.155681</td>\n",
              "      <td>0.025186</td>\n",
              "      <td>1.000000</td>\n",
              "      <td>0.053499</td>\n",
              "      <td>0.022494</td>\n",
              "      <td>-0.004107</td>\n",
              "      <td>-0.025538</td>\n",
              "      <td>0.044076</td>\n",
              "      <td>0.123774</td>\n",
              "      <td>0.049237</td>\n",
              "    </tr>\n",
              "    <tr>\n",
              "      <th>EKG results</th>\n",
              "      <td>0.128171</td>\n",
              "      <td>0.039253</td>\n",
              "      <td>0.074325</td>\n",
              "      <td>0.116157</td>\n",
              "      <td>0.167652</td>\n",
              "      <td>0.053499</td>\n",
              "      <td>1.000000</td>\n",
              "      <td>-0.074628</td>\n",
              "      <td>0.095098</td>\n",
              "      <td>0.120034</td>\n",
              "      <td>0.160614</td>\n",
              "      <td>0.114368</td>\n",
              "      <td>0.007337</td>\n",
              "    </tr>\n",
              "    <tr>\n",
              "      <th>Max HR</th>\n",
              "      <td>-0.402215</td>\n",
              "      <td>-0.076101</td>\n",
              "      <td>-0.317682</td>\n",
              "      <td>-0.039136</td>\n",
              "      <td>-0.018739</td>\n",
              "      <td>0.022494</td>\n",
              "      <td>-0.074628</td>\n",
              "      <td>1.000000</td>\n",
              "      <td>-0.380719</td>\n",
              "      <td>-0.349045</td>\n",
              "      <td>-0.386847</td>\n",
              "      <td>-0.265333</td>\n",
              "      <td>-0.253397</td>\n",
              "    </tr>\n",
              "    <tr>\n",
              "      <th>Exercise angina</th>\n",
              "      <td>0.098297</td>\n",
              "      <td>0.180022</td>\n",
              "      <td>0.353160</td>\n",
              "      <td>0.082793</td>\n",
              "      <td>0.078243</td>\n",
              "      <td>-0.004107</td>\n",
              "      <td>0.095098</td>\n",
              "      <td>-0.380719</td>\n",
              "      <td>1.000000</td>\n",
              "      <td>0.274672</td>\n",
              "      <td>0.255908</td>\n",
              "      <td>0.153347</td>\n",
              "      <td>0.321449</td>\n",
              "    </tr>\n",
              "    <tr>\n",
              "      <th>ST depression</th>\n",
              "      <td>0.194234</td>\n",
              "      <td>0.097412</td>\n",
              "      <td>0.167244</td>\n",
              "      <td>0.222800</td>\n",
              "      <td>0.027709</td>\n",
              "      <td>-0.025538</td>\n",
              "      <td>0.120034</td>\n",
              "      <td>-0.349045</td>\n",
              "      <td>0.274672</td>\n",
              "      <td>1.000000</td>\n",
              "      <td>0.609712</td>\n",
              "      <td>0.255005</td>\n",
              "      <td>0.324333</td>\n",
              "    </tr>\n",
              "    <tr>\n",
              "      <th>Slope of ST</th>\n",
              "      <td>0.159774</td>\n",
              "      <td>0.050545</td>\n",
              "      <td>0.136900</td>\n",
              "      <td>0.142472</td>\n",
              "      <td>-0.005755</td>\n",
              "      <td>0.044076</td>\n",
              "      <td>0.160614</td>\n",
              "      <td>-0.386847</td>\n",
              "      <td>0.255908</td>\n",
              "      <td>0.609712</td>\n",
              "      <td>1.000000</td>\n",
              "      <td>0.109498</td>\n",
              "      <td>0.283678</td>\n",
              "    </tr>\n",
              "    <tr>\n",
              "      <th>Number of vessels fluro</th>\n",
              "      <td>0.356081</td>\n",
              "      <td>0.086830</td>\n",
              "      <td>0.225890</td>\n",
              "      <td>0.085697</td>\n",
              "      <td>0.126541</td>\n",
              "      <td>0.123774</td>\n",
              "      <td>0.114368</td>\n",
              "      <td>-0.265333</td>\n",
              "      <td>0.153347</td>\n",
              "      <td>0.255005</td>\n",
              "      <td>0.109498</td>\n",
              "      <td>1.000000</td>\n",
              "      <td>0.255648</td>\n",
              "    </tr>\n",
              "    <tr>\n",
              "      <th>Thallium</th>\n",
              "      <td>0.106100</td>\n",
              "      <td>0.391046</td>\n",
              "      <td>0.262659</td>\n",
              "      <td>0.132045</td>\n",
              "      <td>0.028836</td>\n",
              "      <td>0.049237</td>\n",
              "      <td>0.007337</td>\n",
              "      <td>-0.253397</td>\n",
              "      <td>0.321449</td>\n",
              "      <td>0.324333</td>\n",
              "      <td>0.283678</td>\n",
              "      <td>0.255648</td>\n",
              "      <td>1.000000</td>\n",
              "    </tr>\n",
              "  </tbody>\n",
              "</table>\n",
              "</div>\n",
              "      <button class=\"colab-df-convert\" onclick=\"convertToInteractive('df-f630714e-bf60-4044-92ac-14c4b73b9ae1')\"\n",
              "              title=\"Convert this dataframe to an interactive table.\"\n",
              "              style=\"display:none;\">\n",
              "        \n",
              "  <svg xmlns=\"http://www.w3.org/2000/svg\" height=\"24px\"viewBox=\"0 0 24 24\"\n",
              "       width=\"24px\">\n",
              "    <path d=\"M0 0h24v24H0V0z\" fill=\"none\"/>\n",
              "    <path d=\"M18.56 5.44l.94 2.06.94-2.06 2.06-.94-2.06-.94-.94-2.06-.94 2.06-2.06.94zm-11 1L8.5 8.5l.94-2.06 2.06-.94-2.06-.94L8.5 2.5l-.94 2.06-2.06.94zm10 10l.94 2.06.94-2.06 2.06-.94-2.06-.94-.94-2.06-.94 2.06-2.06.94z\"/><path d=\"M17.41 7.96l-1.37-1.37c-.4-.4-.92-.59-1.43-.59-.52 0-1.04.2-1.43.59L10.3 9.45l-7.72 7.72c-.78.78-.78 2.05 0 2.83L4 21.41c.39.39.9.59 1.41.59.51 0 1.02-.2 1.41-.59l7.78-7.78 2.81-2.81c.8-.78.8-2.07 0-2.86zM5.41 20L4 18.59l7.72-7.72 1.47 1.35L5.41 20z\"/>\n",
              "  </svg>\n",
              "      </button>\n",
              "      \n",
              "  <style>\n",
              "    .colab-df-container {\n",
              "      display:flex;\n",
              "      flex-wrap:wrap;\n",
              "      gap: 12px;\n",
              "    }\n",
              "\n",
              "    .colab-df-convert {\n",
              "      background-color: #E8F0FE;\n",
              "      border: none;\n",
              "      border-radius: 50%;\n",
              "      cursor: pointer;\n",
              "      display: none;\n",
              "      fill: #1967D2;\n",
              "      height: 32px;\n",
              "      padding: 0 0 0 0;\n",
              "      width: 32px;\n",
              "    }\n",
              "\n",
              "    .colab-df-convert:hover {\n",
              "      background-color: #E2EBFA;\n",
              "      box-shadow: 0px 1px 2px rgba(60, 64, 67, 0.3), 0px 1px 3px 1px rgba(60, 64, 67, 0.15);\n",
              "      fill: #174EA6;\n",
              "    }\n",
              "\n",
              "    [theme=dark] .colab-df-convert {\n",
              "      background-color: #3B4455;\n",
              "      fill: #D2E3FC;\n",
              "    }\n",
              "\n",
              "    [theme=dark] .colab-df-convert:hover {\n",
              "      background-color: #434B5C;\n",
              "      box-shadow: 0px 1px 3px 1px rgba(0, 0, 0, 0.15);\n",
              "      filter: drop-shadow(0px 1px 2px rgba(0, 0, 0, 0.3));\n",
              "      fill: #FFFFFF;\n",
              "    }\n",
              "  </style>\n",
              "\n",
              "      <script>\n",
              "        const buttonEl =\n",
              "          document.querySelector('#df-f630714e-bf60-4044-92ac-14c4b73b9ae1 button.colab-df-convert');\n",
              "        buttonEl.style.display =\n",
              "          google.colab.kernel.accessAllowed ? 'block' : 'none';\n",
              "\n",
              "        async function convertToInteractive(key) {\n",
              "          const element = document.querySelector('#df-f630714e-bf60-4044-92ac-14c4b73b9ae1');\n",
              "          const dataTable =\n",
              "            await google.colab.kernel.invokeFunction('convertToInteractive',\n",
              "                                                     [key], {});\n",
              "          if (!dataTable) return;\n",
              "\n",
              "          const docLinkHtml = 'Like what you see? Visit the ' +\n",
              "            '<a target=\"_blank\" href=https://colab.research.google.com/notebooks/data_table.ipynb>data table notebook</a>'\n",
              "            + ' to learn more about interactive tables.';\n",
              "          element.innerHTML = '';\n",
              "          dataTable['output_type'] = 'display_data';\n",
              "          await google.colab.output.renderOutput(dataTable, element);\n",
              "          const docLink = document.createElement('div');\n",
              "          docLink.innerHTML = docLinkHtml;\n",
              "          element.appendChild(docLink);\n",
              "        }\n",
              "      </script>\n",
              "    </div>\n",
              "  </div>\n",
              "  "
            ]
          },
          "metadata": {},
          "execution_count": 212
        }
      ],
      "source": [
        "# Checking for any correlations.\n",
        "df.corr()"
      ]
    },
    {
      "cell_type": "markdown",
      "source": [],
      "metadata": {
        "id": "NKSNuK3P8Fyo"
      }
    },
    {
      "cell_type": "code",
      "source": [],
      "metadata": {
        "id": "WIrd9ozB8GaF"
      },
      "execution_count": 212,
      "outputs": []
    },
    {
      "cell_type": "markdown",
      "metadata": {
        "papermill": {
          "duration": 0.011193,
          "end_time": "2020-08-27T21:28:42.707471",
          "exception": false,
          "start_time": "2020-08-27T21:28:42.696278",
          "status": "completed"
        },
        "tags": [],
        "id": "bEIlF5LRFyx7"
      },
      "source": [
        "# K-Nearest Neighbours "
      ]
    },
    {
      "cell_type": "code",
      "execution_count": 213,
      "metadata": {
        "execution": {
          "iopub.execute_input": "2020-08-27T21:28:42.737475Z",
          "iopub.status.busy": "2020-08-27T21:28:42.736704Z",
          "iopub.status.idle": "2020-08-27T21:28:42.740002Z",
          "shell.execute_reply": "2020-08-27T21:28:42.739406Z"
        },
        "papermill": {
          "duration": 0.021762,
          "end_time": "2020-08-27T21:28:42.740126",
          "exception": false,
          "start_time": "2020-08-27T21:28:42.718364",
          "status": "completed"
        },
        "tags": [],
        "id": "Qw_ugjrJFyx7"
      },
      "outputs": [],
      "source": [
        "# Splitting the dataset into training and testing sets.\n",
        "x = df.iloc[:, :-2]\n",
        "y = df.iloc[:, -1]\n",
        "x_train, x_test, y_train, y_test = train_test_split(x, y, random_state = 0, test_size = 0.35)"
      ]
    },
    {
      "cell_type": "code",
      "execution_count": 214,
      "metadata": {
        "execution": {
          "iopub.execute_input": "2020-08-27T21:28:42.767785Z",
          "iopub.status.busy": "2020-08-27T21:28:42.767041Z",
          "iopub.status.idle": "2020-08-27T21:28:42.776776Z",
          "shell.execute_reply": "2020-08-27T21:28:42.775761Z"
        },
        "papermill": {
          "duration": 0.026613,
          "end_time": "2020-08-27T21:28:42.776935",
          "exception": false,
          "start_time": "2020-08-27T21:28:42.750322",
          "status": "completed"
        },
        "tags": [],
        "id": "7lOrm1nKFyx8"
      },
      "outputs": [],
      "source": [
        "# Using standard scaler as a standardization technique.\n",
        "sc_x = StandardScaler()\n",
        "x_train = sc_x.fit_transform(x_train)\n",
        "x_test = sc_x.transform(x_test)"
      ]
    },
    {
      "cell_type": "code",
      "execution_count": 215,
      "metadata": {
        "execution": {
          "iopub.execute_input": "2020-08-27T21:28:42.805639Z",
          "iopub.status.busy": "2020-08-27T21:28:42.804599Z",
          "iopub.status.idle": "2020-08-27T21:28:42.808283Z",
          "shell.execute_reply": "2020-08-27T21:28:42.808836Z"
        },
        "papermill": {
          "duration": 0.020583,
          "end_time": "2020-08-27T21:28:42.808973",
          "exception": false,
          "start_time": "2020-08-27T21:28:42.788390",
          "status": "completed"
        },
        "tags": [],
        "colab": {
          "base_uri": "https://localhost:8080/"
        },
        "id": "HHvNK1ySFyx9",
        "outputId": "2570dc93-2af6-4343-a9f8-7c6f373b171a"
      },
      "outputs": [
        {
          "output_type": "execute_result",
          "data": {
            "text/plain": [
              "9.746794344808963"
            ]
          },
          "metadata": {},
          "execution_count": 215
        }
      ],
      "source": [
        "# Looking for optimal number of nearest neighbours.\n",
        "import math\n",
        "math.sqrt(len(y_test))"
      ]
    },
    {
      "cell_type": "code",
      "execution_count": 216,
      "metadata": {
        "execution": {
          "iopub.execute_input": "2020-08-27T21:28:42.838186Z",
          "iopub.status.busy": "2020-08-27T21:28:42.837236Z",
          "iopub.status.idle": "2020-08-27T21:28:42.844029Z",
          "shell.execute_reply": "2020-08-27T21:28:42.843424Z"
        },
        "papermill": {
          "duration": 0.024802,
          "end_time": "2020-08-27T21:28:42.844145",
          "exception": false,
          "start_time": "2020-08-27T21:28:42.819343",
          "status": "completed"
        },
        "tags": [],
        "colab": {
          "base_uri": "https://localhost:8080/"
        },
        "id": "2SjVyk1dFyx-",
        "outputId": "e6eed240-56f6-4aeb-e657-af323c40b97b"
      },
      "outputs": [
        {
          "output_type": "execute_result",
          "data": {
            "text/plain": [
              "KNeighborsClassifier(metric='euclidean', n_neighbors=9)"
            ]
          },
          "metadata": {},
          "execution_count": 216
        }
      ],
      "source": [
        "# Creating KNN Model.\n",
        "classifier = KNeighborsClassifier(n_neighbors = 9, p = 2, metric = 'euclidean')\n",
        "classifier.fit(x_train,y_train)"
      ]
    },
    {
      "cell_type": "code",
      "execution_count": 217,
      "metadata": {
        "execution": {
          "iopub.execute_input": "2020-08-27T21:28:42.870268Z",
          "iopub.status.busy": "2020-08-27T21:28:42.869551Z",
          "iopub.status.idle": "2020-08-27T21:28:42.879596Z",
          "shell.execute_reply": "2020-08-27T21:28:42.879004Z"
        },
        "papermill": {
          "duration": 0.025007,
          "end_time": "2020-08-27T21:28:42.879718",
          "exception": false,
          "start_time": "2020-08-27T21:28:42.854711",
          "status": "completed"
        },
        "tags": [],
        "colab": {
          "base_uri": "https://localhost:8080/"
        },
        "id": "r0YRAGDaFyyA",
        "outputId": "d96be240-ad21-4d37-f275-bbacfb1b288f"
      },
      "outputs": [
        {
          "output_type": "execute_result",
          "data": {
            "text/plain": [
              "array(['Absence', 'Absence', 'Presence', 'Presence', 'Absence', 'Absence',\n",
              "       'Absence', 'Absence', 'Presence', 'Absence', 'Absence', 'Absence',\n",
              "       'Presence', 'Presence', 'Presence', 'Absence', 'Absence',\n",
              "       'Presence', 'Presence', 'Absence', 'Presence', 'Absence',\n",
              "       'Presence', 'Presence', 'Absence', 'Presence', 'Absence',\n",
              "       'Absence', 'Absence', 'Presence', 'Presence', 'Absence',\n",
              "       'Presence', 'Absence', 'Presence', 'Absence', 'Presence',\n",
              "       'Presence', 'Absence', 'Absence', 'Absence', 'Absence', 'Absence',\n",
              "       'Presence', 'Absence', 'Absence', 'Presence', 'Absence',\n",
              "       'Presence', 'Presence', 'Presence', 'Presence', 'Absence',\n",
              "       'Absence', 'Absence', 'Absence', 'Absence', 'Presence', 'Absence',\n",
              "       'Presence', 'Absence', 'Absence', 'Absence', 'Absence', 'Absence',\n",
              "       'Presence', 'Absence', 'Presence', 'Absence', 'Absence',\n",
              "       'Presence', 'Presence', 'Presence', 'Absence', 'Presence',\n",
              "       'Presence', 'Presence', 'Absence', 'Absence', 'Presence',\n",
              "       'Presence', 'Absence', 'Absence', 'Absence', 'Presence', 'Absence',\n",
              "       'Presence', 'Absence', 'Presence', 'Absence', 'Presence',\n",
              "       'Absence', 'Absence', 'Presence', 'Absence'], dtype=object)"
            ]
          },
          "metadata": {},
          "execution_count": 217
        }
      ],
      "source": [
        "y_pred = classifier.predict(x_test)\n",
        "y_pred"
      ]
    },
    {
      "cell_type": "code",
      "execution_count": 218,
      "metadata": {
        "execution": {
          "iopub.execute_input": "2020-08-27T21:28:42.907996Z",
          "iopub.status.busy": "2020-08-27T21:28:42.907172Z",
          "iopub.status.idle": "2020-08-27T21:28:42.910498Z",
          "shell.execute_reply": "2020-08-27T21:28:42.911087Z"
        },
        "papermill": {
          "duration": 0.020833,
          "end_time": "2020-08-27T21:28:42.911245",
          "exception": false,
          "start_time": "2020-08-27T21:28:42.890412",
          "status": "completed"
        },
        "tags": [],
        "colab": {
          "base_uri": "https://localhost:8080/"
        },
        "id": "9r86ann0FyyC",
        "outputId": "1bae7000-ad10-4127-c77a-243a39f02fc2"
      },
      "outputs": [
        {
          "output_type": "stream",
          "name": "stdout",
          "text": [
            "[[43 12]\n",
            " [11 29]]\n"
          ]
        }
      ],
      "source": [
        "cm = confusion_matrix(y_test,y_pred)\n",
        "print(cm)"
      ]
    },
    {
      "cell_type": "code",
      "execution_count": 219,
      "metadata": {
        "execution": {
          "iopub.execute_input": "2020-08-27T21:28:42.938636Z",
          "iopub.status.busy": "2020-08-27T21:28:42.937732Z",
          "iopub.status.idle": "2020-08-27T21:28:42.941827Z",
          "shell.execute_reply": "2020-08-27T21:28:42.941112Z"
        },
        "papermill": {
          "duration": 0.020015,
          "end_time": "2020-08-27T21:28:42.941939",
          "exception": false,
          "start_time": "2020-08-27T21:28:42.921924",
          "status": "completed"
        },
        "tags": [],
        "colab": {
          "base_uri": "https://localhost:8080/"
        },
        "id": "K-XWbteOFyyD",
        "outputId": "1021c272-d809-4e64-913e-dde6bbb9b9ed"
      },
      "outputs": [
        {
          "output_type": "stream",
          "name": "stdout",
          "text": [
            "0.7578947368421053\n"
          ]
        }
      ],
      "source": [
        "print(accuracy_score(y_test,y_pred))"
      ]
    },
    {
      "cell_type": "code",
      "execution_count": 220,
      "metadata": {
        "execution": {
          "iopub.execute_input": "2020-08-27T21:28:42.993072Z",
          "iopub.status.busy": "2020-08-27T21:28:42.992307Z",
          "iopub.status.idle": "2020-08-27T21:28:42.998502Z",
          "shell.execute_reply": "2020-08-27T21:28:42.997919Z"
        },
        "papermill": {
          "duration": 0.024152,
          "end_time": "2020-08-27T21:28:42.998622",
          "exception": false,
          "start_time": "2020-08-27T21:28:42.974470",
          "status": "completed"
        },
        "tags": [],
        "colab": {
          "base_uri": "https://localhost:8080/"
        },
        "id": "OKGEe6afFyyE",
        "outputId": "c6b4490e-2236-4c4a-dae5-72cd5c43ba5b"
      },
      "outputs": [
        {
          "output_type": "stream",
          "name": "stdout",
          "text": [
            "              precision    recall  f1-score   support\n",
            "\n",
            "     Absence       0.80      0.78      0.79        55\n",
            "    Presence       0.71      0.72      0.72        40\n",
            "\n",
            "    accuracy                           0.76        95\n",
            "   macro avg       0.75      0.75      0.75        95\n",
            "weighted avg       0.76      0.76      0.76        95\n",
            "\n"
          ]
        }
      ],
      "source": [
        "print(classification_report(y_test, y_pred))"
      ]
    },
    {
      "cell_type": "markdown",
      "metadata": {
        "id": "HanQPc_xpG38"
      },
      "source": [
        "### Method 1: Undersampling"
      ]
    },
    {
      "cell_type": "code",
      "execution_count": 221,
      "metadata": {
        "id": "M1znRMW_pG38"
      },
      "outputs": [],
      "source": [
        "# Class count\n",
        "count_class_0, count_class_1 = df.Disease.value_counts()\n",
        "\n",
        "#Divide by class\n",
        "df_class_0 = df[df['Disease'] == 'Absence']\n",
        "df_class_1 = df[df['Disease'] =='Presence']"
      ]
    },
    {
      "cell_type": "code",
      "execution_count": 222,
      "metadata": {
        "id": "-9yajES4pG39",
        "outputId": "67137870-954c-4dfd-e47e-5cfb2f07a14f",
        "colab": {
          "base_uri": "https://localhost:8080/"
        }
      },
      "outputs": [
        {
          "output_type": "stream",
          "name": "stdout",
          "text": [
            "Random under-sampling:\n",
            "Absence     120\n",
            "Presence    120\n",
            "Name: Disease, dtype: int64\n"
          ]
        }
      ],
      "source": [
        "# Undersample 0-class and concat the DataFrames of both class\n",
        "df_class_0_under = df_class_0.sample(count_class_1)\n",
        "df_test_under = pd.concat([df_class_0_under, df_class_1], axis=0)\n",
        "\n",
        "print('Random under-sampling:')\n",
        "print(df_test_under.Disease.value_counts())"
      ]
    },
    {
      "cell_type": "code",
      "execution_count": 223,
      "metadata": {
        "id": "iF2beK4QpG39"
      },
      "outputs": [],
      "source": [
        "X = df_test_under.drop('Disease',axis='columns')\n",
        "y = df_test_under['Disease']\n",
        "\n",
        "from sklearn.model_selection import train_test_split\n",
        "X_train1, X_test1, y_train1, y_test1 = train_test_split(X, y, test_size=0.2, random_state=15, stratify=y)"
      ]
    },
    {
      "cell_type": "code",
      "execution_count": 224,
      "metadata": {
        "scrolled": true,
        "id": "vw4NUfVqpG3-",
        "outputId": "4640540c-e1d6-4bb9-ea6a-f6d2a69203cb",
        "colab": {
          "base_uri": "https://localhost:8080/"
        }
      },
      "outputs": [
        {
          "output_type": "execute_result",
          "data": {
            "text/plain": [
              "Presence    96\n",
              "Absence     96\n",
              "Name: Disease, dtype: int64"
            ]
          },
          "metadata": {},
          "execution_count": 224
        }
      ],
      "source": [
        "# Number of classes in training Data\n",
        "y_train1.value_counts()"
      ]
    },
    {
      "cell_type": "code",
      "execution_count": 225,
      "metadata": {
        "scrolled": true,
        "id": "_bGg0mF1pG3_",
        "outputId": "0b47c32f-ead9-4f60-ce2b-fb2436e8d633",
        "colab": {
          "base_uri": "https://localhost:8080/"
        }
      },
      "outputs": [
        {
          "output_type": "execute_result",
          "data": {
            "text/plain": [
              "KNeighborsClassifier(metric='euclidean', n_neighbors=9)"
            ]
          },
          "metadata": {},
          "execution_count": 225
        }
      ],
      "source": [
        "# Creating KNN Model.\n",
        "classifier = KNeighborsClassifier(n_neighbors = 9, p = 2, metric = 'euclidean')\n",
        "classifier.fit(X_train1,y_train1)"
      ]
    },
    {
      "cell_type": "code",
      "execution_count": 226,
      "metadata": {
        "execution": {
          "iopub.execute_input": "2020-08-27T21:28:43.025101Z",
          "iopub.status.busy": "2020-08-27T21:28:43.024429Z",
          "iopub.status.idle": "2020-08-27T21:28:43.029908Z",
          "shell.execute_reply": "2020-08-27T21:28:43.030450Z"
        },
        "papermill": {
          "duration": 0.020782,
          "end_time": "2020-08-27T21:28:43.030591",
          "exception": false,
          "start_time": "2020-08-27T21:28:43.009809",
          "status": "completed"
        },
        "tags": [],
        "id": "t7GnP0NUFyyF"
      },
      "outputs": [],
      "source": [
        "y_pred1 = classifier.predict(X_test1)"
      ]
    },
    {
      "cell_type": "code",
      "execution_count": 227,
      "metadata": {
        "execution": {
          "iopub.execute_input": "2020-08-27T21:28:43.059353Z",
          "iopub.status.busy": "2020-08-27T21:28:43.058643Z",
          "iopub.status.idle": "2020-08-27T21:28:43.061969Z",
          "shell.execute_reply": "2020-08-27T21:28:43.062515Z"
        },
        "papermill": {
          "duration": 0.020957,
          "end_time": "2020-08-27T21:28:43.062656",
          "exception": false,
          "start_time": "2020-08-27T21:28:43.041699",
          "status": "completed"
        },
        "tags": [],
        "colab": {
          "base_uri": "https://localhost:8080/"
        },
        "id": "3JrhaTglFyyG",
        "outputId": "d803357a-ba4c-4811-bac9-9b7d6598f4ef"
      },
      "outputs": [
        {
          "output_type": "stream",
          "name": "stdout",
          "text": [
            "0.6041666666666666\n"
          ]
        }
      ],
      "source": [
        "print(accuracy_score(y_test1,y_pred1))"
      ]
    },
    {
      "cell_type": "code",
      "execution_count": 228,
      "metadata": {
        "execution": {
          "iopub.execute_input": "2020-08-27T21:28:43.092182Z",
          "iopub.status.busy": "2020-08-27T21:28:43.091502Z",
          "iopub.status.idle": "2020-08-27T21:28:43.094826Z",
          "shell.execute_reply": "2020-08-27T21:28:43.095379Z"
        },
        "papermill": {
          "duration": 0.021748,
          "end_time": "2020-08-27T21:28:43.095514",
          "exception": false,
          "start_time": "2020-08-27T21:28:43.073766",
          "status": "completed"
        },
        "tags": [],
        "colab": {
          "base_uri": "https://localhost:8080/"
        },
        "id": "ZLvlAqS3FyyG",
        "outputId": "ccd878dc-4132-402c-bbca-a2b7e5f58f7e"
      },
      "outputs": [
        {
          "output_type": "stream",
          "name": "stdout",
          "text": [
            "              precision    recall  f1-score   support\n",
            "\n",
            "     Absence       0.63      0.50      0.56        24\n",
            "    Presence       0.59      0.71      0.64        24\n",
            "\n",
            "    accuracy                           0.60        48\n",
            "   macro avg       0.61      0.60      0.60        48\n",
            "weighted avg       0.61      0.60      0.60        48\n",
            "\n"
          ]
        }
      ],
      "source": [
        "print(classification_report(y_test1, y_pred1))"
      ]
    },
    {
      "cell_type": "code",
      "execution_count": 228,
      "metadata": {
        "papermill": {
          "duration": 0.012305,
          "end_time": "2020-08-27T21:28:43.122450",
          "exception": false,
          "start_time": "2020-08-27T21:28:43.110145",
          "status": "completed"
        },
        "tags": [],
        "id": "JWhsD5t4FyyH"
      },
      "outputs": [],
      "source": []
    },
    {
      "cell_type": "markdown",
      "metadata": {
        "id": "-gN0Lhw8pG3_"
      },
      "source": [
        "### Method2: Oversampling"
      ]
    },
    {
      "cell_type": "code",
      "execution_count": 229,
      "metadata": {
        "id": "jH-tRHdapG4A",
        "colab": {
          "base_uri": "https://localhost:8080/"
        },
        "outputId": "ba9b07f6-fc97-4dda-bb1e-6caec1f223f3"
      },
      "outputs": [
        {
          "output_type": "stream",
          "name": "stdout",
          "text": [
            "Random over-sampling:\n",
            "Absence     150\n",
            "Presence    150\n",
            "Name: Disease, dtype: int64\n"
          ]
        }
      ],
      "source": [
        "# Oversample 1-class and concat the DataFrames of both classes\n",
        "df_class_1_over = df_class_1.sample(count_class_0, replace=True)\n",
        "df_test_over = pd.concat([df_class_0, df_class_1_over], axis=0)\n",
        "\n",
        "print('Random over-sampling:')\n",
        "print(df_test_over.Disease.value_counts())"
      ]
    },
    {
      "cell_type": "code",
      "execution_count": 230,
      "metadata": {
        "id": "1PAYgP4ZpG4A"
      },
      "outputs": [],
      "source": [
        "X = df_test_over.drop('Disease',axis='columns')\n",
        "y = df_test_over['Disease']\n",
        "\n",
        "from sklearn.model_selection import train_test_split\n",
        "X_train2, X_test2, y_train2, y_test2 = train_test_split(X, y, test_size=0.2, random_state=15, stratify=y)"
      ]
    },
    {
      "cell_type": "code",
      "execution_count": 231,
      "metadata": {
        "id": "88zpPJWJpG4A",
        "colab": {
          "base_uri": "https://localhost:8080/"
        },
        "outputId": "2302cde0-2742-495e-c294-a6dc702693c3"
      },
      "outputs": [
        {
          "output_type": "execute_result",
          "data": {
            "text/plain": [
              "Presence    120\n",
              "Absence     120\n",
              "Name: Disease, dtype: int64"
            ]
          },
          "metadata": {},
          "execution_count": 231
        }
      ],
      "source": [
        "# Number of classes in training Data\n",
        "y_train2.value_counts()"
      ]
    },
    {
      "cell_type": "code",
      "execution_count": 232,
      "metadata": {
        "scrolled": true,
        "id": "S_9tMOQLpG4A",
        "colab": {
          "base_uri": "https://localhost:8080/"
        },
        "outputId": "d60e4d54-9384-4d04-a1f6-758379fea2f9"
      },
      "outputs": [
        {
          "output_type": "execute_result",
          "data": {
            "text/plain": [
              "KNeighborsClassifier(metric='euclidean', n_neighbors=9)"
            ]
          },
          "metadata": {},
          "execution_count": 232
        }
      ],
      "source": [
        "# Creating KNN Model.\n",
        "classifier = KNeighborsClassifier(n_neighbors = 9, p = 2, metric = 'euclidean')\n",
        "classifier.fit(X_train2,y_train2)"
      ]
    },
    {
      "cell_type": "code",
      "source": [
        "y_pred2 = classifier.predict(X_test2)"
      ],
      "metadata": {
        "id": "ADyAQZKLKUBy"
      },
      "execution_count": 233,
      "outputs": []
    },
    {
      "cell_type": "code",
      "source": [
        "print(accuracy_score(y_test2,y_pred2))"
      ],
      "metadata": {
        "colab": {
          "base_uri": "https://localhost:8080/"
        },
        "id": "femCO9BTKqP4",
        "outputId": "517a11cc-9289-431a-f412-5fd9b924154b"
      },
      "execution_count": 234,
      "outputs": [
        {
          "output_type": "stream",
          "name": "stdout",
          "text": [
            "0.8166666666666667\n"
          ]
        }
      ]
    },
    {
      "cell_type": "code",
      "source": [
        "print(classification_report(y_test2, y_pred2))"
      ],
      "metadata": {
        "colab": {
          "base_uri": "https://localhost:8080/"
        },
        "id": "QnDN15UwLCl6",
        "outputId": "e758853f-d58d-4a2d-bc7b-a9d0b55fc929"
      },
      "execution_count": 235,
      "outputs": [
        {
          "output_type": "stream",
          "name": "stdout",
          "text": [
            "              precision    recall  f1-score   support\n",
            "\n",
            "     Absence       0.81      0.83      0.82        30\n",
            "    Presence       0.83      0.80      0.81        30\n",
            "\n",
            "    accuracy                           0.82        60\n",
            "   macro avg       0.82      0.82      0.82        60\n",
            "weighted avg       0.82      0.82      0.82        60\n",
            "\n"
          ]
        }
      ]
    },
    {
      "cell_type": "code",
      "source": [],
      "metadata": {
        "id": "T-gJdggjMddn"
      },
      "execution_count": 235,
      "outputs": []
    },
    {
      "cell_type": "markdown",
      "metadata": {
        "id": "SvCVsSxEpG4B"
      },
      "source": [
        "### Method3: SMOTE"
      ]
    },
    {
      "cell_type": "markdown",
      "source": [],
      "metadata": {
        "id": "KmKY8HCeNVCF"
      }
    },
    {
      "cell_type": "code",
      "execution_count": 236,
      "metadata": {
        "id": "Vn51lvDmpG4B"
      },
      "outputs": [],
      "source": [
        "X = df.drop('Disease',axis='columns')\n",
        "y = df['Disease']"
      ]
    },
    {
      "cell_type": "code",
      "execution_count": 237,
      "metadata": {
        "id": "8LKIQV48pG4B",
        "colab": {
          "base_uri": "https://localhost:8080/"
        },
        "outputId": "ed45400e-6dfe-4948-b02d-2bf538ab45a4"
      },
      "outputs": [
        {
          "output_type": "execute_result",
          "data": {
            "text/plain": [
              "Presence    150\n",
              "Absence     150\n",
              "Name: Disease, dtype: int64"
            ]
          },
          "metadata": {},
          "execution_count": 237
        }
      ],
      "source": [
        "from imblearn.over_sampling import SMOTE\n",
        "\n",
        "smote = SMOTE(sampling_strategy='minority')\n",
        "X_sm, y_sm = smote.fit_resample(X, y)\n",
        "\n",
        "y_sm.value_counts()"
      ]
    },
    {
      "cell_type": "code",
      "execution_count": 238,
      "metadata": {
        "id": "FL-LumdppG4C"
      },
      "outputs": [],
      "source": [
        "from sklearn.model_selection import train_test_split\n",
        "X_train3, X_test3, y_train3, y_test3 = train_test_split(X_sm, y_sm, test_size=0.2, random_state=15, stratify=y_sm)"
      ]
    },
    {
      "cell_type": "code",
      "execution_count": 239,
      "metadata": {
        "scrolled": true,
        "id": "Hfl09xq6pG4C",
        "colab": {
          "base_uri": "https://localhost:8080/"
        },
        "outputId": "144569bb-0b9b-4aa1-d908-a1c49711b69b"
      },
      "outputs": [
        {
          "output_type": "execute_result",
          "data": {
            "text/plain": [
              "Presence    120\n",
              "Absence     120\n",
              "Name: Disease, dtype: int64"
            ]
          },
          "metadata": {},
          "execution_count": 239
        }
      ],
      "source": [
        "# Number of classes in training Data\n",
        "y_train3.value_counts()"
      ]
    },
    {
      "cell_type": "code",
      "execution_count": 240,
      "metadata": {
        "scrolled": true,
        "id": "0bS9sDXspG4D",
        "colab": {
          "base_uri": "https://localhost:8080/"
        },
        "outputId": "01458572-2a4f-4ca7-cb0d-60c9039123a4"
      },
      "outputs": [
        {
          "output_type": "execute_result",
          "data": {
            "text/plain": [
              "KNeighborsClassifier(metric='euclidean', n_neighbors=9)"
            ]
          },
          "metadata": {},
          "execution_count": 240
        }
      ],
      "source": [
        "# Creating KNN Model.\n",
        "classifier = KNeighborsClassifier(n_neighbors = 9, p = 2, metric = 'euclidean')\n",
        "classifier.fit(X_train3,y_train3)"
      ]
    },
    {
      "cell_type": "code",
      "source": [
        "y_pred3 = classifier.predict(X_test3)"
      ],
      "metadata": {
        "id": "RhSn5J1GOWtF"
      },
      "execution_count": 241,
      "outputs": []
    },
    {
      "cell_type": "code",
      "source": [
        "print(accuracy_score(y_test3,y_pred3))"
      ],
      "metadata": {
        "colab": {
          "base_uri": "https://localhost:8080/"
        },
        "id": "tfLjkcAmOfOO",
        "outputId": "a0aab316-8845-481b-d0ae-6328ca02ccfa"
      },
      "execution_count": 242,
      "outputs": [
        {
          "output_type": "stream",
          "name": "stdout",
          "text": [
            "0.65\n"
          ]
        }
      ]
    },
    {
      "cell_type": "code",
      "source": [],
      "metadata": {
        "id": "mBigmlmSPOJ4"
      },
      "execution_count": 242,
      "outputs": []
    },
    {
      "cell_type": "code",
      "source": [
        "print(classification_report(y_test3, y_pred3))"
      ],
      "metadata": {
        "colab": {
          "base_uri": "https://localhost:8080/"
        },
        "id": "OG2yY6OvPGtj",
        "outputId": "63090491-a81c-4f14-aea8-59a735c0cc53"
      },
      "execution_count": 243,
      "outputs": [
        {
          "output_type": "stream",
          "name": "stdout",
          "text": [
            "              precision    recall  f1-score   support\n",
            "\n",
            "     Absence       0.63      0.73      0.68        30\n",
            "    Presence       0.68      0.57      0.62        30\n",
            "\n",
            "    accuracy                           0.65        60\n",
            "   macro avg       0.65      0.65      0.65        60\n",
            "weighted avg       0.65      0.65      0.65        60\n",
            "\n"
          ]
        }
      ]
    },
    {
      "cell_type": "code",
      "source": [],
      "metadata": {
        "id": "Z5xq62VBPvtY"
      },
      "execution_count": 243,
      "outputs": []
    },
    {
      "cell_type": "markdown",
      "metadata": {
        "id": "YtJfEPbV7DWz"
      },
      "source": [
        "###Method 5 : Borderline SMOTE 1"
      ]
    },
    {
      "cell_type": "code",
      "source": [
        "X = df.drop('Disease',axis='columns')\n",
        "y = df['Disease']"
      ],
      "metadata": {
        "id": "Dk3RiyFUNbzG"
      },
      "execution_count": 244,
      "outputs": []
    },
    {
      "cell_type": "code",
      "source": [
        "from imblearn.over_sampling import BorderlineSMOTE\n",
        "\n",
        "bsmote = BorderlineSMOTE(sampling_strategy='minority',random_state = 42,kind='borderline-1')\n",
        "X_bs, y_bs = bsmote.fit_resample(X, y)\n",
        "\n",
        "y_bs.value_counts()"
      ],
      "metadata": {
        "colab": {
          "base_uri": "https://localhost:8080/"
        },
        "id": "0Bokc3AyNn94",
        "outputId": "957439cd-c86a-4011-cc91-d94a2ab10297"
      },
      "execution_count": 245,
      "outputs": [
        {
          "output_type": "execute_result",
          "data": {
            "text/plain": [
              "Presence    150\n",
              "Absence     150\n",
              "Name: Disease, dtype: int64"
            ]
          },
          "metadata": {},
          "execution_count": 245
        }
      ]
    },
    {
      "cell_type": "code",
      "source": [
        "from sklearn.model_selection import train_test_split\n",
        "X_train5, X_test5, y_train5, y_test5 = train_test_split(X_bs, y_bs, test_size=0.2, random_state=15, stratify=y_bs)"
      ],
      "metadata": {
        "id": "dQ8RlVf8l5Dy"
      },
      "execution_count": 246,
      "outputs": []
    },
    {
      "cell_type": "code",
      "source": [
        "# Number of classes in training Data\n",
        "y_train5.value_counts()"
      ],
      "metadata": {
        "colab": {
          "base_uri": "https://localhost:8080/"
        },
        "id": "ZwX1xKWEnY6w",
        "outputId": "99447d94-bf69-4c4c-815f-434f2875a720"
      },
      "execution_count": 247,
      "outputs": [
        {
          "output_type": "execute_result",
          "data": {
            "text/plain": [
              "Presence    120\n",
              "Absence     120\n",
              "Name: Disease, dtype: int64"
            ]
          },
          "metadata": {},
          "execution_count": 247
        }
      ]
    },
    {
      "cell_type": "code",
      "source": [],
      "metadata": {
        "id": "eA04Z9fWneqb"
      },
      "execution_count": 247,
      "outputs": []
    },
    {
      "cell_type": "code",
      "source": [
        "# Creating KNN Model.\n",
        "classifier = KNeighborsClassifier(n_neighbors = 9, p = 2, metric = 'euclidean')\n",
        "classifier.fit(X_train5,y_train5)"
      ],
      "metadata": {
        "id": "8IDt5A46n04z",
        "colab": {
          "base_uri": "https://localhost:8080/"
        },
        "outputId": "97c73ddf-8223-4e4a-bb93-3b701fe5460f"
      },
      "execution_count": 248,
      "outputs": [
        {
          "output_type": "execute_result",
          "data": {
            "text/plain": [
              "KNeighborsClassifier(metric='euclidean', n_neighbors=9)"
            ]
          },
          "metadata": {},
          "execution_count": 248
        }
      ]
    },
    {
      "cell_type": "code",
      "source": [
        "y_pred5 = classifier.predict(X_test5)\n",
        "print(accuracy_score(y_test5,y_pred5))\n"
      ],
      "metadata": {
        "colab": {
          "base_uri": "https://localhost:8080/"
        },
        "id": "8LwTMDz1Qb_p",
        "outputId": "63f560fd-053e-4e70-8936-2684c534f4f3"
      },
      "execution_count": 249,
      "outputs": [
        {
          "output_type": "stream",
          "name": "stdout",
          "text": [
            "0.6333333333333333\n"
          ]
        }
      ]
    },
    {
      "cell_type": "code",
      "source": [
        "print(classification_report(y_test5, y_pred5))"
      ],
      "metadata": {
        "colab": {
          "base_uri": "https://localhost:8080/"
        },
        "id": "XJa7N-ruQxTS",
        "outputId": "44cb2003-ed60-4626-9062-a88896f89a3b"
      },
      "execution_count": 250,
      "outputs": [
        {
          "output_type": "stream",
          "name": "stdout",
          "text": [
            "              precision    recall  f1-score   support\n",
            "\n",
            "     Absence       0.62      0.70      0.66        30\n",
            "    Presence       0.65      0.57      0.61        30\n",
            "\n",
            "    accuracy                           0.63        60\n",
            "   macro avg       0.64      0.63      0.63        60\n",
            "weighted avg       0.64      0.63      0.63        60\n",
            "\n"
          ]
        }
      ]
    },
    {
      "cell_type": "code",
      "source": [],
      "metadata": {
        "id": "o4qjDLQMQ21u"
      },
      "execution_count": 250,
      "outputs": []
    },
    {
      "cell_type": "markdown",
      "source": [
        "###Method 6: Borderline SMOTE 2"
      ],
      "metadata": {
        "id": "dD9xhhq3ocux"
      }
    },
    {
      "cell_type": "code",
      "source": [
        "X = df.drop('Disease',axis='columns')\n",
        "y = df['Disease']"
      ],
      "metadata": {
        "id": "G-8k-2-ipX1q"
      },
      "execution_count": 251,
      "outputs": []
    },
    {
      "cell_type": "code",
      "source": [
        "from imblearn.over_sampling import BorderlineSMOTE\n",
        "\n",
        "bsmote = BorderlineSMOTE(sampling_strategy='minority',random_state = 42,kind='borderline-2')\n",
        "X_bsm, y_bsm = bsmote.fit_resample(X, y)\n",
        "\n",
        "y_bsm.value_counts()"
      ],
      "metadata": {
        "colab": {
          "base_uri": "https://localhost:8080/"
        },
        "id": "40Qb2eHDpeNf",
        "outputId": "af90160f-6831-4705-898e-d2ff727153de"
      },
      "execution_count": 252,
      "outputs": [
        {
          "output_type": "execute_result",
          "data": {
            "text/plain": [
              "Presence    150\n",
              "Absence     150\n",
              "Name: Disease, dtype: int64"
            ]
          },
          "metadata": {},
          "execution_count": 252
        }
      ]
    },
    {
      "cell_type": "code",
      "source": [
        "from sklearn.model_selection import train_test_split\n",
        "X_train6, X_test6, y_train6, y_test6 = train_test_split(X_bsm, y_bsm, test_size=0.2, random_state=15, stratify=y_bsm)"
      ],
      "metadata": {
        "id": "MzWb44YPphXH"
      },
      "execution_count": 253,
      "outputs": []
    },
    {
      "cell_type": "code",
      "source": [
        "# Number of classes in training Data\n",
        "y_train6.value_counts()"
      ],
      "metadata": {
        "colab": {
          "base_uri": "https://localhost:8080/"
        },
        "id": "_6LvE-Zrp0BA",
        "outputId": "9459f823-a1bc-402c-bd46-ac8d6e3ead02"
      },
      "execution_count": 254,
      "outputs": [
        {
          "output_type": "execute_result",
          "data": {
            "text/plain": [
              "Presence    120\n",
              "Absence     120\n",
              "Name: Disease, dtype: int64"
            ]
          },
          "metadata": {},
          "execution_count": 254
        }
      ]
    },
    {
      "cell_type": "code",
      "source": [
        "# Creating KNN Model.\n",
        "classifier = KNeighborsClassifier(n_neighbors = 9, p = 2, metric = 'euclidean')\n",
        "classifier.fit(X_train6,y_train6)"
      ],
      "metadata": {
        "colab": {
          "base_uri": "https://localhost:8080/"
        },
        "id": "MtQ9oIdop4F6",
        "outputId": "ae4625de-5f88-45af-dc3f-0f850b660210"
      },
      "execution_count": 255,
      "outputs": [
        {
          "output_type": "execute_result",
          "data": {
            "text/plain": [
              "KNeighborsClassifier(metric='euclidean', n_neighbors=9)"
            ]
          },
          "metadata": {},
          "execution_count": 255
        }
      ]
    },
    {
      "cell_type": "code",
      "source": [
        "y_pred6 = classifier.predict(X_test6)\n",
        "print(accuracy_score(y_test6,y_pred6))"
      ],
      "metadata": {
        "id": "0GlOoXJDp61O",
        "colab": {
          "base_uri": "https://localhost:8080/"
        },
        "outputId": "e10018f5-ce6c-40a5-bfc2-110bcfc52380"
      },
      "execution_count": 256,
      "outputs": [
        {
          "output_type": "stream",
          "name": "stdout",
          "text": [
            "0.65\n"
          ]
        }
      ]
    },
    {
      "cell_type": "code",
      "source": [
        "print(classification_report(y_test6, y_pred6))"
      ],
      "metadata": {
        "colab": {
          "base_uri": "https://localhost:8080/"
        },
        "id": "6gLxaGrKRbdZ",
        "outputId": "c8d40ab8-4e03-49a3-a893-290654a65f32"
      },
      "execution_count": 257,
      "outputs": [
        {
          "output_type": "stream",
          "name": "stdout",
          "text": [
            "              precision    recall  f1-score   support\n",
            "\n",
            "     Absence       0.64      0.70      0.67        30\n",
            "    Presence       0.67      0.60      0.63        30\n",
            "\n",
            "    accuracy                           0.65        60\n",
            "   macro avg       0.65      0.65      0.65        60\n",
            "weighted avg       0.65      0.65      0.65        60\n",
            "\n"
          ]
        }
      ]
    },
    {
      "cell_type": "code",
      "source": [],
      "metadata": {
        "id": "aSk7hRCDRmN8"
      },
      "execution_count": 257,
      "outputs": []
    },
    {
      "cell_type": "markdown",
      "source": [
        "###Method 7 : SVMSmote"
      ],
      "metadata": {
        "id": "FXKcyVHYqRgr"
      }
    },
    {
      "cell_type": "code",
      "source": [
        "X = df.drop('Disease',axis='columns')\n",
        "y = df['Disease']"
      ],
      "metadata": {
        "id": "cQIRxUpRqUjL"
      },
      "execution_count": 258,
      "outputs": []
    },
    {
      "cell_type": "code",
      "source": [
        "from imblearn.over_sampling import SVMSMOTE\n",
        "\n",
        "svmsmote = SVMSMOTE(sampling_strategy='minority',random_state = 42)\n",
        "X_svm, y_svm = svmsmote.fit_resample(X, y)\n",
        "\n",
        "y_svm.value_counts()"
      ],
      "metadata": {
        "colab": {
          "base_uri": "https://localhost:8080/"
        },
        "id": "ohLelkz-q-GU",
        "outputId": "9071140c-3c5c-44a4-ef11-be0ec57eb518"
      },
      "execution_count": 259,
      "outputs": [
        {
          "output_type": "execute_result",
          "data": {
            "text/plain": [
              "Presence    150\n",
              "Absence     150\n",
              "Name: Disease, dtype: int64"
            ]
          },
          "metadata": {},
          "execution_count": 259
        }
      ]
    },
    {
      "cell_type": "code",
      "source": [
        "from sklearn.model_selection import train_test_split\n",
        "X_train7, X_test7, y_train7, y_test7 = train_test_split(X_svm, y_svm, test_size=0.2, random_state=15, stratify=y_svm)"
      ],
      "metadata": {
        "id": "mVAW7J_ZyDEU"
      },
      "execution_count": 260,
      "outputs": []
    },
    {
      "cell_type": "code",
      "source": [
        "y_train7.value_counts()"
      ],
      "metadata": {
        "colab": {
          "base_uri": "https://localhost:8080/"
        },
        "id": "7QGfCmZByaxU",
        "outputId": "25385e11-1611-47e4-b5ad-60c07bd06db1"
      },
      "execution_count": 261,
      "outputs": [
        {
          "output_type": "execute_result",
          "data": {
            "text/plain": [
              "Presence    120\n",
              "Absence     120\n",
              "Name: Disease, dtype: int64"
            ]
          },
          "metadata": {},
          "execution_count": 261
        }
      ]
    },
    {
      "cell_type": "code",
      "source": [
        "# Creating KNN Model.\n",
        "classifier = KNeighborsClassifier(n_neighbors = 9, p = 2, metric = 'euclidean')\n",
        "classifier.fit(X_train7,y_train7)"
      ],
      "metadata": {
        "colab": {
          "base_uri": "https://localhost:8080/"
        },
        "id": "NCp5B_8uxWpX",
        "outputId": "631d8a64-7838-4c49-cb46-e56b32ad7df0"
      },
      "execution_count": 262,
      "outputs": [
        {
          "output_type": "execute_result",
          "data": {
            "text/plain": [
              "KNeighborsClassifier(metric='euclidean', n_neighbors=9)"
            ]
          },
          "metadata": {},
          "execution_count": 262
        }
      ]
    },
    {
      "cell_type": "code",
      "source": [
        "y_pred7 = classifier.predict(X_test7)\n",
        "print(accuracy_score(y_test7,y_pred7))"
      ],
      "metadata": {
        "colab": {
          "base_uri": "https://localhost:8080/"
        },
        "id": "FFsdZ77MR_5D",
        "outputId": "5c644534-44b7-4293-d9a8-761cd5f67a98"
      },
      "execution_count": 263,
      "outputs": [
        {
          "output_type": "stream",
          "name": "stdout",
          "text": [
            "0.7\n"
          ]
        }
      ]
    },
    {
      "cell_type": "code",
      "source": [
        "print(classification_report(y_test7, y_pred7))"
      ],
      "metadata": {
        "colab": {
          "base_uri": "https://localhost:8080/"
        },
        "id": "yTc9sYstSHHN",
        "outputId": "88c47689-a6c8-4537-d4df-174f5ccef4c1"
      },
      "execution_count": 264,
      "outputs": [
        {
          "output_type": "stream",
          "name": "stdout",
          "text": [
            "              precision    recall  f1-score   support\n",
            "\n",
            "     Absence       0.69      0.73      0.71        30\n",
            "    Presence       0.71      0.67      0.69        30\n",
            "\n",
            "    accuracy                           0.70        60\n",
            "   macro avg       0.70      0.70      0.70        60\n",
            "weighted avg       0.70      0.70      0.70        60\n",
            "\n"
          ]
        }
      ]
    },
    {
      "cell_type": "code",
      "source": [],
      "metadata": {
        "id": "wLotetzvSSKx"
      },
      "execution_count": 264,
      "outputs": []
    },
    {
      "cell_type": "markdown",
      "source": [
        "###Method 8 : ADASYN"
      ],
      "metadata": {
        "id": "lf5bGEviqXHb"
      }
    },
    {
      "cell_type": "code",
      "source": [
        "X = df.drop('Disease',axis='columns')\n",
        "y = df['Disease']"
      ],
      "metadata": {
        "id": "ZVJ0Qm7Tqebu"
      },
      "execution_count": 265,
      "outputs": []
    },
    {
      "cell_type": "code",
      "source": [
        "from imblearn.over_sampling import ADASYN\n",
        "\n",
        "ada = ADASYN(sampling_strategy='minority',random_state = 42)\n",
        "X_ada, y_ada = ada.fit_resample(X, y)\n",
        "\n",
        "y_ada.value_counts()"
      ],
      "metadata": {
        "colab": {
          "base_uri": "https://localhost:8080/"
        },
        "id": "UNwrwSgwrL83",
        "outputId": "898a8aca-c7b5-451e-fd50-392268c3ee58"
      },
      "execution_count": 266,
      "outputs": [
        {
          "output_type": "execute_result",
          "data": {
            "text/plain": [
              "Absence     150\n",
              "Presence    131\n",
              "Name: Disease, dtype: int64"
            ]
          },
          "metadata": {},
          "execution_count": 266
        }
      ]
    },
    {
      "cell_type": "code",
      "source": [
        "from sklearn.model_selection import train_test_split\n",
        "X_train8, X_test8, y_train8, y_test8 = train_test_split(X_ada, y_ada, test_size=0.2, random_state=15, stratify=y_ada)"
      ],
      "metadata": {
        "id": "03JYjYEcyczu"
      },
      "execution_count": 267,
      "outputs": []
    },
    {
      "cell_type": "code",
      "source": [
        "y_train8.value_counts()"
      ],
      "metadata": {
        "colab": {
          "base_uri": "https://localhost:8080/"
        },
        "id": "02U0_b3Ey5si",
        "outputId": "0bec0e43-5568-40ba-f2a7-f89591763aee"
      },
      "execution_count": 268,
      "outputs": [
        {
          "output_type": "execute_result",
          "data": {
            "text/plain": [
              "Absence     120\n",
              "Presence    104\n",
              "Name: Disease, dtype: int64"
            ]
          },
          "metadata": {},
          "execution_count": 268
        }
      ]
    },
    {
      "cell_type": "code",
      "source": [
        "# Creating KNN Model.\n",
        "classifier = KNeighborsClassifier(n_neighbors = 9, p = 2, metric = 'euclidean')\n",
        "classifier.fit(X_train8,y_train8)"
      ],
      "metadata": {
        "colab": {
          "base_uri": "https://localhost:8080/"
        },
        "id": "qejJHUbVzMCA",
        "outputId": "99349d2a-6620-4ae0-b470-e61e836412fd"
      },
      "execution_count": 269,
      "outputs": [
        {
          "output_type": "execute_result",
          "data": {
            "text/plain": [
              "KNeighborsClassifier(metric='euclidean', n_neighbors=9)"
            ]
          },
          "metadata": {},
          "execution_count": 269
        }
      ]
    },
    {
      "cell_type": "code",
      "source": [
        "y_pred8 = classifier.predict(X_test8)\n",
        "print(accuracy_score(y_test8,y_pred8))"
      ],
      "metadata": {
        "colab": {
          "base_uri": "https://localhost:8080/"
        },
        "id": "ZKwnXBVVTF2L",
        "outputId": "83386913-5db5-43cc-d853-36c5104d342a"
      },
      "execution_count": 270,
      "outputs": [
        {
          "output_type": "stream",
          "name": "stdout",
          "text": [
            "0.6491228070175439\n"
          ]
        }
      ]
    },
    {
      "cell_type": "code",
      "source": [
        "print(classification_report(y_test8, y_pred8))"
      ],
      "metadata": {
        "colab": {
          "base_uri": "https://localhost:8080/"
        },
        "id": "EEshAOtHTOjU",
        "outputId": "965f0ae3-80d2-4982-d01e-034562a7ab16"
      },
      "execution_count": 271,
      "outputs": [
        {
          "output_type": "stream",
          "name": "stdout",
          "text": [
            "              precision    recall  f1-score   support\n",
            "\n",
            "     Absence       0.65      0.73      0.69        30\n",
            "    Presence       0.65      0.56      0.60        27\n",
            "\n",
            "    accuracy                           0.65        57\n",
            "   macro avg       0.65      0.64      0.64        57\n",
            "weighted avg       0.65      0.65      0.65        57\n",
            "\n"
          ]
        }
      ]
    },
    {
      "cell_type": "code",
      "source": [],
      "metadata": {
        "id": "J1l4Q4fVTVFX"
      },
      "execution_count": 271,
      "outputs": []
    },
    {
      "cell_type": "markdown",
      "source": [
        "###Method 9 : SMOTEENN"
      ],
      "metadata": {
        "id": "KNjTvCjRqiUq"
      }
    },
    {
      "cell_type": "code",
      "source": [
        "from imblearn.combine import SMOTEENN"
      ],
      "metadata": {
        "id": "pi2pXP9kr9Na"
      },
      "execution_count": 272,
      "outputs": []
    },
    {
      "cell_type": "code",
      "source": [
        "X = df.drop('Disease',axis='columns')\n",
        "y = df['Disease']"
      ],
      "metadata": {
        "id": "OTYH_ixIqqsB"
      },
      "execution_count": 273,
      "outputs": []
    },
    {
      "cell_type": "code",
      "source": [
        "\n",
        "enn = SMOTEENN(sampling_strategy='minority',random_state = 42)\n",
        "X_smt, y_smt = enn.fit_resample(X, y)\n",
        "\n",
        "y_smt.value_counts()"
      ],
      "metadata": {
        "colab": {
          "base_uri": "https://localhost:8080/"
        },
        "id": "AUTIHukfrUBk",
        "outputId": "6606c725-47d0-4d1a-b7f9-42eb46f2aca2"
      },
      "execution_count": 274,
      "outputs": [
        {
          "output_type": "execute_result",
          "data": {
            "text/plain": [
              "Presence    47\n",
              "Absence     42\n",
              "Name: Disease, dtype: int64"
            ]
          },
          "metadata": {},
          "execution_count": 274
        }
      ]
    },
    {
      "cell_type": "code",
      "source": [
        "from sklearn.model_selection import train_test_split\n",
        "X_train9, X_test9, y_train9, y_test9 = train_test_split(X_smt, y_smt, test_size=0.2, random_state=15, stratify=y_smt)"
      ],
      "metadata": {
        "id": "jaMhz-kvylat"
      },
      "execution_count": 275,
      "outputs": []
    },
    {
      "cell_type": "code",
      "source": [
        "y_train9.value_counts()"
      ],
      "metadata": {
        "colab": {
          "base_uri": "https://localhost:8080/"
        },
        "id": "WmAEp4Wky7H4",
        "outputId": "715ff660-4729-4a03-d2c0-7d31a1e9d3db"
      },
      "execution_count": 276,
      "outputs": [
        {
          "output_type": "execute_result",
          "data": {
            "text/plain": [
              "Presence    37\n",
              "Absence     34\n",
              "Name: Disease, dtype: int64"
            ]
          },
          "metadata": {},
          "execution_count": 276
        }
      ]
    },
    {
      "cell_type": "code",
      "source": [
        "# Creating KNN Model.\n",
        "classifier = KNeighborsClassifier(n_neighbors = 9, p = 2, metric = 'euclidean')\n",
        "classifier.fit(X_train9,y_train9)"
      ],
      "metadata": {
        "colab": {
          "base_uri": "https://localhost:8080/"
        },
        "id": "hnNzzsuszPEe",
        "outputId": "ad6517dc-f094-4b2c-9a78-f58a1bae99d8"
      },
      "execution_count": 277,
      "outputs": [
        {
          "output_type": "execute_result",
          "data": {
            "text/plain": [
              "KNeighborsClassifier(metric='euclidean', n_neighbors=9)"
            ]
          },
          "metadata": {},
          "execution_count": 277
        }
      ]
    },
    {
      "cell_type": "code",
      "source": [
        "y_pred9 = classifier.predict(X_test9)\n",
        "print(accuracy_score(y_test9,y_pred9))"
      ],
      "metadata": {
        "colab": {
          "base_uri": "https://localhost:8080/"
        },
        "id": "Ij5rswMfT0D1",
        "outputId": "a1819328-6130-40de-e33e-fbb2d9c1bd79"
      },
      "execution_count": 278,
      "outputs": [
        {
          "output_type": "stream",
          "name": "stdout",
          "text": [
            "0.7777777777777778\n"
          ]
        }
      ]
    },
    {
      "cell_type": "code",
      "source": [
        "print(classification_report(y_test9, y_pred9))"
      ],
      "metadata": {
        "colab": {
          "base_uri": "https://localhost:8080/"
        },
        "id": "1GOyA7PYT-s6",
        "outputId": "a431d529-fbdc-4643-a327-d88b7b695bf5"
      },
      "execution_count": 279,
      "outputs": [
        {
          "output_type": "stream",
          "name": "stdout",
          "text": [
            "              precision    recall  f1-score   support\n",
            "\n",
            "     Absence       0.67      1.00      0.80         8\n",
            "    Presence       1.00      0.60      0.75        10\n",
            "\n",
            "    accuracy                           0.78        18\n",
            "   macro avg       0.83      0.80      0.77        18\n",
            "weighted avg       0.85      0.78      0.77        18\n",
            "\n"
          ]
        }
      ]
    },
    {
      "cell_type": "code",
      "source": [],
      "metadata": {
        "id": "I5Xk-_iIUP5Q"
      },
      "execution_count": 279,
      "outputs": []
    },
    {
      "cell_type": "markdown",
      "source": [
        "###Method 10 : SMOTETomek"
      ],
      "metadata": {
        "id": "YY_WQ02LqrLS"
      }
    },
    {
      "cell_type": "code",
      "source": [
        "X = df.drop('Disease',axis='columns')\n",
        "y = df['Disease']"
      ],
      "metadata": {
        "id": "I-xsdqdzqx1J"
      },
      "execution_count": 280,
      "outputs": []
    },
    {
      "cell_type": "code",
      "source": [
        "from imblearn.combine import SMOTETomek\n",
        "\n",
        "smotetomek = SMOTETomek(sampling_strategy='minority',random_state = 42)\n",
        "X_smtt, y_smtt = smotetomek.fit_resample(X, y)\n",
        "\n",
        "y_smtt.value_counts()"
      ],
      "metadata": {
        "colab": {
          "base_uri": "https://localhost:8080/"
        },
        "id": "aRHhUJgVrtV8",
        "outputId": "1e049abf-2712-41d7-8ff1-a4e3281f7d0d"
      },
      "execution_count": 281,
      "outputs": [
        {
          "output_type": "execute_result",
          "data": {
            "text/plain": [
              "Presence    126\n",
              "Absence     126\n",
              "Name: Disease, dtype: int64"
            ]
          },
          "metadata": {},
          "execution_count": 281
        }
      ]
    },
    {
      "cell_type": "code",
      "source": [
        "from sklearn.model_selection import train_test_split\n",
        "X_train10, X_test10, y_train10, y_test10 = train_test_split(X_smtt, y_smtt, test_size=0.2, random_state=15, stratify=y_smtt)"
      ],
      "metadata": {
        "id": "mItMjQNSsR0E"
      },
      "execution_count": 282,
      "outputs": []
    },
    {
      "cell_type": "code",
      "source": [
        "y_train10.value_counts()"
      ],
      "metadata": {
        "colab": {
          "base_uri": "https://localhost:8080/"
        },
        "id": "5fblSKd7y8Xu",
        "outputId": "61ccb4a5-a99c-47b5-87a2-e681ebfcfa29"
      },
      "execution_count": 283,
      "outputs": [
        {
          "output_type": "execute_result",
          "data": {
            "text/plain": [
              "Presence    101\n",
              "Absence     100\n",
              "Name: Disease, dtype: int64"
            ]
          },
          "metadata": {},
          "execution_count": 283
        }
      ]
    },
    {
      "cell_type": "code",
      "source": [
        "# Creating KNN Model.\n",
        "classifier = KNeighborsClassifier(n_neighbors = 9, p = 2, metric = 'euclidean')\n",
        "classifier.fit(X_train10,y_train10)"
      ],
      "metadata": {
        "colab": {
          "base_uri": "https://localhost:8080/"
        },
        "id": "njaEW0IjzQdN",
        "outputId": "843c466f-d480-4aa0-eb5c-5e58d739b10c"
      },
      "execution_count": 284,
      "outputs": [
        {
          "output_type": "execute_result",
          "data": {
            "text/plain": [
              "KNeighborsClassifier(metric='euclidean', n_neighbors=9)"
            ]
          },
          "metadata": {},
          "execution_count": 284
        }
      ]
    },
    {
      "cell_type": "code",
      "source": [
        "y_pred10 = classifier.predict(X_test10)\n",
        "print(accuracy_score(y_test10,y_pred10))"
      ],
      "metadata": {
        "id": "uTKcuH800fAh",
        "colab": {
          "base_uri": "https://localhost:8080/"
        },
        "outputId": "710a4fe4-66f7-4e78-fe1a-f0b3a1d8abb7"
      },
      "execution_count": 285,
      "outputs": [
        {
          "output_type": "stream",
          "name": "stdout",
          "text": [
            "0.7647058823529411\n"
          ]
        }
      ]
    },
    {
      "cell_type": "code",
      "source": [
        "print(classification_report(y_test10, y_pred10))"
      ],
      "metadata": {
        "colab": {
          "base_uri": "https://localhost:8080/"
        },
        "id": "UEnF6jkNUwlu",
        "outputId": "ba759de2-40c4-4730-943c-6153769105da"
      },
      "execution_count": 286,
      "outputs": [
        {
          "output_type": "stream",
          "name": "stdout",
          "text": [
            "              precision    recall  f1-score   support\n",
            "\n",
            "     Absence       0.82      0.69      0.75        26\n",
            "    Presence       0.72      0.84      0.78        25\n",
            "\n",
            "    accuracy                           0.76        51\n",
            "   macro avg       0.77      0.77      0.76        51\n",
            "weighted avg       0.77      0.76      0.76        51\n",
            "\n"
          ]
        }
      ]
    },
    {
      "cell_type": "code",
      "source": [],
      "metadata": {
        "id": "w-UjldOnVHQ8"
      },
      "execution_count": 286,
      "outputs": []
    },
    {
      "cell_type": "markdown",
      "source": [
        "###Confusion Matrix for all algorithms"
      ],
      "metadata": {
        "id": "Y_dnSWBt4tlb"
      }
    },
    {
      "cell_type": "code",
      "source": [
        "import seaborn as sn \n",
        "\n"
      ],
      "metadata": {
        "id": "RGuV5wwLBF1q"
      },
      "execution_count": 287,
      "outputs": []
    },
    {
      "cell_type": "code",
      "source": [
        "print(\"SVM Algotithm\")\n",
        "print(classification_report(y_test, y_pred))\n",
        "\n",
        "\n",
        "print(\"1 : Undersampling\")\n",
        "print(classification_report(y_test1, y_pred1))\n",
        "\n",
        "\n",
        "print(\"2 : Oversampling\")\n",
        "print(classification_report(y_test2, y_pred2))\n",
        "\n",
        "\n",
        "print(\"3 : SMOTE\")\n",
        "print(classification_report(y_test3, y_pred3))\n",
        "\n",
        "\n",
        "# print(\"4 : Ensemble with Undersampling\")\n",
        "# print(classification_report(y_test4, y_pred_final))\n",
        "\n",
        "\n",
        "print(\"5 : Borderline SMOTE 1\")\n",
        "print(classification_report(y_test5, y_pred5))\n",
        "\n",
        "\n",
        "\n",
        "print(\"6 : Borderline SMOTE 2\")\n",
        "print(classification_report(y_test6, y_pred6))\n",
        "\n",
        "print(\"7 : SVM SMOTE\")\n",
        "print(classification_report(y_test7, y_pred7))\n",
        "\n",
        "print(\"8 : ADASYN \")\n",
        "print(classification_report(y_test8, y_pred8))\n",
        "\n",
        "print(\"9 : SMOTEENN \")\n",
        "print(classification_report(y_test9, y_pred9))\n",
        "\n",
        "print(\"10 : SMOTETOMEK \")\n",
        "print(classification_report(y_test10, y_pred10))\n"
      ],
      "metadata": {
        "colab": {
          "base_uri": "https://localhost:8080/"
        },
        "id": "bGx6xdEg4wtU",
        "outputId": "78363754-46f0-4ddf-891e-fcea02f266a5"
      },
      "execution_count": 292,
      "outputs": [
        {
          "output_type": "stream",
          "name": "stdout",
          "text": [
            "SVM Algotithm\n",
            "              precision    recall  f1-score   support\n",
            "\n",
            "     Absence       0.80      0.78      0.79        55\n",
            "    Presence       0.71      0.72      0.72        40\n",
            "\n",
            "    accuracy                           0.76        95\n",
            "   macro avg       0.75      0.75      0.75        95\n",
            "weighted avg       0.76      0.76      0.76        95\n",
            "\n",
            "1 : Undersampling\n",
            "              precision    recall  f1-score   support\n",
            "\n",
            "     Absence       0.63      0.50      0.56        24\n",
            "    Presence       0.59      0.71      0.64        24\n",
            "\n",
            "    accuracy                           0.60        48\n",
            "   macro avg       0.61      0.60      0.60        48\n",
            "weighted avg       0.61      0.60      0.60        48\n",
            "\n",
            "2 : Oversampling\n",
            "              precision    recall  f1-score   support\n",
            "\n",
            "     Absence       0.81      0.83      0.82        30\n",
            "    Presence       0.83      0.80      0.81        30\n",
            "\n",
            "    accuracy                           0.82        60\n",
            "   macro avg       0.82      0.82      0.82        60\n",
            "weighted avg       0.82      0.82      0.82        60\n",
            "\n",
            "3 : SMOTE\n",
            "              precision    recall  f1-score   support\n",
            "\n",
            "     Absence       0.63      0.73      0.68        30\n",
            "    Presence       0.68      0.57      0.62        30\n",
            "\n",
            "    accuracy                           0.65        60\n",
            "   macro avg       0.65      0.65      0.65        60\n",
            "weighted avg       0.65      0.65      0.65        60\n",
            "\n",
            "5 : Borderline SMOTE 1\n",
            "              precision    recall  f1-score   support\n",
            "\n",
            "     Absence       0.62      0.70      0.66        30\n",
            "    Presence       0.65      0.57      0.61        30\n",
            "\n",
            "    accuracy                           0.63        60\n",
            "   macro avg       0.64      0.63      0.63        60\n",
            "weighted avg       0.64      0.63      0.63        60\n",
            "\n",
            "6 : Borderline SMOTE 2\n",
            "              precision    recall  f1-score   support\n",
            "\n",
            "     Absence       0.64      0.70      0.67        30\n",
            "    Presence       0.67      0.60      0.63        30\n",
            "\n",
            "    accuracy                           0.65        60\n",
            "   macro avg       0.65      0.65      0.65        60\n",
            "weighted avg       0.65      0.65      0.65        60\n",
            "\n",
            "7 : SVM SMOTE\n",
            "              precision    recall  f1-score   support\n",
            "\n",
            "     Absence       0.69      0.73      0.71        30\n",
            "    Presence       0.71      0.67      0.69        30\n",
            "\n",
            "    accuracy                           0.70        60\n",
            "   macro avg       0.70      0.70      0.70        60\n",
            "weighted avg       0.70      0.70      0.70        60\n",
            "\n",
            "8 : ADASYN \n",
            "              precision    recall  f1-score   support\n",
            "\n",
            "     Absence       0.65      0.73      0.69        30\n",
            "    Presence       0.65      0.56      0.60        27\n",
            "\n",
            "    accuracy                           0.65        57\n",
            "   macro avg       0.65      0.64      0.64        57\n",
            "weighted avg       0.65      0.65      0.65        57\n",
            "\n",
            "9 : SMOTEENN \n",
            "              precision    recall  f1-score   support\n",
            "\n",
            "     Absence       0.67      1.00      0.80         8\n",
            "    Presence       1.00      0.60      0.75        10\n",
            "\n",
            "    accuracy                           0.78        18\n",
            "   macro avg       0.83      0.80      0.77        18\n",
            "weighted avg       0.85      0.78      0.77        18\n",
            "\n",
            "10 : SMOTETOMEK \n",
            "              precision    recall  f1-score   support\n",
            "\n",
            "     Absence       0.82      0.69      0.75        26\n",
            "    Presence       0.72      0.84      0.78        25\n",
            "\n",
            "    accuracy                           0.76        51\n",
            "   macro avg       0.77      0.77      0.76        51\n",
            "weighted avg       0.77      0.76      0.76        51\n",
            "\n"
          ]
        }
      ]
    },
    {
      "cell_type": "code",
      "source": [],
      "metadata": {
        "id": "1PQ4cr1z_gD5"
      },
      "execution_count": null,
      "outputs": []
    }
  ],
  "metadata": {
    "kernelspec": {
      "display_name": "Python 3",
      "language": "python",
      "name": "python3"
    },
    "language_info": {
      "codemirror_mode": {
        "name": "ipython",
        "version": 3
      },
      "file_extension": ".py",
      "mimetype": "text/x-python",
      "name": "python",
      "nbconvert_exporter": "python",
      "pygments_lexer": "ipython3",
      "version": "3.7.6"
    },
    "papermill": {
      "duration": 7.032528,
      "end_time": "2020-08-27T21:28:43.241640",
      "environment_variables": {},
      "exception": null,
      "input_path": "__notebook__.ipynb",
      "output_path": "__notebook__.ipynb",
      "parameters": {},
      "start_time": "2020-08-27T21:28:36.209112",
      "version": "2.1.0"
    },
    "colab": {
      "provenance": []
    }
  },
  "nbformat": 4,
  "nbformat_minor": 0
}

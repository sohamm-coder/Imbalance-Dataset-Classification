{
  "cells": [
    {
      "cell_type": "markdown",
      "metadata": {
        "id": "qBDp6IJGFyxk",
        "papermill": {
          "duration": 0.008676,
          "end_time": "2020-08-27T21:28:40.866359",
          "exception": false,
          "start_time": "2020-08-27T21:28:40.857683",
          "status": "completed"
        },
        "tags": []
      },
      "source": [
        "# Importing Libraries"
      ]
    },
    {
      "cell_type": "code",
      "execution_count": 9,
      "metadata": {
        "_cell_guid": "b1076dfc-b9ad-4769-8c92-a6c4dae69d19",
        "_uuid": "8f2839f25d086af736a60e9eeb907d3b93b6e0e5",
        "execution": {
          "iopub.execute_input": "2020-08-27T21:28:40.890466Z",
          "iopub.status.busy": "2020-08-27T21:28:40.889687Z",
          "iopub.status.idle": "2020-08-27T21:28:42.132586Z",
          "shell.execute_reply": "2020-08-27T21:28:42.131734Z"
        },
        "id": "FSd07-NqFyxl",
        "papermill": {
          "duration": 1.257511,
          "end_time": "2020-08-27T21:28:42.132717",
          "exception": false,
          "start_time": "2020-08-27T21:28:40.875206",
          "status": "completed"
        },
        "tags": []
      },
      "outputs": [],
      "source": [
        "import pandas as pd\n",
        "import numpy as np\n",
        "import matplotlib.pyplot as plt\n",
        "import seaborn as sns\n",
        "import tensorflow as tf\n",
        "from sklearn.preprocessing import StandardScaler\n",
        "from sklearn.metrics import accuracy_score\n",
        "from sklearn.metrics import confusion_matrix\n",
        "from sklearn.metrics import f1_score\n",
        "from sklearn.model_selection import train_test_split\n",
        "import warnings\n",
        "warnings.filterwarnings('ignore')\n",
        "import sklearn.neighbors\n",
        "from sklearn.neighbors import KNeighborsClassifier\n",
        "from sklearn.metrics import precision_score, recall_score, f1_score, roc_auc_score, accuracy_score, classification_report\n"
      ]
    },
    {
      "cell_type": "markdown",
      "metadata": {
        "id": "aZKXUcjFFyxo",
        "papermill": {
          "duration": 0.007137,
          "end_time": "2020-08-27T21:28:42.147750",
          "exception": false,
          "start_time": "2020-08-27T21:28:42.140613",
          "status": "completed"
        },
        "tags": []
      },
      "source": [
        "# Data"
      ]
    },
    {
      "cell_type": "code",
      "execution_count": 10,
      "metadata": {
        "execution": {
          "iopub.execute_input": "2020-08-27T21:28:42.171953Z",
          "iopub.status.busy": "2020-08-27T21:28:42.171143Z",
          "iopub.status.idle": "2020-08-27T21:28:42.181986Z",
          "shell.execute_reply": "2020-08-27T21:28:42.182537Z"
        },
        "id": "G4CjhajQFyxq",
        "papermill": {
          "duration": 0.027628,
          "end_time": "2020-08-27T21:28:42.182689",
          "exception": false,
          "start_time": "2020-08-27T21:28:42.155061",
          "status": "completed"
        },
        "tags": []
      },
      "outputs": [],
      "source": [
        "\n",
        "df = pd.read_csv('Heart_Disease_Prediction.csv')"
      ]
    },
    {
      "cell_type": "code",
      "execution_count": 11,
      "metadata": {
        "execution": {
          "iopub.execute_input": "2020-08-27T21:28:42.215706Z",
          "iopub.status.busy": "2020-08-27T21:28:42.214946Z",
          "iopub.status.idle": "2020-08-27T21:28:42.227297Z",
          "shell.execute_reply": "2020-08-27T21:28:42.226575Z"
        },
        "id": "cV5q-EAtFyxs",
        "papermill": {
          "duration": 0.037071,
          "end_time": "2020-08-27T21:28:42.227414",
          "exception": false,
          "start_time": "2020-08-27T21:28:42.190343",
          "status": "completed"
        },
        "tags": []
      },
      "outputs": [],
      "source": [
        "df.head()\n",
        "df.rename(columns={'Heart Disease':'Disease'},inplace=True)\n"
      ]
    },
    {
      "cell_type": "code",
      "execution_count": 12,
      "metadata": {
        "colab": {
          "base_uri": "https://localhost:8080/",
          "height": 399
        },
        "execution": {
          "iopub.execute_input": "2020-08-27T21:28:42.256704Z",
          "iopub.status.busy": "2020-08-27T21:28:42.255681Z",
          "iopub.status.idle": "2020-08-27T21:28:42.305405Z",
          "shell.execute_reply": "2020-08-27T21:28:42.304760Z"
        },
        "id": "J05F8P3DFyxv",
        "outputId": "86e43bda-1004-4e6f-c2ba-48c9cd486b0d",
        "papermill": {
          "duration": 0.06999,
          "end_time": "2020-08-27T21:28:42.305527",
          "exception": false,
          "start_time": "2020-08-27T21:28:42.235537",
          "status": "completed"
        },
        "tags": []
      },
      "outputs": [
        {
          "output_type": "execute_result",
          "data": {
            "text/plain": [
              "              Age         Sex  Chest pain type          BP  Cholesterol  \\\n",
              "count  270.000000  270.000000       270.000000  270.000000   270.000000   \n",
              "mean    54.433333    0.677778         3.174074  131.344444   249.659259   \n",
              "std      9.109067    0.468195         0.950090   17.861608    51.686237   \n",
              "min     29.000000    0.000000         1.000000   94.000000   126.000000   \n",
              "25%     48.000000    0.000000         3.000000  120.000000   213.000000   \n",
              "50%     55.000000    1.000000         3.000000  130.000000   245.000000   \n",
              "75%     61.000000    1.000000         4.000000  140.000000   280.000000   \n",
              "max     77.000000    1.000000         4.000000  200.000000   564.000000   \n",
              "\n",
              "       FBS over 120  EKG results      Max HR  Exercise angina  ST depression  \\\n",
              "count    270.000000   270.000000  270.000000       270.000000      270.00000   \n",
              "mean       0.148148     1.022222  149.677778         0.329630        1.05000   \n",
              "std        0.355906     0.997891   23.165717         0.470952        1.14521   \n",
              "min        0.000000     0.000000   71.000000         0.000000        0.00000   \n",
              "25%        0.000000     0.000000  133.000000         0.000000        0.00000   \n",
              "50%        0.000000     2.000000  153.500000         0.000000        0.80000   \n",
              "75%        0.000000     2.000000  166.000000         1.000000        1.60000   \n",
              "max        1.000000     2.000000  202.000000         1.000000        6.20000   \n",
              "\n",
              "       Slope of ST  Number of vessels fluro    Thallium  \n",
              "count   270.000000               270.000000  270.000000  \n",
              "mean      1.585185                 0.670370    4.696296  \n",
              "std       0.614390                 0.943896    1.940659  \n",
              "min       1.000000                 0.000000    3.000000  \n",
              "25%       1.000000                 0.000000    3.000000  \n",
              "50%       2.000000                 0.000000    3.000000  \n",
              "75%       2.000000                 1.000000    7.000000  \n",
              "max       3.000000                 3.000000    7.000000  "
            ],
            "text/html": [
              "\n",
              "  <div id=\"df-9a46a632-e538-460b-8df1-2b82f5688419\">\n",
              "    <div class=\"colab-df-container\">\n",
              "      <div>\n",
              "<style scoped>\n",
              "    .dataframe tbody tr th:only-of-type {\n",
              "        vertical-align: middle;\n",
              "    }\n",
              "\n",
              "    .dataframe tbody tr th {\n",
              "        vertical-align: top;\n",
              "    }\n",
              "\n",
              "    .dataframe thead th {\n",
              "        text-align: right;\n",
              "    }\n",
              "</style>\n",
              "<table border=\"1\" class=\"dataframe\">\n",
              "  <thead>\n",
              "    <tr style=\"text-align: right;\">\n",
              "      <th></th>\n",
              "      <th>Age</th>\n",
              "      <th>Sex</th>\n",
              "      <th>Chest pain type</th>\n",
              "      <th>BP</th>\n",
              "      <th>Cholesterol</th>\n",
              "      <th>FBS over 120</th>\n",
              "      <th>EKG results</th>\n",
              "      <th>Max HR</th>\n",
              "      <th>Exercise angina</th>\n",
              "      <th>ST depression</th>\n",
              "      <th>Slope of ST</th>\n",
              "      <th>Number of vessels fluro</th>\n",
              "      <th>Thallium</th>\n",
              "    </tr>\n",
              "  </thead>\n",
              "  <tbody>\n",
              "    <tr>\n",
              "      <th>count</th>\n",
              "      <td>270.000000</td>\n",
              "      <td>270.000000</td>\n",
              "      <td>270.000000</td>\n",
              "      <td>270.000000</td>\n",
              "      <td>270.000000</td>\n",
              "      <td>270.000000</td>\n",
              "      <td>270.000000</td>\n",
              "      <td>270.000000</td>\n",
              "      <td>270.000000</td>\n",
              "      <td>270.00000</td>\n",
              "      <td>270.000000</td>\n",
              "      <td>270.000000</td>\n",
              "      <td>270.000000</td>\n",
              "    </tr>\n",
              "    <tr>\n",
              "      <th>mean</th>\n",
              "      <td>54.433333</td>\n",
              "      <td>0.677778</td>\n",
              "      <td>3.174074</td>\n",
              "      <td>131.344444</td>\n",
              "      <td>249.659259</td>\n",
              "      <td>0.148148</td>\n",
              "      <td>1.022222</td>\n",
              "      <td>149.677778</td>\n",
              "      <td>0.329630</td>\n",
              "      <td>1.05000</td>\n",
              "      <td>1.585185</td>\n",
              "      <td>0.670370</td>\n",
              "      <td>4.696296</td>\n",
              "    </tr>\n",
              "    <tr>\n",
              "      <th>std</th>\n",
              "      <td>9.109067</td>\n",
              "      <td>0.468195</td>\n",
              "      <td>0.950090</td>\n",
              "      <td>17.861608</td>\n",
              "      <td>51.686237</td>\n",
              "      <td>0.355906</td>\n",
              "      <td>0.997891</td>\n",
              "      <td>23.165717</td>\n",
              "      <td>0.470952</td>\n",
              "      <td>1.14521</td>\n",
              "      <td>0.614390</td>\n",
              "      <td>0.943896</td>\n",
              "      <td>1.940659</td>\n",
              "    </tr>\n",
              "    <tr>\n",
              "      <th>min</th>\n",
              "      <td>29.000000</td>\n",
              "      <td>0.000000</td>\n",
              "      <td>1.000000</td>\n",
              "      <td>94.000000</td>\n",
              "      <td>126.000000</td>\n",
              "      <td>0.000000</td>\n",
              "      <td>0.000000</td>\n",
              "      <td>71.000000</td>\n",
              "      <td>0.000000</td>\n",
              "      <td>0.00000</td>\n",
              "      <td>1.000000</td>\n",
              "      <td>0.000000</td>\n",
              "      <td>3.000000</td>\n",
              "    </tr>\n",
              "    <tr>\n",
              "      <th>25%</th>\n",
              "      <td>48.000000</td>\n",
              "      <td>0.000000</td>\n",
              "      <td>3.000000</td>\n",
              "      <td>120.000000</td>\n",
              "      <td>213.000000</td>\n",
              "      <td>0.000000</td>\n",
              "      <td>0.000000</td>\n",
              "      <td>133.000000</td>\n",
              "      <td>0.000000</td>\n",
              "      <td>0.00000</td>\n",
              "      <td>1.000000</td>\n",
              "      <td>0.000000</td>\n",
              "      <td>3.000000</td>\n",
              "    </tr>\n",
              "    <tr>\n",
              "      <th>50%</th>\n",
              "      <td>55.000000</td>\n",
              "      <td>1.000000</td>\n",
              "      <td>3.000000</td>\n",
              "      <td>130.000000</td>\n",
              "      <td>245.000000</td>\n",
              "      <td>0.000000</td>\n",
              "      <td>2.000000</td>\n",
              "      <td>153.500000</td>\n",
              "      <td>0.000000</td>\n",
              "      <td>0.80000</td>\n",
              "      <td>2.000000</td>\n",
              "      <td>0.000000</td>\n",
              "      <td>3.000000</td>\n",
              "    </tr>\n",
              "    <tr>\n",
              "      <th>75%</th>\n",
              "      <td>61.000000</td>\n",
              "      <td>1.000000</td>\n",
              "      <td>4.000000</td>\n",
              "      <td>140.000000</td>\n",
              "      <td>280.000000</td>\n",
              "      <td>0.000000</td>\n",
              "      <td>2.000000</td>\n",
              "      <td>166.000000</td>\n",
              "      <td>1.000000</td>\n",
              "      <td>1.60000</td>\n",
              "      <td>2.000000</td>\n",
              "      <td>1.000000</td>\n",
              "      <td>7.000000</td>\n",
              "    </tr>\n",
              "    <tr>\n",
              "      <th>max</th>\n",
              "      <td>77.000000</td>\n",
              "      <td>1.000000</td>\n",
              "      <td>4.000000</td>\n",
              "      <td>200.000000</td>\n",
              "      <td>564.000000</td>\n",
              "      <td>1.000000</td>\n",
              "      <td>2.000000</td>\n",
              "      <td>202.000000</td>\n",
              "      <td>1.000000</td>\n",
              "      <td>6.20000</td>\n",
              "      <td>3.000000</td>\n",
              "      <td>3.000000</td>\n",
              "      <td>7.000000</td>\n",
              "    </tr>\n",
              "  </tbody>\n",
              "</table>\n",
              "</div>\n",
              "      <button class=\"colab-df-convert\" onclick=\"convertToInteractive('df-9a46a632-e538-460b-8df1-2b82f5688419')\"\n",
              "              title=\"Convert this dataframe to an interactive table.\"\n",
              "              style=\"display:none;\">\n",
              "        \n",
              "  <svg xmlns=\"http://www.w3.org/2000/svg\" height=\"24px\"viewBox=\"0 0 24 24\"\n",
              "       width=\"24px\">\n",
              "    <path d=\"M0 0h24v24H0V0z\" fill=\"none\"/>\n",
              "    <path d=\"M18.56 5.44l.94 2.06.94-2.06 2.06-.94-2.06-.94-.94-2.06-.94 2.06-2.06.94zm-11 1L8.5 8.5l.94-2.06 2.06-.94-2.06-.94L8.5 2.5l-.94 2.06-2.06.94zm10 10l.94 2.06.94-2.06 2.06-.94-2.06-.94-.94-2.06-.94 2.06-2.06.94z\"/><path d=\"M17.41 7.96l-1.37-1.37c-.4-.4-.92-.59-1.43-.59-.52 0-1.04.2-1.43.59L10.3 9.45l-7.72 7.72c-.78.78-.78 2.05 0 2.83L4 21.41c.39.39.9.59 1.41.59.51 0 1.02-.2 1.41-.59l7.78-7.78 2.81-2.81c.8-.78.8-2.07 0-2.86zM5.41 20L4 18.59l7.72-7.72 1.47 1.35L5.41 20z\"/>\n",
              "  </svg>\n",
              "      </button>\n",
              "      \n",
              "  <style>\n",
              "    .colab-df-container {\n",
              "      display:flex;\n",
              "      flex-wrap:wrap;\n",
              "      gap: 12px;\n",
              "    }\n",
              "\n",
              "    .colab-df-convert {\n",
              "      background-color: #E8F0FE;\n",
              "      border: none;\n",
              "      border-radius: 50%;\n",
              "      cursor: pointer;\n",
              "      display: none;\n",
              "      fill: #1967D2;\n",
              "      height: 32px;\n",
              "      padding: 0 0 0 0;\n",
              "      width: 32px;\n",
              "    }\n",
              "\n",
              "    .colab-df-convert:hover {\n",
              "      background-color: #E2EBFA;\n",
              "      box-shadow: 0px 1px 2px rgba(60, 64, 67, 0.3), 0px 1px 3px 1px rgba(60, 64, 67, 0.15);\n",
              "      fill: #174EA6;\n",
              "    }\n",
              "\n",
              "    [theme=dark] .colab-df-convert {\n",
              "      background-color: #3B4455;\n",
              "      fill: #D2E3FC;\n",
              "    }\n",
              "\n",
              "    [theme=dark] .colab-df-convert:hover {\n",
              "      background-color: #434B5C;\n",
              "      box-shadow: 0px 1px 3px 1px rgba(0, 0, 0, 0.15);\n",
              "      filter: drop-shadow(0px 1px 2px rgba(0, 0, 0, 0.3));\n",
              "      fill: #FFFFFF;\n",
              "    }\n",
              "  </style>\n",
              "\n",
              "      <script>\n",
              "        const buttonEl =\n",
              "          document.querySelector('#df-9a46a632-e538-460b-8df1-2b82f5688419 button.colab-df-convert');\n",
              "        buttonEl.style.display =\n",
              "          google.colab.kernel.accessAllowed ? 'block' : 'none';\n",
              "\n",
              "        async function convertToInteractive(key) {\n",
              "          const element = document.querySelector('#df-9a46a632-e538-460b-8df1-2b82f5688419');\n",
              "          const dataTable =\n",
              "            await google.colab.kernel.invokeFunction('convertToInteractive',\n",
              "                                                     [key], {});\n",
              "          if (!dataTable) return;\n",
              "\n",
              "          const docLinkHtml = 'Like what you see? Visit the ' +\n",
              "            '<a target=\"_blank\" href=https://colab.research.google.com/notebooks/data_table.ipynb>data table notebook</a>'\n",
              "            + ' to learn more about interactive tables.';\n",
              "          element.innerHTML = '';\n",
              "          dataTable['output_type'] = 'display_data';\n",
              "          await google.colab.output.renderOutput(dataTable, element);\n",
              "          const docLink = document.createElement('div');\n",
              "          docLink.innerHTML = docLinkHtml;\n",
              "          element.appendChild(docLink);\n",
              "        }\n",
              "      </script>\n",
              "    </div>\n",
              "  </div>\n",
              "  "
            ]
          },
          "metadata": {},
          "execution_count": 12
        }
      ],
      "source": [
        "df.describe()"
      ]
    },
    {
      "cell_type": "code",
      "execution_count": 13,
      "metadata": {
        "colab": {
          "base_uri": "https://localhost:8080/"
        },
        "id": "-fB3LOdVAZnw",
        "outputId": "b590850d-d8b2-499a-c736-32f37c03b532"
      },
      "outputs": [
        {
          "output_type": "stream",
          "name": "stdout",
          "text": [
            "<class 'pandas.core.frame.DataFrame'>\n",
            "RangeIndex: 270 entries, 0 to 269\n",
            "Data columns (total 14 columns):\n",
            " #   Column                   Non-Null Count  Dtype  \n",
            "---  ------                   --------------  -----  \n",
            " 0   Age                      270 non-null    int64  \n",
            " 1   Sex                      270 non-null    int64  \n",
            " 2   Chest pain type          270 non-null    int64  \n",
            " 3   BP                       270 non-null    int64  \n",
            " 4   Cholesterol              270 non-null    int64  \n",
            " 5   FBS over 120             270 non-null    int64  \n",
            " 6   EKG results              270 non-null    int64  \n",
            " 7   Max HR                   270 non-null    int64  \n",
            " 8   Exercise angina          270 non-null    int64  \n",
            " 9   ST depression            270 non-null    float64\n",
            " 10  Slope of ST              270 non-null    int64  \n",
            " 11  Number of vessels fluro  270 non-null    int64  \n",
            " 12  Thallium                 270 non-null    int64  \n",
            " 13  Disease                  270 non-null    object \n",
            "dtypes: float64(1), int64(12), object(1)\n",
            "memory usage: 29.7+ KB\n"
          ]
        }
      ],
      "source": [
        "\n",
        "df.rename(columns={'Heart Disease':'Disease'})\n",
        "df.info()"
      ]
    },
    {
      "cell_type": "code",
      "execution_count": 14,
      "metadata": {
        "colab": {
          "base_uri": "https://localhost:8080/"
        },
        "execution": {
          "iopub.execute_input": "2020-08-27T21:28:42.328565Z",
          "iopub.status.busy": "2020-08-27T21:28:42.327535Z",
          "iopub.status.idle": "2020-08-27T21:28:42.331631Z",
          "shell.execute_reply": "2020-08-27T21:28:42.331037Z"
        },
        "id": "4Z_tjBidFyxx",
        "outputId": "4078d372-9e07-4bd2-b024-d50e14e5589a",
        "papermill": {
          "duration": 0.017688,
          "end_time": "2020-08-27T21:28:42.331754",
          "exception": false,
          "start_time": "2020-08-27T21:28:42.314066",
          "status": "completed"
        },
        "tags": []
      },
      "outputs": [
        {
          "output_type": "execute_result",
          "data": {
            "text/plain": [
              "(270, 14)"
            ]
          },
          "metadata": {},
          "execution_count": 14
        }
      ],
      "source": [
        "df.shape"
      ]
    },
    {
      "cell_type": "code",
      "execution_count": 15,
      "metadata": {
        "colab": {
          "base_uri": "https://localhost:8080/"
        },
        "execution": {
          "iopub.execute_input": "2020-08-27T21:28:42.355663Z",
          "iopub.status.busy": "2020-08-27T21:28:42.354622Z",
          "iopub.status.idle": "2020-08-27T21:28:42.359394Z",
          "shell.execute_reply": "2020-08-27T21:28:42.358682Z"
        },
        "id": "Kyh0r4twFyxz",
        "outputId": "27a2b0fb-a761-4b75-d6d5-792fcdc162f9",
        "papermill": {
          "duration": 0.019027,
          "end_time": "2020-08-27T21:28:42.359519",
          "exception": false,
          "start_time": "2020-08-27T21:28:42.340492",
          "status": "completed"
        },
        "tags": []
      },
      "outputs": [
        {
          "output_type": "execute_result",
          "data": {
            "text/plain": [
              "False"
            ]
          },
          "metadata": {},
          "execution_count": 15
        }
      ],
      "source": [
        "# Checking for missing values.\n",
        "df.isnull().values.any()"
      ]
    },
    {
      "cell_type": "code",
      "execution_count": 16,
      "metadata": {
        "colab": {
          "base_uri": "https://localhost:8080/"
        },
        "id": "c84AbZC4Z13B",
        "outputId": "cbd2d1ab-7cc7-4c8f-e0dd-9f14bffdfb37"
      },
      "outputs": [
        {
          "output_type": "stream",
          "name": "stdout",
          "text": [
            "<class 'pandas.core.frame.DataFrame'>\n",
            "RangeIndex: 270 entries, 0 to 269\n",
            "Data columns (total 14 columns):\n",
            " #   Column                   Non-Null Count  Dtype  \n",
            "---  ------                   --------------  -----  \n",
            " 0   Age                      270 non-null    int64  \n",
            " 1   Sex                      270 non-null    int64  \n",
            " 2   Chest pain type          270 non-null    int64  \n",
            " 3   BP                       270 non-null    int64  \n",
            " 4   Cholesterol              270 non-null    int64  \n",
            " 5   FBS over 120             270 non-null    int64  \n",
            " 6   EKG results              270 non-null    int64  \n",
            " 7   Max HR                   270 non-null    int64  \n",
            " 8   Exercise angina          270 non-null    int64  \n",
            " 9   ST depression            270 non-null    float64\n",
            " 10  Slope of ST              270 non-null    int64  \n",
            " 11  Number of vessels fluro  270 non-null    int64  \n",
            " 12  Thallium                 270 non-null    int64  \n",
            " 13  Disease                  270 non-null    object \n",
            "dtypes: float64(1), int64(12), object(1)\n",
            "memory usage: 29.7+ KB\n"
          ]
        }
      ],
      "source": [
        "df.info()"
      ]
    },
    {
      "cell_type": "code",
      "execution_count": 17,
      "metadata": {
        "colab": {
          "base_uri": "https://localhost:8080/"
        },
        "execution": {
          "iopub.execute_input": "2020-08-27T21:28:42.384090Z",
          "iopub.status.busy": "2020-08-27T21:28:42.383186Z",
          "iopub.status.idle": "2020-08-27T21:28:42.387777Z",
          "shell.execute_reply": "2020-08-27T21:28:42.387151Z"
        },
        "id": "A35w2VntFyx1",
        "outputId": "bba419e2-81e3-401b-9868-047a0e187fd2",
        "papermill": {
          "duration": 0.019579,
          "end_time": "2020-08-27T21:28:42.387897",
          "exception": false,
          "start_time": "2020-08-27T21:28:42.368318",
          "status": "completed"
        },
        "tags": []
      },
      "outputs": [
        {
          "output_type": "execute_result",
          "data": {
            "text/plain": [
              "1    183\n",
              "0     87\n",
              "Name: Sex, dtype: int64"
            ]
          },
          "metadata": {},
          "execution_count": 17
        }
      ],
      "source": [
        "# Checking for imbalanced data based on sex.\n",
        "df['Sex'].value_counts()"
      ]
    },
    {
      "cell_type": "code",
      "execution_count": 18,
      "metadata": {
        "colab": {
          "base_uri": "https://localhost:8080/"
        },
        "execution": {
          "iopub.execute_input": "2020-08-27T21:28:42.421442Z",
          "iopub.status.busy": "2020-08-27T21:28:42.420477Z",
          "iopub.status.idle": "2020-08-27T21:28:42.423732Z",
          "shell.execute_reply": "2020-08-27T21:28:42.424333Z"
        },
        "id": "OVOVpB7qFyx2",
        "outputId": "7ab70348-b823-4b20-feda-e5f4b9c0e580",
        "papermill": {
          "duration": 0.026752,
          "end_time": "2020-08-27T21:28:42.424484",
          "exception": false,
          "start_time": "2020-08-27T21:28:42.397732",
          "status": "completed"
        },
        "tags": []
      },
      "outputs": [
        {
          "output_type": "execute_result",
          "data": {
            "text/plain": [
              "Absence     150\n",
              "Presence    120\n",
              "Name: Disease, dtype: int64"
            ]
          },
          "metadata": {},
          "execution_count": 18
        }
      ],
      "source": [
        "# Checking for imbalanced data based on outcome.\n",
        "df['Disease'].value_counts()"
      ]
    },
    {
      "cell_type": "code",
      "execution_count": 19,
      "metadata": {
        "colab": {
          "base_uri": "https://localhost:8080/",
          "height": 296
        },
        "execution": {
          "iopub.execute_input": "2020-08-27T21:28:42.453827Z",
          "iopub.status.busy": "2020-08-27T21:28:42.453091Z",
          "iopub.status.idle": "2020-08-27T21:28:42.636610Z",
          "shell.execute_reply": "2020-08-27T21:28:42.635764Z"
        },
        "id": "-jFM3JRxFyx3",
        "outputId": "e6c9dfd6-ae72-460d-c40e-249ee0f6ae49",
        "papermill": {
          "duration": 0.201872,
          "end_time": "2020-08-27T21:28:42.636752",
          "exception": false,
          "start_time": "2020-08-27T21:28:42.434880",
          "status": "completed"
        },
        "tags": []
      },
      "outputs": [
        {
          "output_type": "execute_result",
          "data": {
            "text/plain": [
              "<matplotlib.axes._subplots.AxesSubplot at 0x7efbb2a99580>"
            ]
          },
          "metadata": {},
          "execution_count": 19
        },
        {
          "output_type": "display_data",
          "data": {
            "text/plain": [
              "<Figure size 432x288 with 1 Axes>"
            ],
            "image/png": "[encoded data removed]"
          },
          "metadata": {
            "needs_background": "light"
          }
        }
      ],
      "source": [
        "sns.countplot(x='Disease', data=df)"
      ]
    },
    {
      "cell_type": "code",
      "execution_count": 20,
      "metadata": {
        "colab": {
          "base_uri": "https://localhost:8080/",
          "height": 695
        },
        "execution": {
          "iopub.execute_input": "2020-08-27T21:28:42.662858Z",
          "iopub.status.busy": "2020-08-27T21:28:42.662156Z",
          "iopub.status.idle": "2020-08-27T21:28:42.685910Z",
          "shell.execute_reply": "2020-08-27T21:28:42.685348Z"
        },
        "id": "JGEp29TwFyx5",
        "outputId": "67df922e-e106-46e5-b119-2e1e5e91e657",
        "papermill": {
          "duration": 0.039528,
          "end_time": "2020-08-27T21:28:42.686030",
          "exception": false,
          "start_time": "2020-08-27T21:28:42.646502",
          "status": "completed"
        },
        "tags": []
      },
      "outputs": [
        {
          "output_type": "execute_result",
          "data": {
            "text/plain": [
              "                              Age       Sex  Chest pain type        BP  \\\n",
              "Age                      1.000000 -0.094401         0.096920  0.273053   \n",
              "Sex                     -0.094401  1.000000         0.034636 -0.062693   \n",
              "Chest pain type          0.096920  0.034636         1.000000 -0.043196   \n",
              "BP                       0.273053 -0.062693        -0.043196  1.000000   \n",
              "Cholesterol              0.220056 -0.201647         0.090465  0.173019   \n",
              "FBS over 120             0.123458  0.042140        -0.098537  0.155681   \n",
              "EKG results              0.128171  0.039253         0.074325  0.116157   \n",
              "Max HR                  -0.402215 -0.076101        -0.317682 -0.039136   \n",
              "Exercise angina          0.098297  0.180022         0.353160  0.082793   \n",
              "ST depression            0.194234  0.097412         0.167244  0.222800   \n",
              "Slope of ST              0.159774  0.050545         0.136900  0.142472   \n",
              "Number of vessels fluro  0.356081  0.086830         0.225890  0.085697   \n",
              "Thallium                 0.106100  0.391046         0.262659  0.132045   \n",
              "\n",
              "                         Cholesterol  FBS over 120  EKG results    Max HR  \\\n",
              "Age                         0.220056      0.123458     0.128171 -0.402215   \n",
              "Sex                        -0.201647      0.042140     0.039253 -0.076101   \n",
              "Chest pain type             0.090465     -0.098537     0.074325 -0.317682   \n",
              "BP                          0.173019      0.155681     0.116157 -0.039136   \n",
              "Cholesterol                 1.000000      0.025186     0.167652 -0.018739   \n",
              "FBS over 120                0.025186      1.000000     0.053499  0.022494   \n",
              "EKG results                 0.167652      0.053499     1.000000 -0.074628   \n",
              "Max HR                     -0.018739      0.022494    -0.074628  1.000000   \n",
              "Exercise angina             0.078243     -0.004107     0.095098 -0.380719   \n",
              "ST depression               0.027709     -0.025538     0.120034 -0.349045   \n",
              "Slope of ST                -0.005755      0.044076     0.160614 -0.386847   \n",
              "Number of vessels fluro     0.126541      0.123774     0.114368 -0.265333   \n",
              "Thallium                    0.028836      0.049237     0.007337 -0.253397   \n",
              "\n",
              "                         Exercise angina  ST depression  Slope of ST  \\\n",
              "Age                             0.098297       0.194234     0.159774   \n",
              "Sex                             0.180022       0.097412     0.050545   \n",
              "Chest pain type                 0.353160       0.167244     0.136900   \n",
              "BP                              0.082793       0.222800     0.142472   \n",
              "Cholesterol                     0.078243       0.027709    -0.005755   \n",
              "FBS over 120                   -0.004107      -0.025538     0.044076   \n",
              "EKG results                     0.095098       0.120034     0.160614   \n",
              "Max HR                         -0.380719      -0.349045    -0.386847   \n",
              "Exercise angina                 1.000000       0.274672     0.255908   \n",
              "ST depression                   0.274672       1.000000     0.609712   \n",
              "Slope of ST                     0.255908       0.609712     1.000000   \n",
              "Number of vessels fluro         0.153347       0.255005     0.109498   \n",
              "Thallium                        0.321449       0.324333     0.283678   \n",
              "\n",
              "                         Number of vessels fluro  Thallium  \n",
              "Age                                     0.356081  0.106100  \n",
              "Sex                                     0.086830  0.391046  \n",
              "Chest pain type                         0.225890  0.262659  \n",
              "BP                                      0.085697  0.132045  \n",
              "Cholesterol                             0.126541  0.028836  \n",
              "FBS over 120                            0.123774  0.049237  \n",
              "EKG results                             0.114368  0.007337  \n",
              "Max HR                                 -0.265333 -0.253397  \n",
              "Exercise angina                         0.153347  0.321449  \n",
              "ST depression                           0.255005  0.324333  \n",
              "Slope of ST                             0.109498  0.283678  \n",
              "Number of vessels fluro                 1.000000  0.255648  \n",
              "Thallium                                0.255648  1.000000  "
            ],
            "text/html": [
              "\n",
              "  <div id=\"df-78888af6-6ab9-4b8d-8f6d-4f3420dba8e7\">\n",
              "    <div class=\"colab-df-container\">\n",
              "      <div>\n",
              "<style scoped>\n",
              "    .dataframe tbody tr th:only-of-type {\n",
              "        vertical-align: middle;\n",
              "    }\n",
              "\n",
              "    .dataframe tbody tr th {\n",
              "        vertical-align: top;\n",
              "    }\n",
              "\n",
              "    .dataframe thead th {\n",
              "        text-align: right;\n",
              "    }\n",
              "</style>\n",
              "<table border=\"1\" class=\"dataframe\">\n",
              "  <thead>\n",
              "    <tr style=\"text-align: right;\">\n",
              "      <th></th>\n",
              "      <th>Age</th>\n",
              "      <th>Sex</th>\n",
              "      <th>Chest pain type</th>\n",
              "      <th>BP</th>\n",
              "      <th>Cholesterol</th>\n",
              "      <th>FBS over 120</th>\n",
              "      <th>EKG results</th>\n",
              "      <th>Max HR</th>\n",
              "      <th>Exercise angina</th>\n",
              "      <th>ST depression</th>\n",
              "      <th>Slope of ST</th>\n",
              "      <th>Number of vessels fluro</th>\n",
              "      <th>Thallium</th>\n",
              "    </tr>\n",
              "  </thead>\n",
              "  <tbody>\n",
              "    <tr>\n",
              "      <th>Age</th>\n",
              "      <td>1.000000</td>\n",
              "      <td>-0.094401</td>\n",
              "      <td>0.096920</td>\n",
              "      <td>0.273053</td>\n",
              "      <td>0.220056</td>\n",
              "      <td>0.123458</td>\n",
              "      <td>0.128171</td>\n",
              "      <td>-0.402215</td>\n",
              "      <td>0.098297</td>\n",
              "      <td>0.194234</td>\n",
              "      <td>0.159774</td>\n",
              "      <td>0.356081</td>\n",
              "      <td>0.106100</td>\n",
              "    </tr>\n",
              "    <tr>\n",
              "      <th>Sex</th>\n",
              "      <td>-0.094401</td>\n",
              "      <td>1.000000</td>\n",
              "      <td>0.034636</td>\n",
              "      <td>-0.062693</td>\n",
              "      <td>-0.201647</td>\n",
              "      <td>0.042140</td>\n",
              "      <td>0.039253</td>\n",
              "      <td>-0.076101</td>\n",
              "      <td>0.180022</td>\n",
              "      <td>0.097412</td>\n",
              "      <td>0.050545</td>\n",
              "      <td>0.086830</td>\n",
              "      <td>0.391046</td>\n",
              "    </tr>\n",
              "    <tr>\n",
              "      <th>Chest pain type</th>\n",
              "      <td>0.096920</td>\n",
              "      <td>0.034636</td>\n",
              "      <td>1.000000</td>\n",
              "      <td>-0.043196</td>\n",
              "      <td>0.090465</td>\n",
              "      <td>-0.098537</td>\n",
              "      <td>0.074325</td>\n",
              "      <td>-0.317682</td>\n",
              "      <td>0.353160</td>\n",
              "      <td>0.167244</td>\n",
              "      <td>0.136900</td>\n",
              "      <td>0.225890</td>\n",
              "      <td>0.262659</td>\n",
              "    </tr>\n",
              "    <tr>\n",
              "      <th>BP</th>\n",
              "      <td>0.273053</td>\n",
              "      <td>-0.062693</td>\n",
              "      <td>-0.043196</td>\n",
              "      <td>1.000000</td>\n",
              "      <td>0.173019</td>\n",
              "      <td>0.155681</td>\n",
              "      <td>0.116157</td>\n",
              "      <td>-0.039136</td>\n",
              "      <td>0.082793</td>\n",
              "      <td>0.222800</td>\n",
              "      <td>0.142472</td>\n",
              "      <td>0.085697</td>\n",
              "      <td>0.132045</td>\n",
              "    </tr>\n",
              "    <tr>\n",
              "      <th>Cholesterol</th>\n",
              "      <td>0.220056</td>\n",
              "      <td>-0.201647</td>\n",
              "      <td>0.090465</td>\n",
              "      <td>0.173019</td>\n",
              "      <td>1.000000</td>\n",
              "      <td>0.025186</td>\n",
              "      <td>0.167652</td>\n",
              "      <td>-0.018739</td>\n",
              "      <td>0.078243</td>\n",
              "      <td>0.027709</td>\n",
              "      <td>-0.005755</td>\n",
              "      <td>0.126541</td>\n",
              "      <td>0.028836</td>\n",
              "    </tr>\n",
              "    <tr>\n",
              "      <th>FBS over 120</th>\n",
              "      <td>0.123458</td>\n",
              "      <td>0.042140</td>\n",
              "      <td>-0.098537</td>\n",
              "      <td>0.155681</td>\n",
              "      <td>0.025186</td>\n",
              "      <td>1.000000</td>\n",
              "      <td>0.053499</td>\n",
              "      <td>0.022494</td>\n",
              "      <td>-0.004107</td>\n",
              "      <td>-0.025538</td>\n",
              "      <td>0.044076</td>\n",
              "      <td>0.123774</td>\n",
              "      <td>0.049237</td>\n",
              "    </tr>\n",
              "    <tr>\n",
              "      <th>EKG results</th>\n",
              "      <td>0.128171</td>\n",
              "      <td>0.039253</td>\n",
              "      <td>0.074325</td>\n",
              "      <td>0.116157</td>\n",
              "      <td>0.167652</td>\n",
              "      <td>0.053499</td>\n",
              "      <td>1.000000</td>\n",
              "      <td>-0.074628</td>\n",
              "      <td>0.095098</td>\n",
              "      <td>0.120034</td>\n",
              "      <td>0.160614</td>\n",
              "      <td>0.114368</td>\n",
              "      <td>0.007337</td>\n",
              "    </tr>\n",
              "    <tr>\n",
              "      <th>Max HR</th>\n",
              "      <td>-0.402215</td>\n",
              "      <td>-0.076101</td>\n",
              "      <td>-0.317682</td>\n",
              "      <td>-0.039136</td>\n",
              "      <td>-0.018739</td>\n",
              "      <td>0.022494</td>\n",
              "      <td>-0.074628</td>\n",
              "      <td>1.000000</td>\n",
              "      <td>-0.380719</td>\n",
              "      <td>-0.349045</td>\n",
              "      <td>-0.386847</td>\n",
              "      <td>-0.265333</td>\n",
              "      <td>-0.253397</td>\n",
              "    </tr>\n",
              "    <tr>\n",
              "      <th>Exercise angina</th>\n",
              "      <td>0.098297</td>\n",
              "      <td>0.180022</td>\n",
              "      <td>0.353160</td>\n",
              "      <td>0.082793</td>\n",
              "      <td>0.078243</td>\n",
              "      <td>-0.004107</td>\n",
              "      <td>0.095098</td>\n",
              "      <td>-0.380719</td>\n",
              "      <td>1.000000</td>\n",
              "      <td>0.274672</td>\n",
              "      <td>0.255908</td>\n",
              "      <td>0.153347</td>\n",
              "      <td>0.321449</td>\n",
              "    </tr>\n",
              "    <tr>\n",
              "      <th>ST depression</th>\n",
              "      <td>0.194234</td>\n",
              "      <td>0.097412</td>\n",
              "      <td>0.167244</td>\n",
              "      <td>0.222800</td>\n",
              "      <td>0.027709</td>\n",
              "      <td>-0.025538</td>\n",
              "      <td>0.120034</td>\n",
              "      <td>-0.349045</td>\n",
              "      <td>0.274672</td>\n",
              "      <td>1.000000</td>\n",
              "      <td>0.609712</td>\n",
              "      <td>0.255005</td>\n",
              "      <td>0.324333</td>\n",
              "    </tr>\n",
              "    <tr>\n",
              "      <th>Slope of ST</th>\n",
              "      <td>0.159774</td>\n",
              "      <td>0.050545</td>\n",
              "      <td>0.136900</td>\n",
              "      <td>0.142472</td>\n",
              "      <td>-0.005755</td>\n",
              "      <td>0.044076</td>\n",
              "      <td>0.160614</td>\n",
              "      <td>-0.386847</td>\n",
              "      <td>0.255908</td>\n",
              "      <td>0.609712</td>\n",
              "      <td>1.000000</td>\n",
              "      <td>0.109498</td>\n",
              "      <td>0.283678</td>\n",
              "    </tr>\n",
              "    <tr>\n",
              "      <th>Number of vessels fluro</th>\n",
              "      <td>0.356081</td>\n",
              "      <td>0.086830</td>\n",
              "      <td>0.225890</td>\n",
              "      <td>0.085697</td>\n",
              "      <td>0.126541</td>\n",
              "      <td>0.123774</td>\n",
              "      <td>0.114368</td>\n",
              "      <td>-0.265333</td>\n",
              "      <td>0.153347</td>\n",
              "      <td>0.255005</td>\n",
              "      <td>0.109498</td>\n",
              "      <td>1.000000</td>\n",
              "      <td>0.255648</td>\n",
              "    </tr>\n",
              "    <tr>\n",
              "      <th>Thallium</th>\n",
              "      <td>0.106100</td>\n",
              "      <td>0.391046</td>\n",
              "      <td>0.262659</td>\n",
              "      <td>0.132045</td>\n",
              "      <td>0.028836</td>\n",
              "      <td>0.049237</td>\n",
              "      <td>0.007337</td>\n",
              "      <td>-0.253397</td>\n",
              "      <td>0.321449</td>\n",
              "      <td>0.324333</td>\n",
              "      <td>0.283678</td>\n",
              "      <td>0.255648</td>\n",
              "      <td>1.000000</td>\n",
              "    </tr>\n",
              "  </tbody>\n",
              "</table>\n",
              "</div>\n",
              "      <button class=\"colab-df-convert\" onclick=\"convertToInteractive('df-78888af6-6ab9-4b8d-8f6d-4f3420dba8e7')\"\n",
              "              title=\"Convert this dataframe to an interactive table.\"\n",
              "              style=\"display:none;\">\n",
              "        \n",
              "  <svg xmlns=\"http://www.w3.org/2000/svg\" height=\"24px\"viewBox=\"0 0 24 24\"\n",
              "       width=\"24px\">\n",
              "    <path d=\"M0 0h24v24H0V0z\" fill=\"none\"/>\n",
              "    <path d=\"M18.56 5.44l.94 2.06.94-2.06 2.06-.94-2.06-.94-.94-2.06-.94 2.06-2.06.94zm-11 1L8.5 8.5l.94-2.06 2.06-.94-2.06-.94L8.5 2.5l-.94 2.06-2.06.94zm10 10l.94 2.06.94-2.06 2.06-.94-2.06-.94-.94-2.06-.94 2.06-2.06.94z\"/><path d=\"M17.41 7.96l-1.37-1.37c-.4-.4-.92-.59-1.43-.59-.52 0-1.04.2-1.43.59L10.3 9.45l-7.72 7.72c-.78.78-.78 2.05 0 2.83L4 21.41c.39.39.9.59 1.41.59.51 0 1.02-.2 1.41-.59l7.78-7.78 2.81-2.81c.8-.78.8-2.07 0-2.86zM5.41 20L4 18.59l7.72-7.72 1.47 1.35L5.41 20z\"/>\n",
              "  </svg>\n",
              "      </button>\n",
              "      \n",
              "  <style>\n",
              "    .colab-df-container {\n",
              "      display:flex;\n",
              "      flex-wrap:wrap;\n",
              "      gap: 12px;\n",
              "    }\n",
              "\n",
              "    .colab-df-convert {\n",
              "      background-color: #E8F0FE;\n",
              "      border: none;\n",
              "      border-radius: 50%;\n",
              "      cursor: pointer;\n",
              "      display: none;\n",
              "      fill: #1967D2;\n",
              "      height: 32px;\n",
              "      padding: 0 0 0 0;\n",
              "      width: 32px;\n",
              "    }\n",
              "\n",
              "    .colab-df-convert:hover {\n",
              "      background-color: #E2EBFA;\n",
              "      box-shadow: 0px 1px 2px rgba(60, 64, 67, 0.3), 0px 1px 3px 1px rgba(60, 64, 67, 0.15);\n",
              "      fill: #174EA6;\n",
              "    }\n",
              "\n",
              "    [theme=dark] .colab-df-convert {\n",
              "      background-color: #3B4455;\n",
              "      fill: #D2E3FC;\n",
              "    }\n",
              "\n",
              "    [theme=dark] .colab-df-convert:hover {\n",
              "      background-color: #434B5C;\n",
              "      box-shadow: 0px 1px 3px 1px rgba(0, 0, 0, 0.15);\n",
              "      filter: drop-shadow(0px 1px 2px rgba(0, 0, 0, 0.3));\n",
              "      fill: #FFFFFF;\n",
              "    }\n",
              "  </style>\n",
              "\n",
              "      <script>\n",
              "        const buttonEl =\n",
              "          document.querySelector('#df-78888af6-6ab9-4b8d-8f6d-4f3420dba8e7 button.colab-df-convert');\n",
              "        buttonEl.style.display =\n",
              "          google.colab.kernel.accessAllowed ? 'block' : 'none';\n",
              "\n",
              "        async function convertToInteractive(key) {\n",
              "          const element = document.querySelector('#df-78888af6-6ab9-4b8d-8f6d-4f3420dba8e7');\n",
              "          const dataTable =\n",
              "            await google.colab.kernel.invokeFunction('convertToInteractive',\n",
              "                                                     [key], {});\n",
              "          if (!dataTable) return;\n",
              "\n",
              "          const docLinkHtml = 'Like what you see? Visit the ' +\n",
              "            '<a target=\"_blank\" href=https://colab.research.google.com/notebooks/data_table.ipynb>data table notebook</a>'\n",
              "            + ' to learn more about interactive tables.';\n",
              "          element.innerHTML = '';\n",
              "          dataTable['output_type'] = 'display_data';\n",
              "          await google.colab.output.renderOutput(dataTable, element);\n",
              "          const docLink = document.createElement('div');\n",
              "          docLink.innerHTML = docLinkHtml;\n",
              "          element.appendChild(docLink);\n",
              "        }\n",
              "      </script>\n",
              "    </div>\n",
              "  </div>\n",
              "  "
            ]
          },
          "metadata": {},
          "execution_count": 20
        }
      ],
      "source": [
        "# Checking for any correlations.\n",
        "df.corr()"
      ]
    },
    {
      "cell_type": "markdown",
      "metadata": {
        "id": "NKSNuK3P8Fyo"
      },
      "source": []
    },
    {
      "cell_type": "code",
      "execution_count": 20,
      "metadata": {
        "id": "WIrd9ozB8GaF"
      },
      "outputs": [],
      "source": []
    },
    {
      "cell_type": "markdown",
      "metadata": {
        "id": "bEIlF5LRFyx7",
        "papermill": {
          "duration": 0.011193,
          "end_time": "2020-08-27T21:28:42.707471",
          "exception": false,
          "start_time": "2020-08-27T21:28:42.696278",
          "status": "completed"
        },
        "tags": []
      },
      "source": [
        "# SVM"
      ]
    },
    {
      "cell_type": "code",
      "execution_count": 21,
      "metadata": {
        "execution": {
          "iopub.execute_input": "2020-08-27T21:28:42.737475Z",
          "iopub.status.busy": "2020-08-27T21:28:42.736704Z",
          "iopub.status.idle": "2020-08-27T21:28:42.740002Z",
          "shell.execute_reply": "2020-08-27T21:28:42.739406Z"
        },
        "id": "Qw_ugjrJFyx7",
        "papermill": {
          "duration": 0.021762,
          "end_time": "2020-08-27T21:28:42.740126",
          "exception": false,
          "start_time": "2020-08-27T21:28:42.718364",
          "status": "completed"
        },
        "tags": []
      },
      "outputs": [],
      "source": [
        "# Splitting the dataset into training and testing sets.\n",
        "x = df.iloc[:, :-2]\n",
        "y = df.iloc[:, -1]\n",
        "x_train, x_test, y_train, y_test = train_test_split(x, y, random_state = 0, test_size = 0.35)"
      ]
    },
    {
      "cell_type": "code",
      "execution_count": 22,
      "metadata": {
        "execution": {
          "iopub.execute_input": "2020-08-27T21:28:42.767785Z",
          "iopub.status.busy": "2020-08-27T21:28:42.767041Z",
          "iopub.status.idle": "2020-08-27T21:28:42.776776Z",
          "shell.execute_reply": "2020-08-27T21:28:42.775761Z"
        },
        "id": "7lOrm1nKFyx8",
        "papermill": {
          "duration": 0.026613,
          "end_time": "2020-08-27T21:28:42.776935",
          "exception": false,
          "start_time": "2020-08-27T21:28:42.750322",
          "status": "completed"
        },
        "tags": []
      },
      "outputs": [],
      "source": [
        "# Using standard scaler as a standardization technique.\n",
        "sc_x = StandardScaler()\n",
        "x_train = sc_x.fit_transform(x_train)\n",
        "x_test = sc_x.transform(x_test)"
      ]
    },
    {
      "cell_type": "code",
      "execution_count": 23,
      "metadata": {
        "colab": {
          "base_uri": "https://localhost:8080/"
        },
        "execution": {
          "iopub.execute_input": "2020-08-27T21:28:42.805639Z",
          "iopub.status.busy": "2020-08-27T21:28:42.804599Z",
          "iopub.status.idle": "2020-08-27T21:28:42.808283Z",
          "shell.execute_reply": "2020-08-27T21:28:42.808836Z"
        },
        "id": "HHvNK1ySFyx9",
        "outputId": "b03e3024-ee38-4df2-9b89-14d411f863a1",
        "papermill": {
          "duration": 0.020583,
          "end_time": "2020-08-27T21:28:42.808973",
          "exception": false,
          "start_time": "2020-08-27T21:28:42.788390",
          "status": "completed"
        },
        "tags": []
      },
      "outputs": [
        {
          "output_type": "execute_result",
          "data": {
            "text/plain": [
              "9.746794344808963"
            ]
          },
          "metadata": {},
          "execution_count": 23
        }
      ],
      "source": [
        "# Looking for optimal number of nearest neighbours.\n",
        "import math\n",
        "math.sqrt(len(y_test))"
      ]
    },
    {
      "cell_type": "code",
      "execution_count": 26,
      "metadata": {
        "colab": {
          "base_uri": "https://localhost:8080/"
        },
        "execution": {
          "iopub.execute_input": "2020-08-27T21:28:42.838186Z",
          "iopub.status.busy": "2020-08-27T21:28:42.837236Z",
          "iopub.status.idle": "2020-08-27T21:28:42.844029Z",
          "shell.execute_reply": "2020-08-27T21:28:42.843424Z"
        },
        "id": "2SjVyk1dFyx-",
        "outputId": "3db0a141-7205-4832-ff2d-4f9667cb6fe0",
        "papermill": {
          "duration": 0.024802,
          "end_time": "2020-08-27T21:28:42.844145",
          "exception": false,
          "start_time": "2020-08-27T21:28:42.819343",
          "status": "completed"
        },
        "tags": []
      },
      "outputs": [
        {
          "output_type": "execute_result",
          "data": {
            "text/plain": [
              "SVC()"
            ]
          },
          "metadata": {},
          "execution_count": 26
        }
      ],
      "source": [
        "from sklearn import svm\n",
        "classifier = svm.SVC(kernel='rbf')\n",
        "classifier.fit(x_train,y_train)\n"
      ]
    },
    {
      "cell_type": "code",
      "execution_count": 27,
      "metadata": {
        "colab": {
          "base_uri": "https://localhost:8080/"
        },
        "execution": {
          "iopub.execute_input": "2020-08-27T21:28:42.870268Z",
          "iopub.status.busy": "2020-08-27T21:28:42.869551Z",
          "iopub.status.idle": "2020-08-27T21:28:42.879596Z",
          "shell.execute_reply": "2020-08-27T21:28:42.879004Z"
        },
        "id": "r0YRAGDaFyyA",
        "outputId": "cc106287-a9b9-44b9-a119-3c538f95dbb0",
        "papermill": {
          "duration": 0.025007,
          "end_time": "2020-08-27T21:28:42.879718",
          "exception": false,
          "start_time": "2020-08-27T21:28:42.854711",
          "status": "completed"
        },
        "tags": []
      },
      "outputs": [
        {
          "output_type": "execute_result",
          "data": {
            "text/plain": [
              "array(['Absence', 'Absence', 'Presence', 'Presence', 'Absence', 'Absence',\n",
              "       'Absence', 'Absence', 'Presence', 'Absence', 'Absence', 'Absence',\n",
              "       'Presence', 'Presence', 'Presence', 'Absence', 'Absence',\n",
              "       'Presence', 'Presence', 'Absence', 'Presence', 'Absence',\n",
              "       'Presence', 'Presence', 'Presence', 'Absence', 'Absence',\n",
              "       'Absence', 'Absence', 'Absence', 'Presence', 'Absence', 'Presence',\n",
              "       'Absence', 'Presence', 'Absence', 'Presence', 'Presence',\n",
              "       'Absence', 'Absence', 'Absence', 'Absence', 'Absence', 'Absence',\n",
              "       'Absence', 'Absence', 'Presence', 'Absence', 'Presence',\n",
              "       'Presence', 'Presence', 'Presence', 'Absence', 'Absence',\n",
              "       'Absence', 'Absence', 'Absence', 'Presence', 'Absence', 'Presence',\n",
              "       'Absence', 'Absence', 'Absence', 'Absence', 'Absence', 'Presence',\n",
              "       'Presence', 'Presence', 'Absence', 'Absence', 'Presence',\n",
              "       'Absence', 'Presence', 'Absence', 'Presence', 'Absence',\n",
              "       'Presence', 'Absence', 'Absence', 'Presence', 'Presence',\n",
              "       'Absence', 'Presence', 'Absence', 'Presence', 'Absence',\n",
              "       'Presence', 'Presence', 'Presence', 'Absence', 'Presence',\n",
              "       'Absence', 'Absence', 'Presence', 'Absence'], dtype=object)"
            ]
          },
          "metadata": {},
          "execution_count": 27
        }
      ],
      "source": [
        "y_pred = classifier.predict(x_test)\n",
        "y_pred"
      ]
    },
    {
      "cell_type": "code",
      "execution_count": 28,
      "metadata": {
        "colab": {
          "base_uri": "https://localhost:8080/"
        },
        "execution": {
          "iopub.execute_input": "2020-08-27T21:28:42.907996Z",
          "iopub.status.busy": "2020-08-27T21:28:42.907172Z",
          "iopub.status.idle": "2020-08-27T21:28:42.910498Z",
          "shell.execute_reply": "2020-08-27T21:28:42.911087Z"
        },
        "id": "9r86ann0FyyC",
        "outputId": "52ed9b84-7c6d-41fd-a1cc-2e68a8725dd7",
        "papermill": {
          "duration": 0.020833,
          "end_time": "2020-08-27T21:28:42.911245",
          "exception": false,
          "start_time": "2020-08-27T21:28:42.890412",
          "status": "completed"
        },
        "tags": []
      },
      "outputs": [
        {
          "output_type": "stream",
          "name": "stdout",
          "text": [
            "[[44 11]\n",
            " [11 29]]\n"
          ]
        }
      ],
      "source": [
        "cm = confusion_matrix(y_test,y_pred)\n",
        "print(cm)"
      ]
    },
    {
      "cell_type": "code",
      "execution_count": 29,
      "metadata": {
        "colab": {
          "base_uri": "https://localhost:8080/"
        },
        "execution": {
          "iopub.execute_input": "2020-08-27T21:28:42.938636Z",
          "iopub.status.busy": "2020-08-27T21:28:42.937732Z",
          "iopub.status.idle": "2020-08-27T21:28:42.941827Z",
          "shell.execute_reply": "2020-08-27T21:28:42.941112Z"
        },
        "id": "K-XWbteOFyyD",
        "outputId": "281f15eb-ac4f-4513-839a-edfd051c9fa4",
        "papermill": {
          "duration": 0.020015,
          "end_time": "2020-08-27T21:28:42.941939",
          "exception": false,
          "start_time": "2020-08-27T21:28:42.921924",
          "status": "completed"
        },
        "tags": []
      },
      "outputs": [
        {
          "output_type": "stream",
          "name": "stdout",
          "text": [
            "0.7684210526315789\n"
          ]
        }
      ],
      "source": [
        "print(accuracy_score(y_test,y_pred))"
      ]
    },
    {
      "cell_type": "code",
      "execution_count": 30,
      "metadata": {
        "colab": {
          "base_uri": "https://localhost:8080/"
        },
        "execution": {
          "iopub.execute_input": "2020-08-27T21:28:42.993072Z",
          "iopub.status.busy": "2020-08-27T21:28:42.992307Z",
          "iopub.status.idle": "2020-08-27T21:28:42.998502Z",
          "shell.execute_reply": "2020-08-27T21:28:42.997919Z"
        },
        "id": "OKGEe6afFyyE",
        "outputId": "86bc256d-586c-446f-89e1-004301600d53",
        "papermill": {
          "duration": 0.024152,
          "end_time": "2020-08-27T21:28:42.998622",
          "exception": false,
          "start_time": "2020-08-27T21:28:42.974470",
          "status": "completed"
        },
        "tags": []
      },
      "outputs": [
        {
          "output_type": "stream",
          "name": "stdout",
          "text": [
            "              precision    recall  f1-score   support\n",
            "\n",
            "     Absence       0.80      0.80      0.80        55\n",
            "    Presence       0.72      0.72      0.73        40\n",
            "\n",
            "    accuracy                           0.77        95\n",
            "   macro avg       0.76      0.76      0.76        95\n",
            "weighted avg       0.77      0.77      0.77        95\n",
            "\n"
          ]
        }
      ],
      "source": [
        "print(classification_report(y_test, y_pred))"
      ]
    },
    {
      "cell_type": "markdown",
      "metadata": {
        "id": "HanQPc_xpG38"
      },
      "source": [
        "### Method 1: Undersampling"
      ]
    },
    {
      "cell_type": "code",
      "execution_count": 31,
      "metadata": {
        "id": "M1znRMW_pG38"
      },
      "outputs": [],
      "source": [
        "# Class count\n",
        "count_class_0, count_class_1 = df.Disease.value_counts()\n",
        "\n",
        "#Divide by class\n",
        "df_class_0 = df[df['Disease'] == 'Absence']\n",
        "df_class_1 = df[df['Disease'] =='Presence']"
      ]
    },
    {
      "cell_type": "code",
      "execution_count": 32,
      "metadata": {
        "colab": {
          "base_uri": "https://localhost:8080/"
        },
        "id": "-9yajES4pG39",
        "outputId": "7004111e-2f6f-46a9-c025-1ee836549d0e"
      },
      "outputs": [
        {
          "output_type": "stream",
          "name": "stdout",
          "text": [
            "Random under-sampling:\n",
            "Absence     120\n",
            "Presence    120\n",
            "Name: Disease, dtype: int64\n"
          ]
        }
      ],
      "source": [
        "# Undersample 0-class and concat the DataFrames of both class\n",
        "df_class_0_under = df_class_0.sample(count_class_1)\n",
        "df_test_under = pd.concat([df_class_0_under, df_class_1], axis=0)\n",
        "\n",
        "print('Random under-sampling:')\n",
        "print(df_test_under.Disease.value_counts())"
      ]
    },
    {
      "cell_type": "code",
      "execution_count": 33,
      "metadata": {
        "id": "iF2beK4QpG39"
      },
      "outputs": [],
      "source": [
        "X = df_test_under.drop('Disease',axis='columns')\n",
        "y = df_test_under['Disease']\n",
        "\n",
        "from sklearn.model_selection import train_test_split\n",
        "X_train1, X_test1, y_train1, y_test1 = train_test_split(X, y, test_size=0.2, random_state=15, stratify=y)"
      ]
    },
    {
      "cell_type": "code",
      "execution_count": 34,
      "metadata": {
        "colab": {
          "base_uri": "https://localhost:8080/"
        },
        "id": "vw4NUfVqpG3-",
        "outputId": "e63e21ef-fe2e-4640-892d-da2d9836accd",
        "scrolled": true
      },
      "outputs": [
        {
          "output_type": "execute_result",
          "data": {
            "text/plain": [
              "Presence    96\n",
              "Absence     96\n",
              "Name: Disease, dtype: int64"
            ]
          },
          "metadata": {},
          "execution_count": 34
        }
      ],
      "source": [
        "# Number of classes in training Data\n",
        "y_train1.value_counts()"
      ]
    },
    {
      "cell_type": "code",
      "execution_count": 37,
      "metadata": {
        "colab": {
          "base_uri": "https://localhost:8080/"
        },
        "id": "_bGg0mF1pG3_",
        "outputId": "68f31a43-67ea-4b0d-d50b-6a0f4ead5539",
        "scrolled": true
      },
      "outputs": [
        {
          "output_type": "execute_result",
          "data": {
            "text/plain": [
              "SVC()"
            ]
          },
          "metadata": {},
          "execution_count": 37
        }
      ],
      "source": [
        "classifier = svm.SVC(kernel='rbf')\n",
        "classifier.fit(X_train1,y_train1)"
      ]
    },
    {
      "cell_type": "code",
      "execution_count": 38,
      "metadata": {
        "execution": {
          "iopub.execute_input": "2020-08-27T21:28:43.025101Z",
          "iopub.status.busy": "2020-08-27T21:28:43.024429Z",
          "iopub.status.idle": "2020-08-27T21:28:43.029908Z",
          "shell.execute_reply": "2020-08-27T21:28:43.030450Z"
        },
        "id": "t7GnP0NUFyyF",
        "papermill": {
          "duration": 0.020782,
          "end_time": "2020-08-27T21:28:43.030591",
          "exception": false,
          "start_time": "2020-08-27T21:28:43.009809",
          "status": "completed"
        },
        "tags": []
      },
      "outputs": [],
      "source": [
        "y_pred1 = classifier.predict(X_test1)"
      ]
    },
    {
      "cell_type": "code",
      "execution_count": 39,
      "metadata": {
        "colab": {
          "base_uri": "https://localhost:8080/"
        },
        "execution": {
          "iopub.execute_input": "2020-08-27T21:28:43.059353Z",
          "iopub.status.busy": "2020-08-27T21:28:43.058643Z",
          "iopub.status.idle": "2020-08-27T21:28:43.061969Z",
          "shell.execute_reply": "2020-08-27T21:28:43.062515Z"
        },
        "id": "3JrhaTglFyyG",
        "outputId": "d400f607-cd7d-47b2-aac5-321f11857bd4",
        "papermill": {
          "duration": 0.020957,
          "end_time": "2020-08-27T21:28:43.062656",
          "exception": false,
          "start_time": "2020-08-27T21:28:43.041699",
          "status": "completed"
        },
        "tags": []
      },
      "outputs": [
        {
          "output_type": "stream",
          "name": "stdout",
          "text": [
            "0.7291666666666666\n"
          ]
        }
      ],
      "source": [
        "print(accuracy_score(y_test1,y_pred1))"
      ]
    },
    {
      "cell_type": "code",
      "execution_count": 40,
      "metadata": {
        "colab": {
          "base_uri": "https://localhost:8080/"
        },
        "execution": {
          "iopub.execute_input": "2020-08-27T21:28:43.092182Z",
          "iopub.status.busy": "2020-08-27T21:28:43.091502Z",
          "iopub.status.idle": "2020-08-27T21:28:43.094826Z",
          "shell.execute_reply": "2020-08-27T21:28:43.095379Z"
        },
        "id": "ZLvlAqS3FyyG",
        "outputId": "90b7c6cd-876e-47b0-bbf5-2b8f4bd699a9",
        "papermill": {
          "duration": 0.021748,
          "end_time": "2020-08-27T21:28:43.095514",
          "exception": false,
          "start_time": "2020-08-27T21:28:43.073766",
          "status": "completed"
        },
        "tags": []
      },
      "outputs": [
        {
          "output_type": "stream",
          "name": "stdout",
          "text": [
            "              precision    recall  f1-score   support\n",
            "\n",
            "     Absence       0.68      0.88      0.76        24\n",
            "    Presence       0.82      0.58      0.68        24\n",
            "\n",
            "    accuracy                           0.73        48\n",
            "   macro avg       0.75      0.73      0.72        48\n",
            "weighted avg       0.75      0.73      0.72        48\n",
            "\n"
          ]
        }
      ],
      "source": [
        "print(classification_report(y_test1, y_pred1))"
      ]
    },
    {
      "cell_type": "code",
      "execution_count": 40,
      "metadata": {
        "id": "JWhsD5t4FyyH",
        "papermill": {
          "duration": 0.012305,
          "end_time": "2020-08-27T21:28:43.122450",
          "exception": false,
          "start_time": "2020-08-27T21:28:43.110145",
          "status": "completed"
        },
        "tags": []
      },
      "outputs": [],
      "source": []
    },
    {
      "cell_type": "markdown",
      "metadata": {
        "id": "-gN0Lhw8pG3_"
      },
      "source": [
        "### Method2: Oversampling"
      ]
    },
    {
      "cell_type": "code",
      "execution_count": 41,
      "metadata": {
        "colab": {
          "base_uri": "https://localhost:8080/"
        },
        "id": "jH-tRHdapG4A",
        "outputId": "cc6171b3-a848-46f0-8753-588cb65ea6aa"
      },
      "outputs": [
        {
          "output_type": "stream",
          "name": "stdout",
          "text": [
            "Random over-sampling:\n",
            "Absence     150\n",
            "Presence    150\n",
            "Name: Disease, dtype: int64\n"
          ]
        }
      ],
      "source": [
        "# Oversample 1-class and concat the DataFrames of both classes\n",
        "df_class_1_over = df_class_1.sample(count_class_0, replace=True)\n",
        "df_test_over = pd.concat([df_class_0, df_class_1_over], axis=0)\n",
        "\n",
        "print('Random over-sampling:')\n",
        "print(df_test_over.Disease.value_counts())"
      ]
    },
    {
      "cell_type": "code",
      "execution_count": 42,
      "metadata": {
        "id": "1PAYgP4ZpG4A"
      },
      "outputs": [],
      "source": [
        "X = df_test_over.drop('Disease',axis='columns')\n",
        "y = df_test_over['Disease']\n",
        "\n",
        "from sklearn.model_selection import train_test_split\n",
        "X_train2, X_test2, y_train2, y_test2 = train_test_split(X, y, test_size=0.2, random_state=15, stratify=y)"
      ]
    },
    {
      "cell_type": "code",
      "execution_count": 43,
      "metadata": {
        "colab": {
          "base_uri": "https://localhost:8080/"
        },
        "id": "88zpPJWJpG4A",
        "outputId": "825330c8-ffdb-4ff1-8d7a-c3d664f502e2"
      },
      "outputs": [
        {
          "output_type": "execute_result",
          "data": {
            "text/plain": [
              "Presence    120\n",
              "Absence     120\n",
              "Name: Disease, dtype: int64"
            ]
          },
          "metadata": {},
          "execution_count": 43
        }
      ],
      "source": [
        "# Number of classes in training Data\n",
        "y_train2.value_counts()"
      ]
    },
    {
      "cell_type": "code",
      "execution_count": 46,
      "metadata": {
        "colab": {
          "base_uri": "https://localhost:8080/"
        },
        "id": "S_9tMOQLpG4A",
        "outputId": "6c7945ed-cc83-4140-f859-b211ab4d0431",
        "scrolled": true
      },
      "outputs": [
        {
          "output_type": "execute_result",
          "data": {
            "text/plain": [
              "SVC()"
            ]
          },
          "metadata": {},
          "execution_count": 46
        }
      ],
      "source": [
        "\n",
        "classifier = svm.SVC(kernel='rbf')\n",
        "classifier.fit(X_train2,y_train2)"
      ]
    },
    {
      "cell_type": "code",
      "execution_count": 47,
      "metadata": {
        "id": "ADyAQZKLKUBy"
      },
      "outputs": [],
      "source": [
        "y_pred2 = classifier.predict(X_test2)"
      ]
    },
    {
      "cell_type": "code",
      "execution_count": 48,
      "metadata": {
        "colab": {
          "base_uri": "https://localhost:8080/"
        },
        "id": "femCO9BTKqP4",
        "outputId": "07f0ace6-b3ab-43a1-d364-2cc6c34b6715"
      },
      "outputs": [
        {
          "output_type": "stream",
          "name": "stdout",
          "text": [
            "0.6833333333333333\n"
          ]
        }
      ],
      "source": [
        "print(accuracy_score(y_test2,y_pred2))"
      ]
    },
    {
      "cell_type": "code",
      "execution_count": 49,
      "metadata": {
        "colab": {
          "base_uri": "https://localhost:8080/"
        },
        "id": "QnDN15UwLCl6",
        "outputId": "49c83c65-4efa-45cb-81ac-0eb141654dad"
      },
      "outputs": [
        {
          "output_type": "stream",
          "name": "stdout",
          "text": [
            "              precision    recall  f1-score   support\n",
            "\n",
            "     Absence       0.65      0.80      0.72        30\n",
            "    Presence       0.74      0.57      0.64        30\n",
            "\n",
            "    accuracy                           0.68        60\n",
            "   macro avg       0.69      0.68      0.68        60\n",
            "weighted avg       0.69      0.68      0.68        60\n",
            "\n"
          ]
        }
      ],
      "source": [
        "print(classification_report(y_test2, y_pred2))"
      ]
    },
    {
      "cell_type": "code",
      "execution_count": null,
      "metadata": {
        "id": "T-gJdggjMddn"
      },
      "outputs": [],
      "source": []
    },
    {
      "cell_type": "markdown",
      "metadata": {
        "id": "SvCVsSxEpG4B"
      },
      "source": [
        "### Method3: SMOTE"
      ]
    },
    {
      "cell_type": "markdown",
      "metadata": {
        "id": "KmKY8HCeNVCF"
      },
      "source": []
    },
    {
      "cell_type": "code",
      "execution_count": 50,
      "metadata": {
        "id": "Vn51lvDmpG4B"
      },
      "outputs": [],
      "source": [
        "X = df.drop('Disease',axis='columns')\n",
        "y = df['Disease']"
      ]
    },
    {
      "cell_type": "code",
      "execution_count": 51,
      "metadata": {
        "colab": {
          "base_uri": "https://localhost:8080/"
        },
        "id": "8LKIQV48pG4B",
        "outputId": "2f50d10e-cc8f-49bf-e4ab-289c41e57aa3"
      },
      "outputs": [
        {
          "output_type": "execute_result",
          "data": {
            "text/plain": [
              "Presence    150\n",
              "Absence     150\n",
              "Name: Disease, dtype: int64"
            ]
          },
          "metadata": {},
          "execution_count": 51
        }
      ],
      "source": [
        "from imblearn.over_sampling import SMOTE\n",
        "\n",
        "smote = SMOTE(sampling_strategy='minority')\n",
        "X_sm, y_sm = smote.fit_resample(X, y)\n",
        "\n",
        "y_sm.value_counts()"
      ]
    },
    {
      "cell_type": "code",
      "execution_count": 52,
      "metadata": {
        "id": "FL-LumdppG4C"
      },
      "outputs": [],
      "source": [
        "from sklearn.model_selection import train_test_split\n",
        "X_train3, X_test3, y_train3, y_test3 = train_test_split(X_sm, y_sm, test_size=0.2, random_state=15, stratify=y_sm)"
      ]
    },
    {
      "cell_type": "code",
      "execution_count": null,
      "metadata": {
        "colab": {
          "base_uri": "https://localhost:8080/"
        },
        "id": "Hfl09xq6pG4C",
        "outputId": "144569bb-0b9b-4aa1-d908-a1c49711b69b",
        "scrolled": true
      },
      "outputs": [
        {
          "data": {
            "text/plain": [
              "Presence    120\n",
              "Absence     120\n",
              "Name: Disease, dtype: int64"
            ]
          },
          "execution_count": 239,
          "metadata": {},
          "output_type": "execute_result"
        }
      ],
      "source": [
        "# Number of classes in training Data\n",
        "y_train3.value_counts()"
      ]
    },
    {
      "cell_type": "code",
      "execution_count": 61,
      "metadata": {
        "colab": {
          "base_uri": "https://localhost:8080/"
        },
        "id": "0bS9sDXspG4D",
        "outputId": "aff37572-f0ad-4260-885f-deb45f581c9d",
        "scrolled": true
      },
      "outputs": [
        {
          "output_type": "execute_result",
          "data": {
            "text/plain": [
              "SVC()"
            ]
          },
          "metadata": {},
          "execution_count": 61
        }
      ],
      "source": [
        "\n",
        "classifier = svm.SVC(kernel='rbf')\n",
        "classifier.fit(X_train3,y_train3)"
      ]
    },
    {
      "cell_type": "code",
      "execution_count": 62,
      "metadata": {
        "id": "RhSn5J1GOWtF"
      },
      "outputs": [],
      "source": [
        "y_pred3 = classifier.predict(X_test3)"
      ]
    },
    {
      "cell_type": "code",
      "execution_count": 63,
      "metadata": {
        "colab": {
          "base_uri": "https://localhost:8080/"
        },
        "id": "tfLjkcAmOfOO",
        "outputId": "62002e04-9058-4373-b831-457ffac775ba"
      },
      "outputs": [
        {
          "output_type": "stream",
          "name": "stdout",
          "text": [
            "0.65\n"
          ]
        }
      ],
      "source": [
        "print(accuracy_score(y_test3,y_pred3))"
      ]
    },
    {
      "cell_type": "code",
      "execution_count": 63,
      "metadata": {
        "id": "mBigmlmSPOJ4"
      },
      "outputs": [],
      "source": []
    },
    {
      "cell_type": "code",
      "execution_count": 64,
      "metadata": {
        "colab": {
          "base_uri": "https://localhost:8080/"
        },
        "id": "OG2yY6OvPGtj",
        "outputId": "b63d6d0d-b597-41bc-d9a3-8d0a79a3e9f3"
      },
      "outputs": [
        {
          "output_type": "stream",
          "name": "stdout",
          "text": [
            "              precision    recall  f1-score   support\n",
            "\n",
            "     Absence       0.61      0.83      0.70        30\n",
            "    Presence       0.74      0.47      0.57        30\n",
            "\n",
            "    accuracy                           0.65        60\n",
            "   macro avg       0.67      0.65      0.64        60\n",
            "weighted avg       0.67      0.65      0.64        60\n",
            "\n"
          ]
        }
      ],
      "source": [
        "print(classification_report(y_test3, y_pred3))"
      ]
    },
    {
      "cell_type": "code",
      "execution_count": 64,
      "metadata": {
        "id": "Z5xq62VBPvtY"
      },
      "outputs": [],
      "source": []
    },
    {
      "cell_type": "markdown",
      "metadata": {
        "id": "YtJfEPbV7DWz"
      },
      "source": [
        "###Method 5 : Borderline SMOTE 1"
      ]
    },
    {
      "cell_type": "code",
      "execution_count": 65,
      "metadata": {
        "id": "Dk3RiyFUNbzG"
      },
      "outputs": [],
      "source": [
        "X = df.drop('Disease',axis='columns')\n",
        "y = df['Disease']"
      ]
    },
    {
      "cell_type": "code",
      "execution_count": 66,
      "metadata": {
        "colab": {
          "base_uri": "https://localhost:8080/"
        },
        "id": "0Bokc3AyNn94",
        "outputId": "d57a40aa-3f75-49a4-f276-164fda810f58"
      },
      "outputs": [
        {
          "output_type": "execute_result",
          "data": {
            "text/plain": [
              "Presence    150\n",
              "Absence     150\n",
              "Name: Disease, dtype: int64"
            ]
          },
          "metadata": {},
          "execution_count": 66
        }
      ],
      "source": [
        "from imblearn.over_sampling import BorderlineSMOTE\n",
        "\n",
        "bsmote = BorderlineSMOTE(sampling_strategy='minority',random_state = 42,kind='borderline-1')\n",
        "X_bs, y_bs = bsmote.fit_resample(X, y)\n",
        "\n",
        "y_bs.value_counts()"
      ]
    },
    {
      "cell_type": "code",
      "execution_count": 67,
      "metadata": {
        "id": "dQ8RlVf8l5Dy"
      },
      "outputs": [],
      "source": [
        "from sklearn.model_selection import train_test_split\n",
        "X_train5, X_test5, y_train5, y_test5 = train_test_split(X_bs, y_bs, test_size=0.2, random_state=15, stratify=y_bs)"
      ]
    },
    {
      "cell_type": "code",
      "execution_count": 68,
      "metadata": {
        "colab": {
          "base_uri": "https://localhost:8080/"
        },
        "id": "ZwX1xKWEnY6w",
        "outputId": "fc0d71fd-8c55-4476-923a-c18ce36f1025"
      },
      "outputs": [
        {
          "output_type": "execute_result",
          "data": {
            "text/plain": [
              "Presence    120\n",
              "Absence     120\n",
              "Name: Disease, dtype: int64"
            ]
          },
          "metadata": {},
          "execution_count": 68
        }
      ],
      "source": [
        "# Number of classes in training Data\n",
        "y_train5.value_counts()"
      ]
    },
    {
      "cell_type": "code",
      "execution_count": 68,
      "metadata": {
        "id": "eA04Z9fWneqb"
      },
      "outputs": [],
      "source": []
    },
    {
      "cell_type": "code",
      "execution_count": 69,
      "metadata": {
        "colab": {
          "base_uri": "https://localhost:8080/"
        },
        "id": "8IDt5A46n04z",
        "outputId": "27ac0d8e-92cd-49f3-bfe4-f77f89f13d2c"
      },
      "outputs": [
        {
          "output_type": "execute_result",
          "data": {
            "text/plain": [
              "SVC()"
            ]
          },
          "metadata": {},
          "execution_count": 69
        }
      ],
      "source": [
        "\n",
        "classifier = svm.SVC(kernel='rbf')\n",
        "classifier.fit(X_train5,y_train5)"
      ]
    },
    {
      "cell_type": "code",
      "execution_count": 70,
      "metadata": {
        "colab": {
          "base_uri": "https://localhost:8080/"
        },
        "id": "8LwTMDz1Qb_p",
        "outputId": "7be2c78a-cb2c-402b-c577-2729ff6524ec"
      },
      "outputs": [
        {
          "output_type": "stream",
          "name": "stdout",
          "text": [
            "0.6333333333333333\n"
          ]
        }
      ],
      "source": [
        "y_pred5 = classifier.predict(X_test5)\n",
        "print(accuracy_score(y_test5,y_pred5))\n"
      ]
    },
    {
      "cell_type": "code",
      "execution_count": 71,
      "metadata": {
        "colab": {
          "base_uri": "https://localhost:8080/"
        },
        "id": "XJa7N-ruQxTS",
        "outputId": "a2a2c50e-2b75-49d5-d74d-6d9a5e75c464"
      },
      "outputs": [
        {
          "output_type": "stream",
          "name": "stdout",
          "text": [
            "              precision    recall  f1-score   support\n",
            "\n",
            "     Absence       0.61      0.77      0.68        30\n",
            "    Presence       0.68      0.50      0.58        30\n",
            "\n",
            "    accuracy                           0.63        60\n",
            "   macro avg       0.64      0.63      0.63        60\n",
            "weighted avg       0.64      0.63      0.63        60\n",
            "\n"
          ]
        }
      ],
      "source": [
        "print(classification_report(y_test5, y_pred5))"
      ]
    },
    {
      "cell_type": "code",
      "execution_count": 71,
      "metadata": {
        "id": "o4qjDLQMQ21u"
      },
      "outputs": [],
      "source": []
    },
    {
      "cell_type": "markdown",
      "metadata": {
        "id": "dD9xhhq3ocux"
      },
      "source": [
        "###Method 6: Borderline SMOTE 2"
      ]
    },
    {
      "cell_type": "code",
      "execution_count": 72,
      "metadata": {
        "id": "G-8k-2-ipX1q"
      },
      "outputs": [],
      "source": [
        "X = df.drop('Disease',axis='columns')\n",
        "y = df['Disease']"
      ]
    },
    {
      "cell_type": "code",
      "execution_count": 73,
      "metadata": {
        "colab": {
          "base_uri": "https://localhost:8080/"
        },
        "id": "40Qb2eHDpeNf",
        "outputId": "9e961c2d-21f3-469e-b73c-15e5d1614973"
      },
      "outputs": [
        {
          "output_type": "execute_result",
          "data": {
            "text/plain": [
              "Presence    150\n",
              "Absence     150\n",
              "Name: Disease, dtype: int64"
            ]
          },
          "metadata": {},
          "execution_count": 73
        }
      ],
      "source": [
        "from imblearn.over_sampling import BorderlineSMOTE\n",
        "\n",
        "bsmote = BorderlineSMOTE(sampling_strategy='minority',random_state = 42,kind='borderline-2')\n",
        "X_bsm, y_bsm = bsmote.fit_resample(X, y)\n",
        "\n",
        "y_bsm.value_counts()"
      ]
    },
    {
      "cell_type": "code",
      "execution_count": 74,
      "metadata": {
        "id": "MzWb44YPphXH"
      },
      "outputs": [],
      "source": [
        "from sklearn.model_selection import train_test_split\n",
        "X_train6, X_test6, y_train6, y_test6 = train_test_split(X_bsm, y_bsm, test_size=0.2, random_state=15, stratify=y_bsm)"
      ]
    },
    {
      "cell_type": "code",
      "execution_count": 75,
      "metadata": {
        "colab": {
          "base_uri": "https://localhost:8080/"
        },
        "id": "_6LvE-Zrp0BA",
        "outputId": "674ece8f-2d85-4da8-fca9-176fb5ab605e"
      },
      "outputs": [
        {
          "output_type": "execute_result",
          "data": {
            "text/plain": [
              "Presence    120\n",
              "Absence     120\n",
              "Name: Disease, dtype: int64"
            ]
          },
          "metadata": {},
          "execution_count": 75
        }
      ],
      "source": [
        "# Number of classes in training Data\n",
        "y_train6.value_counts()"
      ]
    },
    {
      "cell_type": "code",
      "execution_count": 76,
      "metadata": {
        "colab": {
          "base_uri": "https://localhost:8080/"
        },
        "id": "MtQ9oIdop4F6",
        "outputId": "343f08be-d8aa-4eda-b94e-1eafb76d9958"
      },
      "outputs": [
        {
          "output_type": "execute_result",
          "data": {
            "text/plain": [
              "SVC()"
            ]
          },
          "metadata": {},
          "execution_count": 76
        }
      ],
      "source": [
        "\n",
        "classifier = svm.SVC(kernel='rbf')\n",
        "classifier.fit(X_train6,y_train6)"
      ]
    },
    {
      "cell_type": "code",
      "execution_count": 77,
      "metadata": {
        "colab": {
          "base_uri": "https://localhost:8080/"
        },
        "id": "0GlOoXJDp61O",
        "outputId": "e6678783-7cc7-4734-a55b-930e07546518"
      },
      "outputs": [
        {
          "output_type": "stream",
          "name": "stdout",
          "text": [
            "0.6333333333333333\n"
          ]
        }
      ],
      "source": [
        "y_pred6 = classifier.predict(X_test6)\n",
        "print(accuracy_score(y_test6,y_pred6))"
      ]
    },
    {
      "cell_type": "code",
      "execution_count": 78,
      "metadata": {
        "colab": {
          "base_uri": "https://localhost:8080/"
        },
        "id": "6gLxaGrKRbdZ",
        "outputId": "753597e2-9df8-46eb-8cfa-ffcd7d40939d"
      },
      "outputs": [
        {
          "output_type": "stream",
          "name": "stdout",
          "text": [
            "              precision    recall  f1-score   support\n",
            "\n",
            "     Absence       0.62      0.70      0.66        30\n",
            "    Presence       0.65      0.57      0.61        30\n",
            "\n",
            "    accuracy                           0.63        60\n",
            "   macro avg       0.64      0.63      0.63        60\n",
            "weighted avg       0.64      0.63      0.63        60\n",
            "\n"
          ]
        }
      ],
      "source": [
        "print(classification_report(y_test6, y_pred6))"
      ]
    },
    {
      "cell_type": "code",
      "execution_count": 78,
      "metadata": {
        "id": "aSk7hRCDRmN8"
      },
      "outputs": [],
      "source": []
    },
    {
      "cell_type": "markdown",
      "metadata": {
        "id": "FXKcyVHYqRgr"
      },
      "source": [
        "###Method 7 : SVMSmote"
      ]
    },
    {
      "cell_type": "code",
      "execution_count": 79,
      "metadata": {
        "id": "cQIRxUpRqUjL"
      },
      "outputs": [],
      "source": [
        "X = df.drop('Disease',axis='columns')\n",
        "y = df['Disease']"
      ]
    },
    {
      "cell_type": "code",
      "execution_count": 80,
      "metadata": {
        "colab": {
          "base_uri": "https://localhost:8080/"
        },
        "id": "ohLelkz-q-GU",
        "outputId": "f8072177-8d29-4b39-9b44-9b3c0a38a9d4"
      },
      "outputs": [
        {
          "output_type": "execute_result",
          "data": {
            "text/plain": [
              "Presence    150\n",
              "Absence     150\n",
              "Name: Disease, dtype: int64"
            ]
          },
          "metadata": {},
          "execution_count": 80
        }
      ],
      "source": [
        "from imblearn.over_sampling import SVMSMOTE\n",
        "\n",
        "svmsmote = SVMSMOTE(sampling_strategy='minority',random_state = 42)\n",
        "X_svm, y_svm = svmsmote.fit_resample(X, y)\n",
        "\n",
        "y_svm.value_counts()"
      ]
    },
    {
      "cell_type": "code",
      "execution_count": 81,
      "metadata": {
        "id": "mVAW7J_ZyDEU"
      },
      "outputs": [],
      "source": [
        "from sklearn.model_selection import train_test_split\n",
        "X_train7, X_test7, y_train7, y_test7 = train_test_split(X_svm, y_svm, test_size=0.2, random_state=15, stratify=y_svm)"
      ]
    },
    {
      "cell_type": "code",
      "execution_count": 82,
      "metadata": {
        "colab": {
          "base_uri": "https://localhost:8080/"
        },
        "id": "7QGfCmZByaxU",
        "outputId": "2a9089a4-26c9-4c76-dff0-6c612d380ef1"
      },
      "outputs": [
        {
          "output_type": "execute_result",
          "data": {
            "text/plain": [
              "Presence    120\n",
              "Absence     120\n",
              "Name: Disease, dtype: int64"
            ]
          },
          "metadata": {},
          "execution_count": 82
        }
      ],
      "source": [
        "y_train7.value_counts()"
      ]
    },
    {
      "cell_type": "code",
      "execution_count": 83,
      "metadata": {
        "colab": {
          "base_uri": "https://localhost:8080/"
        },
        "id": "NCp5B_8uxWpX",
        "outputId": "3c963dc9-91a8-4b28-e005-7d57e393d1b8"
      },
      "outputs": [
        {
          "output_type": "execute_result",
          "data": {
            "text/plain": [
              "SVC()"
            ]
          },
          "metadata": {},
          "execution_count": 83
        }
      ],
      "source": [
        "\n",
        "classifier = svm.SVC(kernel='rbf')\n",
        "classifier.fit(X_train7,y_train7)"
      ]
    },
    {
      "cell_type": "code",
      "execution_count": 84,
      "metadata": {
        "colab": {
          "base_uri": "https://localhost:8080/"
        },
        "id": "FFsdZ77MR_5D",
        "outputId": "946a0639-b98e-45f5-e658-f33fa1464cb5"
      },
      "outputs": [
        {
          "output_type": "stream",
          "name": "stdout",
          "text": [
            "0.6666666666666666\n"
          ]
        }
      ],
      "source": [
        "y_pred7 = classifier.predict(X_test7)\n",
        "print(accuracy_score(y_test7,y_pred7))"
      ]
    },
    {
      "cell_type": "code",
      "execution_count": 85,
      "metadata": {
        "colab": {
          "base_uri": "https://localhost:8080/"
        },
        "id": "yTc9sYstSHHN",
        "outputId": "92613dee-8b4f-432b-c1c3-94fbe0ad535d"
      },
      "outputs": [
        {
          "output_type": "stream",
          "name": "stdout",
          "text": [
            "              precision    recall  f1-score   support\n",
            "\n",
            "     Absence       0.63      0.80      0.71        30\n",
            "    Presence       0.73      0.53      0.62        30\n",
            "\n",
            "    accuracy                           0.67        60\n",
            "   macro avg       0.68      0.67      0.66        60\n",
            "weighted avg       0.68      0.67      0.66        60\n",
            "\n"
          ]
        }
      ],
      "source": [
        "print(classification_report(y_test7, y_pred7))"
      ]
    },
    {
      "cell_type": "code",
      "execution_count": 85,
      "metadata": {
        "id": "wLotetzvSSKx"
      },
      "outputs": [],
      "source": []
    },
    {
      "cell_type": "markdown",
      "metadata": {
        "id": "lf5bGEviqXHb"
      },
      "source": [
        "###Method 8 : ADASYN"
      ]
    },
    {
      "cell_type": "code",
      "execution_count": 86,
      "metadata": {
        "id": "ZVJ0Qm7Tqebu"
      },
      "outputs": [],
      "source": [
        "X = df.drop('Disease',axis='columns')\n",
        "y = df['Disease']"
      ]
    },
    {
      "cell_type": "code",
      "execution_count": 87,
      "metadata": {
        "colab": {
          "base_uri": "https://localhost:8080/"
        },
        "id": "UNwrwSgwrL83",
        "outputId": "ae11b7fc-bac2-48d6-aee5-dfc2bb9431e7"
      },
      "outputs": [
        {
          "output_type": "execute_result",
          "data": {
            "text/plain": [
              "Absence     150\n",
              "Presence    131\n",
              "Name: Disease, dtype: int64"
            ]
          },
          "metadata": {},
          "execution_count": 87
        }
      ],
      "source": [
        "from imblearn.over_sampling import ADASYN\n",
        "\n",
        "ada = ADASYN(sampling_strategy='minority',random_state = 42)\n",
        "X_ada, y_ada = ada.fit_resample(X, y)\n",
        "\n",
        "y_ada.value_counts()"
      ]
    },
    {
      "cell_type": "code",
      "execution_count": 88,
      "metadata": {
        "id": "03JYjYEcyczu"
      },
      "outputs": [],
      "source": [
        "from sklearn.model_selection import train_test_split\n",
        "X_train8, X_test8, y_train8, y_test8 = train_test_split(X_ada, y_ada, test_size=0.2, random_state=15, stratify=y_ada)"
      ]
    },
    {
      "cell_type": "code",
      "execution_count": 89,
      "metadata": {
        "colab": {
          "base_uri": "https://localhost:8080/"
        },
        "id": "02U0_b3Ey5si",
        "outputId": "bf837834-c706-4d08-98ae-2f4adc959122"
      },
      "outputs": [
        {
          "output_type": "execute_result",
          "data": {
            "text/plain": [
              "Absence     120\n",
              "Presence    104\n",
              "Name: Disease, dtype: int64"
            ]
          },
          "metadata": {},
          "execution_count": 89
        }
      ],
      "source": [
        "y_train8.value_counts()"
      ]
    },
    {
      "cell_type": "code",
      "execution_count": 90,
      "metadata": {
        "colab": {
          "base_uri": "https://localhost:8080/"
        },
        "id": "qejJHUbVzMCA",
        "outputId": "78fbe0a5-af17-444c-ad81-10da6bceaf7f"
      },
      "outputs": [
        {
          "output_type": "execute_result",
          "data": {
            "text/plain": [
              "SVC()"
            ]
          },
          "metadata": {},
          "execution_count": 90
        }
      ],
      "source": [
        "\n",
        "classifier = svm.SVC(kernel='rbf')\n",
        "classifier.fit(X_train8,y_train8)"
      ]
    },
    {
      "cell_type": "code",
      "execution_count": 91,
      "metadata": {
        "colab": {
          "base_uri": "https://localhost:8080/"
        },
        "id": "ZKwnXBVVTF2L",
        "outputId": "5d49fa86-e949-4364-a28a-f4ab1725ac1b"
      },
      "outputs": [
        {
          "output_type": "stream",
          "name": "stdout",
          "text": [
            "0.631578947368421\n"
          ]
        }
      ],
      "source": [
        "y_pred8 = classifier.predict(X_test8)\n",
        "print(accuracy_score(y_test8,y_pred8))"
      ]
    },
    {
      "cell_type": "code",
      "execution_count": 92,
      "metadata": {
        "colab": {
          "base_uri": "https://localhost:8080/"
        },
        "id": "EEshAOtHTOjU",
        "outputId": "aaf0a770-7faa-49e6-9d7c-37310f248c0f"
      },
      "outputs": [
        {
          "output_type": "stream",
          "name": "stdout",
          "text": [
            "              precision    recall  f1-score   support\n",
            "\n",
            "     Absence       0.60      0.87      0.71        30\n",
            "    Presence       0.71      0.37      0.49        27\n",
            "\n",
            "    accuracy                           0.63        57\n",
            "   macro avg       0.66      0.62      0.60        57\n",
            "weighted avg       0.66      0.63      0.61        57\n",
            "\n"
          ]
        }
      ],
      "source": [
        "print(classification_report(y_test8, y_pred8))"
      ]
    },
    {
      "cell_type": "code",
      "execution_count": 92,
      "metadata": {
        "id": "J1l4Q4fVTVFX"
      },
      "outputs": [],
      "source": []
    },
    {
      "cell_type": "markdown",
      "metadata": {
        "id": "KNjTvCjRqiUq"
      },
      "source": [
        "###Method 9 : SMOTEENN"
      ]
    },
    {
      "cell_type": "code",
      "execution_count": 93,
      "metadata": {
        "id": "pi2pXP9kr9Na"
      },
      "outputs": [],
      "source": [
        "from imblearn.combine import SMOTEENN"
      ]
    },
    {
      "cell_type": "code",
      "execution_count": 94,
      "metadata": {
        "id": "OTYH_ixIqqsB"
      },
      "outputs": [],
      "source": [
        "X = df.drop('Disease',axis='columns')\n",
        "y = df['Disease']"
      ]
    },
    {
      "cell_type": "code",
      "execution_count": 95,
      "metadata": {
        "colab": {
          "base_uri": "https://localhost:8080/"
        },
        "id": "AUTIHukfrUBk",
        "outputId": "5a2b38a1-4c1b-49c0-ccf9-84e2a21f2a1f"
      },
      "outputs": [
        {
          "output_type": "execute_result",
          "data": {
            "text/plain": [
              "Presence    47\n",
              "Absence     42\n",
              "Name: Disease, dtype: int64"
            ]
          },
          "metadata": {},
          "execution_count": 95
        }
      ],
      "source": [
        "\n",
        "enn = SMOTEENN(sampling_strategy='minority',random_state = 42)\n",
        "X_smt, y_smt = enn.fit_resample(X, y)\n",
        "\n",
        "y_smt.value_counts()"
      ]
    },
    {
      "cell_type": "code",
      "execution_count": 96,
      "metadata": {
        "id": "jaMhz-kvylat"
      },
      "outputs": [],
      "source": [
        "from sklearn.model_selection import train_test_split\n",
        "X_train9, X_test9, y_train9, y_test9 = train_test_split(X_smt, y_smt, test_size=0.2, random_state=15, stratify=y_smt)"
      ]
    },
    {
      "cell_type": "code",
      "execution_count": 97,
      "metadata": {
        "colab": {
          "base_uri": "https://localhost:8080/"
        },
        "id": "WmAEp4Wky7H4",
        "outputId": "fe982684-ef67-4eda-935f-1943ea2eabde"
      },
      "outputs": [
        {
          "output_type": "execute_result",
          "data": {
            "text/plain": [
              "Presence    37\n",
              "Absence     34\n",
              "Name: Disease, dtype: int64"
            ]
          },
          "metadata": {},
          "execution_count": 97
        }
      ],
      "source": [
        "y_train9.value_counts()"
      ]
    },
    {
      "cell_type": "code",
      "execution_count": 98,
      "metadata": {
        "colab": {
          "base_uri": "https://localhost:8080/"
        },
        "id": "hnNzzsuszPEe",
        "outputId": "bdf532a1-e79b-4c79-8c56-144fe092372f"
      },
      "outputs": [
        {
          "output_type": "execute_result",
          "data": {
            "text/plain": [
              "SVC()"
            ]
          },
          "metadata": {},
          "execution_count": 98
        }
      ],
      "source": [
        "\n",
        "classifier = svm.SVC(kernel='rbf')\n",
        "classifier.fit(X_train9,y_train9)"
      ]
    },
    {
      "cell_type": "code",
      "execution_count": 99,
      "metadata": {
        "colab": {
          "base_uri": "https://localhost:8080/"
        },
        "id": "Ij5rswMfT0D1",
        "outputId": "d736f08e-3300-4eaa-ee7a-8c23cd6fc1f2"
      },
      "outputs": [
        {
          "output_type": "stream",
          "name": "stdout",
          "text": [
            "0.7222222222222222\n"
          ]
        }
      ],
      "source": [
        "y_pred9 = classifier.predict(X_test9)\n",
        "print(accuracy_score(y_test9,y_pred9))"
      ]
    },
    {
      "cell_type": "code",
      "execution_count": 100,
      "metadata": {
        "colab": {
          "base_uri": "https://localhost:8080/"
        },
        "id": "1GOyA7PYT-s6",
        "outputId": "8f740a3a-57a9-4d8d-a5e9-b4e031e87727"
      },
      "outputs": [
        {
          "output_type": "stream",
          "name": "stdout",
          "text": [
            "              precision    recall  f1-score   support\n",
            "\n",
            "     Absence       0.62      1.00      0.76         8\n",
            "    Presence       1.00      0.50      0.67        10\n",
            "\n",
            "    accuracy                           0.72        18\n",
            "   macro avg       0.81      0.75      0.71        18\n",
            "weighted avg       0.83      0.72      0.71        18\n",
            "\n"
          ]
        }
      ],
      "source": [
        "print(classification_report(y_test9, y_pred9))"
      ]
    },
    {
      "cell_type": "code",
      "execution_count": 100,
      "metadata": {
        "id": "I5Xk-_iIUP5Q"
      },
      "outputs": [],
      "source": []
    },
    {
      "cell_type": "markdown",
      "metadata": {
        "id": "YY_WQ02LqrLS"
      },
      "source": [
        "###Method 10 : SMOTETomek"
      ]
    },
    {
      "cell_type": "code",
      "execution_count": 101,
      "metadata": {
        "id": "I-xsdqdzqx1J"
      },
      "outputs": [],
      "source": [
        "X = df.drop('Disease',axis='columns')\n",
        "y = df['Disease']"
      ]
    },
    {
      "cell_type": "code",
      "execution_count": 102,
      "metadata": {
        "colab": {
          "base_uri": "https://localhost:8080/"
        },
        "id": "aRHhUJgVrtV8",
        "outputId": "405c959a-b2f2-4681-e9ad-9feeb8f9fe53"
      },
      "outputs": [
        {
          "output_type": "execute_result",
          "data": {
            "text/plain": [
              "Presence    126\n",
              "Absence     126\n",
              "Name: Disease, dtype: int64"
            ]
          },
          "metadata": {},
          "execution_count": 102
        }
      ],
      "source": [
        "from imblearn.combine import SMOTETomek\n",
        "\n",
        "smotetomek = SMOTETomek(sampling_strategy='minority',random_state = 42)\n",
        "X_smtt, y_smtt = smotetomek.fit_resample(X, y)\n",
        "\n",
        "y_smtt.value_counts()"
      ]
    },
    {
      "cell_type": "code",
      "execution_count": 103,
      "metadata": {
        "id": "mItMjQNSsR0E"
      },
      "outputs": [],
      "source": [
        "from sklearn.model_selection import train_test_split\n",
        "X_train10, X_test10, y_train10, y_test10 = train_test_split(X_smtt, y_smtt, test_size=0.2, random_state=15, stratify=y_smtt)"
      ]
    },
    {
      "cell_type": "code",
      "execution_count": 104,
      "metadata": {
        "colab": {
          "base_uri": "https://localhost:8080/"
        },
        "id": "5fblSKd7y8Xu",
        "outputId": "6970055f-c78a-4bdf-8c80-fa022c5c2eb5"
      },
      "outputs": [
        {
          "output_type": "execute_result",
          "data": {
            "text/plain": [
              "Presence    101\n",
              "Absence     100\n",
              "Name: Disease, dtype: int64"
            ]
          },
          "metadata": {},
          "execution_count": 104
        }
      ],
      "source": [
        "y_train10.value_counts()"
      ]
    },
    {
      "cell_type": "code",
      "execution_count": 105,
      "metadata": {
        "colab": {
          "base_uri": "https://localhost:8080/"
        },
        "id": "njaEW0IjzQdN",
        "outputId": "3806ede8-6434-43f5-d7ba-c89ece4fdadf"
      },
      "outputs": [
        {
          "output_type": "execute_result",
          "data": {
            "text/plain": [
              "SVC()"
            ]
          },
          "metadata": {},
          "execution_count": 105
        }
      ],
      "source": [
        "\n",
        "classifier = svm.SVC(kernel='rbf')\n",
        "classifier.fit(X_train10,y_train10)"
      ]
    },
    {
      "cell_type": "code",
      "execution_count": 106,
      "metadata": {
        "colab": {
          "base_uri": "https://localhost:8080/"
        },
        "id": "uTKcuH800fAh",
        "outputId": "26f469d8-fe78-4fd6-c7f9-1fd74786df8d"
      },
      "outputs": [
        {
          "output_type": "stream",
          "name": "stdout",
          "text": [
            "0.7058823529411765\n"
          ]
        }
      ],
      "source": [
        "y_pred10 = classifier.predict(X_test10)\n",
        "print(accuracy_score(y_test10,y_pred10))"
      ]
    },
    {
      "cell_type": "code",
      "execution_count": 107,
      "metadata": {
        "colab": {
          "base_uri": "https://localhost:8080/"
        },
        "id": "UEnF6jkNUwlu",
        "outputId": "9246f20c-9c71-45fa-a442-a6ebf22530d0"
      },
      "outputs": [
        {
          "output_type": "stream",
          "name": "stdout",
          "text": [
            "              precision    recall  f1-score   support\n",
            "\n",
            "     Absence       0.69      0.77      0.73        26\n",
            "    Presence       0.73      0.64      0.68        25\n",
            "\n",
            "    accuracy                           0.71        51\n",
            "   macro avg       0.71      0.70      0.70        51\n",
            "weighted avg       0.71      0.71      0.70        51\n",
            "\n"
          ]
        }
      ],
      "source": [
        "print(classification_report(y_test10, y_pred10))"
      ]
    },
    {
      "cell_type": "code",
      "execution_count": 107,
      "metadata": {
        "id": "w-UjldOnVHQ8"
      },
      "outputs": [],
      "source": []
    },
    {
      "cell_type": "markdown",
      "metadata": {
        "id": "Y_dnSWBt4tlb"
      },
      "source": [
        "###Confusion Matrix for all algorithms"
      ]
    },
    {
      "cell_type": "code",
      "execution_count": 108,
      "metadata": {
        "id": "RGuV5wwLBF1q"
      },
      "outputs": [],
      "source": [
        "import seaborn as sn \n",
        "\n"
      ]
    },
    {
      "cell_type": "code",
      "execution_count": 109,
      "metadata": {
        "colab": {
          "base_uri": "https://localhost:8080/"
        },
        "id": "bGx6xdEg4wtU",
        "outputId": "aac0af85-2ab3-4eb5-8ec7-40b008d3c2af"
      },
      "outputs": [
        {
          "output_type": "stream",
          "name": "stdout",
          "text": [
            "SVM Algotithm\n",
            "              precision    recall  f1-score   support\n",
            "\n",
            "     Absence       0.80      0.80      0.80        55\n",
            "    Presence       0.72      0.72      0.73        40\n",
            "\n",
            "    accuracy                           0.77        95\n",
            "   macro avg       0.76      0.76      0.76        95\n",
            "weighted avg       0.77      0.77      0.77        95\n",
            "\n",
            "1 : Undersampling\n",
            "              precision    recall  f1-score   support\n",
            "\n",
            "     Absence       0.68      0.88      0.76        24\n",
            "    Presence       0.82      0.58      0.68        24\n",
            "\n",
            "    accuracy                           0.73        48\n",
            "   macro avg       0.75      0.73      0.72        48\n",
            "weighted avg       0.75      0.73      0.72        48\n",
            "\n",
            "2 : Oversampling\n",
            "              precision    recall  f1-score   support\n",
            "\n",
            "     Absence       0.65      0.80      0.72        30\n",
            "    Presence       0.74      0.57      0.64        30\n",
            "\n",
            "    accuracy                           0.68        60\n",
            "   macro avg       0.69      0.68      0.68        60\n",
            "weighted avg       0.69      0.68      0.68        60\n",
            "\n",
            "3 : SMOTE\n",
            "              precision    recall  f1-score   support\n",
            "\n",
            "     Absence       0.61      0.83      0.70        30\n",
            "    Presence       0.74      0.47      0.57        30\n",
            "\n",
            "    accuracy                           0.65        60\n",
            "   macro avg       0.67      0.65      0.64        60\n",
            "weighted avg       0.67      0.65      0.64        60\n",
            "\n",
            "5 : Borderline SMOTE 1\n",
            "              precision    recall  f1-score   support\n",
            "\n",
            "     Absence       0.61      0.77      0.68        30\n",
            "    Presence       0.68      0.50      0.58        30\n",
            "\n",
            "    accuracy                           0.63        60\n",
            "   macro avg       0.64      0.63      0.63        60\n",
            "weighted avg       0.64      0.63      0.63        60\n",
            "\n",
            "6 : Borderline SMOTE 2\n",
            "              precision    recall  f1-score   support\n",
            "\n",
            "     Absence       0.62      0.70      0.66        30\n",
            "    Presence       0.65      0.57      0.61        30\n",
            "\n",
            "    accuracy                           0.63        60\n",
            "   macro avg       0.64      0.63      0.63        60\n",
            "weighted avg       0.64      0.63      0.63        60\n",
            "\n",
            "7 : SVM SMOTE\n",
            "              precision    recall  f1-score   support\n",
            "\n",
            "     Absence       0.63      0.80      0.71        30\n",
            "    Presence       0.73      0.53      0.62        30\n",
            "\n",
            "    accuracy                           0.67        60\n",
            "   macro avg       0.68      0.67      0.66        60\n",
            "weighted avg       0.68      0.67      0.66        60\n",
            "\n",
            "8 : ADASYN \n",
            "              precision    recall  f1-score   support\n",
            "\n",
            "     Absence       0.60      0.87      0.71        30\n",
            "    Presence       0.71      0.37      0.49        27\n",
            "\n",
            "    accuracy                           0.63        57\n",
            "   macro avg       0.66      0.62      0.60        57\n",
            "weighted avg       0.66      0.63      0.61        57\n",
            "\n",
            "9 : SMOTEENN \n",
            "              precision    recall  f1-score   support\n",
            "\n",
            "     Absence       0.62      1.00      0.76         8\n",
            "    Presence       1.00      0.50      0.67        10\n",
            "\n",
            "    accuracy                           0.72        18\n",
            "   macro avg       0.81      0.75      0.71        18\n",
            "weighted avg       0.83      0.72      0.71        18\n",
            "\n",
            "10 : SMOTETOMEK \n",
            "              precision    recall  f1-score   support\n",
            "\n",
            "     Absence       0.69      0.77      0.73        26\n",
            "    Presence       0.73      0.64      0.68        25\n",
            "\n",
            "    accuracy                           0.71        51\n",
            "   macro avg       0.71      0.70      0.70        51\n",
            "weighted avg       0.71      0.71      0.70        51\n",
            "\n"
          ]
        }
      ],
      "source": [
        "print(\"SVM Algotithm\")\n",
        "print(classification_report(y_test, y_pred))\n",
        "\n",
        "\n",
        "print(\"1 : Undersampling\")\n",
        "print(classification_report(y_test1, y_pred1))\n",
        "\n",
        "\n",
        "print(\"2 : Oversampling\")\n",
        "print(classification_report(y_test2, y_pred2))\n",
        "\n",
        "\n",
        "print(\"3 : SMOTE\")\n",
        "print(classification_report(y_test3, y_pred3))\n",
        "\n",
        "\n",
        "# print(\"4 : Ensemble with Undersampling\")\n",
        "# print(classification_report(y_test4, y_pred_final))\n",
        "\n",
        "\n",
        "print(\"5 : Borderline SMOTE 1\")\n",
        "print(classification_report(y_test5, y_pred5))\n",
        "\n",
        "\n",
        "\n",
        "print(\"6 : Borderline SMOTE 2\")\n",
        "print(classification_report(y_test6, y_pred6))\n",
        "\n",
        "print(\"7 : SVM SMOTE\")\n",
        "print(classification_report(y_test7, y_pred7))\n",
        "\n",
        "print(\"8 : ADASYN \")\n",
        "print(classification_report(y_test8, y_pred8))\n",
        "\n",
        "print(\"9 : SMOTEENN \")\n",
        "print(classification_report(y_test9, y_pred9))\n",
        "\n",
        "print(\"10 : SMOTETOMEK \")\n",
        "print(classification_report(y_test10, y_pred10))\n"
      ]
    },
    {
      "cell_type": "code",
      "execution_count": null,
      "metadata": {
        "id": "1PQ4cr1z_gD5"
      },
      "outputs": [],
      "source": []
    }
  ],
  "metadata": {
    "colab": {
      "provenance": []
    },
    "kernelspec": {
      "display_name": "Python 3",
      "language": "python",
      "name": "python3"
    },
    "language_info": {
      "codemirror_mode": {
        "name": "ipython",
        "version": 3
      },
      "file_extension": ".py",
      "mimetype": "text/x-python",
      "name": "python",
      "nbconvert_exporter": "python",
      "pygments_lexer": "ipython3",
      "version": "3.7.6"
    },
    "papermill": {
      "duration": 7.032528,
      "end_time": "2020-08-27T21:28:43.241640",
      "environment_variables": {},
      "exception": null,
      "input_path": "__notebook__.ipynb",
      "output_path": "__notebook__.ipynb",
      "parameters": {},
      "start_time": "2020-08-27T21:28:36.209112",
      "version": "2.1.0"
    }
  },
  "nbformat": 4,
  "nbformat_minor": 0
}
{
  "nbformat": 4,
  "nbformat_minor": 0,
  "metadata": {
    "colab": {
      "provenance": []
    },
    "kernelspec": {
      "name": "python3",
      "display_name": "Python 3"
    },
    "language_info": {
      "name": "python"
    }
  },
  "cells": [
    {
      "cell_type": "code",
      "execution_count": 429,
      "metadata": {
        "id": "jpnN_emjkUKj"
      },
      "outputs": [],
      "source": [
        "from sklearn.metrics import confusion_matrix,accuracy_score,recall_score,precision_score,f1_score,fbeta_score,classification_report\n",
        "from sklearn.model_selection import train_test_split\n",
        "from sklearn.linear_model import LogisticRegression\n",
        "from sklearn.ensemble import RandomForestClassifier\n",
        "from sklearn.neighbors import KNeighborsClassifier\n",
        "from sklearn.tree import DecisionTreeClassifier\n",
        "from sklearn.naive_bayes import GaussianNB\n",
        "from imblearn.over_sampling import SMOTE #for balancing an imbalance data\n",
        "from xgboost import XGBClassifier\n",
        "from sklearn.svm import SVC\n",
        "import seaborn as sns\n",
        "import pandas as pd\n",
        "import numpy as np\n",
        "import sklearn\n",
        "import matplotlib\n",
        "import matplotlib.pyplot as plt\n",
        "import numpy as np # linear algebra\n",
        "import pandas as pd # data processing, CSV file I/O (e.g. pd.read_csv)\n",
        "from imblearn import metrics\n",
        "\n",
        "pd.options.mode.chained_assignment = None  # default='warn'\n",
        "\n",
        "# Input data files are available in the read-only \"../input/\" directory\n",
        "# For example, running this (by clicking run or pressing Shift+Enter) will list all files under the input directory\n",
        "\n",
        "import os\n",
        "for dirname, _, filenames in os.walk('/kaggle/input'):\n",
        "    for filename in filenames:\n",
        "        print(os.path.join(dirname, filename))\n",
        "\n"
      ]
    },
    {
      "cell_type": "code",
      "source": [
        "dataset=df=pd.read_csv('framingham.csv')\n",
        "dataset.shape"
      ],
      "metadata": {
        "colab": {
          "base_uri": "https://localhost:8080/"
        },
        "id": "zj3vE-d41lLX",
        "outputId": "53b97b0b-f66a-43b1-83b7-b5d89b244245"
      },
      "execution_count": 430,
      "outputs": [
        {
          "output_type": "execute_result",
          "data": {
            "text/plain": [
              "(4238, 16)"
            ]
          },
          "metadata": {},
          "execution_count": 430
        }
      ]
    },
    {
      "cell_type": "code",
      "source": [
        "dataset.head()"
      ],
      "metadata": {
        "colab": {
          "base_uri": "https://localhost:8080/",
          "height": 270
        },
        "id": "XUrVg00Q1qxG",
        "outputId": "7e157509-b78d-4563-c5e8-b60b8c78dbaf"
      },
      "execution_count": 431,
      "outputs": [
        {
          "output_type": "execute_result",
          "data": {
            "text/plain": [
              "   male  age  education  currentSmoker  cigsPerDay  BPMeds  prevalentStroke  \\\n",
              "0     1   39        4.0              0         0.0     0.0                0   \n",
              "1     0   46        2.0              0         0.0     0.0                0   \n",
              "2     1   48        1.0              1        20.0     0.0                0   \n",
              "3     0   61        3.0              1        30.0     0.0                0   \n",
              "4     0   46        3.0              1        23.0     0.0                0   \n",
              "\n",
              "   prevalentHyp  diabetes  totChol  sysBP  diaBP    BMI  heartRate  glucose  \\\n",
              "0             0         0    195.0  106.0   70.0  26.97       80.0     77.0   \n",
              "1             0         0    250.0  121.0   81.0  28.73       95.0     76.0   \n",
              "2             0         0    245.0  127.5   80.0  25.34       75.0     70.0   \n",
              "3             1         0    225.0  150.0   95.0  28.58       65.0    103.0   \n",
              "4             0         0    285.0  130.0   84.0  23.10       85.0     85.0   \n",
              "\n",
              "   TenYearCHD  \n",
              "0           0  \n",
              "1           0  \n",
              "2           0  \n",
              "3           1  \n",
              "4           0  "
            ],
            "text/html": [
              "\n",
              "  <div id=\"df-3e2bc757-272f-4e9d-8b84-a4de8aeeef12\">\n",
              "    <div class=\"colab-df-container\">\n",
              "      <div>\n",
              "<style scoped>\n",
              "    .dataframe tbody tr th:only-of-type {\n",
              "        vertical-align: middle;\n",
              "    }\n",
              "\n",
              "    .dataframe tbody tr th {\n",
              "        vertical-align: top;\n",
              "    }\n",
              "\n",
              "    .dataframe thead th {\n",
              "        text-align: right;\n",
              "    }\n",
              "</style>\n",
              "<table border=\"1\" class=\"dataframe\">\n",
              "  <thead>\n",
              "    <tr style=\"text-align: right;\">\n",
              "      <th></th>\n",
              "      <th>male</th>\n",
              "      <th>age</th>\n",
              "      <th>education</th>\n",
              "      <th>currentSmoker</th>\n",
              "      <th>cigsPerDay</th>\n",
              "      <th>BPMeds</th>\n",
              "      <th>prevalentStroke</th>\n",
              "      <th>prevalentHyp</th>\n",
              "      <th>diabetes</th>\n",
              "      <th>totChol</th>\n",
              "      <th>sysBP</th>\n",
              "      <th>diaBP</th>\n",
              "      <th>BMI</th>\n",
              "      <th>heartRate</th>\n",
              "      <th>glucose</th>\n",
              "      <th>TenYearCHD</th>\n",
              "    </tr>\n",
              "  </thead>\n",
              "  <tbody>\n",
              "    <tr>\n",
              "      <th>0</th>\n",
              "      <td>1</td>\n",
              "      <td>39</td>\n",
              "      <td>4.0</td>\n",
              "      <td>0</td>\n",
              "      <td>0.0</td>\n",
              "      <td>0.0</td>\n",
              "      <td>0</td>\n",
              "      <td>0</td>\n",
              "      <td>0</td>\n",
              "      <td>195.0</td>\n",
              "      <td>106.0</td>\n",
              "      <td>70.0</td>\n",
              "      <td>26.97</td>\n",
              "      <td>80.0</td>\n",
              "      <td>77.0</td>\n",
              "      <td>0</td>\n",
              "    </tr>\n",
              "    <tr>\n",
              "      <th>1</th>\n",
              "      <td>0</td>\n",
              "      <td>46</td>\n",
              "      <td>2.0</td>\n",
              "      <td>0</td>\n",
              "      <td>0.0</td>\n",
              "      <td>0.0</td>\n",
              "      <td>0</td>\n",
              "      <td>0</td>\n",
              "      <td>0</td>\n",
              "      <td>250.0</td>\n",
              "      <td>121.0</td>\n",
              "      <td>81.0</td>\n",
              "      <td>28.73</td>\n",
              "      <td>95.0</td>\n",
              "      <td>76.0</td>\n",
              "      <td>0</td>\n",
              "    </tr>\n",
              "    <tr>\n",
              "      <th>2</th>\n",
              "      <td>1</td>\n",
              "      <td>48</td>\n",
              "      <td>1.0</td>\n",
              "      <td>1</td>\n",
              "      <td>20.0</td>\n",
              "      <td>0.0</td>\n",
              "      <td>0</td>\n",
              "      <td>0</td>\n",
              "      <td>0</td>\n",
              "      <td>245.0</td>\n",
              "      <td>127.5</td>\n",
              "      <td>80.0</td>\n",
              "      <td>25.34</td>\n",
              "      <td>75.0</td>\n",
              "      <td>70.0</td>\n",
              "      <td>0</td>\n",
              "    </tr>\n",
              "    <tr>\n",
              "      <th>3</th>\n",
              "      <td>0</td>\n",
              "      <td>61</td>\n",
              "      <td>3.0</td>\n",
              "      <td>1</td>\n",
              "      <td>30.0</td>\n",
              "      <td>0.0</td>\n",
              "      <td>0</td>\n",
              "      <td>1</td>\n",
              "      <td>0</td>\n",
              "      <td>225.0</td>\n",
              "      <td>150.0</td>\n",
              "      <td>95.0</td>\n",
              "      <td>28.58</td>\n",
              "      <td>65.0</td>\n",
              "      <td>103.0</td>\n",
              "      <td>1</td>\n",
              "    </tr>\n",
              "    <tr>\n",
              "      <th>4</th>\n",
              "      <td>0</td>\n",
              "      <td>46</td>\n",
              "      <td>3.0</td>\n",
              "      <td>1</td>\n",
              "      <td>23.0</td>\n",
              "      <td>0.0</td>\n",
              "      <td>0</td>\n",
              "      <td>0</td>\n",
              "      <td>0</td>\n",
              "      <td>285.0</td>\n",
              "      <td>130.0</td>\n",
              "      <td>84.0</td>\n",
              "      <td>23.10</td>\n",
              "      <td>85.0</td>\n",
              "      <td>85.0</td>\n",
              "      <td>0</td>\n",
              "    </tr>\n",
              "  </tbody>\n",
              "</table>\n",
              "</div>\n",
              "      <button class=\"colab-df-convert\" onclick=\"convertToInteractive('df-3e2bc757-272f-4e9d-8b84-a4de8aeeef12')\"\n",
              "              title=\"Convert this dataframe to an interactive table.\"\n",
              "              style=\"display:none;\">\n",
              "        \n",
              "  <svg xmlns=\"http://www.w3.org/2000/svg\" height=\"24px\"viewBox=\"0 0 24 24\"\n",
              "       width=\"24px\">\n",
              "    <path d=\"M0 0h24v24H0V0z\" fill=\"none\"/>\n",
              "    <path d=\"M18.56 5.44l.94 2.06.94-2.06 2.06-.94-2.06-.94-.94-2.06-.94 2.06-2.06.94zm-11 1L8.5 8.5l.94-2.06 2.06-.94-2.06-.94L8.5 2.5l-.94 2.06-2.06.94zm10 10l.94 2.06.94-2.06 2.06-.94-2.06-.94-.94-2.06-.94 2.06-2.06.94z\"/><path d=\"M17.41 7.96l-1.37-1.37c-.4-.4-.92-.59-1.43-.59-.52 0-1.04.2-1.43.59L10.3 9.45l-7.72 7.72c-.78.78-.78 2.05 0 2.83L4 21.41c.39.39.9.59 1.41.59.51 0 1.02-.2 1.41-.59l7.78-7.78 2.81-2.81c.8-.78.8-2.07 0-2.86zM5.41 20L4 18.59l7.72-7.72 1.47 1.35L5.41 20z\"/>\n",
              "  </svg>\n",
              "      </button>\n",
              "      \n",
              "  <style>\n",
              "    .colab-df-container {\n",
              "      display:flex;\n",
              "      flex-wrap:wrap;\n",
              "      gap: 12px;\n",
              "    }\n",
              "\n",
              "    .colab-df-convert {\n",
              "      background-color: #E8F0FE;\n",
              "      border: none;\n",
              "      border-radius: 50%;\n",
              "      cursor: pointer;\n",
              "      display: none;\n",
              "      fill: #1967D2;\n",
              "      height: 32px;\n",
              "      padding: 0 0 0 0;\n",
              "      width: 32px;\n",
              "    }\n",
              "\n",
              "    .colab-df-convert:hover {\n",
              "      background-color: #E2EBFA;\n",
              "      box-shadow: 0px 1px 2px rgba(60, 64, 67, 0.3), 0px 1px 3px 1px rgba(60, 64, 67, 0.15);\n",
              "      fill: #174EA6;\n",
              "    }\n",
              "\n",
              "    [theme=dark] .colab-df-convert {\n",
              "      background-color: #3B4455;\n",
              "      fill: #D2E3FC;\n",
              "    }\n",
              "\n",
              "    [theme=dark] .colab-df-convert:hover {\n",
              "      background-color: #434B5C;\n",
              "      box-shadow: 0px 1px 3px 1px rgba(0, 0, 0, 0.15);\n",
              "      filter: drop-shadow(0px 1px 2px rgba(0, 0, 0, 0.3));\n",
              "      fill: #FFFFFF;\n",
              "    }\n",
              "  </style>\n",
              "\n",
              "      <script>\n",
              "        const buttonEl =\n",
              "          document.querySelector('#df-3e2bc757-272f-4e9d-8b84-a4de8aeeef12 button.colab-df-convert');\n",
              "        buttonEl.style.display =\n",
              "          google.colab.kernel.accessAllowed ? 'block' : 'none';\n",
              "\n",
              "        async function convertToInteractive(key) {\n",
              "          const element = document.querySelector('#df-3e2bc757-272f-4e9d-8b84-a4de8aeeef12');\n",
              "          const dataTable =\n",
              "            await google.colab.kernel.invokeFunction('convertToInteractive',\n",
              "                                                     [key], {});\n",
              "          if (!dataTable) return;\n",
              "\n",
              "          const docLinkHtml = 'Like what you see? Visit the ' +\n",
              "            '<a target=\"_blank\" href=https://colab.research.google.com/notebooks/data_table.ipynb>data table notebook</a>'\n",
              "            + ' to learn more about interactive tables.';\n",
              "          element.innerHTML = '';\n",
              "          dataTable['output_type'] = 'display_data';\n",
              "          await google.colab.output.renderOutput(dataTable, element);\n",
              "          const docLink = document.createElement('div');\n",
              "          docLink.innerHTML = docLinkHtml;\n",
              "          element.appendChild(docLink);\n",
              "        }\n",
              "      </script>\n",
              "    </div>\n",
              "  </div>\n",
              "  "
            ]
          },
          "metadata": {},
          "execution_count": 431
        }
      ]
    },
    {
      "cell_type": "code",
      "source": [
        "std_corr = dataset.corr()\n",
        "print(std_corr['TenYearCHD'].sort_values(ascending = False))"
      ],
      "metadata": {
        "colab": {
          "base_uri": "https://localhost:8080/"
        },
        "id": "YCCsgJhx1n3J",
        "outputId": "5a84b32a-c0cc-4de7-e371-2660fbd9525a"
      },
      "execution_count": 432,
      "outputs": [
        {
          "output_type": "stream",
          "name": "stdout",
          "text": [
            "TenYearCHD         1.000000\n",
            "age                0.225256\n",
            "sysBP              0.216429\n",
            "prevalentHyp       0.177603\n",
            "diaBP              0.145299\n",
            "glucose            0.125544\n",
            "diabetes           0.097317\n",
            "male               0.088428\n",
            "BPMeds             0.087489\n",
            "totChol            0.082184\n",
            "BMI                0.075192\n",
            "prevalentStroke    0.061810\n",
            "cigsPerDay         0.057884\n",
            "heartRate          0.022913\n",
            "currentSmoker      0.019456\n",
            "education         -0.054059\n",
            "Name: TenYearCHD, dtype: float64\n"
          ]
        }
      ]
    },
    {
      "cell_type": "code",
      "source": [
        "X=dataset.drop(['education','TenYearCHD'], axis=1)\n",
        "y=dataset['TenYearCHD']"
      ],
      "metadata": {
        "id": "a5JAZnfa1vZp"
      },
      "execution_count": 433,
      "outputs": []
    },
    {
      "cell_type": "code",
      "source": [
        "#Cleaning the training data\n",
        "\n",
        "from sklearn.impute import SimpleImputer\n",
        "si=SimpleImputer(strategy='most_frequent')\n",
        "X['BPMeds']=si.fit_transform(X[['BPMeds']])\n",
        "si2=SimpleImputer(strategy='mean')\n",
        "X=pd.DataFrame(si2.fit_transform(X))\n",
        "\n",
        "X.isnull().any().any()"
      ],
      "metadata": {
        "colab": {
          "base_uri": "https://localhost:8080/"
        },
        "id": "k1XAUEux1zie",
        "outputId": "b2ca7dd0-fd92-4812-b184-297fceb7ee48"
      },
      "execution_count": 434,
      "outputs": [
        {
          "output_type": "execute_result",
          "data": {
            "text/plain": [
              "False"
            ]
          },
          "metadata": {},
          "execution_count": 434
        }
      ]
    },
    {
      "cell_type": "code",
      "source": [
        "X.head()"
      ],
      "metadata": {
        "colab": {
          "base_uri": "https://localhost:8080/",
          "height": 206
        },
        "id": "pwCq6_lC11yC",
        "outputId": "46623959-1889-441f-9695-b7b9c058db56"
      },
      "execution_count": 435,
      "outputs": [
        {
          "output_type": "execute_result",
          "data": {
            "text/plain": [
              "    0     1    2     3    4    5    6    7      8      9     10     11    12  \\\n",
              "0  1.0  39.0  0.0   0.0  0.0  0.0  0.0  0.0  195.0  106.0  70.0  26.97  80.0   \n",
              "1  0.0  46.0  0.0   0.0  0.0  0.0  0.0  0.0  250.0  121.0  81.0  28.73  95.0   \n",
              "2  1.0  48.0  1.0  20.0  0.0  0.0  0.0  0.0  245.0  127.5  80.0  25.34  75.0   \n",
              "3  0.0  61.0  1.0  30.0  0.0  0.0  1.0  0.0  225.0  150.0  95.0  28.58  65.0   \n",
              "4  0.0  46.0  1.0  23.0  0.0  0.0  0.0  0.0  285.0  130.0  84.0  23.10  85.0   \n",
              "\n",
              "      13  \n",
              "0   77.0  \n",
              "1   76.0  \n",
              "2   70.0  \n",
              "3  103.0  \n",
              "4   85.0  "
            ],
            "text/html": [
              "\n",
              "  <div id=\"df-8aea16f5-f4f3-4179-9bd2-5581b39fe3a5\">\n",
              "    <div class=\"colab-df-container\">\n",
              "      <div>\n",
              "<style scoped>\n",
              "    .dataframe tbody tr th:only-of-type {\n",
              "        vertical-align: middle;\n",
              "    }\n",
              "\n",
              "    .dataframe tbody tr th {\n",
              "        vertical-align: top;\n",
              "    }\n",
              "\n",
              "    .dataframe thead th {\n",
              "        text-align: right;\n",
              "    }\n",
              "</style>\n",
              "<table border=\"1\" class=\"dataframe\">\n",
              "  <thead>\n",
              "    <tr style=\"text-align: right;\">\n",
              "      <th></th>\n",
              "      <th>0</th>\n",
              "      <th>1</th>\n",
              "      <th>2</th>\n",
              "      <th>3</th>\n",
              "      <th>4</th>\n",
              "      <th>5</th>\n",
              "      <th>6</th>\n",
              "      <th>7</th>\n",
              "      <th>8</th>\n",
              "      <th>9</th>\n",
              "      <th>10</th>\n",
              "      <th>11</th>\n",
              "      <th>12</th>\n",
              "      <th>13</th>\n",
              "    </tr>\n",
              "  </thead>\n",
              "  <tbody>\n",
              "    <tr>\n",
              "      <th>0</th>\n",
              "      <td>1.0</td>\n",
              "      <td>39.0</td>\n",
              "      <td>0.0</td>\n",
              "      <td>0.0</td>\n",
              "      <td>0.0</td>\n",
              "      <td>0.0</td>\n",
              "      <td>0.0</td>\n",
              "      <td>0.0</td>\n",
              "      <td>195.0</td>\n",
              "      <td>106.0</td>\n",
              "      <td>70.0</td>\n",
              "      <td>26.97</td>\n",
              "      <td>80.0</td>\n",
              "      <td>77.0</td>\n",
              "    </tr>\n",
              "    <tr>\n",
              "      <th>1</th>\n",
              "      <td>0.0</td>\n",
              "      <td>46.0</td>\n",
              "      <td>0.0</td>\n",
              "      <td>0.0</td>\n",
              "      <td>0.0</td>\n",
              "      <td>0.0</td>\n",
              "      <td>0.0</td>\n",
              "      <td>0.0</td>\n",
              "      <td>250.0</td>\n",
              "      <td>121.0</td>\n",
              "      <td>81.0</td>\n",
              "      <td>28.73</td>\n",
              "      <td>95.0</td>\n",
              "      <td>76.0</td>\n",
              "    </tr>\n",
              "    <tr>\n",
              "      <th>2</th>\n",
              "      <td>1.0</td>\n",
              "      <td>48.0</td>\n",
              "      <td>1.0</td>\n",
              "      <td>20.0</td>\n",
              "      <td>0.0</td>\n",
              "      <td>0.0</td>\n",
              "      <td>0.0</td>\n",
              "      <td>0.0</td>\n",
              "      <td>245.0</td>\n",
              "      <td>127.5</td>\n",
              "      <td>80.0</td>\n",
              "      <td>25.34</td>\n",
              "      <td>75.0</td>\n",
              "      <td>70.0</td>\n",
              "    </tr>\n",
              "    <tr>\n",
              "      <th>3</th>\n",
              "      <td>0.0</td>\n",
              "      <td>61.0</td>\n",
              "      <td>1.0</td>\n",
              "      <td>30.0</td>\n",
              "      <td>0.0</td>\n",
              "      <td>0.0</td>\n",
              "      <td>1.0</td>\n",
              "      <td>0.0</td>\n",
              "      <td>225.0</td>\n",
              "      <td>150.0</td>\n",
              "      <td>95.0</td>\n",
              "      <td>28.58</td>\n",
              "      <td>65.0</td>\n",
              "      <td>103.0</td>\n",
              "    </tr>\n",
              "    <tr>\n",
              "      <th>4</th>\n",
              "      <td>0.0</td>\n",
              "      <td>46.0</td>\n",
              "      <td>1.0</td>\n",
              "      <td>23.0</td>\n",
              "      <td>0.0</td>\n",
              "      <td>0.0</td>\n",
              "      <td>0.0</td>\n",
              "      <td>0.0</td>\n",
              "      <td>285.0</td>\n",
              "      <td>130.0</td>\n",
              "      <td>84.0</td>\n",
              "      <td>23.10</td>\n",
              "      <td>85.0</td>\n",
              "      <td>85.0</td>\n",
              "    </tr>\n",
              "  </tbody>\n",
              "</table>\n",
              "</div>\n",
              "      <button class=\"colab-df-convert\" onclick=\"convertToInteractive('df-8aea16f5-f4f3-4179-9bd2-5581b39fe3a5')\"\n",
              "              title=\"Convert this dataframe to an interactive table.\"\n",
              "              style=\"display:none;\">\n",
              "        \n",
              "  <svg xmlns=\"http://www.w3.org/2000/svg\" height=\"24px\"viewBox=\"0 0 24 24\"\n",
              "       width=\"24px\">\n",
              "    <path d=\"M0 0h24v24H0V0z\" fill=\"none\"/>\n",
              "    <path d=\"M18.56 5.44l.94 2.06.94-2.06 2.06-.94-2.06-.94-.94-2.06-.94 2.06-2.06.94zm-11 1L8.5 8.5l.94-2.06 2.06-.94-2.06-.94L8.5 2.5l-.94 2.06-2.06.94zm10 10l.94 2.06.94-2.06 2.06-.94-2.06-.94-.94-2.06-.94 2.06-2.06.94z\"/><path d=\"M17.41 7.96l-1.37-1.37c-.4-.4-.92-.59-1.43-.59-.52 0-1.04.2-1.43.59L10.3 9.45l-7.72 7.72c-.78.78-.78 2.05 0 2.83L4 21.41c.39.39.9.59 1.41.59.51 0 1.02-.2 1.41-.59l7.78-7.78 2.81-2.81c.8-.78.8-2.07 0-2.86zM5.41 20L4 18.59l7.72-7.72 1.47 1.35L5.41 20z\"/>\n",
              "  </svg>\n",
              "      </button>\n",
              "      \n",
              "  <style>\n",
              "    .colab-df-container {\n",
              "      display:flex;\n",
              "      flex-wrap:wrap;\n",
              "      gap: 12px;\n",
              "    }\n",
              "\n",
              "    .colab-df-convert {\n",
              "      background-color: #E8F0FE;\n",
              "      border: none;\n",
              "      border-radius: 50%;\n",
              "      cursor: pointer;\n",
              "      display: none;\n",
              "      fill: #1967D2;\n",
              "      height: 32px;\n",
              "      padding: 0 0 0 0;\n",
              "      width: 32px;\n",
              "    }\n",
              "\n",
              "    .colab-df-convert:hover {\n",
              "      background-color: #E2EBFA;\n",
              "      box-shadow: 0px 1px 2px rgba(60, 64, 67, 0.3), 0px 1px 3px 1px rgba(60, 64, 67, 0.15);\n",
              "      fill: #174EA6;\n",
              "    }\n",
              "\n",
              "    [theme=dark] .colab-df-convert {\n",
              "      background-color: #3B4455;\n",
              "      fill: #D2E3FC;\n",
              "    }\n",
              "\n",
              "    [theme=dark] .colab-df-convert:hover {\n",
              "      background-color: #434B5C;\n",
              "      box-shadow: 0px 1px 3px 1px rgba(0, 0, 0, 0.15);\n",
              "      filter: drop-shadow(0px 1px 2px rgba(0, 0, 0, 0.3));\n",
              "      fill: #FFFFFF;\n",
              "    }\n",
              "  </style>\n",
              "\n",
              "      <script>\n",
              "        const buttonEl =\n",
              "          document.querySelector('#df-8aea16f5-f4f3-4179-9bd2-5581b39fe3a5 button.colab-df-convert');\n",
              "        buttonEl.style.display =\n",
              "          google.colab.kernel.accessAllowed ? 'block' : 'none';\n",
              "\n",
              "        async function convertToInteractive(key) {\n",
              "          const element = document.querySelector('#df-8aea16f5-f4f3-4179-9bd2-5581b39fe3a5');\n",
              "          const dataTable =\n",
              "            await google.colab.kernel.invokeFunction('convertToInteractive',\n",
              "                                                     [key], {});\n",
              "          if (!dataTable) return;\n",
              "\n",
              "          const docLinkHtml = 'Like what you see? Visit the ' +\n",
              "            '<a target=\"_blank\" href=https://colab.research.google.com/notebooks/data_table.ipynb>data table notebook</a>'\n",
              "            + ' to learn more about interactive tables.';\n",
              "          element.innerHTML = '';\n",
              "          dataTable['output_type'] = 'display_data';\n",
              "          await google.colab.output.renderOutput(dataTable, element);\n",
              "          const docLink = document.createElement('div');\n",
              "          docLink.innerHTML = docLinkHtml;\n",
              "          element.appendChild(docLink);\n",
              "        }\n",
              "      </script>\n",
              "    </div>\n",
              "  </div>\n",
              "  "
            ]
          },
          "metadata": {},
          "execution_count": 435
        }
      ]
    },
    {
      "cell_type": "code",
      "source": [
        "#Imputing removed column indexes so I add them back\n",
        "X.columns= X.columns\n",
        "X.columns= X.columns\n",
        "X.head()"
      ],
      "metadata": {
        "colab": {
          "base_uri": "https://localhost:8080/",
          "height": 206
        },
        "id": "3Nm4TB5714b8",
        "outputId": "b097738c-723d-4dce-a14d-9779fe67c07f"
      },
      "execution_count": 436,
      "outputs": [
        {
          "output_type": "execute_result",
          "data": {
            "text/plain": [
              "    0     1    2     3    4    5    6    7      8      9     10     11    12  \\\n",
              "0  1.0  39.0  0.0   0.0  0.0  0.0  0.0  0.0  195.0  106.0  70.0  26.97  80.0   \n",
              "1  0.0  46.0  0.0   0.0  0.0  0.0  0.0  0.0  250.0  121.0  81.0  28.73  95.0   \n",
              "2  1.0  48.0  1.0  20.0  0.0  0.0  0.0  0.0  245.0  127.5  80.0  25.34  75.0   \n",
              "3  0.0  61.0  1.0  30.0  0.0  0.0  1.0  0.0  225.0  150.0  95.0  28.58  65.0   \n",
              "4  0.0  46.0  1.0  23.0  0.0  0.0  0.0  0.0  285.0  130.0  84.0  23.10  85.0   \n",
              "\n",
              "      13  \n",
              "0   77.0  \n",
              "1   76.0  \n",
              "2   70.0  \n",
              "3  103.0  \n",
              "4   85.0  "
            ],
            "text/html": [
              "\n",
              "  <div id=\"df-40b47b15-27bb-4a52-a03a-ebbfe5b74eec\">\n",
              "    <div class=\"colab-df-container\">\n",
              "      <div>\n",
              "<style scoped>\n",
              "    .dataframe tbody tr th:only-of-type {\n",
              "        vertical-align: middle;\n",
              "    }\n",
              "\n",
              "    .dataframe tbody tr th {\n",
              "        vertical-align: top;\n",
              "    }\n",
              "\n",
              "    .dataframe thead th {\n",
              "        text-align: right;\n",
              "    }\n",
              "</style>\n",
              "<table border=\"1\" class=\"dataframe\">\n",
              "  <thead>\n",
              "    <tr style=\"text-align: right;\">\n",
              "      <th></th>\n",
              "      <th>0</th>\n",
              "      <th>1</th>\n",
              "      <th>2</th>\n",
              "      <th>3</th>\n",
              "      <th>4</th>\n",
              "      <th>5</th>\n",
              "      <th>6</th>\n",
              "      <th>7</th>\n",
              "      <th>8</th>\n",
              "      <th>9</th>\n",
              "      <th>10</th>\n",
              "      <th>11</th>\n",
              "      <th>12</th>\n",
              "      <th>13</th>\n",
              "    </tr>\n",
              "  </thead>\n",
              "  <tbody>\n",
              "    <tr>\n",
              "      <th>0</th>\n",
              "      <td>1.0</td>\n",
              "      <td>39.0</td>\n",
              "      <td>0.0</td>\n",
              "      <td>0.0</td>\n",
              "      <td>0.0</td>\n",
              "      <td>0.0</td>\n",
              "      <td>0.0</td>\n",
              "      <td>0.0</td>\n",
              "      <td>195.0</td>\n",
              "      <td>106.0</td>\n",
              "      <td>70.0</td>\n",
              "      <td>26.97</td>\n",
              "      <td>80.0</td>\n",
              "      <td>77.0</td>\n",
              "    </tr>\n",
              "    <tr>\n",
              "      <th>1</th>\n",
              "      <td>0.0</td>\n",
              "      <td>46.0</td>\n",
              "      <td>0.0</td>\n",
              "      <td>0.0</td>\n",
              "      <td>0.0</td>\n",
              "      <td>0.0</td>\n",
              "      <td>0.0</td>\n",
              "      <td>0.0</td>\n",
              "      <td>250.0</td>\n",
              "      <td>121.0</td>\n",
              "      <td>81.0</td>\n",
              "      <td>28.73</td>\n",
              "      <td>95.0</td>\n",
              "      <td>76.0</td>\n",
              "    </tr>\n",
              "    <tr>\n",
              "      <th>2</th>\n",
              "      <td>1.0</td>\n",
              "      <td>48.0</td>\n",
              "      <td>1.0</td>\n",
              "      <td>20.0</td>\n",
              "      <td>0.0</td>\n",
              "      <td>0.0</td>\n",
              "      <td>0.0</td>\n",
              "      <td>0.0</td>\n",
              "      <td>245.0</td>\n",
              "      <td>127.5</td>\n",
              "      <td>80.0</td>\n",
              "      <td>25.34</td>\n",
              "      <td>75.0</td>\n",
              "      <td>70.0</td>\n",
              "    </tr>\n",
              "    <tr>\n",
              "      <th>3</th>\n",
              "      <td>0.0</td>\n",
              "      <td>61.0</td>\n",
              "      <td>1.0</td>\n",
              "      <td>30.0</td>\n",
              "      <td>0.0</td>\n",
              "      <td>0.0</td>\n",
              "      <td>1.0</td>\n",
              "      <td>0.0</td>\n",
              "      <td>225.0</td>\n",
              "      <td>150.0</td>\n",
              "      <td>95.0</td>\n",
              "      <td>28.58</td>\n",
              "      <td>65.0</td>\n",
              "      <td>103.0</td>\n",
              "    </tr>\n",
              "    <tr>\n",
              "      <th>4</th>\n",
              "      <td>0.0</td>\n",
              "      <td>46.0</td>\n",
              "      <td>1.0</td>\n",
              "      <td>23.0</td>\n",
              "      <td>0.0</td>\n",
              "      <td>0.0</td>\n",
              "      <td>0.0</td>\n",
              "      <td>0.0</td>\n",
              "      <td>285.0</td>\n",
              "      <td>130.0</td>\n",
              "      <td>84.0</td>\n",
              "      <td>23.10</td>\n",
              "      <td>85.0</td>\n",
              "      <td>85.0</td>\n",
              "    </tr>\n",
              "  </tbody>\n",
              "</table>\n",
              "</div>\n",
              "      <button class=\"colab-df-convert\" onclick=\"convertToInteractive('df-40b47b15-27bb-4a52-a03a-ebbfe5b74eec')\"\n",
              "              title=\"Convert this dataframe to an interactive table.\"\n",
              "              style=\"display:none;\">\n",
              "        \n",
              "  <svg xmlns=\"http://www.w3.org/2000/svg\" height=\"24px\"viewBox=\"0 0 24 24\"\n",
              "       width=\"24px\">\n",
              "    <path d=\"M0 0h24v24H0V0z\" fill=\"none\"/>\n",
              "    <path d=\"M18.56 5.44l.94 2.06.94-2.06 2.06-.94-2.06-.94-.94-2.06-.94 2.06-2.06.94zm-11 1L8.5 8.5l.94-2.06 2.06-.94-2.06-.94L8.5 2.5l-.94 2.06-2.06.94zm10 10l.94 2.06.94-2.06 2.06-.94-2.06-.94-.94-2.06-.94 2.06-2.06.94z\"/><path d=\"M17.41 7.96l-1.37-1.37c-.4-.4-.92-.59-1.43-.59-.52 0-1.04.2-1.43.59L10.3 9.45l-7.72 7.72c-.78.78-.78 2.05 0 2.83L4 21.41c.39.39.9.59 1.41.59.51 0 1.02-.2 1.41-.59l7.78-7.78 2.81-2.81c.8-.78.8-2.07 0-2.86zM5.41 20L4 18.59l7.72-7.72 1.47 1.35L5.41 20z\"/>\n",
              "  </svg>\n",
              "      </button>\n",
              "      \n",
              "  <style>\n",
              "    .colab-df-container {\n",
              "      display:flex;\n",
              "      flex-wrap:wrap;\n",
              "      gap: 12px;\n",
              "    }\n",
              "\n",
              "    .colab-df-convert {\n",
              "      background-color: #E8F0FE;\n",
              "      border: none;\n",
              "      border-radius: 50%;\n",
              "      cursor: pointer;\n",
              "      display: none;\n",
              "      fill: #1967D2;\n",
              "      height: 32px;\n",
              "      padding: 0 0 0 0;\n",
              "      width: 32px;\n",
              "    }\n",
              "\n",
              "    .colab-df-convert:hover {\n",
              "      background-color: #E2EBFA;\n",
              "      box-shadow: 0px 1px 2px rgba(60, 64, 67, 0.3), 0px 1px 3px 1px rgba(60, 64, 67, 0.15);\n",
              "      fill: #174EA6;\n",
              "    }\n",
              "\n",
              "    [theme=dark] .colab-df-convert {\n",
              "      background-color: #3B4455;\n",
              "      fill: #D2E3FC;\n",
              "    }\n",
              "\n",
              "    [theme=dark] .colab-df-convert:hover {\n",
              "      background-color: #434B5C;\n",
              "      box-shadow: 0px 1px 3px 1px rgba(0, 0, 0, 0.15);\n",
              "      filter: drop-shadow(0px 1px 2px rgba(0, 0, 0, 0.3));\n",
              "      fill: #FFFFFF;\n",
              "    }\n",
              "  </style>\n",
              "\n",
              "      <script>\n",
              "        const buttonEl =\n",
              "          document.querySelector('#df-40b47b15-27bb-4a52-a03a-ebbfe5b74eec button.colab-df-convert');\n",
              "        buttonEl.style.display =\n",
              "          google.colab.kernel.accessAllowed ? 'block' : 'none';\n",
              "\n",
              "        async function convertToInteractive(key) {\n",
              "          const element = document.querySelector('#df-40b47b15-27bb-4a52-a03a-ebbfe5b74eec');\n",
              "          const dataTable =\n",
              "            await google.colab.kernel.invokeFunction('convertToInteractive',\n",
              "                                                     [key], {});\n",
              "          if (!dataTable) return;\n",
              "\n",
              "          const docLinkHtml = 'Like what you see? Visit the ' +\n",
              "            '<a target=\"_blank\" href=https://colab.research.google.com/notebooks/data_table.ipynb>data table notebook</a>'\n",
              "            + ' to learn more about interactive tables.';\n",
              "          element.innerHTML = '';\n",
              "          dataTable['output_type'] = 'display_data';\n",
              "          await google.colab.output.renderOutput(dataTable, element);\n",
              "          const docLink = document.createElement('div');\n",
              "          docLink.innerHTML = docLinkHtml;\n",
              "          element.appendChild(docLink);\n",
              "        }\n",
              "      </script>\n",
              "    </div>\n",
              "  </div>\n",
              "  "
            ]
          },
          "metadata": {},
          "execution_count": 436
        }
      ]
    },
    {
      "cell_type": "code",
      "source": [
        "#Scaling the data\n",
        "from sklearn.preprocessing import StandardScaler\n",
        "sc=StandardScaler()\n",
        "X=pd.DataFrame(sc.fit_transform(X))\n",
        "X=pd.DataFrame(sc.transform(X))\n",
        "\n",
        "X.head()"
      ],
      "metadata": {
        "colab": {
          "base_uri": "https://localhost:8080/",
          "height": 250
        },
        "id": "85t--sAI16Wm",
        "outputId": "2ccac162-1e41-4726-c51d-290b7831f45c"
      },
      "execution_count": 437,
      "outputs": [
        {
          "output_type": "execute_result",
          "data": {
            "text/plain": [
              "         0         1         2         3         4         5         6   \\\n",
              "0  1.462693 -5.929182 -2.964950 -0.821788 -1.203753 -1.082967 -2.121477   \n",
              "1 -2.619122 -5.833898 -2.964950 -0.821788 -1.203753 -1.082967 -2.121477   \n",
              "2  1.462693 -5.806674  1.035607 -0.680028 -1.203753 -1.082967 -2.121477   \n",
              "3 -2.619122 -5.629718  1.035607 -0.609147 -1.203753 -1.082967  2.549264   \n",
              "4 -2.619122 -5.833898  1.035607 -0.658764 -1.203753 -1.082967 -2.121477   \n",
              "\n",
              "         7         8         9         10        11        12        13  \n",
              "0 -1.188875 -5.362283 -6.060599 -7.051218 -6.268330 -6.282244 -3.599220  \n",
              "1 -1.188875 -5.334284 -6.029707 -6.973663 -6.162106 -6.178488 -3.601138  \n",
              "2 -1.188875 -5.336829 -6.016321 -6.980714 -6.366708 -6.316829 -3.612646  \n",
              "3 -1.188875 -5.347011 -5.969983 -6.874957 -6.171159 -6.385999 -3.549353  \n",
              "4 -1.188875 -5.316467 -6.011172 -6.952512 -6.501903 -6.247659 -3.583877  "
            ],
            "text/html": [
              "\n",
              "  <div id=\"df-ddfdd674-6861-41b5-81e5-e25f920a3ae2\">\n",
              "    <div class=\"colab-df-container\">\n",
              "      <div>\n",
              "<style scoped>\n",
              "    .dataframe tbody tr th:only-of-type {\n",
              "        vertical-align: middle;\n",
              "    }\n",
              "\n",
              "    .dataframe tbody tr th {\n",
              "        vertical-align: top;\n",
              "    }\n",
              "\n",
              "    .dataframe thead th {\n",
              "        text-align: right;\n",
              "    }\n",
              "</style>\n",
              "<table border=\"1\" class=\"dataframe\">\n",
              "  <thead>\n",
              "    <tr style=\"text-align: right;\">\n",
              "      <th></th>\n",
              "      <th>0</th>\n",
              "      <th>1</th>\n",
              "      <th>2</th>\n",
              "      <th>3</th>\n",
              "      <th>4</th>\n",
              "      <th>5</th>\n",
              "      <th>6</th>\n",
              "      <th>7</th>\n",
              "      <th>8</th>\n",
              "      <th>9</th>\n",
              "      <th>10</th>\n",
              "      <th>11</th>\n",
              "      <th>12</th>\n",
              "      <th>13</th>\n",
              "    </tr>\n",
              "  </thead>\n",
              "  <tbody>\n",
              "    <tr>\n",
              "      <th>0</th>\n",
              "      <td>1.462693</td>\n",
              "      <td>-5.929182</td>\n",
              "      <td>-2.964950</td>\n",
              "      <td>-0.821788</td>\n",
              "      <td>-1.203753</td>\n",
              "      <td>-1.082967</td>\n",
              "      <td>-2.121477</td>\n",
              "      <td>-1.188875</td>\n",
              "      <td>-5.362283</td>\n",
              "      <td>-6.060599</td>\n",
              "      <td>-7.051218</td>\n",
              "      <td>-6.268330</td>\n",
              "      <td>-6.282244</td>\n",
              "      <td>-3.599220</td>\n",
              "    </tr>\n",
              "    <tr>\n",
              "      <th>1</th>\n",
              "      <td>-2.619122</td>\n",
              "      <td>-5.833898</td>\n",
              "      <td>-2.964950</td>\n",
              "      <td>-0.821788</td>\n",
              "      <td>-1.203753</td>\n",
              "      <td>-1.082967</td>\n",
              "      <td>-2.121477</td>\n",
              "      <td>-1.188875</td>\n",
              "      <td>-5.334284</td>\n",
              "      <td>-6.029707</td>\n",
              "      <td>-6.973663</td>\n",
              "      <td>-6.162106</td>\n",
              "      <td>-6.178488</td>\n",
              "      <td>-3.601138</td>\n",
              "    </tr>\n",
              "    <tr>\n",
              "      <th>2</th>\n",
              "      <td>1.462693</td>\n",
              "      <td>-5.806674</td>\n",
              "      <td>1.035607</td>\n",
              "      <td>-0.680028</td>\n",
              "      <td>-1.203753</td>\n",
              "      <td>-1.082967</td>\n",
              "      <td>-2.121477</td>\n",
              "      <td>-1.188875</td>\n",
              "      <td>-5.336829</td>\n",
              "      <td>-6.016321</td>\n",
              "      <td>-6.980714</td>\n",
              "      <td>-6.366708</td>\n",
              "      <td>-6.316829</td>\n",
              "      <td>-3.612646</td>\n",
              "    </tr>\n",
              "    <tr>\n",
              "      <th>3</th>\n",
              "      <td>-2.619122</td>\n",
              "      <td>-5.629718</td>\n",
              "      <td>1.035607</td>\n",
              "      <td>-0.609147</td>\n",
              "      <td>-1.203753</td>\n",
              "      <td>-1.082967</td>\n",
              "      <td>2.549264</td>\n",
              "      <td>-1.188875</td>\n",
              "      <td>-5.347011</td>\n",
              "      <td>-5.969983</td>\n",
              "      <td>-6.874957</td>\n",
              "      <td>-6.171159</td>\n",
              "      <td>-6.385999</td>\n",
              "      <td>-3.549353</td>\n",
              "    </tr>\n",
              "    <tr>\n",
              "      <th>4</th>\n",
              "      <td>-2.619122</td>\n",
              "      <td>-5.833898</td>\n",
              "      <td>1.035607</td>\n",
              "      <td>-0.658764</td>\n",
              "      <td>-1.203753</td>\n",
              "      <td>-1.082967</td>\n",
              "      <td>-2.121477</td>\n",
              "      <td>-1.188875</td>\n",
              "      <td>-5.316467</td>\n",
              "      <td>-6.011172</td>\n",
              "      <td>-6.952512</td>\n",
              "      <td>-6.501903</td>\n",
              "      <td>-6.247659</td>\n",
              "      <td>-3.583877</td>\n",
              "    </tr>\n",
              "  </tbody>\n",
              "</table>\n",
              "</div>\n",
              "      <button class=\"colab-df-convert\" onclick=\"convertToInteractive('df-ddfdd674-6861-41b5-81e5-e25f920a3ae2')\"\n",
              "              title=\"Convert this dataframe to an interactive table.\"\n",
              "              style=\"display:none;\">\n",
              "        \n",
              "  <svg xmlns=\"http://www.w3.org/2000/svg\" height=\"24px\"viewBox=\"0 0 24 24\"\n",
              "       width=\"24px\">\n",
              "    <path d=\"M0 0h24v24H0V0z\" fill=\"none\"/>\n",
              "    <path d=\"M18.56 5.44l.94 2.06.94-2.06 2.06-.94-2.06-.94-.94-2.06-.94 2.06-2.06.94zm-11 1L8.5 8.5l.94-2.06 2.06-.94-2.06-.94L8.5 2.5l-.94 2.06-2.06.94zm10 10l.94 2.06.94-2.06 2.06-.94-2.06-.94-.94-2.06-.94 2.06-2.06.94z\"/><path d=\"M17.41 7.96l-1.37-1.37c-.4-.4-.92-.59-1.43-.59-.52 0-1.04.2-1.43.59L10.3 9.45l-7.72 7.72c-.78.78-.78 2.05 0 2.83L4 21.41c.39.39.9.59 1.41.59.51 0 1.02-.2 1.41-.59l7.78-7.78 2.81-2.81c.8-.78.8-2.07 0-2.86zM5.41 20L4 18.59l7.72-7.72 1.47 1.35L5.41 20z\"/>\n",
              "  </svg>\n",
              "      </button>\n",
              "      \n",
              "  <style>\n",
              "    .colab-df-container {\n",
              "      display:flex;\n",
              "      flex-wrap:wrap;\n",
              "      gap: 12px;\n",
              "    }\n",
              "\n",
              "    .colab-df-convert {\n",
              "      background-color: #E8F0FE;\n",
              "      border: none;\n",
              "      border-radius: 50%;\n",
              "      cursor: pointer;\n",
              "      display: none;\n",
              "      fill: #1967D2;\n",
              "      height: 32px;\n",
              "      padding: 0 0 0 0;\n",
              "      width: 32px;\n",
              "    }\n",
              "\n",
              "    .colab-df-convert:hover {\n",
              "      background-color: #E2EBFA;\n",
              "      box-shadow: 0px 1px 2px rgba(60, 64, 67, 0.3), 0px 1px 3px 1px rgba(60, 64, 67, 0.15);\n",
              "      fill: #174EA6;\n",
              "    }\n",
              "\n",
              "    [theme=dark] .colab-df-convert {\n",
              "      background-color: #3B4455;\n",
              "      fill: #D2E3FC;\n",
              "    }\n",
              "\n",
              "    [theme=dark] .colab-df-convert:hover {\n",
              "      background-color: #434B5C;\n",
              "      box-shadow: 0px 1px 3px 1px rgba(0, 0, 0, 0.15);\n",
              "      filter: drop-shadow(0px 1px 2px rgba(0, 0, 0, 0.3));\n",
              "      fill: #FFFFFF;\n",
              "    }\n",
              "  </style>\n",
              "\n",
              "      <script>\n",
              "        const buttonEl =\n",
              "          document.querySelector('#df-ddfdd674-6861-41b5-81e5-e25f920a3ae2 button.colab-df-convert');\n",
              "        buttonEl.style.display =\n",
              "          google.colab.kernel.accessAllowed ? 'block' : 'none';\n",
              "\n",
              "        async function convertToInteractive(key) {\n",
              "          const element = document.querySelector('#df-ddfdd674-6861-41b5-81e5-e25f920a3ae2');\n",
              "          const dataTable =\n",
              "            await google.colab.kernel.invokeFunction('convertToInteractive',\n",
              "                                                     [key], {});\n",
              "          if (!dataTable) return;\n",
              "\n",
              "          const docLinkHtml = 'Like what you see? Visit the ' +\n",
              "            '<a target=\"_blank\" href=https://colab.research.google.com/notebooks/data_table.ipynb>data table notebook</a>'\n",
              "            + ' to learn more about interactive tables.';\n",
              "          element.innerHTML = '';\n",
              "          dataTable['output_type'] = 'display_data';\n",
              "          await google.colab.output.renderOutput(dataTable, element);\n",
              "          const docLink = document.createElement('div');\n",
              "          docLink.innerHTML = docLinkHtml;\n",
              "          element.appendChild(docLink);\n",
              "        }\n",
              "      </script>\n",
              "    </div>\n",
              "  </div>\n",
              "  "
            ]
          },
          "metadata": {},
          "execution_count": 437
        }
      ]
    },
    {
      "cell_type": "code",
      "source": [
        "#Scaling removed column indexes here i reset them\n",
        "X.columns= X.columns   \n",
        "X.columns= X.columns\n",
        "\n",
        "X.head()"
      ],
      "metadata": {
        "colab": {
          "base_uri": "https://localhost:8080/",
          "height": 250
        },
        "id": "e57l9w3e19qX",
        "outputId": "010d2927-9b2d-4af2-e883-a9a4d36ff7cf"
      },
      "execution_count": 438,
      "outputs": [
        {
          "output_type": "execute_result",
          "data": {
            "text/plain": [
              "         0         1         2         3         4         5         6   \\\n",
              "0  1.462693 -5.929182 -2.964950 -0.821788 -1.203753 -1.082967 -2.121477   \n",
              "1 -2.619122 -5.833898 -2.964950 -0.821788 -1.203753 -1.082967 -2.121477   \n",
              "2  1.462693 -5.806674  1.035607 -0.680028 -1.203753 -1.082967 -2.121477   \n",
              "3 -2.619122 -5.629718  1.035607 -0.609147 -1.203753 -1.082967  2.549264   \n",
              "4 -2.619122 -5.833898  1.035607 -0.658764 -1.203753 -1.082967 -2.121477   \n",
              "\n",
              "         7         8         9         10        11        12        13  \n",
              "0 -1.188875 -5.362283 -6.060599 -7.051218 -6.268330 -6.282244 -3.599220  \n",
              "1 -1.188875 -5.334284 -6.029707 -6.973663 -6.162106 -6.178488 -3.601138  \n",
              "2 -1.188875 -5.336829 -6.016321 -6.980714 -6.366708 -6.316829 -3.612646  \n",
              "3 -1.188875 -5.347011 -5.969983 -6.874957 -6.171159 -6.385999 -3.549353  \n",
              "4 -1.188875 -5.316467 -6.011172 -6.952512 -6.501903 -6.247659 -3.583877  "
            ],
            "text/html": [
              "\n",
              "  <div id=\"df-93ab4511-c25e-4861-8ae6-997e92c9ede3\">\n",
              "    <div class=\"colab-df-container\">\n",
              "      <div>\n",
              "<style scoped>\n",
              "    .dataframe tbody tr th:only-of-type {\n",
              "        vertical-align: middle;\n",
              "    }\n",
              "\n",
              "    .dataframe tbody tr th {\n",
              "        vertical-align: top;\n",
              "    }\n",
              "\n",
              "    .dataframe thead th {\n",
              "        text-align: right;\n",
              "    }\n",
              "</style>\n",
              "<table border=\"1\" class=\"dataframe\">\n",
              "  <thead>\n",
              "    <tr style=\"text-align: right;\">\n",
              "      <th></th>\n",
              "      <th>0</th>\n",
              "      <th>1</th>\n",
              "      <th>2</th>\n",
              "      <th>3</th>\n",
              "      <th>4</th>\n",
              "      <th>5</th>\n",
              "      <th>6</th>\n",
              "      <th>7</th>\n",
              "      <th>8</th>\n",
              "      <th>9</th>\n",
              "      <th>10</th>\n",
              "      <th>11</th>\n",
              "      <th>12</th>\n",
              "      <th>13</th>\n",
              "    </tr>\n",
              "  </thead>\n",
              "  <tbody>\n",
              "    <tr>\n",
              "      <th>0</th>\n",
              "      <td>1.462693</td>\n",
              "      <td>-5.929182</td>\n",
              "      <td>-2.964950</td>\n",
              "      <td>-0.821788</td>\n",
              "      <td>-1.203753</td>\n",
              "      <td>-1.082967</td>\n",
              "      <td>-2.121477</td>\n",
              "      <td>-1.188875</td>\n",
              "      <td>-5.362283</td>\n",
              "      <td>-6.060599</td>\n",
              "      <td>-7.051218</td>\n",
              "      <td>-6.268330</td>\n",
              "      <td>-6.282244</td>\n",
              "      <td>-3.599220</td>\n",
              "    </tr>\n",
              "    <tr>\n",
              "      <th>1</th>\n",
              "      <td>-2.619122</td>\n",
              "      <td>-5.833898</td>\n",
              "      <td>-2.964950</td>\n",
              "      <td>-0.821788</td>\n",
              "      <td>-1.203753</td>\n",
              "      <td>-1.082967</td>\n",
              "      <td>-2.121477</td>\n",
              "      <td>-1.188875</td>\n",
              "      <td>-5.334284</td>\n",
              "      <td>-6.029707</td>\n",
              "      <td>-6.973663</td>\n",
              "      <td>-6.162106</td>\n",
              "      <td>-6.178488</td>\n",
              "      <td>-3.601138</td>\n",
              "    </tr>\n",
              "    <tr>\n",
              "      <th>2</th>\n",
              "      <td>1.462693</td>\n",
              "      <td>-5.806674</td>\n",
              "      <td>1.035607</td>\n",
              "      <td>-0.680028</td>\n",
              "      <td>-1.203753</td>\n",
              "      <td>-1.082967</td>\n",
              "      <td>-2.121477</td>\n",
              "      <td>-1.188875</td>\n",
              "      <td>-5.336829</td>\n",
              "      <td>-6.016321</td>\n",
              "      <td>-6.980714</td>\n",
              "      <td>-6.366708</td>\n",
              "      <td>-6.316829</td>\n",
              "      <td>-3.612646</td>\n",
              "    </tr>\n",
              "    <tr>\n",
              "      <th>3</th>\n",
              "      <td>-2.619122</td>\n",
              "      <td>-5.629718</td>\n",
              "      <td>1.035607</td>\n",
              "      <td>-0.609147</td>\n",
              "      <td>-1.203753</td>\n",
              "      <td>-1.082967</td>\n",
              "      <td>2.549264</td>\n",
              "      <td>-1.188875</td>\n",
              "      <td>-5.347011</td>\n",
              "      <td>-5.969983</td>\n",
              "      <td>-6.874957</td>\n",
              "      <td>-6.171159</td>\n",
              "      <td>-6.385999</td>\n",
              "      <td>-3.549353</td>\n",
              "    </tr>\n",
              "    <tr>\n",
              "      <th>4</th>\n",
              "      <td>-2.619122</td>\n",
              "      <td>-5.833898</td>\n",
              "      <td>1.035607</td>\n",
              "      <td>-0.658764</td>\n",
              "      <td>-1.203753</td>\n",
              "      <td>-1.082967</td>\n",
              "      <td>-2.121477</td>\n",
              "      <td>-1.188875</td>\n",
              "      <td>-5.316467</td>\n",
              "      <td>-6.011172</td>\n",
              "      <td>-6.952512</td>\n",
              "      <td>-6.501903</td>\n",
              "      <td>-6.247659</td>\n",
              "      <td>-3.583877</td>\n",
              "    </tr>\n",
              "  </tbody>\n",
              "</table>\n",
              "</div>\n",
              "      <button class=\"colab-df-convert\" onclick=\"convertToInteractive('df-93ab4511-c25e-4861-8ae6-997e92c9ede3')\"\n",
              "              title=\"Convert this dataframe to an interactive table.\"\n",
              "              style=\"display:none;\">\n",
              "        \n",
              "  <svg xmlns=\"http://www.w3.org/2000/svg\" height=\"24px\"viewBox=\"0 0 24 24\"\n",
              "       width=\"24px\">\n",
              "    <path d=\"M0 0h24v24H0V0z\" fill=\"none\"/>\n",
              "    <path d=\"M18.56 5.44l.94 2.06.94-2.06 2.06-.94-2.06-.94-.94-2.06-.94 2.06-2.06.94zm-11 1L8.5 8.5l.94-2.06 2.06-.94-2.06-.94L8.5 2.5l-.94 2.06-2.06.94zm10 10l.94 2.06.94-2.06 2.06-.94-2.06-.94-.94-2.06-.94 2.06-2.06.94z\"/><path d=\"M17.41 7.96l-1.37-1.37c-.4-.4-.92-.59-1.43-.59-.52 0-1.04.2-1.43.59L10.3 9.45l-7.72 7.72c-.78.78-.78 2.05 0 2.83L4 21.41c.39.39.9.59 1.41.59.51 0 1.02-.2 1.41-.59l7.78-7.78 2.81-2.81c.8-.78.8-2.07 0-2.86zM5.41 20L4 18.59l7.72-7.72 1.47 1.35L5.41 20z\"/>\n",
              "  </svg>\n",
              "      </button>\n",
              "      \n",
              "  <style>\n",
              "    .colab-df-container {\n",
              "      display:flex;\n",
              "      flex-wrap:wrap;\n",
              "      gap: 12px;\n",
              "    }\n",
              "\n",
              "    .colab-df-convert {\n",
              "      background-color: #E8F0FE;\n",
              "      border: none;\n",
              "      border-radius: 50%;\n",
              "      cursor: pointer;\n",
              "      display: none;\n",
              "      fill: #1967D2;\n",
              "      height: 32px;\n",
              "      padding: 0 0 0 0;\n",
              "      width: 32px;\n",
              "    }\n",
              "\n",
              "    .colab-df-convert:hover {\n",
              "      background-color: #E2EBFA;\n",
              "      box-shadow: 0px 1px 2px rgba(60, 64, 67, 0.3), 0px 1px 3px 1px rgba(60, 64, 67, 0.15);\n",
              "      fill: #174EA6;\n",
              "    }\n",
              "\n",
              "    [theme=dark] .colab-df-convert {\n",
              "      background-color: #3B4455;\n",
              "      fill: #D2E3FC;\n",
              "    }\n",
              "\n",
              "    [theme=dark] .colab-df-convert:hover {\n",
              "      background-color: #434B5C;\n",
              "      box-shadow: 0px 1px 3px 1px rgba(0, 0, 0, 0.15);\n",
              "      filter: drop-shadow(0px 1px 2px rgba(0, 0, 0, 0.3));\n",
              "      fill: #FFFFFF;\n",
              "    }\n",
              "  </style>\n",
              "\n",
              "      <script>\n",
              "        const buttonEl =\n",
              "          document.querySelector('#df-93ab4511-c25e-4861-8ae6-997e92c9ede3 button.colab-df-convert');\n",
              "        buttonEl.style.display =\n",
              "          google.colab.kernel.accessAllowed ? 'block' : 'none';\n",
              "\n",
              "        async function convertToInteractive(key) {\n",
              "          const element = document.querySelector('#df-93ab4511-c25e-4861-8ae6-997e92c9ede3');\n",
              "          const dataTable =\n",
              "            await google.colab.kernel.invokeFunction('convertToInteractive',\n",
              "                                                     [key], {});\n",
              "          if (!dataTable) return;\n",
              "\n",
              "          const docLinkHtml = 'Like what you see? Visit the ' +\n",
              "            '<a target=\"_blank\" href=https://colab.research.google.com/notebooks/data_table.ipynb>data table notebook</a>'\n",
              "            + ' to learn more about interactive tables.';\n",
              "          element.innerHTML = '';\n",
              "          dataTable['output_type'] = 'display_data';\n",
              "          await google.colab.output.renderOutput(dataTable, element);\n",
              "          const docLink = document.createElement('div');\n",
              "          docLink.innerHTML = docLinkHtml;\n",
              "          element.appendChild(docLink);\n",
              "        }\n",
              "      </script>\n",
              "    </div>\n",
              "  </div>\n",
              "  "
            ]
          },
          "metadata": {},
          "execution_count": 438
        }
      ]
    },
    {
      "cell_type": "code",
      "source": [
        "#Funtion to build and visualise a confusion matrix\n",
        "from sklearn.metrics import classification_report, confusion_matrix, accuracy_score\n",
        "def my_confusion_matrix(y_test, y_pred, plt_title, accuracy_title):\n",
        "    cm=confusion_matrix(y_test, y_pred)\n",
        "    print(f'{accuracy_title} accuracy score:', '{:.2%}'.format(accuracy_score(y_test, y_pred)))\n",
        "    print(classification_report(y_test, y_pred))\n",
        "    sns.heatmap(cm, annot=True, fmt='g', cbar=False, cmap='Blues')\n",
        "    plt.xlabel('Predicted Values')\n",
        "    plt.ylabel('Actual Values')\n",
        "    plt.title(plt_title)\n",
        "    plt.show()\n",
        "    return cm"
      ],
      "metadata": {
        "id": "zMf9col42AW_"
      },
      "execution_count": 439,
      "outputs": []
    },
    {
      "cell_type": "code",
      "source": [
        "X.shape"
      ],
      "metadata": {
        "colab": {
          "base_uri": "https://localhost:8080/"
        },
        "id": "KNYBqEOj2CaP",
        "outputId": "2e96411c-b537-4b8b-f3a3-7b35387b7dd5"
      },
      "execution_count": 440,
      "outputs": [
        {
          "output_type": "execute_result",
          "data": {
            "text/plain": [
              "(4238, 14)"
            ]
          },
          "metadata": {},
          "execution_count": 440
        }
      ]
    },
    {
      "cell_type": "code",
      "source": [
        "#Splitting the data into train/test sets\n",
        "from sklearn.model_selection import train_test_split\n",
        "X_train,X_test,y_train,y_test=train_test_split(X, y, test_size=0.2, random_state=0)"
      ],
      "metadata": {
        "id": "ovvEJAdH2Fm6"
      },
      "execution_count": 441,
      "outputs": []
    },
    {
      "cell_type": "code",
      "source": [],
      "metadata": {
        "id": "86pZN4j53W4U"
      },
      "execution_count": 441,
      "outputs": []
    },
    {
      "cell_type": "code",
      "source": [
        "sc_x = StandardScaler()\n",
        "X_train = sc_x.fit_transform(X_train)\n",
        "X_test = sc_x.transform(X_test)"
      ],
      "metadata": {
        "id": "Msrg7IeF2KyK"
      },
      "execution_count": 442,
      "outputs": []
    },
    {
      "cell_type": "code",
      "source": [
        "classifier = KNeighborsClassifier(n_neighbors = 9, p = 2, metric = 'euclidean')\n",
        "classifier.fit(X_train,y_train)"
      ],
      "metadata": {
        "colab": {
          "base_uri": "https://localhost:8080/"
        },
        "id": "HNJo23Ta2m8W",
        "outputId": "c851c926-c8e9-48a8-aae0-67f132037739"
      },
      "execution_count": 443,
      "outputs": [
        {
          "output_type": "execute_result",
          "data": {
            "text/plain": [
              "KNeighborsClassifier(metric='euclidean', n_neighbors=9)"
            ]
          },
          "metadata": {},
          "execution_count": 443
        }
      ]
    },
    {
      "cell_type": "code",
      "source": [
        "y_pred = classifier.predict(X_test)\n",
        "y_pred"
      ],
      "metadata": {
        "colab": {
          "base_uri": "https://localhost:8080/"
        },
        "id": "zzi11wAq2sh1",
        "outputId": "9e147e3e-0594-4834-8387-8d5a1d0fb1cc"
      },
      "execution_count": 444,
      "outputs": [
        {
          "output_type": "execute_result",
          "data": {
            "text/plain": [
              "array([0, 0, 0, 0, 0, 0, 1, 0, 0, 0, 0, 0, 0, 0, 0, 0, 0, 0, 0, 0, 0, 0,\n",
              "       0, 0, 0, 1, 0, 0, 0, 0, 0, 0, 0, 0, 0, 0, 0, 0, 0, 0, 0, 0, 0, 0,\n",
              "       0, 0, 0, 0, 0, 0, 0, 0, 0, 0, 0, 0, 0, 0, 0, 0, 0, 0, 0, 0, 0, 0,\n",
              "       0, 0, 0, 0, 0, 0, 0, 0, 0, 0, 0, 0, 0, 0, 0, 0, 0, 0, 0, 0, 0, 0,\n",
              "       0, 0, 0, 0, 0, 0, 0, 0, 0, 0, 0, 0, 0, 0, 0, 0, 0, 0, 0, 0, 0, 0,\n",
              "       0, 0, 0, 0, 0, 0, 0, 0, 1, 0, 1, 0, 0, 0, 0, 0, 0, 0, 0, 0, 0, 0,\n",
              "       0, 0, 0, 0, 0, 0, 0, 0, 0, 0, 0, 0, 0, 0, 0, 0, 0, 0, 0, 0, 0, 0,\n",
              "       0, 0, 1, 0, 0, 0, 0, 0, 0, 0, 0, 0, 0, 0, 0, 0, 0, 0, 0, 0, 0, 0,\n",
              "       0, 0, 0, 0, 0, 0, 0, 0, 0, 0, 0, 0, 0, 0, 0, 0, 0, 0, 0, 0, 0, 0,\n",
              "       0, 0, 0, 0, 0, 0, 0, 0, 0, 0, 0, 0, 0, 0, 0, 0, 0, 0, 0, 0, 0, 0,\n",
              "       0, 0, 0, 0, 0, 0, 0, 0, 0, 0, 0, 0, 0, 0, 0, 0, 0, 0, 0, 0, 0, 0,\n",
              "       0, 0, 0, 0, 0, 0, 0, 0, 0, 0, 0, 0, 0, 0, 0, 0, 0, 0, 0, 0, 0, 0,\n",
              "       0, 0, 0, 0, 0, 0, 0, 0, 0, 0, 0, 0, 0, 0, 0, 0, 0, 0, 0, 0, 0, 0,\n",
              "       0, 0, 0, 0, 0, 0, 0, 0, 0, 0, 0, 0, 0, 0, 0, 0, 0, 0, 0, 0, 0, 0,\n",
              "       0, 0, 0, 0, 0, 0, 0, 0, 0, 0, 0, 0, 0, 0, 0, 0, 0, 0, 0, 0, 0, 0,\n",
              "       0, 0, 0, 0, 0, 0, 0, 0, 0, 0, 0, 0, 0, 0, 0, 0, 0, 0, 0, 0, 0, 0,\n",
              "       0, 0, 0, 0, 0, 0, 0, 0, 0, 0, 0, 0, 0, 0, 0, 0, 0, 0, 0, 0, 0, 0,\n",
              "       0, 0, 0, 0, 0, 0, 0, 0, 0, 0, 0, 0, 0, 0, 0, 0, 0, 0, 0, 0, 0, 0,\n",
              "       0, 0, 0, 0, 0, 0, 0, 0, 0, 0, 0, 0, 0, 0, 0, 0, 0, 0, 0, 0, 0, 0,\n",
              "       0, 0, 0, 0, 0, 0, 1, 0, 1, 0, 0, 0, 0, 0, 0, 0, 0, 0, 0, 0, 0, 0,\n",
              "       0, 0, 0, 0, 0, 0, 0, 0, 0, 0, 0, 0, 0, 0, 0, 0, 0, 0, 0, 0, 0, 0,\n",
              "       0, 0, 0, 0, 0, 0, 0, 0, 0, 0, 0, 0, 0, 0, 0, 0, 0, 0, 0, 0, 0, 0,\n",
              "       0, 0, 0, 0, 0, 0, 0, 0, 0, 0, 0, 0, 0, 0, 0, 0, 0, 0, 1, 0, 0, 0,\n",
              "       0, 0, 0, 0, 0, 0, 0, 0, 0, 0, 0, 0, 0, 0, 0, 0, 0, 0, 0, 0, 0, 0,\n",
              "       0, 0, 0, 0, 0, 0, 0, 0, 0, 0, 0, 0, 0, 0, 0, 0, 0, 0, 0, 0, 0, 0,\n",
              "       0, 0, 0, 0, 0, 0, 0, 0, 0, 0, 0, 0, 0, 0, 0, 0, 0, 1, 0, 0, 0, 0,\n",
              "       0, 0, 0, 0, 0, 0, 0, 0, 0, 0, 0, 0, 0, 0, 0, 0, 0, 0, 0, 0, 0, 0,\n",
              "       0, 0, 0, 0, 0, 0, 0, 0, 0, 0, 0, 0, 0, 0, 0, 0, 0, 0, 0, 0, 0, 0,\n",
              "       0, 0, 0, 0, 0, 0, 0, 0, 0, 0, 0, 0, 0, 0, 1, 0, 0, 0, 0, 0, 0, 0,\n",
              "       0, 0, 0, 0, 0, 0, 0, 0, 0, 0, 1, 0, 0, 0, 0, 0, 0, 0, 0, 0, 0, 0,\n",
              "       0, 0, 0, 0, 0, 0, 0, 0, 0, 0, 0, 0, 0, 0, 0, 0, 0, 0, 0, 0, 0, 0,\n",
              "       0, 0, 0, 0, 0, 0, 0, 0, 0, 0, 0, 0, 0, 0, 0, 0, 0, 0, 0, 0, 0, 0,\n",
              "       0, 0, 0, 0, 0, 0, 0, 0, 0, 0, 0, 0, 0, 0, 0, 0, 0, 0, 0, 0, 0, 0,\n",
              "       0, 0, 0, 0, 0, 0, 0, 0, 0, 0, 0, 0, 0, 0, 1, 0, 0, 0, 0, 0, 0, 0,\n",
              "       0, 0, 0, 0, 0, 0, 0, 0, 0, 0, 0, 0, 0, 0, 0, 0, 0, 0, 0, 0, 0, 0,\n",
              "       0, 0, 0, 0, 0, 0, 0, 0, 0, 0, 0, 0, 0, 0, 0, 0, 0, 0, 0, 0, 0, 0,\n",
              "       0, 0, 0, 0, 0, 0, 0, 0, 0, 0, 0, 0, 0, 1, 0, 0, 0, 0, 0, 0, 0, 0,\n",
              "       0, 0, 0, 0, 0, 0, 0, 0, 0, 0, 0, 0, 0, 0, 0, 0, 0, 0, 0, 0, 0, 0,\n",
              "       0, 0, 0, 0, 0, 0, 0, 0, 0, 0, 0, 0])"
            ]
          },
          "metadata": {},
          "execution_count": 444
        }
      ]
    },
    {
      "cell_type": "code",
      "source": [
        "cm = confusion_matrix(y_test,y_pred)\n",
        "print(cm)"
      ],
      "metadata": {
        "colab": {
          "base_uri": "https://localhost:8080/"
        },
        "id": "8vmFTULm24CQ",
        "outputId": "5f6ac070-2369-46ac-c9b8-31065c775036"
      },
      "execution_count": 445,
      "outputs": [
        {
          "output_type": "stream",
          "name": "stdout",
          "text": [
            "[[702   8]\n",
            " [133   5]]\n"
          ]
        }
      ]
    },
    {
      "cell_type": "code",
      "source": [
        "print(accuracy_score(y_test,y_pred))"
      ],
      "metadata": {
        "colab": {
          "base_uri": "https://localhost:8080/"
        },
        "id": "eQddEu793YN7",
        "outputId": "9e27dc57-ebe2-4e94-b640-31cbb5187879"
      },
      "execution_count": 446,
      "outputs": [
        {
          "output_type": "stream",
          "name": "stdout",
          "text": [
            "0.8337264150943396\n"
          ]
        }
      ]
    },
    {
      "cell_type": "code",
      "source": [
        "print(classification_report(y_test, y_pred))"
      ],
      "metadata": {
        "colab": {
          "base_uri": "https://localhost:8080/"
        },
        "id": "D4rsvSKI3doF",
        "outputId": "c16905c2-39ac-4662-a572-d047e2c556eb"
      },
      "execution_count": 447,
      "outputs": [
        {
          "output_type": "stream",
          "name": "stdout",
          "text": [
            "              precision    recall  f1-score   support\n",
            "\n",
            "           0       0.84      0.99      0.91       710\n",
            "           1       0.38      0.04      0.07       138\n",
            "\n",
            "    accuracy                           0.83       848\n",
            "   macro avg       0.61      0.51      0.49       848\n",
            "weighted avg       0.77      0.83      0.77       848\n",
            "\n"
          ]
        }
      ]
    },
    {
      "cell_type": "code",
      "source": [
        "auc = roc_auc_score(y_test, y_pred)\n",
        "auc"
      ],
      "metadata": {
        "colab": {
          "base_uri": "https://localhost:8080/"
        },
        "id": "5o7l0SJ43jHY",
        "outputId": "dfe51e97-5ebe-44c0-840b-0111b784555c"
      },
      "execution_count": 448,
      "outputs": [
        {
          "output_type": "execute_result",
          "data": {
            "text/plain": [
              "0.5124821392120841"
            ]
          },
          "metadata": {},
          "execution_count": 448
        }
      ]
    },
    {
      "cell_type": "markdown",
      "metadata": {
        "id": "HanQPc_xpG38"
      },
      "source": [
        "### Method 1: Undersampling"
      ]
    },
    {
      "cell_type": "code",
      "execution_count": 449,
      "metadata": {
        "id": "M1znRMW_pG38"
      },
      "outputs": [],
      "source": [
        "# Class count\n",
        "count_class_0, count_class_1 = df.TenYearCHD.value_counts()\n",
        "\n",
        "#Divide by class\n",
        "df_class_0 = df[df['TenYearCHD'] == 0]\n",
        "df_class_1 = df[df['TenYearCHD'] == 1]"
      ]
    },
    {
      "cell_type": "code",
      "execution_count": 450,
      "metadata": {
        "colab": {
          "base_uri": "https://localhost:8080/"
        },
        "id": "-9yajES4pG39",
        "outputId": "65e9669a-894f-4332-9a78-f09556368a1f"
      },
      "outputs": [
        {
          "output_type": "stream",
          "name": "stdout",
          "text": [
            "Random under-sampling:\n",
            "0    644\n",
            "1    644\n",
            "Name: TenYearCHD, dtype: int64\n"
          ]
        }
      ],
      "source": [
        "# Undersample 0-class and concat the DataFrames of both class\n",
        "df_class_0_under = df_class_0.sample(count_class_1)\n",
        "df_test_under = pd.concat([df_class_0_under, df_class_1], axis=0)\n",
        "\n",
        "print('Random under-sampling:')\n",
        "print(df_test_under.TenYearCHD.value_counts())"
      ]
    },
    {
      "cell_type": "code",
      "execution_count": 451,
      "metadata": {
        "id": "iF2beK4QpG39"
      },
      "outputs": [],
      "source": [
        "\n",
        "\n",
        "from sklearn.model_selection import train_test_split\n",
        "X_train1, X_test1, y_train1, y_test1 = train_test_split(X, y, test_size=0.2, random_state=15, stratify=y)"
      ]
    },
    {
      "cell_type": "code",
      "execution_count": 452,
      "metadata": {
        "colab": {
          "base_uri": "https://localhost:8080/"
        },
        "id": "vw4NUfVqpG3-",
        "outputId": "f9d8e059-df34-4616-e894-9e5ec9cad976",
        "scrolled": true
      },
      "outputs": [
        {
          "output_type": "execute_result",
          "data": {
            "text/plain": [
              "0    2875\n",
              "1     515\n",
              "Name: TenYearCHD, dtype: int64"
            ]
          },
          "metadata": {},
          "execution_count": 452
        }
      ],
      "source": [
        "# Number of classes in training Data\n",
        "y_train1.value_counts()"
      ]
    },
    {
      "cell_type": "code",
      "execution_count": 453,
      "metadata": {
        "colab": {
          "base_uri": "https://localhost:8080/"
        },
        "id": "_bGg0mF1pG3_",
        "outputId": "7e9c1003-46a5-4ee5-ab52-adf98a488384",
        "scrolled": true
      },
      "outputs": [
        {
          "output_type": "execute_result",
          "data": {
            "text/plain": [
              "KNeighborsClassifier(metric='euclidean', n_neighbors=9)"
            ]
          },
          "metadata": {},
          "execution_count": 453
        }
      ],
      "source": [
        "# Creating KNN Model.\n",
        "classifier = KNeighborsClassifier(n_neighbors = 9, p = 2, metric = 'euclidean')\n",
        "classifier.fit(X_train1,y_train1)"
      ]
    },
    {
      "cell_type": "code",
      "execution_count": 454,
      "metadata": {
        "execution": {
          "iopub.execute_input": "2020-08-27T21:28:43.025101Z",
          "iopub.status.busy": "2020-08-27T21:28:43.024429Z",
          "iopub.status.idle": "2020-08-27T21:28:43.029908Z",
          "shell.execute_reply": "2020-08-27T21:28:43.030450Z"
        },
        "id": "t7GnP0NUFyyF",
        "papermill": {
          "duration": 0.020782,
          "end_time": "2020-08-27T21:28:43.030591",
          "exception": false,
          "start_time": "2020-08-27T21:28:43.009809",
          "status": "completed"
        },
        "tags": []
      },
      "outputs": [],
      "source": [
        "y_pred1 = classifier.predict(X_test1)"
      ]
    },
    {
      "cell_type": "code",
      "execution_count": 455,
      "metadata": {
        "colab": {
          "base_uri": "https://localhost:8080/"
        },
        "execution": {
          "iopub.execute_input": "2020-08-27T21:28:43.059353Z",
          "iopub.status.busy": "2020-08-27T21:28:43.058643Z",
          "iopub.status.idle": "2020-08-27T21:28:43.061969Z",
          "shell.execute_reply": "2020-08-27T21:28:43.062515Z"
        },
        "id": "3JrhaTglFyyG",
        "outputId": "2a5c1d1c-a502-4a36-9587-b99c7a162892",
        "papermill": {
          "duration": 0.020957,
          "end_time": "2020-08-27T21:28:43.062656",
          "exception": false,
          "start_time": "2020-08-27T21:28:43.041699",
          "status": "completed"
        },
        "tags": []
      },
      "outputs": [
        {
          "output_type": "stream",
          "name": "stdout",
          "text": [
            "0.8290094339622641\n"
          ]
        }
      ],
      "source": [
        "print(accuracy_score(y_test1,y_pred1))"
      ]
    },
    {
      "cell_type": "code",
      "execution_count": 456,
      "metadata": {
        "colab": {
          "base_uri": "https://localhost:8080/"
        },
        "execution": {
          "iopub.execute_input": "2020-08-27T21:28:43.092182Z",
          "iopub.status.busy": "2020-08-27T21:28:43.091502Z",
          "iopub.status.idle": "2020-08-27T21:28:43.094826Z",
          "shell.execute_reply": "2020-08-27T21:28:43.095379Z"
        },
        "id": "ZLvlAqS3FyyG",
        "outputId": "f5fa7950-5177-4743-8ea7-fe5b281e5362",
        "papermill": {
          "duration": 0.021748,
          "end_time": "2020-08-27T21:28:43.095514",
          "exception": false,
          "start_time": "2020-08-27T21:28:43.073766",
          "status": "completed"
        },
        "tags": []
      },
      "outputs": [
        {
          "output_type": "stream",
          "name": "stdout",
          "text": [
            "              precision    recall  f1-score   support\n",
            "\n",
            "           0       0.85      0.97      0.91       719\n",
            "           1       0.25      0.06      0.10       129\n",
            "\n",
            "    accuracy                           0.83       848\n",
            "   macro avg       0.55      0.51      0.50       848\n",
            "weighted avg       0.76      0.83      0.78       848\n",
            "\n"
          ]
        }
      ],
      "source": [
        "print(classification_report(y_test1, y_pred1))"
      ]
    },
    {
      "cell_type": "code",
      "execution_count": 457,
      "metadata": {
        "id": "JWhsD5t4FyyH",
        "papermill": {
          "duration": 0.012305,
          "end_time": "2020-08-27T21:28:43.122450",
          "exception": false,
          "start_time": "2020-08-27T21:28:43.110145",
          "status": "completed"
        },
        "tags": []
      },
      "outputs": [],
      "source": [
        "from sklearn.metrics import roc_auc_score"
      ]
    },
    {
      "cell_type": "code",
      "source": [
        "auc = roc_auc_score(y_test1, y_pred1)\n",
        "auc"
      ],
      "metadata": {
        "colab": {
          "base_uri": "https://localhost:8080/"
        },
        "id": "ZZtaOMru5lKt",
        "outputId": "ae182ed8-65b7-4d23-d4a8-576b65ca4f13"
      },
      "execution_count": 458,
      "outputs": [
        {
          "output_type": "execute_result",
          "data": {
            "text/plain": [
              "0.5143179049282488"
            ]
          },
          "metadata": {},
          "execution_count": 458
        }
      ]
    },
    {
      "cell_type": "markdown",
      "metadata": {
        "id": "-gN0Lhw8pG3_"
      },
      "source": [
        "### Method2: Oversampling"
      ]
    },
    {
      "cell_type": "code",
      "execution_count": 459,
      "metadata": {
        "colab": {
          "base_uri": "https://localhost:8080/"
        },
        "id": "jH-tRHdapG4A",
        "outputId": "93f23544-0d8c-44a3-fc11-450f90f94964"
      },
      "outputs": [
        {
          "output_type": "stream",
          "name": "stdout",
          "text": [
            "Random over-sampling:\n",
            "0    3594\n",
            "1    3594\n",
            "Name: TenYearCHD, dtype: int64\n"
          ]
        }
      ],
      "source": [
        "# Oversample 1-class and concat the DataFrames of both classes\n",
        "df_class_1_over = df_class_1.sample(count_class_0, replace=True)\n",
        "df_test_over = pd.concat([df_class_0, df_class_1_over], axis=0)\n",
        "\n",
        "print('Random over-sampling:')\n",
        "print(df_test_over.TenYearCHD.value_counts())"
      ]
    },
    {
      "cell_type": "code",
      "execution_count": 460,
      "metadata": {
        "id": "1PAYgP4ZpG4A"
      },
      "outputs": [],
      "source": [
        "\n",
        "\n",
        "from sklearn.model_selection import train_test_split\n",
        "X_train2, X_test2, y_train2, y_test2 = train_test_split(X, y, test_size=0.2, random_state=15, stratify=y)"
      ]
    },
    {
      "cell_type": "code",
      "execution_count": 461,
      "metadata": {
        "colab": {
          "base_uri": "https://localhost:8080/"
        },
        "id": "88zpPJWJpG4A",
        "outputId": "1fd73c08-3e1f-42b6-ee67-925ba816515b"
      },
      "outputs": [
        {
          "output_type": "execute_result",
          "data": {
            "text/plain": [
              "0    2875\n",
              "1     515\n",
              "Name: TenYearCHD, dtype: int64"
            ]
          },
          "metadata": {},
          "execution_count": 461
        }
      ],
      "source": [
        "# Number of classes in training Data\n",
        "y_train2.value_counts()"
      ]
    },
    {
      "cell_type": "code",
      "execution_count": 462,
      "metadata": {
        "colab": {
          "base_uri": "https://localhost:8080/"
        },
        "id": "S_9tMOQLpG4A",
        "outputId": "51331a60-de61-4f7d-e177-1c9427344f1f",
        "scrolled": true
      },
      "outputs": [
        {
          "output_type": "execute_result",
          "data": {
            "text/plain": [
              "KNeighborsClassifier(metric='euclidean', n_neighbors=9)"
            ]
          },
          "metadata": {},
          "execution_count": 462
        }
      ],
      "source": [
        "# Creating KNN Model.\n",
        "classifier = KNeighborsClassifier(n_neighbors = 9, p = 2, metric = 'euclidean')\n",
        "classifier.fit(X_train2,y_train2)"
      ]
    },
    {
      "cell_type": "code",
      "execution_count": 463,
      "metadata": {
        "id": "ADyAQZKLKUBy"
      },
      "outputs": [],
      "source": [
        "y_pred2 = classifier.predict(X_test2)"
      ]
    },
    {
      "cell_type": "code",
      "execution_count": 464,
      "metadata": {
        "colab": {
          "base_uri": "https://localhost:8080/"
        },
        "id": "femCO9BTKqP4",
        "outputId": "8f3d398a-64c4-4de0-977c-7e6e15ab8f24"
      },
      "outputs": [
        {
          "output_type": "stream",
          "name": "stdout",
          "text": [
            "0.8290094339622641\n"
          ]
        }
      ],
      "source": [
        "print(accuracy_score(y_test2,y_pred2))"
      ]
    },
    {
      "cell_type": "code",
      "execution_count": 465,
      "metadata": {
        "colab": {
          "base_uri": "https://localhost:8080/"
        },
        "id": "QnDN15UwLCl6",
        "outputId": "cf375812-269f-4e89-b663-625620bdd289"
      },
      "outputs": [
        {
          "output_type": "stream",
          "name": "stdout",
          "text": [
            "              precision    recall  f1-score   support\n",
            "\n",
            "           0       0.85      0.97      0.91       719\n",
            "           1       0.25      0.06      0.10       129\n",
            "\n",
            "    accuracy                           0.83       848\n",
            "   macro avg       0.55      0.51      0.50       848\n",
            "weighted avg       0.76      0.83      0.78       848\n",
            "\n"
          ]
        }
      ],
      "source": [
        "print(classification_report(y_test2, y_pred2))"
      ]
    },
    {
      "cell_type": "code",
      "execution_count": 466,
      "metadata": {
        "id": "T-gJdggjMddn",
        "colab": {
          "base_uri": "https://localhost:8080/"
        },
        "outputId": "1cc502c2-34fd-4eea-b7ec-f9e90b5a0c2c"
      },
      "outputs": [
        {
          "output_type": "execute_result",
          "data": {
            "text/plain": [
              "0.5143179049282488"
            ]
          },
          "metadata": {},
          "execution_count": 466
        }
      ],
      "source": [
        "from sklearn.metrics import roc_auc_score\n",
        "auc = roc_auc_score(y_test2, y_pred2)\n",
        "auc\n"
      ]
    },
    {
      "cell_type": "markdown",
      "metadata": {
        "id": "SvCVsSxEpG4B"
      },
      "source": [
        "### Method3: SMOTE"
      ]
    },
    {
      "cell_type": "markdown",
      "metadata": {
        "id": "KmKY8HCeNVCF"
      },
      "source": []
    },
    {
      "cell_type": "code",
      "execution_count": 466,
      "metadata": {
        "id": "Vn51lvDmpG4B"
      },
      "outputs": [],
      "source": []
    },
    {
      "cell_type": "code",
      "execution_count": 467,
      "metadata": {
        "colab": {
          "base_uri": "https://localhost:8080/"
        },
        "id": "8LKIQV48pG4B",
        "outputId": "4005c1f5-dfc5-444a-9fce-23c166ab7b66"
      },
      "outputs": [
        {
          "output_type": "execute_result",
          "data": {
            "text/plain": [
              "0    3594\n",
              "1    3594\n",
              "Name: TenYearCHD, dtype: int64"
            ]
          },
          "metadata": {},
          "execution_count": 467
        }
      ],
      "source": [
        "from imblearn.over_sampling import SMOTE\n",
        "\n",
        "smote = SMOTE(sampling_strategy='minority')\n",
        "X_sm, y_sm = smote.fit_resample(X, y)\n",
        "\n",
        "y_sm.value_counts()"
      ]
    },
    {
      "cell_type": "code",
      "execution_count": 468,
      "metadata": {
        "id": "FL-LumdppG4C"
      },
      "outputs": [],
      "source": [
        "from sklearn.model_selection import train_test_split\n",
        "X_train3, X_test3, y_train3, y_test3 = train_test_split(X_sm, y_sm, test_size=0.2, random_state=15, stratify=y_sm)"
      ]
    },
    {
      "cell_type": "code",
      "execution_count": 469,
      "metadata": {
        "colab": {
          "base_uri": "https://localhost:8080/"
        },
        "id": "Hfl09xq6pG4C",
        "outputId": "76c41529-c7de-4e6c-f3f7-4f58f8570a2e",
        "scrolled": true
      },
      "outputs": [
        {
          "output_type": "execute_result",
          "data": {
            "text/plain": [
              "0    2875\n",
              "1    2875\n",
              "Name: TenYearCHD, dtype: int64"
            ]
          },
          "metadata": {},
          "execution_count": 469
        }
      ],
      "source": [
        "# Number of classes in training Data\n",
        "y_train3.value_counts()"
      ]
    },
    {
      "cell_type": "code",
      "execution_count": 470,
      "metadata": {
        "colab": {
          "base_uri": "https://localhost:8080/"
        },
        "id": "0bS9sDXspG4D",
        "outputId": "aa83ee06-04ed-42b4-a01c-584d3119f79a",
        "scrolled": true
      },
      "outputs": [
        {
          "output_type": "execute_result",
          "data": {
            "text/plain": [
              "KNeighborsClassifier(metric='euclidean', n_neighbors=9)"
            ]
          },
          "metadata": {},
          "execution_count": 470
        }
      ],
      "source": [
        "# Creating KNN Model.\n",
        "classifier = KNeighborsClassifier(n_neighbors = 9, p = 2, metric = 'euclidean')\n",
        "classifier.fit(X_train3,y_train3)"
      ]
    },
    {
      "cell_type": "code",
      "execution_count": 471,
      "metadata": {
        "id": "RhSn5J1GOWtF"
      },
      "outputs": [],
      "source": [
        "y_pred3 = classifier.predict(X_test3)"
      ]
    },
    {
      "cell_type": "code",
      "execution_count": 472,
      "metadata": {
        "colab": {
          "base_uri": "https://localhost:8080/"
        },
        "id": "tfLjkcAmOfOO",
        "outputId": "7505c66d-3217-4d51-f7d2-b650529d0cfc"
      },
      "outputs": [
        {
          "output_type": "stream",
          "name": "stdout",
          "text": [
            "0.7538247566063978\n"
          ]
        }
      ],
      "source": [
        "print(accuracy_score(y_test3,y_pred3))"
      ]
    },
    {
      "cell_type": "code",
      "execution_count": 472,
      "metadata": {
        "id": "mBigmlmSPOJ4"
      },
      "outputs": [],
      "source": []
    },
    {
      "cell_type": "code",
      "execution_count": 473,
      "metadata": {
        "colab": {
          "base_uri": "https://localhost:8080/"
        },
        "id": "OG2yY6OvPGtj",
        "outputId": "cfe29660-da5e-43ba-aa13-a0c7136f8429"
      },
      "outputs": [
        {
          "output_type": "stream",
          "name": "stdout",
          "text": [
            "              precision    recall  f1-score   support\n",
            "\n",
            "           0       0.90      0.57      0.70       719\n",
            "           1       0.69      0.94      0.79       719\n",
            "\n",
            "    accuracy                           0.75      1438\n",
            "   macro avg       0.79      0.75      0.75      1438\n",
            "weighted avg       0.79      0.75      0.75      1438\n",
            "\n"
          ]
        }
      ],
      "source": [
        "print(classification_report(y_test3, y_pred3))"
      ]
    },
    {
      "cell_type": "code",
      "execution_count": 474,
      "metadata": {
        "id": "Z5xq62VBPvtY",
        "colab": {
          "base_uri": "https://localhost:8080/"
        },
        "outputId": "9a6a8155-e839-4fbe-8f01-d38a066f6136"
      },
      "outputs": [
        {
          "output_type": "execute_result",
          "data": {
            "text/plain": [
              "0.7538247566063978"
            ]
          },
          "metadata": {},
          "execution_count": 474
        }
      ],
      "source": [
        "auc = roc_auc_score(y_test3, y_pred3)\n",
        "auc"
      ]
    },
    {
      "cell_type": "markdown",
      "metadata": {
        "id": "YtJfEPbV7DWz"
      },
      "source": [
        "###Method 5 : Borderline SMOTE 1"
      ]
    },
    {
      "cell_type": "code",
      "execution_count": 474,
      "metadata": {
        "id": "Dk3RiyFUNbzG"
      },
      "outputs": [],
      "source": []
    },
    {
      "cell_type": "code",
      "execution_count": 475,
      "metadata": {
        "colab": {
          "base_uri": "https://localhost:8080/"
        },
        "id": "0Bokc3AyNn94",
        "outputId": "b299be89-d2d0-4585-8d32-502c4b60f945"
      },
      "outputs": [
        {
          "output_type": "execute_result",
          "data": {
            "text/plain": [
              "0    3594\n",
              "1    3594\n",
              "Name: TenYearCHD, dtype: int64"
            ]
          },
          "metadata": {},
          "execution_count": 475
        }
      ],
      "source": [
        "from imblearn.over_sampling import BorderlineSMOTE\n",
        "\n",
        "bsmote = BorderlineSMOTE(sampling_strategy='minority',random_state = 42,kind='borderline-1')\n",
        "X_bs, y_bs = bsmote.fit_resample(X, y)\n",
        "\n",
        "y_bs.value_counts()"
      ]
    },
    {
      "cell_type": "code",
      "execution_count": 476,
      "metadata": {
        "id": "dQ8RlVf8l5Dy"
      },
      "outputs": [],
      "source": [
        "from sklearn.model_selection import train_test_split\n",
        "X_train5, X_test5, y_train5, y_test5 = train_test_split(X_bs, y_bs, test_size=0.2, random_state=15, stratify=y_bs)"
      ]
    },
    {
      "cell_type": "code",
      "execution_count": 477,
      "metadata": {
        "colab": {
          "base_uri": "https://localhost:8080/"
        },
        "id": "ZwX1xKWEnY6w",
        "outputId": "f1ba2af2-d6ef-4732-a2b3-1d37dd9a06bd"
      },
      "outputs": [
        {
          "output_type": "execute_result",
          "data": {
            "text/plain": [
              "0    2875\n",
              "1    2875\n",
              "Name: TenYearCHD, dtype: int64"
            ]
          },
          "metadata": {},
          "execution_count": 477
        }
      ],
      "source": [
        "# Number of classes in training Data\n",
        "y_train5.value_counts()"
      ]
    },
    {
      "cell_type": "code",
      "execution_count": 477,
      "metadata": {
        "id": "eA04Z9fWneqb"
      },
      "outputs": [],
      "source": []
    },
    {
      "cell_type": "code",
      "execution_count": 478,
      "metadata": {
        "colab": {
          "base_uri": "https://localhost:8080/"
        },
        "id": "8IDt5A46n04z",
        "outputId": "d0f13cc3-80c8-425d-c3f7-361c29a044da"
      },
      "outputs": [
        {
          "output_type": "execute_result",
          "data": {
            "text/plain": [
              "KNeighborsClassifier(metric='euclidean', n_neighbors=9)"
            ]
          },
          "metadata": {},
          "execution_count": 478
        }
      ],
      "source": [
        "# Creating KNN Model.\n",
        "classifier = KNeighborsClassifier(n_neighbors = 9, p = 2, metric = 'euclidean')\n",
        "classifier.fit(X_train5,y_train5)"
      ]
    },
    {
      "cell_type": "code",
      "execution_count": 479,
      "metadata": {
        "colab": {
          "base_uri": "https://localhost:8080/"
        },
        "id": "8LwTMDz1Qb_p",
        "outputId": "8f378577-73c5-4957-f16e-0e96f0585314"
      },
      "outputs": [
        {
          "output_type": "stream",
          "name": "stdout",
          "text": [
            "0.7878998609179416\n"
          ]
        }
      ],
      "source": [
        "y_pred5 = classifier.predict(X_test5)\n",
        "print(accuracy_score(y_test5,y_pred5))\n"
      ]
    },
    {
      "cell_type": "code",
      "execution_count": 480,
      "metadata": {
        "colab": {
          "base_uri": "https://localhost:8080/"
        },
        "id": "XJa7N-ruQxTS",
        "outputId": "e7e95d68-807f-4181-9b03-f0c52b62bcf9"
      },
      "outputs": [
        {
          "output_type": "stream",
          "name": "stdout",
          "text": [
            "              precision    recall  f1-score   support\n",
            "\n",
            "           0       0.91      0.64      0.75       719\n",
            "           1       0.72      0.93      0.82       719\n",
            "\n",
            "    accuracy                           0.79      1438\n",
            "   macro avg       0.82      0.79      0.78      1438\n",
            "weighted avg       0.82      0.79      0.78      1438\n",
            "\n"
          ]
        }
      ],
      "source": [
        "print(classification_report(y_test5, y_pred5))"
      ]
    },
    {
      "cell_type": "code",
      "execution_count": 481,
      "metadata": {
        "id": "o4qjDLQMQ21u",
        "colab": {
          "base_uri": "https://localhost:8080/"
        },
        "outputId": "b894e4a7-bedb-4f6b-898d-2b401cda31de"
      },
      "outputs": [
        {
          "output_type": "execute_result",
          "data": {
            "text/plain": [
              "0.7878998609179416"
            ]
          },
          "metadata": {},
          "execution_count": 481
        }
      ],
      "source": [
        "auc = roc_auc_score(y_test5, y_pred5)\n",
        "auc"
      ]
    },
    {
      "cell_type": "markdown",
      "metadata": {
        "id": "dD9xhhq3ocux"
      },
      "source": [
        "###Method 6: Borderline SMOTE 2"
      ]
    },
    {
      "cell_type": "code",
      "execution_count": 481,
      "metadata": {
        "id": "G-8k-2-ipX1q"
      },
      "outputs": [],
      "source": []
    },
    {
      "cell_type": "code",
      "execution_count": 482,
      "metadata": {
        "colab": {
          "base_uri": "https://localhost:8080/"
        },
        "id": "40Qb2eHDpeNf",
        "outputId": "37a8de9c-b8c2-4cfd-e193-f57c3d60331a"
      },
      "outputs": [
        {
          "output_type": "execute_result",
          "data": {
            "text/plain": [
              "0    3594\n",
              "1    3593\n",
              "Name: TenYearCHD, dtype: int64"
            ]
          },
          "metadata": {},
          "execution_count": 482
        }
      ],
      "source": [
        "from imblearn.over_sampling import BorderlineSMOTE\n",
        "\n",
        "bsmote = BorderlineSMOTE(sampling_strategy='minority',random_state = 42,kind='borderline-2')\n",
        "X_bsm, y_bsm = bsmote.fit_resample(X, y)\n",
        "\n",
        "y_bsm.value_counts()"
      ]
    },
    {
      "cell_type": "code",
      "execution_count": 483,
      "metadata": {
        "id": "MzWb44YPphXH"
      },
      "outputs": [],
      "source": [
        "from sklearn.model_selection import train_test_split\n",
        "X_train6, X_test6, y_train6, y_test6 = train_test_split(X_bsm, y_bsm, test_size=0.2, random_state=15, stratify=y_bsm)"
      ]
    },
    {
      "cell_type": "code",
      "execution_count": 484,
      "metadata": {
        "colab": {
          "base_uri": "https://localhost:8080/"
        },
        "id": "_6LvE-Zrp0BA",
        "outputId": "bd751bd6-e106-4350-9b2c-f345af50e0b0"
      },
      "outputs": [
        {
          "output_type": "execute_result",
          "data": {
            "text/plain": [
              "0    2875\n",
              "1    2874\n",
              "Name: TenYearCHD, dtype: int64"
            ]
          },
          "metadata": {},
          "execution_count": 484
        }
      ],
      "source": [
        "# Number of classes in training Data\n",
        "y_train6.value_counts()"
      ]
    },
    {
      "cell_type": "code",
      "execution_count": 485,
      "metadata": {
        "colab": {
          "base_uri": "https://localhost:8080/"
        },
        "id": "MtQ9oIdop4F6",
        "outputId": "6d273e81-4cb2-4123-81a3-deb277814dab"
      },
      "outputs": [
        {
          "output_type": "execute_result",
          "data": {
            "text/plain": [
              "KNeighborsClassifier(metric='euclidean', n_neighbors=9)"
            ]
          },
          "metadata": {},
          "execution_count": 485
        }
      ],
      "source": [
        "# Creating KNN Model.\n",
        "classifier = KNeighborsClassifier(n_neighbors = 9, p = 2, metric = 'euclidean')\n",
        "classifier.fit(X_train6,y_train6)"
      ]
    },
    {
      "cell_type": "code",
      "execution_count": 486,
      "metadata": {
        "colab": {
          "base_uri": "https://localhost:8080/"
        },
        "id": "0GlOoXJDp61O",
        "outputId": "258c4fe6-870c-49ae-94a0-50976c4a5719"
      },
      "outputs": [
        {
          "output_type": "stream",
          "name": "stdout",
          "text": [
            "0.7990264255910987\n"
          ]
        }
      ],
      "source": [
        "y_pred6 = classifier.predict(X_test6)\n",
        "print(accuracy_score(y_test6,y_pred6))"
      ]
    },
    {
      "cell_type": "code",
      "execution_count": 487,
      "metadata": {
        "colab": {
          "base_uri": "https://localhost:8080/"
        },
        "id": "6gLxaGrKRbdZ",
        "outputId": "4d4d1ece-9ad6-4fe8-f02b-9d36ac0d5aeb"
      },
      "outputs": [
        {
          "output_type": "stream",
          "name": "stdout",
          "text": [
            "              precision    recall  f1-score   support\n",
            "\n",
            "           0       0.86      0.71      0.78       719\n",
            "           1       0.76      0.88      0.81       719\n",
            "\n",
            "    accuracy                           0.80      1438\n",
            "   macro avg       0.81      0.80      0.80      1438\n",
            "weighted avg       0.81      0.80      0.80      1438\n",
            "\n"
          ]
        }
      ],
      "source": [
        "print(classification_report(y_test6, y_pred6))"
      ]
    },
    {
      "cell_type": "code",
      "execution_count": 488,
      "metadata": {
        "id": "aSk7hRCDRmN8",
        "colab": {
          "base_uri": "https://localhost:8080/"
        },
        "outputId": "0f1f2258-2d23-46eb-9287-d29372bee399"
      },
      "outputs": [
        {
          "output_type": "execute_result",
          "data": {
            "text/plain": [
              "0.7990264255910988"
            ]
          },
          "metadata": {},
          "execution_count": 488
        }
      ],
      "source": [
        "auc = roc_auc_score(y_test6, y_pred6)\n",
        "auc"
      ]
    },
    {
      "cell_type": "markdown",
      "metadata": {
        "id": "FXKcyVHYqRgr"
      },
      "source": [
        "###Method 7 : SVMSmote"
      ]
    },
    {
      "cell_type": "code",
      "execution_count": 488,
      "metadata": {
        "id": "cQIRxUpRqUjL"
      },
      "outputs": [],
      "source": []
    },
    {
      "cell_type": "code",
      "execution_count": 489,
      "metadata": {
        "colab": {
          "base_uri": "https://localhost:8080/"
        },
        "id": "ohLelkz-q-GU",
        "outputId": "1fc9487f-e3c1-4615-bfb1-41a8643c2999"
      },
      "outputs": [
        {
          "output_type": "execute_result",
          "data": {
            "text/plain": [
              "0    3594\n",
              "1    3594\n",
              "Name: TenYearCHD, dtype: int64"
            ]
          },
          "metadata": {},
          "execution_count": 489
        }
      ],
      "source": [
        "from imblearn.over_sampling import SVMSMOTE\n",
        "\n",
        "svmsmote = SVMSMOTE(sampling_strategy='minority',random_state = 42)\n",
        "X_svm, y_svm = svmsmote.fit_resample(X, y)\n",
        "\n",
        "y_svm.value_counts()"
      ]
    },
    {
      "cell_type": "code",
      "execution_count": 490,
      "metadata": {
        "id": "mVAW7J_ZyDEU"
      },
      "outputs": [],
      "source": [
        "from sklearn.model_selection import train_test_split\n",
        "X_train7, X_test7, y_train7, y_test7 = train_test_split(X_svm, y_svm, test_size=0.2, random_state=15, stratify=y_svm)"
      ]
    },
    {
      "cell_type": "code",
      "execution_count": 491,
      "metadata": {
        "colab": {
          "base_uri": "https://localhost:8080/"
        },
        "id": "7QGfCmZByaxU",
        "outputId": "1ff75b94-cfca-408c-fa26-1838183f1b00"
      },
      "outputs": [
        {
          "output_type": "execute_result",
          "data": {
            "text/plain": [
              "0    2875\n",
              "1    2875\n",
              "Name: TenYearCHD, dtype: int64"
            ]
          },
          "metadata": {},
          "execution_count": 491
        }
      ],
      "source": [
        "y_train7.value_counts()"
      ]
    },
    {
      "cell_type": "code",
      "execution_count": 492,
      "metadata": {
        "colab": {
          "base_uri": "https://localhost:8080/"
        },
        "id": "NCp5B_8uxWpX",
        "outputId": "5b33a01a-aa8b-4483-fdc0-ffec0438d71e"
      },
      "outputs": [
        {
          "output_type": "execute_result",
          "data": {
            "text/plain": [
              "KNeighborsClassifier(metric='euclidean', n_neighbors=9)"
            ]
          },
          "metadata": {},
          "execution_count": 492
        }
      ],
      "source": [
        "# Creating KNN Model.\n",
        "classifier = KNeighborsClassifier(n_neighbors = 9, p = 2, metric = 'euclidean')\n",
        "classifier.fit(X_train7,y_train7)"
      ]
    },
    {
      "cell_type": "code",
      "execution_count": 493,
      "metadata": {
        "colab": {
          "base_uri": "https://localhost:8080/"
        },
        "id": "FFsdZ77MR_5D",
        "outputId": "1968a221-6ae2-4c45-f16c-16623d5780cc"
      },
      "outputs": [
        {
          "output_type": "stream",
          "name": "stdout",
          "text": [
            "0.8101529902642559\n"
          ]
        }
      ],
      "source": [
        "y_pred7 = classifier.predict(X_test7)\n",
        "print(accuracy_score(y_test7,y_pred7))"
      ]
    },
    {
      "cell_type": "code",
      "execution_count": 494,
      "metadata": {
        "colab": {
          "base_uri": "https://localhost:8080/"
        },
        "id": "yTc9sYstSHHN",
        "outputId": "aafe1087-7b22-438c-c94e-d186d4c6d1d9"
      },
      "outputs": [
        {
          "output_type": "stream",
          "name": "stdout",
          "text": [
            "              precision    recall  f1-score   support\n",
            "\n",
            "           0       0.86      0.74      0.79       719\n",
            "           1       0.77      0.88      0.82       719\n",
            "\n",
            "    accuracy                           0.81      1438\n",
            "   macro avg       0.82      0.81      0.81      1438\n",
            "weighted avg       0.82      0.81      0.81      1438\n",
            "\n"
          ]
        }
      ],
      "source": [
        "print(classification_report(y_test7, y_pred7))"
      ]
    },
    {
      "cell_type": "code",
      "execution_count": 495,
      "metadata": {
        "id": "wLotetzvSSKx",
        "colab": {
          "base_uri": "https://localhost:8080/"
        },
        "outputId": "1840c9b2-5fe0-427b-a1fd-d99890f56057"
      },
      "outputs": [
        {
          "output_type": "execute_result",
          "data": {
            "text/plain": [
              "0.8101529902642559"
            ]
          },
          "metadata": {},
          "execution_count": 495
        }
      ],
      "source": [
        "auc = roc_auc_score(y_test7, y_pred7)\n",
        "auc"
      ]
    },
    {
      "cell_type": "markdown",
      "metadata": {
        "id": "lf5bGEviqXHb"
      },
      "source": [
        "###Method 8 : ADASYN"
      ]
    },
    {
      "cell_type": "code",
      "execution_count": 495,
      "metadata": {
        "id": "ZVJ0Qm7Tqebu"
      },
      "outputs": [],
      "source": []
    },
    {
      "cell_type": "code",
      "execution_count": 496,
      "metadata": {
        "colab": {
          "base_uri": "https://localhost:8080/"
        },
        "id": "UNwrwSgwrL83",
        "outputId": "7f6bd6a5-1e2d-4d22-dcc7-9146321d9edb"
      },
      "outputs": [
        {
          "output_type": "execute_result",
          "data": {
            "text/plain": [
              "1    3634\n",
              "0    3594\n",
              "Name: TenYearCHD, dtype: int64"
            ]
          },
          "metadata": {},
          "execution_count": 496
        }
      ],
      "source": [
        "from imblearn.over_sampling import ADASYN\n",
        "\n",
        "ada = ADASYN(sampling_strategy='minority',random_state = 42)\n",
        "X_ada, y_ada = ada.fit_resample(X, y)\n",
        "\n",
        "y_ada.value_counts()"
      ]
    },
    {
      "cell_type": "code",
      "execution_count": 497,
      "metadata": {
        "id": "03JYjYEcyczu"
      },
      "outputs": [],
      "source": [
        "from sklearn.model_selection import train_test_split\n",
        "X_train8, X_test8, y_train8, y_test8 = train_test_split(X_ada, y_ada, test_size=0.2, random_state=15, stratify=y_ada)"
      ]
    },
    {
      "cell_type": "code",
      "execution_count": 498,
      "metadata": {
        "colab": {
          "base_uri": "https://localhost:8080/"
        },
        "id": "02U0_b3Ey5si",
        "outputId": "e733a14c-baad-4830-aa7c-ad73198686a0"
      },
      "outputs": [
        {
          "output_type": "execute_result",
          "data": {
            "text/plain": [
              "1    2907\n",
              "0    2875\n",
              "Name: TenYearCHD, dtype: int64"
            ]
          },
          "metadata": {},
          "execution_count": 498
        }
      ],
      "source": [
        "y_train8.value_counts()"
      ]
    },
    {
      "cell_type": "code",
      "execution_count": 499,
      "metadata": {
        "colab": {
          "base_uri": "https://localhost:8080/"
        },
        "id": "qejJHUbVzMCA",
        "outputId": "a198a54b-9343-4dd0-b475-d25b20fc1538"
      },
      "outputs": [
        {
          "output_type": "execute_result",
          "data": {
            "text/plain": [
              "KNeighborsClassifier(metric='euclidean', n_neighbors=9)"
            ]
          },
          "metadata": {},
          "execution_count": 499
        }
      ],
      "source": [
        "# Creating KNN Model.\n",
        "classifier = KNeighborsClassifier(n_neighbors = 9, p = 2, metric = 'euclidean')\n",
        "classifier.fit(X_train8,y_train8)"
      ]
    },
    {
      "cell_type": "code",
      "execution_count": 500,
      "metadata": {
        "colab": {
          "base_uri": "https://localhost:8080/"
        },
        "id": "ZKwnXBVVTF2L",
        "outputId": "7423371c-d22e-42c5-b6db-27e76043a0db"
      },
      "outputs": [
        {
          "output_type": "stream",
          "name": "stdout",
          "text": [
            "0.7406639004149378\n"
          ]
        }
      ],
      "source": [
        "y_pred8 = classifier.predict(X_test8)\n",
        "print(accuracy_score(y_test8,y_pred8))"
      ]
    },
    {
      "cell_type": "code",
      "execution_count": 501,
      "metadata": {
        "colab": {
          "base_uri": "https://localhost:8080/"
        },
        "id": "EEshAOtHTOjU",
        "outputId": "59e7e253-ba78-4c86-e1e8-26c9b9c3e012"
      },
      "outputs": [
        {
          "output_type": "stream",
          "name": "stdout",
          "text": [
            "              precision    recall  f1-score   support\n",
            "\n",
            "           0       0.90      0.54      0.67       719\n",
            "           1       0.67      0.94      0.78       727\n",
            "\n",
            "    accuracy                           0.74      1446\n",
            "   macro avg       0.79      0.74      0.73      1446\n",
            "weighted avg       0.79      0.74      0.73      1446\n",
            "\n"
          ]
        }
      ],
      "source": [
        "print(classification_report(y_test8, y_pred8))"
      ]
    },
    {
      "cell_type": "code",
      "execution_count": 502,
      "metadata": {
        "id": "J1l4Q4fVTVFX",
        "colab": {
          "base_uri": "https://localhost:8080/"
        },
        "outputId": "ced8d810-4fed-4c8d-ab6a-c80162aa9fa0"
      },
      "outputs": [
        {
          "output_type": "execute_result",
          "data": {
            "text/plain": [
              "0.7395578453185592"
            ]
          },
          "metadata": {},
          "execution_count": 502
        }
      ],
      "source": [
        "auc = roc_auc_score(y_test8, y_pred8)\n",
        "auc"
      ]
    },
    {
      "cell_type": "markdown",
      "metadata": {
        "id": "KNjTvCjRqiUq"
      },
      "source": [
        "###Method 9 : SMOTEENN"
      ]
    },
    {
      "cell_type": "code",
      "execution_count": 503,
      "metadata": {
        "id": "pi2pXP9kr9Na"
      },
      "outputs": [],
      "source": [
        "from imblearn.combine import SMOTEENN"
      ]
    },
    {
      "cell_type": "code",
      "execution_count": 503,
      "metadata": {
        "id": "OTYH_ixIqqsB"
      },
      "outputs": [],
      "source": []
    },
    {
      "cell_type": "code",
      "execution_count": 504,
      "metadata": {
        "colab": {
          "base_uri": "https://localhost:8080/"
        },
        "id": "AUTIHukfrUBk",
        "outputId": "697d8307-8fcf-4467-f852-78db6d9c1feb"
      },
      "outputs": [
        {
          "output_type": "execute_result",
          "data": {
            "text/plain": [
              "1    3164\n",
              "0    1921\n",
              "Name: TenYearCHD, dtype: int64"
            ]
          },
          "metadata": {},
          "execution_count": 504
        }
      ],
      "source": [
        "\n",
        "enn = SMOTEENN(sampling_strategy='minority',random_state = 42)\n",
        "X_smt, y_smt = enn.fit_resample(X, y)\n",
        "\n",
        "y_smt.value_counts()"
      ]
    },
    {
      "cell_type": "code",
      "execution_count": 505,
      "metadata": {
        "id": "jaMhz-kvylat"
      },
      "outputs": [],
      "source": [
        "from sklearn.model_selection import train_test_split\n",
        "X_train9, X_test9, y_train9, y_test9 = train_test_split(X_smt, y_smt, test_size=0.2, random_state=15, stratify=y_smt)"
      ]
    },
    {
      "cell_type": "code",
      "execution_count": 506,
      "metadata": {
        "colab": {
          "base_uri": "https://localhost:8080/"
        },
        "id": "WmAEp4Wky7H4",
        "outputId": "a36d54d9-2efb-4e93-febf-22f14f233f1e"
      },
      "outputs": [
        {
          "output_type": "execute_result",
          "data": {
            "text/plain": [
              "1    2531\n",
              "0    1537\n",
              "Name: TenYearCHD, dtype: int64"
            ]
          },
          "metadata": {},
          "execution_count": 506
        }
      ],
      "source": [
        "y_train9.value_counts()"
      ]
    },
    {
      "cell_type": "code",
      "execution_count": 507,
      "metadata": {
        "colab": {
          "base_uri": "https://localhost:8080/"
        },
        "id": "hnNzzsuszPEe",
        "outputId": "6929ef84-46f7-4fd0-b81f-e37dc7d5149e"
      },
      "outputs": [
        {
          "output_type": "execute_result",
          "data": {
            "text/plain": [
              "KNeighborsClassifier(metric='euclidean', n_neighbors=9)"
            ]
          },
          "metadata": {},
          "execution_count": 507
        }
      ],
      "source": [
        "# Creating KNN Model.\n",
        "classifier = KNeighborsClassifier(n_neighbors = 9, p = 2, metric = 'euclidean')\n",
        "classifier.fit(X_train9,y_train9)"
      ]
    },
    {
      "cell_type": "code",
      "execution_count": 508,
      "metadata": {
        "colab": {
          "base_uri": "https://localhost:8080/"
        },
        "id": "Ij5rswMfT0D1",
        "outputId": "de44138e-0dfb-4694-b3ab-d99d12a2ae88"
      },
      "outputs": [
        {
          "output_type": "stream",
          "name": "stdout",
          "text": [
            "0.8928220255653884\n"
          ]
        }
      ],
      "source": [
        "y_pred9 = classifier.predict(X_test9)\n",
        "print(accuracy_score(y_test9,y_pred9))"
      ]
    },
    {
      "cell_type": "code",
      "execution_count": 509,
      "metadata": {
        "colab": {
          "base_uri": "https://localhost:8080/"
        },
        "id": "1GOyA7PYT-s6",
        "outputId": "5f7cb27b-08c8-43de-c1dd-69c53073421d"
      },
      "outputs": [
        {
          "output_type": "stream",
          "name": "stdout",
          "text": [
            "              precision    recall  f1-score   support\n",
            "\n",
            "           0       0.95      0.76      0.84       384\n",
            "           1       0.87      0.98      0.92       633\n",
            "\n",
            "    accuracy                           0.89      1017\n",
            "   macro avg       0.91      0.87      0.88      1017\n",
            "weighted avg       0.90      0.89      0.89      1017\n",
            "\n"
          ]
        }
      ],
      "source": [
        "print(classification_report(y_test9, y_pred9))"
      ]
    },
    {
      "cell_type": "code",
      "execution_count": 510,
      "metadata": {
        "id": "I5Xk-_iIUP5Q",
        "colab": {
          "base_uri": "https://localhost:8080/"
        },
        "outputId": "0f7f672d-30d4-44be-e344-e768206dd5db"
      },
      "outputs": [
        {
          "output_type": "execute_result",
          "data": {
            "text/plain": [
              "0.8657558254344392"
            ]
          },
          "metadata": {},
          "execution_count": 510
        }
      ],
      "source": [
        "auc = roc_auc_score(y_test9, y_pred9)\n",
        "auc"
      ]
    },
    {
      "cell_type": "markdown",
      "metadata": {
        "id": "YY_WQ02LqrLS"
      },
      "source": [
        "###Method 10 : SMOTETomek"
      ]
    },
    {
      "cell_type": "code",
      "execution_count": 510,
      "metadata": {
        "id": "I-xsdqdzqx1J"
      },
      "outputs": [],
      "source": []
    },
    {
      "cell_type": "code",
      "execution_count": 511,
      "metadata": {
        "colab": {
          "base_uri": "https://localhost:8080/"
        },
        "id": "aRHhUJgVrtV8",
        "outputId": "dc816e8e-ff6b-4ca9-8364-4f8a793c5312"
      },
      "outputs": [
        {
          "output_type": "execute_result",
          "data": {
            "text/plain": [
              "0    3542\n",
              "1    3542\n",
              "Name: TenYearCHD, dtype: int64"
            ]
          },
          "metadata": {},
          "execution_count": 511
        }
      ],
      "source": [
        "from imblearn.combine import SMOTETomek\n",
        "\n",
        "smotetomek = SMOTETomek(sampling_strategy='minority',random_state = 42)\n",
        "X_smtt, y_smtt = smotetomek.fit_resample(X, y)\n",
        "\n",
        "y_smtt.value_counts()"
      ]
    },
    {
      "cell_type": "code",
      "execution_count": 512,
      "metadata": {
        "id": "mItMjQNSsR0E"
      },
      "outputs": [],
      "source": [
        "from sklearn.model_selection import train_test_split\n",
        "X_train10, X_test10, y_train10, y_test10 = train_test_split(X_smtt, y_smtt, test_size=0.2, random_state=15, stratify=y_smtt)"
      ]
    },
    {
      "cell_type": "code",
      "execution_count": 513,
      "metadata": {
        "colab": {
          "base_uri": "https://localhost:8080/"
        },
        "id": "5fblSKd7y8Xu",
        "outputId": "0d3fc67a-18e5-40b8-8d3b-d8b2fb7e4588"
      },
      "outputs": [
        {
          "output_type": "execute_result",
          "data": {
            "text/plain": [
              "1    2834\n",
              "0    2833\n",
              "Name: TenYearCHD, dtype: int64"
            ]
          },
          "metadata": {},
          "execution_count": 513
        }
      ],
      "source": [
        "y_train10.value_counts()"
      ]
    },
    {
      "cell_type": "code",
      "execution_count": 514,
      "metadata": {
        "colab": {
          "base_uri": "https://localhost:8080/"
        },
        "id": "njaEW0IjzQdN",
        "outputId": "abc3c0b3-655f-48b0-9b97-3f0a3d0a2145"
      },
      "outputs": [
        {
          "output_type": "execute_result",
          "data": {
            "text/plain": [
              "KNeighborsClassifier(metric='euclidean', n_neighbors=9)"
            ]
          },
          "metadata": {},
          "execution_count": 514
        }
      ],
      "source": [
        "# Creating KNN Model.\n",
        "classifier = KNeighborsClassifier(n_neighbors = 9, p = 2, metric = 'euclidean')\n",
        "classifier.fit(X_train10,y_train10)"
      ]
    },
    {
      "cell_type": "code",
      "execution_count": 515,
      "metadata": {
        "colab": {
          "base_uri": "https://localhost:8080/"
        },
        "id": "uTKcuH800fAh",
        "outputId": "0d715a76-d2fc-4461-9cd1-90c65ab00628"
      },
      "outputs": [
        {
          "output_type": "stream",
          "name": "stdout",
          "text": [
            "0.7727593507410021\n"
          ]
        }
      ],
      "source": [
        "y_pred10 = classifier.predict(X_test10)\n",
        "print(accuracy_score(y_test10,y_pred10))"
      ]
    },
    {
      "cell_type": "code",
      "execution_count": 516,
      "metadata": {
        "colab": {
          "base_uri": "https://localhost:8080/"
        },
        "id": "UEnF6jkNUwlu",
        "outputId": "9f782c4a-41fc-4ff6-e92e-f1dfcb9cb5e0"
      },
      "outputs": [
        {
          "output_type": "stream",
          "name": "stdout",
          "text": [
            "              precision    recall  f1-score   support\n",
            "\n",
            "           0       0.92      0.60      0.73       709\n",
            "           1       0.70      0.95      0.81       708\n",
            "\n",
            "    accuracy                           0.77      1417\n",
            "   macro avg       0.81      0.77      0.77      1417\n",
            "weighted avg       0.81      0.77      0.77      1417\n",
            "\n"
          ]
        }
      ],
      "source": [
        "print(classification_report(y_test10, y_pred10))"
      ]
    },
    {
      "cell_type": "code",
      "execution_count": 517,
      "metadata": {
        "id": "w-UjldOnVHQ8",
        "colab": {
          "base_uri": "https://localhost:8080/"
        },
        "outputId": "26f3fbe2-6562-4f97-dc0e-4defc9f7c9a4"
      },
      "outputs": [
        {
          "output_type": "execute_result",
          "data": {
            "text/plain": [
              "0.772881754360801"
            ]
          },
          "metadata": {},
          "execution_count": 517
        }
      ],
      "source": [
        "auc = roc_auc_score(y_test10, y_pred10)\n",
        "auc"
      ]
    },
    {
      "cell_type": "markdown",
      "metadata": {
        "id": "Y_dnSWBt4tlb"
      },
      "source": [
        "###Confusion Matrix for all algorithms"
      ]
    },
    {
      "cell_type": "code",
      "execution_count": 518,
      "metadata": {
        "id": "RGuV5wwLBF1q"
      },
      "outputs": [],
      "source": [
        "import seaborn as sn \n",
        "\n"
      ]
    },
    {
      "cell_type": "code",
      "execution_count": 519,
      "metadata": {
        "colab": {
          "base_uri": "https://localhost:8080/"
        },
        "id": "bGx6xdEg4wtU",
        "outputId": "f0b53c1e-a18b-492b-dc03-595ee7692ccf"
      },
      "outputs": [
        {
          "output_type": "stream",
          "name": "stdout",
          "text": [
            "SVM Algotithm\n",
            "              precision    recall  f1-score   support\n",
            "\n",
            "           0       0.84      0.99      0.91       710\n",
            "           1       0.38      0.04      0.07       138\n",
            "\n",
            "    accuracy                           0.83       848\n",
            "   macro avg       0.61      0.51      0.49       848\n",
            "weighted avg       0.77      0.83      0.77       848\n",
            "\n",
            "1 : Undersampling\n",
            "              precision    recall  f1-score   support\n",
            "\n",
            "           0       0.85      0.97      0.91       719\n",
            "           1       0.25      0.06      0.10       129\n",
            "\n",
            "    accuracy                           0.83       848\n",
            "   macro avg       0.55      0.51      0.50       848\n",
            "weighted avg       0.76      0.83      0.78       848\n",
            "\n",
            "2 : Oversampling\n",
            "              precision    recall  f1-score   support\n",
            "\n",
            "           0       0.85      0.97      0.91       719\n",
            "           1       0.25      0.06      0.10       129\n",
            "\n",
            "    accuracy                           0.83       848\n",
            "   macro avg       0.55      0.51      0.50       848\n",
            "weighted avg       0.76      0.83      0.78       848\n",
            "\n",
            "3 : SMOTE\n",
            "              precision    recall  f1-score   support\n",
            "\n",
            "           0       0.90      0.57      0.70       719\n",
            "           1       0.69      0.94      0.79       719\n",
            "\n",
            "    accuracy                           0.75      1438\n",
            "   macro avg       0.79      0.75      0.75      1438\n",
            "weighted avg       0.79      0.75      0.75      1438\n",
            "\n",
            "5 : Borderline SMOTE 1\n",
            "              precision    recall  f1-score   support\n",
            "\n",
            "           0       0.91      0.64      0.75       719\n",
            "           1       0.72      0.93      0.82       719\n",
            "\n",
            "    accuracy                           0.79      1438\n",
            "   macro avg       0.82      0.79      0.78      1438\n",
            "weighted avg       0.82      0.79      0.78      1438\n",
            "\n",
            "6 : Borderline SMOTE 2\n",
            "              precision    recall  f1-score   support\n",
            "\n",
            "           0       0.86      0.71      0.78       719\n",
            "           1       0.76      0.88      0.81       719\n",
            "\n",
            "    accuracy                           0.80      1438\n",
            "   macro avg       0.81      0.80      0.80      1438\n",
            "weighted avg       0.81      0.80      0.80      1438\n",
            "\n",
            "7 : SVM SMOTE\n",
            "              precision    recall  f1-score   support\n",
            "\n",
            "           0       0.86      0.74      0.79       719\n",
            "           1       0.77      0.88      0.82       719\n",
            "\n",
            "    accuracy                           0.81      1438\n",
            "   macro avg       0.82      0.81      0.81      1438\n",
            "weighted avg       0.82      0.81      0.81      1438\n",
            "\n",
            "8 : ADASYN \n",
            "              precision    recall  f1-score   support\n",
            "\n",
            "           0       0.90      0.54      0.67       719\n",
            "           1       0.67      0.94      0.78       727\n",
            "\n",
            "    accuracy                           0.74      1446\n",
            "   macro avg       0.79      0.74      0.73      1446\n",
            "weighted avg       0.79      0.74      0.73      1446\n",
            "\n",
            "9 : SMOTEENN \n",
            "              precision    recall  f1-score   support\n",
            "\n",
            "           0       0.95      0.76      0.84       384\n",
            "           1       0.87      0.98      0.92       633\n",
            "\n",
            "    accuracy                           0.89      1017\n",
            "   macro avg       0.91      0.87      0.88      1017\n",
            "weighted avg       0.90      0.89      0.89      1017\n",
            "\n",
            "10 : SMOTETOMEK \n",
            "              precision    recall  f1-score   support\n",
            "\n",
            "           0       0.92      0.60      0.73       709\n",
            "           1       0.70      0.95      0.81       708\n",
            "\n",
            "    accuracy                           0.77      1417\n",
            "   macro avg       0.81      0.77      0.77      1417\n",
            "weighted avg       0.81      0.77      0.77      1417\n",
            "\n"
          ]
        }
      ],
      "source": [
        "print(\"SVM Algotithm\")\n",
        "print(classification_report(y_test, y_pred))\n",
        "\n",
        "\n",
        "print(\"1 : Undersampling\")\n",
        "print(classification_report(y_test1, y_pred1))\n",
        "\n",
        "\n",
        "print(\"2 : Oversampling\")\n",
        "print(classification_report(y_test2, y_pred2))\n",
        "\n",
        "\n",
        "print(\"3 : SMOTE\")\n",
        "print(classification_report(y_test3, y_pred3))\n",
        "\n",
        "\n",
        "# print(\"4 : Ensemble with Undersampling\")\n",
        "# print(classification_report(y_test4, y_pred_final))\n",
        "\n",
        "\n",
        "print(\"5 : Borderline SMOTE 1\")\n",
        "print(classification_report(y_test5, y_pred5))\n",
        "\n",
        "\n",
        "\n",
        "print(\"6 : Borderline SMOTE 2\")\n",
        "print(classification_report(y_test6, y_pred6))\n",
        "\n",
        "print(\"7 : SVM SMOTE\")\n",
        "print(classification_report(y_test7, y_pred7))\n",
        "\n",
        "print(\"8 : ADASYN \")\n",
        "print(classification_report(y_test8, y_pred8))\n",
        "\n",
        "print(\"9 : SMOTEENN \")\n",
        "print(classification_report(y_test9, y_pred9))\n",
        "\n",
        "print(\"10 : SMOTETOMEK \")\n",
        "print(classification_report(y_test10, y_pred10))\n"
      ]
    },
    {
      "cell_type": "code",
      "execution_count": 519,
      "metadata": {
        "id": "1PQ4cr1z_gD5"
      },
      "outputs": [],
      "source": []
    }
  ]
}